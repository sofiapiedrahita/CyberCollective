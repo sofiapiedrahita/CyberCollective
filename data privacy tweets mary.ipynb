{
 "cells": [
  {
   "cell_type": "code",
   "execution_count": 1,
   "metadata": {},
   "outputs": [],
   "source": [
    "from IPython.display import Image\n",
    "import pandas as pd\n",
    "import numpy as np\n",
    "import matplotlib.pyplot as plt\n",
    "import warnings\n",
    "import seaborn as sns\n",
    "sns.set(rc={'figure.figsize':(6,8)}) \n",
    "\n",
    "import warnings\n",
    "warnings.simplefilter(\"ignore\")\n",
    "\n",
    "%matplotlib inline\n",
    "\n",
    "from sklearn.preprocessing import LabelEncoder \n",
    "\n",
    "from sklearn.linear_model import LinearRegression\n",
    "from sklearn.model_selection import train_test_split\n",
    "\n",
    "from sklearn import metrics\n",
    "\n",
    "from sklearn.model_selection import cross_val_score\n",
    "from sklearn.model_selection import cross_validate\n",
    "\n",
    "from sklearn.metrics import SCORERS\n",
    "import re\n",
    "\n",
    "import nltk \n",
    "from nltk.corpus import stopwords\n",
    "from nltk.stem import PorterStemmer\n",
    "from nltk.stem.wordnet import WordNetLemmatizer\n",
    "\n",
    "from sklearn.cluster import KMeans\n",
    "from sklearn.feature_extraction.text import CountVectorizer\n",
    "from sklearn.feature_extraction.text import TfidfVectorizer"
   ]
  },
  {
   "cell_type": "markdown",
   "metadata": {},
   "source": [
    "# Functions"
   ]
  },
  {
   "cell_type": "code",
   "execution_count": 8,
   "metadata": {},
   "outputs": [],
   "source": [
    "def cleanTxt(txt):\n",
    "    txt = txt.lower()\n",
    "    txt = re.sub(r'RT[\\s]+', '', txt) #removing RT\n",
    "    txt = re.sub(r'[^\\w\\s]','', txt) #remove everything except words and space\n",
    "    txt = re.sub(r'_','', txt) #how to remove underscore as well\n",
    "    txt = re.sub('\\r\\n', '', txt)\n",
    "    txt = re.sub('amp', '', txt) # removing ampersand\n",
    "    if 'https' in txt: # removing hyperlinks \n",
    "        pos = txt.find('https')\n",
    "        txt = txt[:pos]\n",
    "    return txt"
   ]
  },
  {
   "cell_type": "code",
   "execution_count": 28,
   "metadata": {},
   "outputs": [],
   "source": [
    "def stopWords(txt): \n",
    "    txt_lst = txt.split(\" \")\n",
    "    txt_lst = [word for word in txt_lst if word not in stopwords.words('english')]\n",
    "    txt_lst = [wnet.lemmatize(word) for word in txt_lst]\n",
    "    txt_lst = [word for word in txt_lst if word != '']\n",
    "    txt_lst = [word for word in txt_lst if word != 'u0001f449'] # indicates back hand emoji pointing right\n",
    "    txt_lst = [word for word in txt_lst if word != 'data']\n",
    "    txt_lst = [word for word in txt_lst if word != 'privacy']\n",
    "    txt_lst = [word for word in txt_lst if word != 'u']\n",
    "    return \" \".join(txt_lst)"
   ]
  },
  {
   "cell_type": "code",
   "execution_count": 29,
   "metadata": {},
   "outputs": [],
   "source": [
    "def evaluate_k_kmeans_inertia(k):\n",
    "    print(f\"running Kmeans with k={k}\")\n",
    "    estimator_kmeans = KMeans(random_state=42, n_clusters=k)\n",
    "    estimator_kmeans.fit(text_vec)\n",
    "    return estimator_kmeans.inertia_"
   ]
  },
  {
   "cell_type": "code",
   "execution_count": 30,
   "metadata": {},
   "outputs": [],
   "source": [
    "def findCountry(txt):\n",
    "    if txt is np.nan:\n",
    "        return 'Unknown'\n",
    "    x = geolocator.geocode(txt)\n",
    "    if x is None:\n",
    "        return 'Unknown'\n",
    "    loc = x.address.split(',')[-1]\n",
    "    if loc[0] == \" \":\n",
    "        loc = loc[1:]\n",
    "    return loc"
   ]
  },
  {
   "cell_type": "code",
   "execution_count": 31,
   "metadata": {},
   "outputs": [],
   "source": [
    "def cluster_summary(ci, df):\n",
    "    cluster = df[df.cluster_id==ci]\n",
    "    cluster_summary = cluster[categorical_data.columns].mode().to_dict(orient=\"records\")[0]\n",
    "    cluster_summary.update(cluster.mean().to_dict())\n",
    "    return cluster_summary"
   ]
  },
  {
   "cell_type": "code",
   "execution_count": 32,
   "metadata": {},
   "outputs": [],
   "source": [
    "# we can make a function that puts comparisons side by side so its easier for us to see in a data frame \n",
    "\n",
    "def cluster_comparison(*cluster_ids):\n",
    "    summaries = []\n",
    "    for cluster_id in cluster_ids:\n",
    "        summaries.append(cluster_summary(cluster_id, df2))\n",
    "    return pd.DataFrame(summaries).set_index(\"cluster_id\").T"
   ]
  },
  {
   "cell_type": "code",
   "execution_count": 33,
   "metadata": {},
   "outputs": [],
   "source": [
    "def kmeans_cluster(df, n_clusters=2):\n",
    "    \"\"\"This function assigns clusters to every row in the dataframe via kmeans\"\"\"\n",
    "    model = KMeans(n_clusters=n_clusters, random_state=42)\n",
    "    clusters = model.fit_predict(df)\n",
    "    cluster_results = df.copy()\n",
    "    cluster_results['Cluster'] = clusters\n",
    "    return cluster_results"
   ]
  },
  {
   "cell_type": "code",
   "execution_count": 34,
   "metadata": {},
   "outputs": [],
   "source": [
    "def graph_summary_clustering(results):\n",
    "    \"\"\"this function produces a summary of the clusters\"\"\"\n",
    "    cluster_size = results.groupby(['Cluster']).size().reset_index()\n",
    "    cluster_size.columns = ['Cluster', 'Count']\n",
    "    cluster_means = results.groupby(['Cluster'], as_index=False).mean()\n",
    "    cluster_summary = pd.merge(cluster_size, cluster_means, on='Cluster')\n",
    "    cluster_summary = cluster_summary.drop([\"Count\"], axis=1).set_index(\"Cluster\")\n",
    "    return cluster_summary[sorted(cluster_summary.columns)]"
   ]
  },
  {
   "cell_type": "markdown",
   "metadata": {},
   "source": [
    "# Data Privacy Tweets"
   ]
  },
  {
   "cell_type": "code",
   "execution_count": 2,
   "metadata": {},
   "outputs": [],
   "source": [
    "data = pd.read_csv('data_privacy_tweets.csv')"
   ]
  },
  {
   "cell_type": "code",
   "execution_count": 3,
   "metadata": {},
   "outputs": [
    {
     "data": {
      "text/html": [
       "<div>\n",
       "<style scoped>\n",
       "    .dataframe tbody tr th:only-of-type {\n",
       "        vertical-align: middle;\n",
       "    }\n",
       "\n",
       "    .dataframe tbody tr th {\n",
       "        vertical-align: top;\n",
       "    }\n",
       "\n",
       "    .dataframe thead th {\n",
       "        text-align: right;\n",
       "    }\n",
       "</style>\n",
       "<table border=\"1\" class=\"dataframe\">\n",
       "  <thead>\n",
       "    <tr style=\"text-align: right;\">\n",
       "      <th></th>\n",
       "      <th>user_id</th>\n",
       "      <th>status_id</th>\n",
       "      <th>created_at</th>\n",
       "      <th>screen_name</th>\n",
       "      <th>text</th>\n",
       "      <th>source</th>\n",
       "      <th>display_text_width</th>\n",
       "      <th>reply_to_status_id</th>\n",
       "      <th>reply_to_user_id</th>\n",
       "      <th>reply_to_screen_name</th>\n",
       "      <th>...</th>\n",
       "      <th>statuses_count</th>\n",
       "      <th>favourites_count</th>\n",
       "      <th>account_created_at</th>\n",
       "      <th>verified</th>\n",
       "      <th>profile_url</th>\n",
       "      <th>profile_expanded_url</th>\n",
       "      <th>account_lang</th>\n",
       "      <th>profile_banner_url</th>\n",
       "      <th>profile_background_url</th>\n",
       "      <th>profile_image_url</th>\n",
       "    </tr>\n",
       "  </thead>\n",
       "  <tbody>\n",
       "    <tr>\n",
       "      <th>0</th>\n",
       "      <td>x1166589525386301440</td>\n",
       "      <td>x1404485195676459008</td>\n",
       "      <td>2021-06-14 17:05:39</td>\n",
       "      <td>privacy_issues</td>\n",
       "      <td>The @EFF finds that the proposed modifications...</td>\n",
       "      <td>TweetDeck</td>\n",
       "      <td>248</td>\n",
       "      <td>NaN</td>\n",
       "      <td>NaN</td>\n",
       "      <td>NaN</td>\n",
       "      <td>...</td>\n",
       "      <td>1036</td>\n",
       "      <td>2177</td>\n",
       "      <td>2019-08-28 05:53:33</td>\n",
       "      <td>False</td>\n",
       "      <td>https://t.co/HFMGW8U18M</td>\n",
       "      <td>http://bit.ly/privacyissuessignup</td>\n",
       "      <td>NaN</td>\n",
       "      <td>https://pbs.twimg.com/profile_banners/11665895...</td>\n",
       "      <td>NaN</td>\n",
       "      <td>http://pbs.twimg.com/profile_images/1166589644...</td>\n",
       "    </tr>\n",
       "    <tr>\n",
       "      <th>1</th>\n",
       "      <td>x1166589525386301440</td>\n",
       "      <td>x1403010409473449986</td>\n",
       "      <td>2021-06-10 15:25:22</td>\n",
       "      <td>privacy_issues</td>\n",
       "      <td>The European Parliament passes the new #EU #CO...</td>\n",
       "      <td>TweetDeck</td>\n",
       "      <td>223</td>\n",
       "      <td>NaN</td>\n",
       "      <td>NaN</td>\n",
       "      <td>NaN</td>\n",
       "      <td>...</td>\n",
       "      <td>1036</td>\n",
       "      <td>2177</td>\n",
       "      <td>2019-08-28 05:53:33</td>\n",
       "      <td>False</td>\n",
       "      <td>https://t.co/HFMGW8U18M</td>\n",
       "      <td>http://bit.ly/privacyissuessignup</td>\n",
       "      <td>NaN</td>\n",
       "      <td>https://pbs.twimg.com/profile_banners/11665895...</td>\n",
       "      <td>NaN</td>\n",
       "      <td>http://pbs.twimg.com/profile_images/1166589644...</td>\n",
       "    </tr>\n",
       "    <tr>\n",
       "      <th>2</th>\n",
       "      <td>x1166589525386301440</td>\n",
       "      <td>x1404185087093182465</td>\n",
       "      <td>2021-06-13 21:13:07</td>\n",
       "      <td>privacy_issues</td>\n",
       "      <td>To gain better control over the increasingly p...</td>\n",
       "      <td>TweetDeck</td>\n",
       "      <td>240</td>\n",
       "      <td>NaN</td>\n",
       "      <td>NaN</td>\n",
       "      <td>NaN</td>\n",
       "      <td>...</td>\n",
       "      <td>1036</td>\n",
       "      <td>2177</td>\n",
       "      <td>2019-08-28 05:53:33</td>\n",
       "      <td>False</td>\n",
       "      <td>https://t.co/HFMGW8U18M</td>\n",
       "      <td>http://bit.ly/privacyissuessignup</td>\n",
       "      <td>NaN</td>\n",
       "      <td>https://pbs.twimg.com/profile_banners/11665895...</td>\n",
       "      <td>NaN</td>\n",
       "      <td>http://pbs.twimg.com/profile_images/1166589644...</td>\n",
       "    </tr>\n",
       "    <tr>\n",
       "      <th>3</th>\n",
       "      <td>x1166589525386301440</td>\n",
       "      <td>x1401833811940306947</td>\n",
       "      <td>2021-06-07 09:30:00</td>\n",
       "      <td>privacy_issues</td>\n",
       "      <td>What if the consumers are on the driving seat ...</td>\n",
       "      <td>TweetDeck</td>\n",
       "      <td>255</td>\n",
       "      <td>NaN</td>\n",
       "      <td>NaN</td>\n",
       "      <td>NaN</td>\n",
       "      <td>...</td>\n",
       "      <td>1036</td>\n",
       "      <td>2177</td>\n",
       "      <td>2019-08-28 05:53:33</td>\n",
       "      <td>False</td>\n",
       "      <td>https://t.co/HFMGW8U18M</td>\n",
       "      <td>http://bit.ly/privacyissuessignup</td>\n",
       "      <td>NaN</td>\n",
       "      <td>https://pbs.twimg.com/profile_banners/11665895...</td>\n",
       "      <td>NaN</td>\n",
       "      <td>http://pbs.twimg.com/profile_images/1166589644...</td>\n",
       "    </tr>\n",
       "    <tr>\n",
       "      <th>4</th>\n",
       "      <td>x1166589525386301440</td>\n",
       "      <td>x1401555697163280387</td>\n",
       "      <td>2021-06-06 15:04:52</td>\n",
       "      <td>privacy_issues</td>\n",
       "      <td>\"Vera Jourová says new rules are needed to lim...</td>\n",
       "      <td>TweetDeck</td>\n",
       "      <td>230</td>\n",
       "      <td>NaN</td>\n",
       "      <td>NaN</td>\n",
       "      <td>NaN</td>\n",
       "      <td>...</td>\n",
       "      <td>1036</td>\n",
       "      <td>2177</td>\n",
       "      <td>2019-08-28 05:53:33</td>\n",
       "      <td>False</td>\n",
       "      <td>https://t.co/HFMGW8U18M</td>\n",
       "      <td>http://bit.ly/privacyissuessignup</td>\n",
       "      <td>NaN</td>\n",
       "      <td>https://pbs.twimg.com/profile_banners/11665895...</td>\n",
       "      <td>NaN</td>\n",
       "      <td>http://pbs.twimg.com/profile_images/1166589644...</td>\n",
       "    </tr>\n",
       "  </tbody>\n",
       "</table>\n",
       "<p>5 rows × 90 columns</p>\n",
       "</div>"
      ],
      "text/plain": [
       "                user_id             status_id           created_at  \\\n",
       "0  x1166589525386301440  x1404485195676459008  2021-06-14 17:05:39   \n",
       "1  x1166589525386301440  x1403010409473449986  2021-06-10 15:25:22   \n",
       "2  x1166589525386301440  x1404185087093182465  2021-06-13 21:13:07   \n",
       "3  x1166589525386301440  x1401833811940306947  2021-06-07 09:30:00   \n",
       "4  x1166589525386301440  x1401555697163280387  2021-06-06 15:04:52   \n",
       "\n",
       "      screen_name                                               text  \\\n",
       "0  privacy_issues  The @EFF finds that the proposed modifications...   \n",
       "1  privacy_issues  The European Parliament passes the new #EU #CO...   \n",
       "2  privacy_issues  To gain better control over the increasingly p...   \n",
       "3  privacy_issues  What if the consumers are on the driving seat ...   \n",
       "4  privacy_issues  \"Vera Jourová says new rules are needed to lim...   \n",
       "\n",
       "      source  display_text_width reply_to_status_id reply_to_user_id  \\\n",
       "0  TweetDeck                 248                NaN              NaN   \n",
       "1  TweetDeck                 223                NaN              NaN   \n",
       "2  TweetDeck                 240                NaN              NaN   \n",
       "3  TweetDeck                 255                NaN              NaN   \n",
       "4  TweetDeck                 230                NaN              NaN   \n",
       "\n",
       "  reply_to_screen_name  ...  statuses_count  favourites_count  \\\n",
       "0                  NaN  ...            1036              2177   \n",
       "1                  NaN  ...            1036              2177   \n",
       "2                  NaN  ...            1036              2177   \n",
       "3                  NaN  ...            1036              2177   \n",
       "4                  NaN  ...            1036              2177   \n",
       "\n",
       "    account_created_at  verified              profile_url  \\\n",
       "0  2019-08-28 05:53:33     False  https://t.co/HFMGW8U18M   \n",
       "1  2019-08-28 05:53:33     False  https://t.co/HFMGW8U18M   \n",
       "2  2019-08-28 05:53:33     False  https://t.co/HFMGW8U18M   \n",
       "3  2019-08-28 05:53:33     False  https://t.co/HFMGW8U18M   \n",
       "4  2019-08-28 05:53:33     False  https://t.co/HFMGW8U18M   \n",
       "\n",
       "                profile_expanded_url account_lang  \\\n",
       "0  http://bit.ly/privacyissuessignup          NaN   \n",
       "1  http://bit.ly/privacyissuessignup          NaN   \n",
       "2  http://bit.ly/privacyissuessignup          NaN   \n",
       "3  http://bit.ly/privacyissuessignup          NaN   \n",
       "4  http://bit.ly/privacyissuessignup          NaN   \n",
       "\n",
       "                                  profile_banner_url profile_background_url  \\\n",
       "0  https://pbs.twimg.com/profile_banners/11665895...                    NaN   \n",
       "1  https://pbs.twimg.com/profile_banners/11665895...                    NaN   \n",
       "2  https://pbs.twimg.com/profile_banners/11665895...                    NaN   \n",
       "3  https://pbs.twimg.com/profile_banners/11665895...                    NaN   \n",
       "4  https://pbs.twimg.com/profile_banners/11665895...                    NaN   \n",
       "\n",
       "                                   profile_image_url  \n",
       "0  http://pbs.twimg.com/profile_images/1166589644...  \n",
       "1  http://pbs.twimg.com/profile_images/1166589644...  \n",
       "2  http://pbs.twimg.com/profile_images/1166589644...  \n",
       "3  http://pbs.twimg.com/profile_images/1166589644...  \n",
       "4  http://pbs.twimg.com/profile_images/1166589644...  \n",
       "\n",
       "[5 rows x 90 columns]"
      ]
     },
     "execution_count": 3,
     "metadata": {},
     "output_type": "execute_result"
    }
   ],
   "source": [
    "data = data.drop_duplicates('text')\n",
    "data.head()"
   ]
  },
  {
   "cell_type": "code",
   "execution_count": 4,
   "metadata": {
    "scrolled": true
   },
   "outputs": [
    {
     "data": {
      "text/plain": [
       "(10637, 90)"
      ]
     },
     "execution_count": 4,
     "metadata": {},
     "output_type": "execute_result"
    }
   ],
   "source": [
    "data.shape"
   ]
  },
  {
   "cell_type": "code",
   "execution_count": 5,
   "metadata": {},
   "outputs": [],
   "source": [
    "df = data[[\"text\", \"is_quote\", \"is_retweet\", \"retweet_count\", \"hashtags\", \"followers_count\"]]"
   ]
  },
  {
   "cell_type": "code",
   "execution_count": 6,
   "metadata": {
    "scrolled": true
   },
   "outputs": [
    {
     "data": {
      "text/html": [
       "<div>\n",
       "<style scoped>\n",
       "    .dataframe tbody tr th:only-of-type {\n",
       "        vertical-align: middle;\n",
       "    }\n",
       "\n",
       "    .dataframe tbody tr th {\n",
       "        vertical-align: top;\n",
       "    }\n",
       "\n",
       "    .dataframe thead th {\n",
       "        text-align: right;\n",
       "    }\n",
       "</style>\n",
       "<table border=\"1\" class=\"dataframe\">\n",
       "  <thead>\n",
       "    <tr style=\"text-align: right;\">\n",
       "      <th></th>\n",
       "      <th>text</th>\n",
       "    </tr>\n",
       "  </thead>\n",
       "  <tbody>\n",
       "    <tr>\n",
       "      <th>0</th>\n",
       "      <td>The @EFF finds that the proposed modifications to the HIPAA would \"invade your most personal and intimiate health data.\" \\r\\n\\r\\nStating that trust in healthcare is crucial and especially so during the #COVID pandemic.\\r\\n\\r\\nRead more: https://t.co/ReuoQ3mF9p</td>\n",
       "    </tr>\n",
       "    <tr>\n",
       "      <th>1</th>\n",
       "      <td>The European Parliament passes the new #EU #COVID19 Certificate Regulation detailing peoples' COVID information.\\r\\n\\r\\nPromising that all personal data will be processed in line with the #GDPR\\r\\n\\r\\nRead more: https://t.co/8PGuChsV5F</td>\n",
       "    </tr>\n",
       "    <tr>\n",
       "      <th>2</th>\n",
       "      <td>To gain better control over the increasingly powerful technology sector in #China, new regulations in China make it harder for big tech to refuse the government's request for #datasharing. \\r\\n\\r\\n#datasecurity\\r\\n\\r\\nRead more: https://t.co/piSfs3NW4J</td>\n",
       "    </tr>\n",
       "    <tr>\n",
       "      <th>3</th>\n",
       "      <td>What if the consumers are on the driving seat to agree or disagree to the #privacypolicy of the #tech giants? Article by Beth Magnuson\\r\\nexplains #DataPrivacy &amp;amp; #innovation on @VentureBeat \\r\\n\\r\\nhttps://t.co/n2pFOwWSmi\\r\\n\\r\\n#PrivacyTech #Technology #DataPrivacy</td>\n",
       "    </tr>\n",
       "    <tr>\n",
       "      <th>4</th>\n",
       "      <td>\"Vera Jourová says new rules are needed to limit the bulk collection of Europeans’ data.\"\\r\\n\\r\\nThe #EU is requiring new legislation limiting #US government agencies from accessing European data. \\r\\n\\r\\nRead more at: https://t.co/04avhPjhCd</td>\n",
       "    </tr>\n",
       "  </tbody>\n",
       "</table>\n",
       "</div>"
      ],
      "text/plain": [
       "                                                                                                                                                                                                                                                                             text\n",
       "0  The @EFF finds that the proposed modifications to the HIPAA would \"invade your most personal and intimiate health data.\" \\r\\n\\r\\nStating that trust in healthcare is crucial and especially so during the #COVID pandemic.\\r\\n\\r\\nRead more: https://t.co/ReuoQ3mF9p          \n",
       "1  The European Parliament passes the new #EU #COVID19 Certificate Regulation detailing peoples' COVID information.\\r\\n\\r\\nPromising that all personal data will be processed in line with the #GDPR\\r\\n\\r\\nRead more: https://t.co/8PGuChsV5F                                   \n",
       "2  To gain better control over the increasingly powerful technology sector in #China, new regulations in China make it harder for big tech to refuse the government's request for #datasharing. \\r\\n\\r\\n#datasecurity\\r\\n\\r\\nRead more: https://t.co/piSfs3NW4J                  \n",
       "3  What if the consumers are on the driving seat to agree or disagree to the #privacypolicy of the #tech giants? Article by Beth Magnuson\\r\\nexplains #DataPrivacy &amp; #innovation on @VentureBeat \\r\\n\\r\\nhttps://t.co/n2pFOwWSmi\\r\\n\\r\\n#PrivacyTech #Technology #DataPrivacy\n",
       "4  \"Vera Jourová says new rules are needed to limit the bulk collection of Europeans’ data.\"\\r\\n\\r\\nThe #EU is requiring new legislation limiting #US government agencies from accessing European data. \\r\\n\\r\\nRead more at: https://t.co/04avhPjhCd                            "
      ]
     },
     "execution_count": 6,
     "metadata": {},
     "output_type": "execute_result"
    }
   ],
   "source": [
    "text = df[[\"text\"]][:10000] # using subset for now so it will run faster\n",
    "pd.set_option('display.max_colwidth', -1)\n",
    "text.head()"
   ]
  },
  {
   "cell_type": "markdown",
   "metadata": {},
   "source": [
    "# Data cleaning"
   ]
  },
  {
   "cell_type": "code",
   "execution_count": 7,
   "metadata": {},
   "outputs": [],
   "source": [
    "wnet = WordNetLemmatizer()\n",
    "port = PorterStemmer()"
   ]
  },
  {
   "cell_type": "code",
   "execution_count": 9,
   "metadata": {},
   "outputs": [
    {
     "data": {
      "text/html": [
       "<div>\n",
       "<style scoped>\n",
       "    .dataframe tbody tr th:only-of-type {\n",
       "        vertical-align: middle;\n",
       "    }\n",
       "\n",
       "    .dataframe tbody tr th {\n",
       "        vertical-align: top;\n",
       "    }\n",
       "\n",
       "    .dataframe thead th {\n",
       "        text-align: right;\n",
       "    }\n",
       "</style>\n",
       "<table border=\"1\" class=\"dataframe\">\n",
       "  <thead>\n",
       "    <tr style=\"text-align: right;\">\n",
       "      <th></th>\n",
       "      <th>text</th>\n",
       "    </tr>\n",
       "  </thead>\n",
       "  <tbody>\n",
       "    <tr>\n",
       "      <th>0</th>\n",
       "      <td>the eff finds that the proposed modifications to the hipaa would invade your most personal and intimiate health data stating that trust in healthcare is crucial and especially so during the covid pandemicread more</td>\n",
       "    </tr>\n",
       "    <tr>\n",
       "      <th>1</th>\n",
       "      <td>the european parliament passes the new eu covid19 certificate regulation detailing peoples covid informationpromising that all personal data will be processed in line with the gdprread more</td>\n",
       "    </tr>\n",
       "    <tr>\n",
       "      <th>2</th>\n",
       "      <td>to gain better control over the increasingly powerful technology sector in china new regulations in china make it harder for big tech to refuse the governments request for datasharing datasecurityread more</td>\n",
       "    </tr>\n",
       "    <tr>\n",
       "      <th>3</th>\n",
       "      <td>what if the consumers are on the driving seat to agree or disagree to the privacypolicy of the tech giants article by beth magnusonexplains dataprivacy  innovation on venturebeat</td>\n",
       "    </tr>\n",
       "    <tr>\n",
       "      <th>4</th>\n",
       "      <td>vera jourová says new rules are needed to limit the bulk collection of europeans datathe eu is requiring new legislation limiting us government agencies from accessing european data read more at</td>\n",
       "    </tr>\n",
       "  </tbody>\n",
       "</table>\n",
       "</div>"
      ],
      "text/plain": [
       "                                                                                                                                                                                                                     text\n",
       "0  the eff finds that the proposed modifications to the hipaa would invade your most personal and intimiate health data stating that trust in healthcare is crucial and especially so during the covid pandemicread more \n",
       "1  the european parliament passes the new eu covid19 certificate regulation detailing peoples covid informationpromising that all personal data will be processed in line with the gdprread more                         \n",
       "2  to gain better control over the increasingly powerful technology sector in china new regulations in china make it harder for big tech to refuse the governments request for datasharing datasecurityread more         \n",
       "3  what if the consumers are on the driving seat to agree or disagree to the privacypolicy of the tech giants article by beth magnusonexplains dataprivacy  innovation on venturebeat                                    \n",
       "4  vera jourová says new rules are needed to limit the bulk collection of europeans datathe eu is requiring new legislation limiting us government agencies from accessing european data read more at                    "
      ]
     },
     "execution_count": 9,
     "metadata": {},
     "output_type": "execute_result"
    }
   ],
   "source": [
    "text['text'] = text['text'].apply(cleanTxt)\n",
    "text.head()"
   ]
  },
  {
   "cell_type": "code",
   "execution_count": 11,
   "metadata": {
    "scrolled": true
   },
   "outputs": [
    {
     "data": {
      "text/html": [
       "<div>\n",
       "<style scoped>\n",
       "    .dataframe tbody tr th:only-of-type {\n",
       "        vertical-align: middle;\n",
       "    }\n",
       "\n",
       "    .dataframe tbody tr th {\n",
       "        vertical-align: top;\n",
       "    }\n",
       "\n",
       "    .dataframe thead th {\n",
       "        text-align: right;\n",
       "    }\n",
       "</style>\n",
       "<table border=\"1\" class=\"dataframe\">\n",
       "  <thead>\n",
       "    <tr style=\"text-align: right;\">\n",
       "      <th></th>\n",
       "      <th>text</th>\n",
       "    </tr>\n",
       "  </thead>\n",
       "  <tbody>\n",
       "    <tr>\n",
       "      <th>0</th>\n",
       "      <td>eff find proposed modification hipaa would invade personal intimiate health stating trust healthcare crucial especially covid pandemicread</td>\n",
       "    </tr>\n",
       "    <tr>\n",
       "      <th>1</th>\n",
       "      <td>european parliament pass new eu covid19 certificate regulation detailing people covid informationpromising personal processed line gdprread</td>\n",
       "    </tr>\n",
       "    <tr>\n",
       "      <th>2</th>\n",
       "      <td>gain better control increasingly powerful technology sector china new regulation china make harder big tech refuse government request datasharing datasecurityread</td>\n",
       "    </tr>\n",
       "    <tr>\n",
       "      <th>3</th>\n",
       "      <td>consumer driving seat agree disagree privacypolicy tech giant article beth magnusonexplains dataprivacy innovation venturebeat</td>\n",
       "    </tr>\n",
       "    <tr>\n",
       "      <th>4</th>\n",
       "      <td>vera jourová say new rule needed limit bulk collection european datathe eu requiring new legislation limiting government agency accessing european read</td>\n",
       "    </tr>\n",
       "  </tbody>\n",
       "</table>\n",
       "</div>"
      ],
      "text/plain": [
       "                                                                                                                                                                 text\n",
       "0  eff find proposed modification hipaa would invade personal intimiate health stating trust healthcare crucial especially covid pandemicread                        \n",
       "1  european parliament pass new eu covid19 certificate regulation detailing people covid informationpromising personal processed line gdprread                       \n",
       "2  gain better control increasingly powerful technology sector china new regulation china make harder big tech refuse government request datasharing datasecurityread\n",
       "3  consumer driving seat agree disagree privacypolicy tech giant article beth magnusonexplains dataprivacy innovation venturebeat                                    \n",
       "4  vera jourová say new rule needed limit bulk collection european datathe eu requiring new legislation limiting government agency accessing european read           "
      ]
     },
     "execution_count": 11,
     "metadata": {},
     "output_type": "execute_result"
    }
   ],
   "source": [
    "text['text'] = text['text'].apply(stopWords)\n",
    "text.head()"
   ]
  },
  {
   "cell_type": "markdown",
   "metadata": {},
   "source": [
    "# Vectorizing Data\n",
    "\n",
    "Vectorizing using Binary Term Frequency (https://towardsdatascience.com/getting-started-with-text-vectorization-2f2efbec6685). Binary Term Frequency captures presence (1) or absence (0) of term in document. For this part, under TfidfVectorizer, we set binary parameter equal to true so that it can show just presence (1) or absence (0) and norm parameter equal to false."
   ]
  },
  {
   "cell_type": "code",
   "execution_count": 12,
   "metadata": {},
   "outputs": [
    {
     "data": {
      "text/plain": [
       "['eff find proposed modification hipaa would invade personal intimiate health stating trust healthcare crucial especially covid pandemicread',\n",
       " 'european parliament pass new eu covid19 certificate regulation detailing people covid informationpromising personal processed line gdprread',\n",
       " 'gain better control increasingly powerful technology sector china new regulation china make harder big tech refuse government request datasharing datasecurityread',\n",
       " 'consumer driving seat agree disagree privacypolicy tech giant article beth magnusonexplains dataprivacy innovation venturebeat',\n",
       " 'vera jourová say new rule needed limit bulk collection european datathe eu requiring new legislation limiting government agency accessing european read']"
      ]
     },
     "execution_count": 12,
     "metadata": {},
     "output_type": "execute_result"
    }
   ],
   "source": [
    "text_lst = []\n",
    "for row in text['text']:\n",
    "    text_lst.append(row)\n",
    "\n",
    "text_lst[:5]"
   ]
  },
  {
   "cell_type": "code",
   "execution_count": 13,
   "metadata": {},
   "outputs": [],
   "source": [
    "tv = TfidfVectorizer(\n",
    "binary = True, norm = None,\n",
    "use_idf = False, smooth_idf = False,\n",
    "lowercase = True, stop_words = None,\n",
    "min_df = 1, max_df = 1.0, max_features = None, ngram_range = (1,1))"
   ]
  },
  {
   "cell_type": "code",
   "execution_count": 14,
   "metadata": {},
   "outputs": [
    {
     "data": {
      "text/html": [
       "<div>\n",
       "<style scoped>\n",
       "    .dataframe tbody tr th:only-of-type {\n",
       "        vertical-align: middle;\n",
       "    }\n",
       "\n",
       "    .dataframe tbody tr th {\n",
       "        vertical-align: top;\n",
       "    }\n",
       "\n",
       "    .dataframe thead th {\n",
       "        text-align: right;\n",
       "    }\n",
       "</style>\n",
       "<table border=\"1\" class=\"dataframe\">\n",
       "  <thead>\n",
       "    <tr style=\"text-align: right;\">\n",
       "      <th></th>\n",
       "      <th>0001860173</th>\n",
       "      <th>007cybersecurity</th>\n",
       "      <th>01</th>\n",
       "      <th>010</th>\n",
       "      <th>0100</th>\n",
       "      <th>020</th>\n",
       "      <th>05</th>\n",
       "      <th>050</th>\n",
       "      <th>06</th>\n",
       "      <th>0613you</th>\n",
       "      <th>...</th>\n",
       "      <th>zoomecertificates</th>\n",
       "      <th>zoominfo</th>\n",
       "      <th>zootokenio</th>\n",
       "      <th>zscaler</th>\n",
       "      <th>zuboff</th>\n",
       "      <th>zuck</th>\n",
       "      <th>zuckerberg</th>\n",
       "      <th>zumbullaw</th>\n",
       "      <th>zunit14</th>\n",
       "      <th>zurich</th>\n",
       "    </tr>\n",
       "  </thead>\n",
       "  <tbody>\n",
       "    <tr>\n",
       "      <th>0</th>\n",
       "      <td>0.0</td>\n",
       "      <td>0.0</td>\n",
       "      <td>0.0</td>\n",
       "      <td>0.0</td>\n",
       "      <td>0.0</td>\n",
       "      <td>0.0</td>\n",
       "      <td>0.0</td>\n",
       "      <td>0.0</td>\n",
       "      <td>0.0</td>\n",
       "      <td>0.0</td>\n",
       "      <td>...</td>\n",
       "      <td>0.0</td>\n",
       "      <td>0.0</td>\n",
       "      <td>0.0</td>\n",
       "      <td>0.0</td>\n",
       "      <td>0.0</td>\n",
       "      <td>0.0</td>\n",
       "      <td>0.0</td>\n",
       "      <td>0.0</td>\n",
       "      <td>0.0</td>\n",
       "      <td>0.0</td>\n",
       "    </tr>\n",
       "    <tr>\n",
       "      <th>1</th>\n",
       "      <td>0.0</td>\n",
       "      <td>0.0</td>\n",
       "      <td>0.0</td>\n",
       "      <td>0.0</td>\n",
       "      <td>0.0</td>\n",
       "      <td>0.0</td>\n",
       "      <td>0.0</td>\n",
       "      <td>0.0</td>\n",
       "      <td>0.0</td>\n",
       "      <td>0.0</td>\n",
       "      <td>...</td>\n",
       "      <td>0.0</td>\n",
       "      <td>0.0</td>\n",
       "      <td>0.0</td>\n",
       "      <td>0.0</td>\n",
       "      <td>0.0</td>\n",
       "      <td>0.0</td>\n",
       "      <td>0.0</td>\n",
       "      <td>0.0</td>\n",
       "      <td>0.0</td>\n",
       "      <td>0.0</td>\n",
       "    </tr>\n",
       "    <tr>\n",
       "      <th>2</th>\n",
       "      <td>0.0</td>\n",
       "      <td>0.0</td>\n",
       "      <td>0.0</td>\n",
       "      <td>0.0</td>\n",
       "      <td>0.0</td>\n",
       "      <td>0.0</td>\n",
       "      <td>0.0</td>\n",
       "      <td>0.0</td>\n",
       "      <td>0.0</td>\n",
       "      <td>0.0</td>\n",
       "      <td>...</td>\n",
       "      <td>0.0</td>\n",
       "      <td>0.0</td>\n",
       "      <td>0.0</td>\n",
       "      <td>0.0</td>\n",
       "      <td>0.0</td>\n",
       "      <td>0.0</td>\n",
       "      <td>0.0</td>\n",
       "      <td>0.0</td>\n",
       "      <td>0.0</td>\n",
       "      <td>0.0</td>\n",
       "    </tr>\n",
       "    <tr>\n",
       "      <th>3</th>\n",
       "      <td>0.0</td>\n",
       "      <td>0.0</td>\n",
       "      <td>0.0</td>\n",
       "      <td>0.0</td>\n",
       "      <td>0.0</td>\n",
       "      <td>0.0</td>\n",
       "      <td>0.0</td>\n",
       "      <td>0.0</td>\n",
       "      <td>0.0</td>\n",
       "      <td>0.0</td>\n",
       "      <td>...</td>\n",
       "      <td>0.0</td>\n",
       "      <td>0.0</td>\n",
       "      <td>0.0</td>\n",
       "      <td>0.0</td>\n",
       "      <td>0.0</td>\n",
       "      <td>0.0</td>\n",
       "      <td>0.0</td>\n",
       "      <td>0.0</td>\n",
       "      <td>0.0</td>\n",
       "      <td>0.0</td>\n",
       "    </tr>\n",
       "    <tr>\n",
       "      <th>4</th>\n",
       "      <td>0.0</td>\n",
       "      <td>0.0</td>\n",
       "      <td>0.0</td>\n",
       "      <td>0.0</td>\n",
       "      <td>0.0</td>\n",
       "      <td>0.0</td>\n",
       "      <td>0.0</td>\n",
       "      <td>0.0</td>\n",
       "      <td>0.0</td>\n",
       "      <td>0.0</td>\n",
       "      <td>...</td>\n",
       "      <td>0.0</td>\n",
       "      <td>0.0</td>\n",
       "      <td>0.0</td>\n",
       "      <td>0.0</td>\n",
       "      <td>0.0</td>\n",
       "      <td>0.0</td>\n",
       "      <td>0.0</td>\n",
       "      <td>0.0</td>\n",
       "      <td>0.0</td>\n",
       "      <td>0.0</td>\n",
       "    </tr>\n",
       "  </tbody>\n",
       "</table>\n",
       "<p>5 rows × 21525 columns</p>\n",
       "</div>"
      ],
      "text/plain": [
       "   0001860173  007cybersecurity   01  010  0100  020   05  050   06  0613you  \\\n",
       "0  0.0         0.0               0.0  0.0  0.0   0.0  0.0  0.0  0.0  0.0       \n",
       "1  0.0         0.0               0.0  0.0  0.0   0.0  0.0  0.0  0.0  0.0       \n",
       "2  0.0         0.0               0.0  0.0  0.0   0.0  0.0  0.0  0.0  0.0       \n",
       "3  0.0         0.0               0.0  0.0  0.0   0.0  0.0  0.0  0.0  0.0       \n",
       "4  0.0         0.0               0.0  0.0  0.0   0.0  0.0  0.0  0.0  0.0       \n",
       "\n",
       "   ...  zoomecertificates  zoominfo  zootokenio  zscaler  zuboff  zuck  \\\n",
       "0  ...  0.0                0.0       0.0         0.0      0.0     0.0    \n",
       "1  ...  0.0                0.0       0.0         0.0      0.0     0.0    \n",
       "2  ...  0.0                0.0       0.0         0.0      0.0     0.0    \n",
       "3  ...  0.0                0.0       0.0         0.0      0.0     0.0    \n",
       "4  ...  0.0                0.0       0.0         0.0      0.0     0.0    \n",
       "\n",
       "   zuckerberg  zumbullaw  zunit14  zurich  \n",
       "0  0.0         0.0        0.0      0.0     \n",
       "1  0.0         0.0        0.0      0.0     \n",
       "2  0.0         0.0        0.0      0.0     \n",
       "3  0.0         0.0        0.0      0.0     \n",
       "4  0.0         0.0        0.0      0.0     \n",
       "\n",
       "[5 rows x 21525 columns]"
      ]
     },
     "execution_count": 14,
     "metadata": {},
     "output_type": "execute_result"
    }
   ],
   "source": [
    "text_vec = pd.DataFrame(tv.fit_transform(text_lst).toarray(), columns = tv.get_feature_names())\n",
    "text_vec.head()"
   ]
  },
  {
   "cell_type": "markdown",
   "metadata": {},
   "source": [
    "# List of Words"
   ]
  },
  {
   "cell_type": "code",
   "execution_count": null,
   "metadata": {},
   "outputs": [],
   "source": [
    "dp_words = [] # dp for data privacy\n",
    "\n",
    "for row in text['text']:\n",
    "    for word in str(row).split(\" \"):\n",
    "        dp_words.append(word)\n",
    "        \n",
    "dp_words[:5]"
   ]
  },
  {
   "cell_type": "code",
   "execution_count": null,
   "metadata": {},
   "outputs": [],
   "source": [
    "len(cs_words)"
   ]
  },
  {
   "cell_type": "code",
   "execution_count": null,
   "metadata": {},
   "outputs": [],
   "source": [
    "from nltk.probability import FreqDist\n",
    "fdist = FreqDist()\n",
    "for word in cs_words:\n",
    "    fdist[word]+=1\n",
    "fdist"
   ]
  },
  {
   "cell_type": "code",
   "execution_count": null,
   "metadata": {},
   "outputs": [],
   "source": [
    "freq_data = pd.DataFrame.from_dict(fdist.most_common(20))"
   ]
  },
  {
   "cell_type": "code",
   "execution_count": null,
   "metadata": {},
   "outputs": [],
   "source": [
    "sns.barplot(data = freq_data, x = 1, y = 0);"
   ]
  },
  {
   "cell_type": "code",
   "execution_count": null,
   "metadata": {
    "scrolled": true
   },
   "outputs": [],
   "source": [
    "most_common = []\n",
    "\n",
    "for key in fdist.most_common(20):\n",
    "    most_common.append(key[0])\n",
    "    \n",
    "most_common"
   ]
  },
  {
   "cell_type": "markdown",
   "metadata": {},
   "source": [
    "# Clustering"
   ]
  },
  {
   "cell_type": "code",
   "execution_count": null,
   "metadata": {},
   "outputs": [],
   "source": [
    "%%time \n",
    "range_k = [i for i in range(1, 4)]\n",
    "results_k = {}\n",
    "for k in range_k:\n",
    "    results_k[k] = evaluate_k_kmeans_inertia(k)"
   ]
  },
  {
   "cell_type": "code",
   "execution_count": null,
   "metadata": {},
   "outputs": [],
   "source": [
    "results_k"
   ]
  },
  {
   "cell_type": "code",
   "execution_count": null,
   "metadata": {
    "scrolled": true
   },
   "outputs": [],
   "source": [
    "fig, ax = plt.subplots(figsize=(8,6))\n",
    "ax = sns.lineplot(\n",
    "    [c[0] for c in results_k.items()],\n",
    "    [c[1] for c in results_k.items()], label=\"inertia\", color=\"red\")\n",
    "ax.set_xlabel(\"K\")\n",
    "ax.set_ylabel(\"inertia\")\n",
    "ax.set_title(\"Inertia by K\")\n",
    "ax.legend();\n",
    "# try 2, 3, 8 clusters."
   ]
  },
  {
   "cell_type": "markdown",
   "metadata": {},
   "source": [
    "## Cluster Analysis"
   ]
  },
  {
   "cell_type": "code",
   "execution_count": null,
   "metadata": {},
   "outputs": [],
   "source": [
    "estimator_kmeans = KMeans(random_state=42, n_clusters=3) # try 2, 3, 8 clusters.\n",
    "estimator_kmeans.fit(text_vec)"
   ]
  },
  {
   "cell_type": "code",
   "execution_count": null,
   "metadata": {},
   "outputs": [],
   "source": [
    "text_vec[\"cluster_id\"] = estimator_kmeans.labels_\n",
    "text_vec.head()"
   ]
  },
  {
   "cell_type": "code",
   "execution_count": null,
   "metadata": {},
   "outputs": [],
   "source": [
    "text_clusters = text_vec.groupby('cluster_id').sum()\n",
    "text_clusters.head()"
   ]
  },
  {
   "cell_type": "code",
   "execution_count": null,
   "metadata": {},
   "outputs": [],
   "source": [
    "text_clusters_20 = text_clusters[['new',\n",
    " 'apple',\n",
    " 'security',\n",
    " 'amp',\n",
    " 'user',\n",
    " 'protection',\n",
    " 'policy',\n",
    " 'company',\n",
    " 'personal',\n",
    " 'law',\n",
    " 'concern',\n",
    " 'tiktok',\n",
    " 'google',\n",
    " 'social',\n",
    " 'biometric',\n",
    " 'right',\n",
    " 'medium',\n",
    " 'information',\n",
    " 'ensure',\n",
    " 'people']\n",
    "]\n",
    "\n",
    "text_clusters_20.head()"
   ]
  },
  {
   "cell_type": "code",
   "execution_count": null,
   "metadata": {},
   "outputs": [],
   "source": [
    "fig, ax = plt.subplots(figsize=(25,15))\n",
    "sns.heatmap(text_clusters_20.transpose(), annot=False)\n",
    "plt.title(\"Cluster Analysis based on Twitter Posts using the Top 20 Words\", size = 30);"
   ]
  },
  {
   "cell_type": "markdown",
   "metadata": {},
   "source": [
    "# Wordcloud"
   ]
  },
  {
   "cell_type": "code",
   "execution_count": null,
   "metadata": {},
   "outputs": [],
   "source": [
    "from os import path\n",
    "from PIL import Image\n",
    "from wordcloud import WordCloud, STOPWORDS, ImageColorGenerator\n",
    "\n",
    "import matplotlib.pyplot as plt\n",
    "%matplotlib inline"
   ]
  },
  {
   "cell_type": "code",
   "execution_count": null,
   "metadata": {},
   "outputs": [],
   "source": [
    "stopwords = set(STOPWORDS)\n",
    "new_stopwords=stopwords.union(text)\n",
    "wc = WordCloud(\n",
    "         background_color=\"white\", max_words=2000,\n",
    "         min_font_size =15, max_font_size=40, relative_scaling =\n",
    "         0.5, stopwords=new_stopwords,normalize_plurals= True)\n",
    "import re\n",
    "textonly = re.sub(\" \", \" \",str(text))\n",
    "wc.generate(textonly)\n",
    "plt.figure(figsize=(25,25))\n",
    "plt.imshow(wc, interpolation=\"bilinear\")\n",
    "plt.axis(\"off\")\n",
    "#Show the wordcloud\n",
    "plt.show()"
   ]
  },
  {
   "cell_type": "markdown",
   "metadata": {},
   "source": [
    "# Sentiment Analysis"
   ]
  },
  {
   "cell_type": "code",
   "execution_count": 22,
   "metadata": {},
   "outputs": [],
   "source": [
    "from vaderSentiment.vaderSentiment import SentimentIntensityAnalyzer\n",
    "sid_obj = SentimentIntensityAnalyzer()\n",
    "text['scores'] = text['text'].apply(lambda review: sid_obj.polarity_scores(review))"
   ]
  },
  {
   "cell_type": "code",
   "execution_count": 23,
   "metadata": {},
   "outputs": [
    {
     "data": {
      "text/html": [
       "<div>\n",
       "<style scoped>\n",
       "    .dataframe tbody tr th:only-of-type {\n",
       "        vertical-align: middle;\n",
       "    }\n",
       "\n",
       "    .dataframe tbody tr th {\n",
       "        vertical-align: top;\n",
       "    }\n",
       "\n",
       "    .dataframe thead th {\n",
       "        text-align: right;\n",
       "    }\n",
       "</style>\n",
       "<table border=\"1\" class=\"dataframe\">\n",
       "  <thead>\n",
       "    <tr style=\"text-align: right;\">\n",
       "      <th></th>\n",
       "      <th>text</th>\n",
       "      <th>scores</th>\n",
       "    </tr>\n",
       "  </thead>\n",
       "  <tbody>\n",
       "    <tr>\n",
       "      <th>0</th>\n",
       "      <td>eff find proposed modification hipaa would invade personal intimiate health stating trust healthcare crucial especially covid pandemicread</td>\n",
       "      <td>{'neg': 0.0, 'neu': 0.829, 'pos': 0.171, 'compound': 0.5106}</td>\n",
       "    </tr>\n",
       "    <tr>\n",
       "      <th>1</th>\n",
       "      <td>european parliament pass new eu covid19 certificate regulation detailing people covid informationpromising personal processed line gdprread</td>\n",
       "      <td>{'neg': 0.0, 'neu': 1.0, 'pos': 0.0, 'compound': 0.0}</td>\n",
       "    </tr>\n",
       "    <tr>\n",
       "      <th>2</th>\n",
       "      <td>gain better control increasingly powerful technology sector china new regulation china make harder big tech refuse government request datasharing datasecurityread</td>\n",
       "      <td>{'neg': 0.081, 'neu': 0.586, 'pos': 0.333, 'compound': 0.7845}</td>\n",
       "    </tr>\n",
       "    <tr>\n",
       "      <th>3</th>\n",
       "      <td>consumer driving seat agree disagree privacypolicy tech giant article beth magnusonexplains dataprivacy innovation venturebeat</td>\n",
       "      <td>{'neg': 0.139, 'neu': 0.588, 'pos': 0.273, 'compound': 0.3612}</td>\n",
       "    </tr>\n",
       "    <tr>\n",
       "      <th>4</th>\n",
       "      <td>vera jourová say new rule needed limit bulk collection european datathe eu requiring new legislation limiting government agency accessing european read</td>\n",
       "      <td>{'neg': 0.0, 'neu': 1.0, 'pos': 0.0, 'compound': 0.0}</td>\n",
       "    </tr>\n",
       "  </tbody>\n",
       "</table>\n",
       "</div>"
      ],
      "text/plain": [
       "                                                                                                                                                                 text  \\\n",
       "0  eff find proposed modification hipaa would invade personal intimiate health stating trust healthcare crucial especially covid pandemicread                           \n",
       "1  european parliament pass new eu covid19 certificate regulation detailing people covid informationpromising personal processed line gdprread                          \n",
       "2  gain better control increasingly powerful technology sector china new regulation china make harder big tech refuse government request datasharing datasecurityread   \n",
       "3  consumer driving seat agree disagree privacypolicy tech giant article beth magnusonexplains dataprivacy innovation venturebeat                                       \n",
       "4  vera jourová say new rule needed limit bulk collection european datathe eu requiring new legislation limiting government agency accessing european read              \n",
       "\n",
       "                                                           scores  \n",
       "0  {'neg': 0.0, 'neu': 0.829, 'pos': 0.171, 'compound': 0.5106}    \n",
       "1  {'neg': 0.0, 'neu': 1.0, 'pos': 0.0, 'compound': 0.0}           \n",
       "2  {'neg': 0.081, 'neu': 0.586, 'pos': 0.333, 'compound': 0.7845}  \n",
       "3  {'neg': 0.139, 'neu': 0.588, 'pos': 0.273, 'compound': 0.3612}  \n",
       "4  {'neg': 0.0, 'neu': 1.0, 'pos': 0.0, 'compound': 0.0}           "
      ]
     },
     "execution_count": 23,
     "metadata": {},
     "output_type": "execute_result"
    }
   ],
   "source": [
    "text.head()"
   ]
  },
  {
   "cell_type": "code",
   "execution_count": 25,
   "metadata": {
    "scrolled": true
   },
   "outputs": [
    {
     "data": {
      "text/html": [
       "<div>\n",
       "<style scoped>\n",
       "    .dataframe tbody tr th:only-of-type {\n",
       "        vertical-align: middle;\n",
       "    }\n",
       "\n",
       "    .dataframe tbody tr th {\n",
       "        vertical-align: top;\n",
       "    }\n",
       "\n",
       "    .dataframe thead th {\n",
       "        text-align: right;\n",
       "    }\n",
       "</style>\n",
       "<table border=\"1\" class=\"dataframe\">\n",
       "  <thead>\n",
       "    <tr style=\"text-align: right;\">\n",
       "      <th></th>\n",
       "      <th>text</th>\n",
       "      <th>scores</th>\n",
       "      <th>compound</th>\n",
       "    </tr>\n",
       "  </thead>\n",
       "  <tbody>\n",
       "    <tr>\n",
       "      <th>0</th>\n",
       "      <td>eff find proposed modification hipaa would invade personal intimiate health stating trust healthcare crucial especially covid pandemicread</td>\n",
       "      <td>{'neg': 0.0, 'neu': 0.829, 'pos': 0.171, 'compound': 0.5106}</td>\n",
       "      <td>0.5106</td>\n",
       "    </tr>\n",
       "    <tr>\n",
       "      <th>1</th>\n",
       "      <td>european parliament pass new eu covid19 certificate regulation detailing people covid informationpromising personal processed line gdprread</td>\n",
       "      <td>{'neg': 0.0, 'neu': 1.0, 'pos': 0.0, 'compound': 0.0}</td>\n",
       "      <td>0.0000</td>\n",
       "    </tr>\n",
       "    <tr>\n",
       "      <th>2</th>\n",
       "      <td>gain better control increasingly powerful technology sector china new regulation china make harder big tech refuse government request datasharing datasecurityread</td>\n",
       "      <td>{'neg': 0.081, 'neu': 0.586, 'pos': 0.333, 'compound': 0.7845}</td>\n",
       "      <td>0.7845</td>\n",
       "    </tr>\n",
       "    <tr>\n",
       "      <th>3</th>\n",
       "      <td>consumer driving seat agree disagree privacypolicy tech giant article beth magnusonexplains dataprivacy innovation venturebeat</td>\n",
       "      <td>{'neg': 0.139, 'neu': 0.588, 'pos': 0.273, 'compound': 0.3612}</td>\n",
       "      <td>0.3612</td>\n",
       "    </tr>\n",
       "    <tr>\n",
       "      <th>4</th>\n",
       "      <td>vera jourová say new rule needed limit bulk collection european datathe eu requiring new legislation limiting government agency accessing european read</td>\n",
       "      <td>{'neg': 0.0, 'neu': 1.0, 'pos': 0.0, 'compound': 0.0}</td>\n",
       "      <td>0.0000</td>\n",
       "    </tr>\n",
       "  </tbody>\n",
       "</table>\n",
       "</div>"
      ],
      "text/plain": [
       "                                                                                                                                                                 text  \\\n",
       "0  eff find proposed modification hipaa would invade personal intimiate health stating trust healthcare crucial especially covid pandemicread                           \n",
       "1  european parliament pass new eu covid19 certificate regulation detailing people covid informationpromising personal processed line gdprread                          \n",
       "2  gain better control increasingly powerful technology sector china new regulation china make harder big tech refuse government request datasharing datasecurityread   \n",
       "3  consumer driving seat agree disagree privacypolicy tech giant article beth magnusonexplains dataprivacy innovation venturebeat                                       \n",
       "4  vera jourová say new rule needed limit bulk collection european datathe eu requiring new legislation limiting government agency accessing european read              \n",
       "\n",
       "                                                           scores  compound  \n",
       "0  {'neg': 0.0, 'neu': 0.829, 'pos': 0.171, 'compound': 0.5106}    0.5106    \n",
       "1  {'neg': 0.0, 'neu': 1.0, 'pos': 0.0, 'compound': 0.0}           0.0000    \n",
       "2  {'neg': 0.081, 'neu': 0.586, 'pos': 0.333, 'compound': 0.7845}  0.7845    \n",
       "3  {'neg': 0.139, 'neu': 0.588, 'pos': 0.273, 'compound': 0.3612}  0.3612    \n",
       "4  {'neg': 0.0, 'neu': 1.0, 'pos': 0.0, 'compound': 0.0}           0.0000    "
      ]
     },
     "execution_count": 25,
     "metadata": {},
     "output_type": "execute_result"
    }
   ],
   "source": [
    "text['compound']  = text['scores'].apply(lambda score_dict: score_dict['compound'])\n",
    "text.head()"
   ]
  },
  {
   "cell_type": "code",
   "execution_count": 29,
   "metadata": {},
   "outputs": [
    {
     "data": {
      "text/html": [
       "<div>\n",
       "<style scoped>\n",
       "    .dataframe tbody tr th:only-of-type {\n",
       "        vertical-align: middle;\n",
       "    }\n",
       "\n",
       "    .dataframe tbody tr th {\n",
       "        vertical-align: top;\n",
       "    }\n",
       "\n",
       "    .dataframe thead th {\n",
       "        text-align: right;\n",
       "    }\n",
       "</style>\n",
       "<table border=\"1\" class=\"dataframe\">\n",
       "  <thead>\n",
       "    <tr style=\"text-align: right;\">\n",
       "      <th></th>\n",
       "      <th>text</th>\n",
       "      <th>scores</th>\n",
       "      <th>compound</th>\n",
       "      <th>comp_score</th>\n",
       "    </tr>\n",
       "  </thead>\n",
       "  <tbody>\n",
       "    <tr>\n",
       "      <th>0</th>\n",
       "      <td>eff find proposed modification hipaa would invade personal intimiate health stating trust healthcare crucial especially covid pandemicread</td>\n",
       "      <td>{'neg': 0.0, 'neu': 0.829, 'pos': 0.171, 'compound': 0.5106}</td>\n",
       "      <td>0.5106</td>\n",
       "      <td>pos</td>\n",
       "    </tr>\n",
       "    <tr>\n",
       "      <th>1</th>\n",
       "      <td>european parliament pass new eu covid19 certificate regulation detailing people covid informationpromising personal processed line gdprread</td>\n",
       "      <td>{'neg': 0.0, 'neu': 1.0, 'pos': 0.0, 'compound': 0.0}</td>\n",
       "      <td>0.0000</td>\n",
       "      <td>neutral</td>\n",
       "    </tr>\n",
       "    <tr>\n",
       "      <th>2</th>\n",
       "      <td>gain better control increasingly powerful technology sector china new regulation china make harder big tech refuse government request datasharing datasecurityread</td>\n",
       "      <td>{'neg': 0.081, 'neu': 0.586, 'pos': 0.333, 'compound': 0.7845}</td>\n",
       "      <td>0.7845</td>\n",
       "      <td>pos</td>\n",
       "    </tr>\n",
       "    <tr>\n",
       "      <th>3</th>\n",
       "      <td>consumer driving seat agree disagree privacypolicy tech giant article beth magnusonexplains dataprivacy innovation venturebeat</td>\n",
       "      <td>{'neg': 0.139, 'neu': 0.588, 'pos': 0.273, 'compound': 0.3612}</td>\n",
       "      <td>0.3612</td>\n",
       "      <td>pos</td>\n",
       "    </tr>\n",
       "    <tr>\n",
       "      <th>4</th>\n",
       "      <td>vera jourová say new rule needed limit bulk collection european datathe eu requiring new legislation limiting government agency accessing european read</td>\n",
       "      <td>{'neg': 0.0, 'neu': 1.0, 'pos': 0.0, 'compound': 0.0}</td>\n",
       "      <td>0.0000</td>\n",
       "      <td>neutral</td>\n",
       "    </tr>\n",
       "  </tbody>\n",
       "</table>\n",
       "</div>"
      ],
      "text/plain": [
       "                                                                                                                                                                 text  \\\n",
       "0  eff find proposed modification hipaa would invade personal intimiate health stating trust healthcare crucial especially covid pandemicread                           \n",
       "1  european parliament pass new eu covid19 certificate regulation detailing people covid informationpromising personal processed line gdprread                          \n",
       "2  gain better control increasingly powerful technology sector china new regulation china make harder big tech refuse government request datasharing datasecurityread   \n",
       "3  consumer driving seat agree disagree privacypolicy tech giant article beth magnusonexplains dataprivacy innovation venturebeat                                       \n",
       "4  vera jourová say new rule needed limit bulk collection european datathe eu requiring new legislation limiting government agency accessing european read              \n",
       "\n",
       "                                                           scores  compound  \\\n",
       "0  {'neg': 0.0, 'neu': 0.829, 'pos': 0.171, 'compound': 0.5106}    0.5106     \n",
       "1  {'neg': 0.0, 'neu': 1.0, 'pos': 0.0, 'compound': 0.0}           0.0000     \n",
       "2  {'neg': 0.081, 'neu': 0.586, 'pos': 0.333, 'compound': 0.7845}  0.7845     \n",
       "3  {'neg': 0.139, 'neu': 0.588, 'pos': 0.273, 'compound': 0.3612}  0.3612     \n",
       "4  {'neg': 0.0, 'neu': 1.0, 'pos': 0.0, 'compound': 0.0}           0.0000     \n",
       "\n",
       "  comp_score  \n",
       "0  pos        \n",
       "1  neutral    \n",
       "2  pos        \n",
       "3  pos        \n",
       "4  neutral    "
      ]
     },
     "execution_count": 29,
     "metadata": {},
     "output_type": "execute_result"
    }
   ],
   "source": [
    "text['comp_score'] = text['compound'].apply(lambda c: 'pos' if c >=0.05 else ('neg' if c <= -0.05 else 'neutral'))\n",
    "\n",
    "text.head()"
   ]
  },
  {
   "cell_type": "code",
   "execution_count": 37,
   "metadata": {},
   "outputs": [],
   "source": [
    "comp_score_counts = text.comp_score.value_counts()\n",
    "# weirdly a good chunk of them are actually postiive"
   ]
  },
  {
   "cell_type": "code",
   "execution_count": 38,
   "metadata": {},
   "outputs": [
    {
     "data": {
      "image/png": "[encoded data removed]",
      "text/plain": [
       "<Figure size 432x288 with 1 Axes>"
      ]
     },
     "metadata": {},
     "output_type": "display_data"
    }
   ],
   "source": [
    "comp_score_counts.plot.pie(autopct=\"%.1f%%\");"
   ]
  },
  {
   "cell_type": "markdown",
   "metadata": {},
   "source": [
    "# Identifying Columns\n",
    "## Cleaning Data"
   ]
  },
  {
   "cell_type": "code",
   "execution_count": 16,
   "metadata": {},
   "outputs": [],
   "source": [
    "ident = data[[\"verified\", \"lang\", \"location\", \"followers_count\", \"description\", \"user_id\"]] # can always change later\n",
    "ident = ident.drop_duplicates()"
   ]
  },
  {
   "cell_type": "code",
   "execution_count": 20,
   "metadata": {},
   "outputs": [
    {
     "data": {
      "text/html": [
       "<div>\n",
       "<style scoped>\n",
       "    .dataframe tbody tr th:only-of-type {\n",
       "        vertical-align: middle;\n",
       "    }\n",
       "\n",
       "    .dataframe tbody tr th {\n",
       "        vertical-align: top;\n",
       "    }\n",
       "\n",
       "    .dataframe thead th {\n",
       "        text-align: right;\n",
       "    }\n",
       "</style>\n",
       "<table border=\"1\" class=\"dataframe\">\n",
       "  <thead>\n",
       "    <tr style=\"text-align: right;\">\n",
       "      <th></th>\n",
       "      <th>verified</th>\n",
       "      <th>lang</th>\n",
       "      <th>location</th>\n",
       "      <th>followers_count</th>\n",
       "      <th>description</th>\n",
       "      <th>user_id</th>\n",
       "    </tr>\n",
       "  </thead>\n",
       "  <tbody>\n",
       "    <tr>\n",
       "      <th>0</th>\n",
       "      <td>False</td>\n",
       "      <td>en</td>\n",
       "      <td>EU</td>\n",
       "      <td>406</td>\n",
       "      <td>bi-monthly newsletter on #privacy #design #product #technology &amp; more by @MiraNova_Tweet &amp; the team. We are open for collabs. All info via DM.</td>\n",
       "      <td>x1166589525386301440</td>\n",
       "    </tr>\n",
       "    <tr>\n",
       "      <th>6</th>\n",
       "      <td>False</td>\n",
       "      <td>en</td>\n",
       "      <td>Singapore</td>\n",
       "      <td>64</td>\n",
       "      <td>Gamer, Security and Privacy Blogger, author @bestvpnguru</td>\n",
       "      <td>x1037366296122413063</td>\n",
       "    </tr>\n",
       "    <tr>\n",
       "      <th>21</th>\n",
       "      <td>False</td>\n",
       "      <td>en</td>\n",
       "      <td>United States of America</td>\n",
       "      <td>2228</td>\n",
       "      <td>Global Counterespionage Specialists | Cyber TSCM</td>\n",
       "      <td>x14569114</td>\n",
       "    </tr>\n",
       "    <tr>\n",
       "      <th>25</th>\n",
       "      <td>False</td>\n",
       "      <td>en</td>\n",
       "      <td>Los Gatos, California</td>\n",
       "      <td>1009</td>\n",
       "      <td>4Thought Marketing specializes in offering custom solutions designed to enhance @Eloqua, including Integrations, Custom Programs, and Strategic Consulting.</td>\n",
       "      <td>x131236988</td>\n",
       "    </tr>\n",
       "    <tr>\n",
       "      <th>28</th>\n",
       "      <td>False</td>\n",
       "      <td>en</td>\n",
       "      <td>Loveland, CO</td>\n",
       "      <td>537</td>\n",
       "      <td>Personal account - nothing here is the opinion of my employer. Staff Engineer at Liqid, Inc.</td>\n",
       "      <td>x25927802</td>\n",
       "    </tr>\n",
       "  </tbody>\n",
       "</table>\n",
       "</div>"
      ],
      "text/plain": [
       "    verified lang                  location  followers_count  \\\n",
       "0   False     en   EU                        406               \n",
       "6   False     en   Singapore                 64                \n",
       "21  False     en   United States of America  2228              \n",
       "25  False     en   Los Gatos, California     1009              \n",
       "28  False     en   Loveland, CO              537               \n",
       "\n",
       "                                                                                                                                                    description  \\\n",
       "0   bi-monthly newsletter on #privacy #design #product #technology & more by @MiraNova_Tweet & the team. We are open for collabs. All info via DM.                \n",
       "6   Gamer, Security and Privacy Blogger, author @bestvpnguru                                                                                                      \n",
       "21  Global Counterespionage Specialists | Cyber TSCM                                                                                                              \n",
       "25  4Thought Marketing specializes in offering custom solutions designed to enhance @Eloqua, including Integrations, Custom Programs, and Strategic Consulting.   \n",
       "28  Personal account - nothing here is the opinion of my employer. Staff Engineer at Liqid, Inc.                                                                  \n",
       "\n",
       "                 user_id  \n",
       "0   x1166589525386301440  \n",
       "6   x1037366296122413063  \n",
       "21  x14569114             \n",
       "25  x131236988            \n",
       "28  x25927802             "
      ]
     },
     "execution_count": 20,
     "metadata": {},
     "output_type": "execute_result"
    }
   ],
   "source": [
    "ident = ident.dropna()\n",
    "ident.head()"
   ]
  },
  {
   "cell_type": "code",
   "execution_count": 21,
   "metadata": {},
   "outputs": [
    {
     "data": {
      "text/html": [
       "<div>\n",
       "<style scoped>\n",
       "    .dataframe tbody tr th:only-of-type {\n",
       "        vertical-align: middle;\n",
       "    }\n",
       "\n",
       "    .dataframe tbody tr th {\n",
       "        vertical-align: top;\n",
       "    }\n",
       "\n",
       "    .dataframe thead th {\n",
       "        text-align: right;\n",
       "    }\n",
       "</style>\n",
       "<table border=\"1\" class=\"dataframe\">\n",
       "  <thead>\n",
       "    <tr style=\"text-align: right;\">\n",
       "      <th></th>\n",
       "      <th>verified</th>\n",
       "      <th>lang</th>\n",
       "      <th>location</th>\n",
       "      <th>followers_count</th>\n",
       "      <th>description</th>\n",
       "      <th>user_id</th>\n",
       "    </tr>\n",
       "  </thead>\n",
       "  <tbody>\n",
       "    <tr>\n",
       "      <th>0</th>\n",
       "      <td>False</td>\n",
       "      <td>en</td>\n",
       "      <td>EU</td>\n",
       "      <td>406</td>\n",
       "      <td>bimonthly newsletter design product technology miranovatweet team open collabs info via dm</td>\n",
       "      <td>x1166589525386301440</td>\n",
       "    </tr>\n",
       "    <tr>\n",
       "      <th>6</th>\n",
       "      <td>False</td>\n",
       "      <td>en</td>\n",
       "      <td>Singapore</td>\n",
       "      <td>64</td>\n",
       "      <td>gamer security blogger author bestvpnguru</td>\n",
       "      <td>x1037366296122413063</td>\n",
       "    </tr>\n",
       "    <tr>\n",
       "      <th>21</th>\n",
       "      <td>False</td>\n",
       "      <td>en</td>\n",
       "      <td>United States of America</td>\n",
       "      <td>2228</td>\n",
       "      <td>global counterespionage specialist cyber tscm</td>\n",
       "      <td>x14569114</td>\n",
       "    </tr>\n",
       "    <tr>\n",
       "      <th>25</th>\n",
       "      <td>False</td>\n",
       "      <td>en</td>\n",
       "      <td>Los Gatos, California</td>\n",
       "      <td>1009</td>\n",
       "      <td>4thought marketing specializes offering custom solution designed enhance eloqua including integration custom program strategic consulting</td>\n",
       "      <td>x131236988</td>\n",
       "    </tr>\n",
       "    <tr>\n",
       "      <th>28</th>\n",
       "      <td>False</td>\n",
       "      <td>en</td>\n",
       "      <td>Loveland, CO</td>\n",
       "      <td>537</td>\n",
       "      <td>personal account nothing opinion employer staff engineer liqid inc</td>\n",
       "      <td>x25927802</td>\n",
       "    </tr>\n",
       "  </tbody>\n",
       "</table>\n",
       "</div>"
      ],
      "text/plain": [
       "    verified lang                  location  followers_count  \\\n",
       "0   False     en   EU                        406               \n",
       "6   False     en   Singapore                 64                \n",
       "21  False     en   United States of America  2228              \n",
       "25  False     en   Los Gatos, California     1009              \n",
       "28  False     en   Loveland, CO              537               \n",
       "\n",
       "                                                                                                                                  description  \\\n",
       "0   bimonthly newsletter design product technology miranovatweet team open collabs info via dm                                                  \n",
       "6   gamer security blogger author bestvpnguru                                                                                                   \n",
       "21  global counterespionage specialist cyber tscm                                                                                               \n",
       "25  4thought marketing specializes offering custom solution designed enhance eloqua including integration custom program strategic consulting   \n",
       "28  personal account nothing opinion employer staff engineer liqid inc                                                                          \n",
       "\n",
       "                 user_id  \n",
       "0   x1166589525386301440  \n",
       "6   x1037366296122413063  \n",
       "21  x14569114             \n",
       "25  x131236988            \n",
       "28  x25927802             "
      ]
     },
     "execution_count": 21,
     "metadata": {},
     "output_type": "execute_result"
    }
   ],
   "source": [
    "ident['description'] = ident['description'].apply(cleanTxt)\n",
    "ident['description'] = ident['description'].apply(stopWords)\n",
    "ident.head()"
   ]
  },
  {
   "cell_type": "code",
   "execution_count": 22,
   "metadata": {},
   "outputs": [
    {
     "data": {
      "text/html": [
       "<div>\n",
       "<style scoped>\n",
       "    .dataframe tbody tr th:only-of-type {\n",
       "        vertical-align: middle;\n",
       "    }\n",
       "\n",
       "    .dataframe tbody tr th {\n",
       "        vertical-align: top;\n",
       "    }\n",
       "\n",
       "    .dataframe thead th {\n",
       "        text-align: right;\n",
       "    }\n",
       "</style>\n",
       "<table border=\"1\" class=\"dataframe\">\n",
       "  <thead>\n",
       "    <tr style=\"text-align: right;\">\n",
       "      <th></th>\n",
       "      <th>description</th>\n",
       "    </tr>\n",
       "  </thead>\n",
       "  <tbody>\n",
       "    <tr>\n",
       "      <th>0</th>\n",
       "      <td>bimonthly newsletter design product technology miranovatweet team open collabs info via dm</td>\n",
       "    </tr>\n",
       "    <tr>\n",
       "      <th>6</th>\n",
       "      <td>gamer security blogger author bestvpnguru</td>\n",
       "    </tr>\n",
       "    <tr>\n",
       "      <th>21</th>\n",
       "      <td>global counterespionage specialist cyber tscm</td>\n",
       "    </tr>\n",
       "    <tr>\n",
       "      <th>25</th>\n",
       "      <td>4thought marketing specializes offering custom solution designed enhance eloqua including integration custom program strategic consulting</td>\n",
       "    </tr>\n",
       "    <tr>\n",
       "      <th>28</th>\n",
       "      <td>personal account nothing opinion employer staff engineer liqid inc</td>\n",
       "    </tr>\n",
       "  </tbody>\n",
       "</table>\n",
       "</div>"
      ],
      "text/plain": [
       "                                                                                                                                  description\n",
       "0   bimonthly newsletter design product technology miranovatweet team open collabs info via dm                                               \n",
       "6   gamer security blogger author bestvpnguru                                                                                                \n",
       "21  global counterespionage specialist cyber tscm                                                                                            \n",
       "25  4thought marketing specializes offering custom solution designed enhance eloqua including integration custom program strategic consulting\n",
       "28  personal account nothing opinion employer staff engineer liqid inc                                                                       "
      ]
     },
     "execution_count": 22,
     "metadata": {},
     "output_type": "execute_result"
    }
   ],
   "source": [
    "desc = ident[['description']]\n",
    "desc.head()"
   ]
  },
  {
   "cell_type": "markdown",
   "metadata": {},
   "source": [
    "## Vectorizing Data"
   ]
  },
  {
   "cell_type": "code",
   "execution_count": 25,
   "metadata": {
    "scrolled": true
   },
   "outputs": [
    {
     "data": {
      "text/plain": [
       "['bimonthly newsletter design product technology miranovatweet team open collabs info via dm',\n",
       " 'gamer security blogger author bestvpnguru',\n",
       " 'global counterespionage specialist cyber tscm',\n",
       " '4thought marketing specializes offering custom solution designed enhance eloqua including integration custom program strategic consulting',\n",
       " 'personal account nothing opinion employer staff engineer liqid inc']"
      ]
     },
     "execution_count": 25,
     "metadata": {},
     "output_type": "execute_result"
    }
   ],
   "source": [
    "desc_lst = []\n",
    "for row in desc['description']:\n",
    "    desc_lst.append(row)\n",
    "\n",
    "desc_lst[:5] # need to make into a list so the vectorizer will work"
   ]
  },
  {
   "cell_type": "code",
   "execution_count": 26,
   "metadata": {},
   "outputs": [
    {
     "data": {
      "text/html": [
       "<div>\n",
       "<style scoped>\n",
       "    .dataframe tbody tr th:only-of-type {\n",
       "        vertical-align: middle;\n",
       "    }\n",
       "\n",
       "    .dataframe tbody tr th {\n",
       "        vertical-align: top;\n",
       "    }\n",
       "\n",
       "    .dataframe thead th {\n",
       "        text-align: right;\n",
       "    }\n",
       "</style>\n",
       "<table border=\"1\" class=\"dataframe\">\n",
       "  <thead>\n",
       "    <tr style=\"text-align: right;\">\n",
       "      <th></th>\n",
       "      <th>00</th>\n",
       "      <th>001</th>\n",
       "      <th>003u0001f4e9</th>\n",
       "      <th>01</th>\n",
       "      <th>01257</th>\n",
       "      <th>01524</th>\n",
       "      <th>01772</th>\n",
       "      <th>01865</th>\n",
       "      <th>01912790228</th>\n",
       "      <th>02</th>\n",
       "      <th>...</th>\n",
       "      <th>électrique</th>\n",
       "      <th>électronique</th>\n",
       "      <th>éliminer</th>\n",
       "      <th>étudiant</th>\n",
       "      <th>éxito</th>\n",
       "      <th>êtes</th>\n",
       "      <th>être</th>\n",
       "      <th>òtító</th>\n",
       "      <th>öh</th>\n",
       "      <th>örebro</th>\n",
       "    </tr>\n",
       "  </thead>\n",
       "  <tbody>\n",
       "    <tr>\n",
       "      <th>0</th>\n",
       "      <td>0.0</td>\n",
       "      <td>0.0</td>\n",
       "      <td>0.0</td>\n",
       "      <td>0.0</td>\n",
       "      <td>0.0</td>\n",
       "      <td>0.0</td>\n",
       "      <td>0.0</td>\n",
       "      <td>0.0</td>\n",
       "      <td>0.0</td>\n",
       "      <td>0.0</td>\n",
       "      <td>...</td>\n",
       "      <td>0.0</td>\n",
       "      <td>0.0</td>\n",
       "      <td>0.0</td>\n",
       "      <td>0.0</td>\n",
       "      <td>0.0</td>\n",
       "      <td>0.0</td>\n",
       "      <td>0.0</td>\n",
       "      <td>0.0</td>\n",
       "      <td>0.0</td>\n",
       "      <td>0.0</td>\n",
       "    </tr>\n",
       "    <tr>\n",
       "      <th>1</th>\n",
       "      <td>0.0</td>\n",
       "      <td>0.0</td>\n",
       "      <td>0.0</td>\n",
       "      <td>0.0</td>\n",
       "      <td>0.0</td>\n",
       "      <td>0.0</td>\n",
       "      <td>0.0</td>\n",
       "      <td>0.0</td>\n",
       "      <td>0.0</td>\n",
       "      <td>0.0</td>\n",
       "      <td>...</td>\n",
       "      <td>0.0</td>\n",
       "      <td>0.0</td>\n",
       "      <td>0.0</td>\n",
       "      <td>0.0</td>\n",
       "      <td>0.0</td>\n",
       "      <td>0.0</td>\n",
       "      <td>0.0</td>\n",
       "      <td>0.0</td>\n",
       "      <td>0.0</td>\n",
       "      <td>0.0</td>\n",
       "    </tr>\n",
       "    <tr>\n",
       "      <th>2</th>\n",
       "      <td>0.0</td>\n",
       "      <td>0.0</td>\n",
       "      <td>0.0</td>\n",
       "      <td>0.0</td>\n",
       "      <td>0.0</td>\n",
       "      <td>0.0</td>\n",
       "      <td>0.0</td>\n",
       "      <td>0.0</td>\n",
       "      <td>0.0</td>\n",
       "      <td>0.0</td>\n",
       "      <td>...</td>\n",
       "      <td>0.0</td>\n",
       "      <td>0.0</td>\n",
       "      <td>0.0</td>\n",
       "      <td>0.0</td>\n",
       "      <td>0.0</td>\n",
       "      <td>0.0</td>\n",
       "      <td>0.0</td>\n",
       "      <td>0.0</td>\n",
       "      <td>0.0</td>\n",
       "      <td>0.0</td>\n",
       "    </tr>\n",
       "    <tr>\n",
       "      <th>3</th>\n",
       "      <td>0.0</td>\n",
       "      <td>0.0</td>\n",
       "      <td>0.0</td>\n",
       "      <td>0.0</td>\n",
       "      <td>0.0</td>\n",
       "      <td>0.0</td>\n",
       "      <td>0.0</td>\n",
       "      <td>0.0</td>\n",
       "      <td>0.0</td>\n",
       "      <td>0.0</td>\n",
       "      <td>...</td>\n",
       "      <td>0.0</td>\n",
       "      <td>0.0</td>\n",
       "      <td>0.0</td>\n",
       "      <td>0.0</td>\n",
       "      <td>0.0</td>\n",
       "      <td>0.0</td>\n",
       "      <td>0.0</td>\n",
       "      <td>0.0</td>\n",
       "      <td>0.0</td>\n",
       "      <td>0.0</td>\n",
       "    </tr>\n",
       "    <tr>\n",
       "      <th>4</th>\n",
       "      <td>0.0</td>\n",
       "      <td>0.0</td>\n",
       "      <td>0.0</td>\n",
       "      <td>0.0</td>\n",
       "      <td>0.0</td>\n",
       "      <td>0.0</td>\n",
       "      <td>0.0</td>\n",
       "      <td>0.0</td>\n",
       "      <td>0.0</td>\n",
       "      <td>0.0</td>\n",
       "      <td>...</td>\n",
       "      <td>0.0</td>\n",
       "      <td>0.0</td>\n",
       "      <td>0.0</td>\n",
       "      <td>0.0</td>\n",
       "      <td>0.0</td>\n",
       "      <td>0.0</td>\n",
       "      <td>0.0</td>\n",
       "      <td>0.0</td>\n",
       "      <td>0.0</td>\n",
       "      <td>0.0</td>\n",
       "    </tr>\n",
       "  </tbody>\n",
       "</table>\n",
       "<p>5 rows × 17542 columns</p>\n",
       "</div>"
      ],
      "text/plain": [
       "    00  001  003u0001f4e9   01  01257  01524  01772  01865  01912790228   02  \\\n",
       "0  0.0  0.0  0.0           0.0  0.0    0.0    0.0    0.0    0.0          0.0   \n",
       "1  0.0  0.0  0.0           0.0  0.0    0.0    0.0    0.0    0.0          0.0   \n",
       "2  0.0  0.0  0.0           0.0  0.0    0.0    0.0    0.0    0.0          0.0   \n",
       "3  0.0  0.0  0.0           0.0  0.0    0.0    0.0    0.0    0.0          0.0   \n",
       "4  0.0  0.0  0.0           0.0  0.0    0.0    0.0    0.0    0.0          0.0   \n",
       "\n",
       "   ...  électrique  électronique  éliminer  étudiant  éxito  êtes  être  \\\n",
       "0  ...  0.0         0.0           0.0       0.0       0.0    0.0   0.0    \n",
       "1  ...  0.0         0.0           0.0       0.0       0.0    0.0   0.0    \n",
       "2  ...  0.0         0.0           0.0       0.0       0.0    0.0   0.0    \n",
       "3  ...  0.0         0.0           0.0       0.0       0.0    0.0   0.0    \n",
       "4  ...  0.0         0.0           0.0       0.0       0.0    0.0   0.0    \n",
       "\n",
       "   òtító   öh  örebro  \n",
       "0  0.0    0.0  0.0     \n",
       "1  0.0    0.0  0.0     \n",
       "2  0.0    0.0  0.0     \n",
       "3  0.0    0.0  0.0     \n",
       "4  0.0    0.0  0.0     \n",
       "\n",
       "[5 rows x 17542 columns]"
      ]
     },
     "execution_count": 26,
     "metadata": {},
     "output_type": "execute_result"
    }
   ],
   "source": [
    "desc_vec = pd.DataFrame(tv.fit_transform(desc_lst).toarray(), columns = tv.get_feature_names())\n",
    "desc_vec.head()"
   ]
  },
  {
   "cell_type": "markdown",
   "metadata": {},
   "source": [
    "## Making List of Words"
   ]
  },
  {
   "cell_type": "code",
   "execution_count": 27,
   "metadata": {},
   "outputs": [
    {
     "data": {
      "text/plain": [
       "['bimonthly', 'newsletter', 'design', 'product', 'technology']"
      ]
     },
     "execution_count": 27,
     "metadata": {},
     "output_type": "execute_result"
    }
   ],
   "source": [
    "desc_words = []\n",
    "\n",
    "for row in desc['description']:\n",
    "    for word in str(row).split(\" \"):\n",
    "        desc_words.append(word)\n",
    "        \n",
    "desc_words[:5]"
   ]
  },
  {
   "cell_type": "code",
   "execution_count": 35,
   "metadata": {},
   "outputs": [
    {
     "data": {
      "text/plain": [
       "FreqDist({'news': 467, 'tech': 371, 'digital': 357, 'business': 335, 'technology': 328, 'security': 313, 'tweet': 271, 'marketing': 237, 'medium': 205, 'service': 195, ...})"
      ]
     },
     "execution_count": 35,
     "metadata": {},
     "output_type": "execute_result"
    }
   ],
   "source": [
    "from nltk.probability import FreqDist\n",
    "fdist_desc = FreqDist()\n",
    "for word in desc_words:\n",
    "    fdist_desc[word]+=1\n",
    "fdist_desc"
   ]
  },
  {
   "cell_type": "code",
   "execution_count": 40,
   "metadata": {},
   "outputs": [
    {
     "data": {
      "image/png": "[encoded data removed]",
      "text/plain": [
       "<Figure size 432x288 with 1 Axes>"
      ]
     },
     "metadata": {
      "needs_background": "light"
     },
     "output_type": "display_data"
    }
   ],
   "source": [
    "freq_data_desc = pd.DataFrame.from_dict(fdist_desc.most_common(20))\n",
    "rel = sns.barplot(data = freq_data_desc, x = 1, y = 0).set(title='Most Common Words for Twitter Bios')\n"
   ]
  },
  {
   "cell_type": "code",
   "execution_count": 37,
   "metadata": {},
   "outputs": [
    {
     "data": {
      "text/plain": [
       "['news',\n",
       " 'tech',\n",
       " 'digital',\n",
       " 'business',\n",
       " 'technology',\n",
       " 'security',\n",
       " 'tweet',\n",
       " 'marketing',\n",
       " 'medium',\n",
       " 'service',\n",
       " 'law',\n",
       " 'world',\n",
       " 'view',\n",
       " 'solution',\n",
       " 'global',\n",
       " 'help',\n",
       " 'ai',\n",
       " 'opinion',\n",
       " 'software',\n",
       " 'cybersecurity']"
      ]
     },
     "execution_count": 37,
     "metadata": {},
     "output_type": "execute_result"
    }
   ],
   "source": [
    "most_common_desc = []\n",
    "\n",
    "for key in fdist_desc.most_common(20):\n",
    "    most_common_desc.append(key[0])\n",
    "    \n",
    "most_common_desc"
   ]
  },
  {
   "cell_type": "markdown",
   "metadata": {},
   "source": [
    "## Clustering by description"
   ]
  },
  {
   "cell_type": "code",
   "execution_count": null,
   "metadata": {},
   "outputs": [],
   "source": [
    "%%time \n",
    "range_k = [i for i in range(1, 9)]\n",
    "results_k = {}\n",
    "for k in range_k:\n",
    "    results_k[k] = evaluate_k_kmeans_inertia(k, desc_vec)"
   ]
  },
  {
   "cell_type": "code",
   "execution_count": null,
   "metadata": {},
   "outputs": [],
   "source": [
    "fig, ax = plt.subplots(figsize=(8,6))\n",
    "ax = sns.lineplot(\n",
    "    [c[0] for c in results_k.items()],\n",
    "    [c[1] for c in results_k.items()], label=\"inertia\", color=\"red\")\n",
    "ax.set_xlabel(\"K\")\n",
    "ax.set_ylabel(\"inertia\")\n",
    "ax.set_title(\"Inertia by K\")\n",
    "ax.legend();"
   ]
  },
  {
   "cell_type": "markdown",
   "metadata": {},
   "source": [
    "### Finding K"
   ]
  },
  {
   "cell_type": "code",
   "execution_count": null,
   "metadata": {},
   "outputs": [],
   "source": [
    "\n",
    "%%time \n",
    "range_k = [i for i in range(1, 9)]\n",
    "results_k = {}\n",
    "for k in range_k:\n",
    "    results_k[k] = evaluate_k_kmeans_inertia(k, desc_vec)"
   ]
  },
  {
   "cell_type": "code",
   "execution_count": null,
   "metadata": {},
   "outputs": [],
   "source": [
    "fig, ax = plt.subplots(figsize=(8,6))\n",
    "ax = sns.lineplot(\n",
    "    [c[0] for c in results_k.items()],\n",
    "    [c[1] for c in results_k.items()], label=\"inertia\", color=\"red\")\n",
    "ax.set_xlabel(\"K\")\n",
    "ax.set_ylabel(\"inertia\")\n",
    "ax.set_title(\"Inertia by K\")\n",
    "ax.legend();"
   ]
  },
  {
   "cell_type": "markdown",
   "metadata": {},
   "source": [
    "### Cluster Analysis"
   ]
  },
  {
   "cell_type": "code",
   "execution_count": null,
   "metadata": {},
   "outputs": [],
   "source": [
    "\n",
    "estimator_kmeans = KMeans(random_state=42, n_clusters=5) # 5 for now (the elbow curve is janky)\n",
    "\n",
    "estimator_kmeans.fit(desc_vec)"
   ]
  },
  {
   "cell_type": "code",
   "execution_count": null,
   "metadata": {},
   "outputs": [],
   "source": [
    "desc_vec[\"cluster_id\"] = estimator_kmeans.labels_\n",
    "desc_vec.head()"
   ]
  },
  {
   "cell_type": "code",
   "execution_count": null,
   "metadata": {},
   "outputs": [],
   "source": [
    "desc_clusters = desc_vec.groupby('cluster_id').sum()\n",
    "desc_clusters.head()"
   ]
  },
  {
   "cell_type": "code",
   "execution_count": null,
   "metadata": {},
   "outputs": [],
   "source": [
    "\n",
    "desc_clusters_20 = desc_clusters[['business',\n",
    " 'technology',\n",
    " 'service',\n",
    " 'solution',\n",
    " 'news',\n",
    " 'digital',\n",
    " 'tech',\n",
    " 'data',\n",
    " 'cloud',\n",
    " 'company',\n",
    " 'help',\n",
    " 'tweet',\n",
    " 'information',\n",
    " 'world',\n",
    " 'software',\n",
    " 'management',\n",
    " 'global',\n",
    " 'ai',\n",
    " 'professional']]\n",
    "\n",
    "desc_clusters_20"
   ]
  },
  {
   "cell_type": "code",
   "execution_count": null,
   "metadata": {},
   "outputs": [],
   "source": [
    "fig, ax = plt.subplots(figsize=(25,15))\n",
    "sns.heatmap(desc_clusters_20.transpose(), annot=False)\n",
    "plt.title(\"Cluster Analysis based on Twitter Description using the Top 20 Words\", size = 30);\n",
    "# Look for rows with a lot of variation to see defining features"
   ]
  },
  {
   "cell_type": "markdown",
   "metadata": {},
   "source": [
    "## Clustering on other columns"
   ]
  },
  {
   "cell_type": "code",
   "execution_count": 23,
   "metadata": {},
   "outputs": [],
   "source": [
    "# what if we cluster on the other columns *including* the descrtiption? - Mary\n",
    "df2 = data[[\"created_at\", \"is_quote\", \"retweet_count\", \"location\", \"followers_count\", \"friends_count\", \"listed_count\", \"account_created_at\", \"verified\"]][:3000]\n",
    "df2.head() # remove is_retweet and protected, no variance"
   ]
  },
  {
   "cell_type": "code",
   "execution_count": null,
   "metadata": {},
   "outputs": [],
   "source": [
    "#saving only the time\n",
    "from datetime import datetime, date\n",
    "df2[[\"created_at\"]] = df2[[\"created_at\"]].apply(pd.to_datetime)"
   ]
  },
  {
   "cell_type": "code",
   "execution_count": null,
   "metadata": {},
   "outputs": [],
   "source": [
    "#df2['day_post_created'] = pd.DatetimeIndex(df2[\"created_at\"]).day\n",
    "#getting only year of when the account was created\n",
    "# our model is relying a lot on day_post_created. I don't believe it tells us much\n",
    "# so I am getting rid of it for now and seeing what happens\n",
    "df2['year_account_created'] = pd.DatetimeIndex(df2[\"account_created_at\"]).year\n",
    "df2 = df2.drop([\"created_at\", \"account_created_at\"], axis=1)\n",
    "df2['year_account_created'] = df2[\"year_account_created\"].astype(\"category\")\n",
    "df2.head()"
   ]
  },
  {
   "cell_type": "code",
   "execution_count": null,
   "metadata": {},
   "outputs": [],
   "source": [
    "%%time\n",
    "df2['country'] = df2['location'].apply(findCountry)\n",
    "df2.head() # finding country for location (takes 8 minutes for 1000 rows, 18 mins for 3000)"
   ]
  },
  {
   "cell_type": "code",
   "execution_count": null,
   "metadata": {},
   "outputs": [],
   "source": [
    "df2 = df2.drop('location', axis = 1)"
   ]
  },
  {
   "cell_type": "code",
   "execution_count": null,
   "metadata": {},
   "outputs": [],
   "source": [
    "numerical_data = df2.select_dtypes(np.number)\n",
    "categorical_data = df2.drop(numerical_data, axis = 1)"
   ]
  },
  {
   "cell_type": "markdown",
   "metadata": {},
   "source": [
    "### Processing Data"
   ]
  },
  {
   "cell_type": "code",
   "execution_count": null,
   "metadata": {},
   "outputs": [],
   "source": [
    "from sklearn.preprocessing import MinMaxScaler\n",
    "\n",
    "numerical_data_normalized = MinMaxScaler().fit_transform(numerical_data) # this line scales our data\n",
    "\n",
    "numerical_data_normalized = pd.DataFrame(              #this pops it back in data frame format \n",
    "    numerical_data_normalized,\n",
    "    columns=numerical_data.columns) \n",
    "\n",
    "numerical_data_normalized.head()"
   ]
  },
  {
   "cell_type": "code",
   "execution_count": null,
   "metadata": {},
   "outputs": [],
   "source": [
    "categorical_data_codified = pd.get_dummies(\n",
    "                                    categorical_data, \n",
    "                                    drop_first=True,\n",
    "                                    dtype=\"int64\"\n",
    ").reset_index()\n",
    "categorical_data_codified.head()"
   ]
  },
  {
   "cell_type": "code",
   "execution_count": null,
   "metadata": {},
   "outputs": [],
   "source": [
    "categorical_data_codified = categorical_data_codified.drop('index', axis = 1)\n"
   ]
  },
  {
   "cell_type": "code",
   "execution_count": null,
   "metadata": {},
   "outputs": [],
   "source": [
    "df2_processed = pd.concat([\n",
    "                            numerical_data_normalized,\n",
    "                            categorical_data_codified\n",
    "                        ], axis=1\n",
    ").reset_index()"
   ]
  },
  {
   "cell_type": "code",
   "execution_count": null,
   "metadata": {},
   "outputs": [],
   "source": [
    "df2_processed = df2_processed.drop('index', axis = 1)\n"
   ]
  },
  {
   "cell_type": "code",
   "execution_count": null,
   "metadata": {},
   "outputs": [],
   "source": [
    "df2_processed.head()\n"
   ]
  },
  {
   "cell_type": "markdown",
   "metadata": {},
   "source": [
    "### Finding K"
   ]
  },
  {
   "cell_type": "code",
   "execution_count": null,
   "metadata": {},
   "outputs": [],
   "source": [
    "%%time \n",
    "range_k = [2, 3, 4, 5, 8, 10, 15, 20, 25, 30]\n",
    "results_k = {}\n",
    "for k in range_k:\n",
    "    results_k[k] = evaluate_k_kmeans_inertia(k, df2_processed)"
   ]
  },
  {
   "cell_type": "code",
   "execution_count": null,
   "metadata": {},
   "outputs": [],
   "source": [
    "fig, ax = plt.subplots(figsize=(8,6))\n",
    "ax = sns.lineplot(\n",
    "    [c[0] for c in results_k.items()],\n",
    "    [c[1] for c in results_k.items()], label=\"inertia\", color=\"red\")\n",
    "ax.set_xlabel(\"K\")\n",
    "ax.set_ylabel(\"inertia\")\n",
    "ax.set_title(\"Inertia by K\")\n",
    "ax.legend();"
   ]
  },
  {
   "cell_type": "markdown",
   "metadata": {},
   "source": [
    "### Cluster Analysis"
   ]
  },
  {
   "cell_type": "code",
   "execution_count": null,
   "metadata": {},
   "outputs": [],
   "source": [
    "estimator_kmeans = KMeans(random_state=42, n_clusters=10) # 5 for now (the elbow curve is janky)\n",
    "\n",
    "estimator_kmeans.fit(df2_processed)"
   ]
  },
  {
   "cell_type": "code",
   "execution_count": null,
   "metadata": {},
   "outputs": [],
   "source": [
    "df2[\"cluster_id\"] = estimator_kmeans.labels_\n",
    "df2.head()"
   ]
  },
  {
   "cell_type": "code",
   "execution_count": null,
   "metadata": {},
   "outputs": [],
   "source": [
    "df2.cluster_id.value_counts()\n"
   ]
  },
  {
   "cell_type": "code",
   "execution_count": null,
   "metadata": {},
   "outputs": [],
   "source": [
    "cluster_summary(1, df2)\n"
   ]
  },
  {
   "cell_type": "code",
   "execution_count": null,
   "metadata": {},
   "outputs": [],
   "source": [
    "cluster_comparison(0,1,2,3,4,5,6,7,8,9)\n"
   ]
  },
  {
   "cell_type": "code",
   "execution_count": null,
   "metadata": {},
   "outputs": [],
   "source": [
    "cluster_results = kmeans_cluster(df2_processed, 5)\n",
    "cluster_summary2 = graph_summary_clustering(cluster_results)"
   ]
  },
  {
   "cell_type": "code",
   "execution_count": null,
   "metadata": {},
   "outputs": [],
   "source": [
    "#cluster_summary2 = cluster_summary2.drop('cluster_id', axis = 1)\n",
    "cluster_summary2"
   ]
  },
  {
   "cell_type": "code",
   "execution_count": null,
   "metadata": {},
   "outputs": [],
   "source": [
    "fig, ax = plt.subplots(figsize=(10,10))\n",
    "sns.heatmap(cluster_summary2.transpose(), annot=False);"
   ]
  }
 ],
 "metadata": {
  "kernelspec": {
   "display_name": "Python 3",
   "language": "python",
   "name": "python3"
  },
  "language_info": {
   "codemirror_mode": {
    "name": "ipython",
    "version": 3
   },
   "file_extension": ".py",
   "mimetype": "text/x-python",
   "name": "python",
   "nbconvert_exporter": "python",
   "pygments_lexer": "ipython3",
   "version": "3.8.8"
  }
 },
 "nbformat": 4,
 "nbformat_minor": 4
}
