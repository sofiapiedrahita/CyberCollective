{
 "cells": [
  {
   "cell_type": "markdown",
   "metadata": {},
   "source": [
    "# Surveillance - Jai"
   ]
  },
  {
   "cell_type": "code",
   "execution_count": 3,
   "metadata": {},
   "outputs": [],
   "source": [
    "from IPython.display import Image\n",
    "import pandas as pd\n",
    "import numpy as np\n",
    "import matplotlib.pyplot as plt\n",
    "import warnings\n",
    "import seaborn as sns\n",
    "sns.set(rc={'figure.figsize':(6,8)}) \n",
    "\n",
    "import warnings\n",
    "warnings.simplefilter(\"ignore\")\n",
    "\n",
    "%matplotlib inline\n",
    "\n",
    "from sklearn.preprocessing import LabelEncoder \n",
    "\n",
    "from sklearn.linear_model import LinearRegression\n",
    "from sklearn.model_selection import train_test_split\n",
    "\n",
    "from sklearn import metrics\n",
    "\n",
    "from sklearn.model_selection import cross_val_score\n",
    "from sklearn.model_selection import cross_validate\n",
    "\n",
    "from sklearn.metrics import SCORERS\n",
    "import re\n",
    "\n",
    "import nltk \n",
    "from nltk.corpus import stopwords\n",
    "from nltk.stem import PorterStemmer\n",
    "from nltk.stem.wordnet import WordNetLemmatizer\n",
    "\n",
    "from sklearn.cluster import KMeans\n",
    "from sklearn.feature_extraction.text import CountVectorizer\n",
    "from sklearn.feature_extraction.text import TfidfVectorizer"
   ]
  },
  {
   "cell_type": "code",
   "execution_count": 4,
   "metadata": {},
   "outputs": [],
   "source": [
    "data = pd.read_csv('surveillance.csv')"
   ]
  },
  {
   "cell_type": "code",
   "execution_count": 5,
   "metadata": {},
   "outputs": [
    {
     "data": {
      "text/html": [
       "<div>\n",
       "<style scoped>\n",
       "    .dataframe tbody tr th:only-of-type {\n",
       "        vertical-align: middle;\n",
       "    }\n",
       "\n",
       "    .dataframe tbody tr th {\n",
       "        vertical-align: top;\n",
       "    }\n",
       "\n",
       "    .dataframe thead th {\n",
       "        text-align: right;\n",
       "    }\n",
       "</style>\n",
       "<table border=\"1\" class=\"dataframe\">\n",
       "  <thead>\n",
       "    <tr style=\"text-align: right;\">\n",
       "      <th></th>\n",
       "      <th>user_id</th>\n",
       "      <th>status_id</th>\n",
       "      <th>created_at</th>\n",
       "      <th>screen_name</th>\n",
       "      <th>text</th>\n",
       "      <th>source</th>\n",
       "      <th>display_text_width</th>\n",
       "      <th>reply_to_status_id</th>\n",
       "      <th>reply_to_user_id</th>\n",
       "      <th>reply_to_screen_name</th>\n",
       "      <th>...</th>\n",
       "      <th>statuses_count</th>\n",
       "      <th>favourites_count</th>\n",
       "      <th>account_created_at</th>\n",
       "      <th>verified</th>\n",
       "      <th>profile_url</th>\n",
       "      <th>profile_expanded_url</th>\n",
       "      <th>account_lang</th>\n",
       "      <th>profile_banner_url</th>\n",
       "      <th>profile_background_url</th>\n",
       "      <th>profile_image_url</th>\n",
       "    </tr>\n",
       "  </thead>\n",
       "  <tbody>\n",
       "    <tr>\n",
       "      <th>0</th>\n",
       "      <td>x1086388569294471172</td>\n",
       "      <td>x1406987671000563719</td>\n",
       "      <td>2021-06-21 14:49:35</td>\n",
       "      <td>hypercursor</td>\n",
       "      <td>@floridamancode @EcoTechBro It’s the successfu...</td>\n",
       "      <td>Twitter for iPhone</td>\n",
       "      <td>176</td>\n",
       "      <td>x1406984343604666368</td>\n",
       "      <td>x1266369503442554894</td>\n",
       "      <td>floridamancode</td>\n",
       "      <td>...</td>\n",
       "      <td>2216</td>\n",
       "      <td>3031</td>\n",
       "      <td>2019-01-18 22:23:13</td>\n",
       "      <td>False</td>\n",
       "      <td>NaN</td>\n",
       "      <td>NaN</td>\n",
       "      <td>NaN</td>\n",
       "      <td>https://pbs.twimg.com/profile_banners/10863885...</td>\n",
       "      <td>http://abs.twimg.com/images/themes/theme1/bg.png</td>\n",
       "      <td>http://pbs.twimg.com/profile_images/1375243020...</td>\n",
       "    </tr>\n",
       "    <tr>\n",
       "      <th>1</th>\n",
       "      <td>x1068338071702097920</td>\n",
       "      <td>x1406987628948324358</td>\n",
       "      <td>2021-06-21 14:49:25</td>\n",
       "      <td>waiwai__LA</td>\n",
       "      <td>@engineers_feed Check the evacuation route, wa...</td>\n",
       "      <td>Twitter Web App</td>\n",
       "      <td>144</td>\n",
       "      <td>x1406846131603185664</td>\n",
       "      <td>x3429950987</td>\n",
       "      <td>engineers_feed</td>\n",
       "      <td>...</td>\n",
       "      <td>9099</td>\n",
       "      <td>23234</td>\n",
       "      <td>2018-11-30 02:56:59</td>\n",
       "      <td>False</td>\n",
       "      <td>NaN</td>\n",
       "      <td>NaN</td>\n",
       "      <td>NaN</td>\n",
       "      <td>https://pbs.twimg.com/profile_banners/10683380...</td>\n",
       "      <td>http://abs.twimg.com/images/themes/theme1/bg.png</td>\n",
       "      <td>http://pbs.twimg.com/profile_images/1368471393...</td>\n",
       "    </tr>\n",
       "    <tr>\n",
       "      <th>2</th>\n",
       "      <td>x38639718</td>\n",
       "      <td>x1406987333057003525</td>\n",
       "      <td>2021-06-21 14:48:15</td>\n",
       "      <td>lise_latulippe</td>\n",
       "      <td>The Toronto Police Service’s forensic identifi...</td>\n",
       "      <td>Twitter Web App</td>\n",
       "      <td>237</td>\n",
       "      <td>NaN</td>\n",
       "      <td>NaN</td>\n",
       "      <td>NaN</td>\n",
       "      <td>...</td>\n",
       "      <td>327958</td>\n",
       "      <td>383</td>\n",
       "      <td>2009-05-08 10:12:38</td>\n",
       "      <td>False</td>\n",
       "      <td>http://t.co/TDlDxXDMe8</td>\n",
       "      <td>http://linkis.com/blogspot.com/Nhf1O</td>\n",
       "      <td>NaN</td>\n",
       "      <td>NaN</td>\n",
       "      <td>http://abs.twimg.com/images/themes/theme1/bg.png</td>\n",
       "      <td>http://pbs.twimg.com/profile_images/9780331515...</td>\n",
       "    </tr>\n",
       "    <tr>\n",
       "      <th>3</th>\n",
       "      <td>x38639718</td>\n",
       "      <td>x1405496093966798855</td>\n",
       "      <td>2021-06-17 12:02:36</td>\n",
       "      <td>lise_latulippe</td>\n",
       "      <td>Trump had launched so many attacks against the...</td>\n",
       "      <td>Twitter Web App</td>\n",
       "      <td>223</td>\n",
       "      <td>NaN</td>\n",
       "      <td>NaN</td>\n",
       "      <td>NaN</td>\n",
       "      <td>...</td>\n",
       "      <td>327958</td>\n",
       "      <td>383</td>\n",
       "      <td>2009-05-08 10:12:38</td>\n",
       "      <td>False</td>\n",
       "      <td>http://t.co/TDlDxXDMe8</td>\n",
       "      <td>http://linkis.com/blogspot.com/Nhf1O</td>\n",
       "      <td>NaN</td>\n",
       "      <td>NaN</td>\n",
       "      <td>http://abs.twimg.com/images/themes/theme1/bg.png</td>\n",
       "      <td>http://pbs.twimg.com/profile_images/9780331515...</td>\n",
       "    </tr>\n",
       "    <tr>\n",
       "      <th>4</th>\n",
       "      <td>x38639718</td>\n",
       "      <td>x1406934080529309697</td>\n",
       "      <td>2021-06-21 11:16:39</td>\n",
       "      <td>lise_latulippe</td>\n",
       "      <td>Police released surveillance video on Sunday o...</td>\n",
       "      <td>Twitter Web App</td>\n",
       "      <td>271</td>\n",
       "      <td>NaN</td>\n",
       "      <td>NaN</td>\n",
       "      <td>NaN</td>\n",
       "      <td>...</td>\n",
       "      <td>327958</td>\n",
       "      <td>383</td>\n",
       "      <td>2009-05-08 10:12:38</td>\n",
       "      <td>False</td>\n",
       "      <td>http://t.co/TDlDxXDMe8</td>\n",
       "      <td>http://linkis.com/blogspot.com/Nhf1O</td>\n",
       "      <td>NaN</td>\n",
       "      <td>NaN</td>\n",
       "      <td>http://abs.twimg.com/images/themes/theme1/bg.png</td>\n",
       "      <td>http://pbs.twimg.com/profile_images/9780331515...</td>\n",
       "    </tr>\n",
       "  </tbody>\n",
       "</table>\n",
       "<p>5 rows × 90 columns</p>\n",
       "</div>"
      ],
      "text/plain": [
       "                user_id             status_id           created_at  \\\n",
       "0  x1086388569294471172  x1406987671000563719  2021-06-21 14:49:35   \n",
       "1  x1068338071702097920  x1406987628948324358  2021-06-21 14:49:25   \n",
       "2             x38639718  x1406987333057003525  2021-06-21 14:48:15   \n",
       "3             x38639718  x1405496093966798855  2021-06-17 12:02:36   \n",
       "4             x38639718  x1406934080529309697  2021-06-21 11:16:39   \n",
       "\n",
       "      screen_name                                               text  \\\n",
       "0     hypercursor  @floridamancode @EcoTechBro It’s the successfu...   \n",
       "1      waiwai__LA  @engineers_feed Check the evacuation route, wa...   \n",
       "2  lise_latulippe  The Toronto Police Service’s forensic identifi...   \n",
       "3  lise_latulippe  Trump had launched so many attacks against the...   \n",
       "4  lise_latulippe  Police released surveillance video on Sunday o...   \n",
       "\n",
       "               source  display_text_width    reply_to_status_id  \\\n",
       "0  Twitter for iPhone                 176  x1406984343604666368   \n",
       "1     Twitter Web App                 144  x1406846131603185664   \n",
       "2     Twitter Web App                 237                   NaN   \n",
       "3     Twitter Web App                 223                   NaN   \n",
       "4     Twitter Web App                 271                   NaN   \n",
       "\n",
       "       reply_to_user_id reply_to_screen_name  ...  statuses_count  \\\n",
       "0  x1266369503442554894       floridamancode  ...            2216   \n",
       "1           x3429950987       engineers_feed  ...            9099   \n",
       "2                   NaN                  NaN  ...          327958   \n",
       "3                   NaN                  NaN  ...          327958   \n",
       "4                   NaN                  NaN  ...          327958   \n",
       "\n",
       "   favourites_count   account_created_at  verified             profile_url  \\\n",
       "0              3031  2019-01-18 22:23:13     False                     NaN   \n",
       "1             23234  2018-11-30 02:56:59     False                     NaN   \n",
       "2               383  2009-05-08 10:12:38     False  http://t.co/TDlDxXDMe8   \n",
       "3               383  2009-05-08 10:12:38     False  http://t.co/TDlDxXDMe8   \n",
       "4               383  2009-05-08 10:12:38     False  http://t.co/TDlDxXDMe8   \n",
       "\n",
       "                   profile_expanded_url account_lang  \\\n",
       "0                                   NaN          NaN   \n",
       "1                                   NaN          NaN   \n",
       "2  http://linkis.com/blogspot.com/Nhf1O          NaN   \n",
       "3  http://linkis.com/blogspot.com/Nhf1O          NaN   \n",
       "4  http://linkis.com/blogspot.com/Nhf1O          NaN   \n",
       "\n",
       "                                  profile_banner_url  \\\n",
       "0  https://pbs.twimg.com/profile_banners/10863885...   \n",
       "1  https://pbs.twimg.com/profile_banners/10683380...   \n",
       "2                                                NaN   \n",
       "3                                                NaN   \n",
       "4                                                NaN   \n",
       "\n",
       "                             profile_background_url  \\\n",
       "0  http://abs.twimg.com/images/themes/theme1/bg.png   \n",
       "1  http://abs.twimg.com/images/themes/theme1/bg.png   \n",
       "2  http://abs.twimg.com/images/themes/theme1/bg.png   \n",
       "3  http://abs.twimg.com/images/themes/theme1/bg.png   \n",
       "4  http://abs.twimg.com/images/themes/theme1/bg.png   \n",
       "\n",
       "                                   profile_image_url  \n",
       "0  http://pbs.twimg.com/profile_images/1375243020...  \n",
       "1  http://pbs.twimg.com/profile_images/1368471393...  \n",
       "2  http://pbs.twimg.com/profile_images/9780331515...  \n",
       "3  http://pbs.twimg.com/profile_images/9780331515...  \n",
       "4  http://pbs.twimg.com/profile_images/9780331515...  \n",
       "\n",
       "[5 rows x 90 columns]"
      ]
     },
     "execution_count": 5,
     "metadata": {},
     "output_type": "execute_result"
    }
   ],
   "source": [
    "data = data.drop_duplicates('text')\n",
    "data.head()"
   ]
  },
  {
   "cell_type": "code",
   "execution_count": 6,
   "metadata": {},
   "outputs": [
    {
     "data": {
      "text/plain": [
       "(17330, 90)"
      ]
     },
     "execution_count": 6,
     "metadata": {},
     "output_type": "execute_result"
    }
   ],
   "source": [
    "data.shape"
   ]
  },
  {
   "cell_type": "code",
   "execution_count": 7,
   "metadata": {},
   "outputs": [],
   "source": [
    "df = data[[\"text\", \"is_quote\", \"is_retweet\", \"retweet_count\", \"hashtags\", \"followers_count\"]]"
   ]
  },
  {
   "cell_type": "code",
   "execution_count": 8,
   "metadata": {},
   "outputs": [
    {
     "data": {
      "text/html": [
       "<div>\n",
       "<style scoped>\n",
       "    .dataframe tbody tr th:only-of-type {\n",
       "        vertical-align: middle;\n",
       "    }\n",
       "\n",
       "    .dataframe tbody tr th {\n",
       "        vertical-align: top;\n",
       "    }\n",
       "\n",
       "    .dataframe thead th {\n",
       "        text-align: right;\n",
       "    }\n",
       "</style>\n",
       "<table border=\"1\" class=\"dataframe\">\n",
       "  <thead>\n",
       "    <tr style=\"text-align: right;\">\n",
       "      <th></th>\n",
       "      <th>text</th>\n",
       "    </tr>\n",
       "  </thead>\n",
       "  <tbody>\n",
       "    <tr>\n",
       "      <th>0</th>\n",
       "      <td>@floridamancode @EcoTechBro It’s the successful part that’s the rub though. Have you really thought about what would be involved? Amassing that kind of  arsenal in a surveillance state? It’s pure fantasy.</td>\n",
       "    </tr>\n",
       "    <tr>\n",
       "      <th>1</th>\n",
       "      <td>@engineers_feed Check the evacuation route, watch out for outside surveillance, and lie down on the floor in preparation for avoiding snipers.\\r\\n&lt;U+0001F914&gt;Instructions? ..</td>\n",
       "    </tr>\n",
       "    <tr>\n",
       "      <th>2</th>\n",
       "      <td>The Toronto Police Service’s forensic identification unit is currently on scene and is working to collect and preserve evidence.\\r\\n Taverner said officers are also reviewing video surveillance footage from the area.\\r\\nhttps://t.co/v36ZsRgs6t</td>\n",
       "    </tr>\n",
       "    <tr>\n",
       "      <th>3</th>\n",
       "      <td>Trump had launched so many attacks against the FBI that they were obviously afraid of him, but there is a big leap from fear to actively instigating surveillance of a president’s political opponents.\\r\\nhttps://t.co/3zz3IHyhDI</td>\n",
       "    </tr>\n",
       "    <tr>\n",
       "      <th>4</th>\n",
       "      <td>Police released surveillance video on Sunday of a man wanted for questioning in the June 14 killing of Sean Robinson, 33, of Stamford.\\r\\nRobinson was on his way home from a party in East Williamsburg when he was shot, his mother told the Daily News.\\r\\nhttps://t.co/11OjzwqNQk</td>\n",
       "    </tr>\n",
       "  </tbody>\n",
       "</table>\n",
       "</div>"
      ],
      "text/plain": [
       "                                                                                                                                                                                                                                                                                    text\n",
       "0  @floridamancode @EcoTechBro It’s the successful part that’s the rub though. Have you really thought about what would be involved? Amassing that kind of  arsenal in a surveillance state? It’s pure fantasy.                                                                         \n",
       "1  @engineers_feed Check the evacuation route, watch out for outside surveillance, and lie down on the floor in preparation for avoiding snipers.\\r\\n<U+0001F914>Instructions? ..                                                                                                       \n",
       "2  The Toronto Police Service’s forensic identification unit is currently on scene and is working to collect and preserve evidence.\\r\\n Taverner said officers are also reviewing video surveillance footage from the area.\\r\\nhttps://t.co/v36ZsRgs6t                                  \n",
       "3  Trump had launched so many attacks against the FBI that they were obviously afraid of him, but there is a big leap from fear to actively instigating surveillance of a president’s political opponents.\\r\\nhttps://t.co/3zz3IHyhDI                                                   \n",
       "4  Police released surveillance video on Sunday of a man wanted for questioning in the June 14 killing of Sean Robinson, 33, of Stamford.\\r\\nRobinson was on his way home from a party in East Williamsburg when he was shot, his mother told the Daily News.\\r\\nhttps://t.co/11OjzwqNQk"
      ]
     },
     "execution_count": 8,
     "metadata": {},
     "output_type": "execute_result"
    }
   ],
   "source": [
    "text = df[[\"text\"]][:10000] \n",
    "pd.set_option('display.max_colwidth', -1)\n",
    "text.head()"
   ]
  },
  {
   "cell_type": "code",
   "execution_count": 9,
   "metadata": {},
   "outputs": [],
   "source": [
    "wnet = WordNetLemmatizer()\n",
    "port = PorterStemmer()"
   ]
  },
  {
   "cell_type": "code",
   "execution_count": 10,
   "metadata": {},
   "outputs": [],
   "source": [
    "def cleanTxt(txt):\n",
    "    txt = txt.lower()\n",
    "    txt = re.sub(r'RT[\\s]+', '', txt) #removing RT\n",
    "    txt = re.sub(r'[^\\w\\s]','', txt) #remove everything except words and space\n",
    "    txt = re.sub(r'_','', txt) #how to remove underscore as well\n",
    "    if 'https' in txt: # removing hyperlinks \n",
    "        pos = txt.find('https')\n",
    "        txt = txt[:pos]\n",
    "    return txt"
   ]
  },
  {
   "cell_type": "code",
   "execution_count": 11,
   "metadata": {},
   "outputs": [
    {
     "data": {
      "text/html": [
       "<div>\n",
       "<style scoped>\n",
       "    .dataframe tbody tr th:only-of-type {\n",
       "        vertical-align: middle;\n",
       "    }\n",
       "\n",
       "    .dataframe tbody tr th {\n",
       "        vertical-align: top;\n",
       "    }\n",
       "\n",
       "    .dataframe thead th {\n",
       "        text-align: right;\n",
       "    }\n",
       "</style>\n",
       "<table border=\"1\" class=\"dataframe\">\n",
       "  <thead>\n",
       "    <tr style=\"text-align: right;\">\n",
       "      <th></th>\n",
       "      <th>text</th>\n",
       "    </tr>\n",
       "  </thead>\n",
       "  <tbody>\n",
       "    <tr>\n",
       "      <th>0</th>\n",
       "      <td>floridamancode ecotechbro its the successful part thats the rub though have you really thought about what would be involved amassing that kind of  arsenal in a surveillance state its pure fantasy</td>\n",
       "    </tr>\n",
       "    <tr>\n",
       "      <th>1</th>\n",
       "      <td>engineersfeed check the evacuation route watch out for outside surveillance and lie down on the floor in preparation for avoiding snipers\\r\\nu0001f914instructions</td>\n",
       "    </tr>\n",
       "    <tr>\n",
       "      <th>2</th>\n",
       "      <td>the toronto police services forensic identification unit is currently on scene and is working to collect and preserve evidence\\r\\n taverner said officers are also reviewing video surveillance footage from the area\\r\\n</td>\n",
       "    </tr>\n",
       "    <tr>\n",
       "      <th>3</th>\n",
       "      <td>trump had launched so many attacks against the fbi that they were obviously afraid of him but there is a big leap from fear to actively instigating surveillance of a presidents political opponents\\r\\n</td>\n",
       "    </tr>\n",
       "    <tr>\n",
       "      <th>4</th>\n",
       "      <td>police released surveillance video on sunday of a man wanted for questioning in the june 14 killing of sean robinson 33 of stamford\\r\\nrobinson was on his way home from a party in east williamsburg when he was shot his mother told the daily news\\r\\n</td>\n",
       "    </tr>\n",
       "  </tbody>\n",
       "</table>\n",
       "</div>"
      ],
      "text/plain": [
       "                                                                                                                                                                                                                                                        text\n",
       "0  floridamancode ecotechbro its the successful part thats the rub though have you really thought about what would be involved amassing that kind of  arsenal in a surveillance state its pure fantasy                                                      \n",
       "1  engineersfeed check the evacuation route watch out for outside surveillance and lie down on the floor in preparation for avoiding snipers\\r\\nu0001f914instructions                                                                                       \n",
       "2  the toronto police services forensic identification unit is currently on scene and is working to collect and preserve evidence\\r\\n taverner said officers are also reviewing video surveillance footage from the area\\r\\n                                \n",
       "3  trump had launched so many attacks against the fbi that they were obviously afraid of him but there is a big leap from fear to actively instigating surveillance of a presidents political opponents\\r\\n                                                 \n",
       "4  police released surveillance video on sunday of a man wanted for questioning in the june 14 killing of sean robinson 33 of stamford\\r\\nrobinson was on his way home from a party in east williamsburg when he was shot his mother told the daily news\\r\\n"
      ]
     },
     "execution_count": 11,
     "metadata": {},
     "output_type": "execute_result"
    }
   ],
   "source": [
    "text['text'] = text['text'].apply(cleanTxt)\n",
    "text.head()"
   ]
  },
  {
   "cell_type": "code",
   "execution_count": 12,
   "metadata": {},
   "outputs": [],
   "source": [
    "def stopWords(txt): \n",
    "    txt_lst = txt.split(\" \")\n",
    "    txt_lst = [word for word in txt_lst if word not in stopwords.words('english')]\n",
    "    txt_lst = [wnet.lemmatize(word) for word in txt_lst]\n",
    "    txt_lst = [word for word in txt_lst if word != '']\n",
    "    txt_lst = [word for word in txt_lst if word != '\\r\\n\\r\\n'] # indicates space and indexing\n",
    "    txt_lst = [word for word in txt_lst if word != 'u0001f449'] # indicates back hand emoji pointing right\n",
    "    txt_lst = [word for word in txt_lst if word != 'surveillance']\n",
    "    txt_lst = [word for word in txt_lst if word != '\\r\\n']\n",
    "    txt_lst = [word for word in txt_lst if word != 'u']\n",
    "    return \" \".join(txt_lst)"
   ]
  },
  {
   "cell_type": "code",
   "execution_count": 13,
   "metadata": {},
   "outputs": [
    {
     "data": {
      "text/html": [
       "<div>\n",
       "<style scoped>\n",
       "    .dataframe tbody tr th:only-of-type {\n",
       "        vertical-align: middle;\n",
       "    }\n",
       "\n",
       "    .dataframe tbody tr th {\n",
       "        vertical-align: top;\n",
       "    }\n",
       "\n",
       "    .dataframe thead th {\n",
       "        text-align: right;\n",
       "    }\n",
       "</style>\n",
       "<table border=\"1\" class=\"dataframe\">\n",
       "  <thead>\n",
       "    <tr style=\"text-align: right;\">\n",
       "      <th></th>\n",
       "      <th>text</th>\n",
       "    </tr>\n",
       "  </thead>\n",
       "  <tbody>\n",
       "    <tr>\n",
       "      <th>0</th>\n",
       "      <td>floridamancode ecotechbro successful part thats rub though really thought would involved amassing kind arsenal state pure fantasy</td>\n",
       "    </tr>\n",
       "    <tr>\n",
       "      <th>1</th>\n",
       "      <td>engineersfeed check evacuation route watch outside lie floor preparation avoiding snipers\\r\\nu0001f914instructions</td>\n",
       "    </tr>\n",
       "    <tr>\n",
       "      <th>2</th>\n",
       "      <td>toronto police service forensic identification unit currently scene working collect preserve evidence\\r\\n taverner said officer also reviewing video footage area\\r\\n</td>\n",
       "    </tr>\n",
       "    <tr>\n",
       "      <th>3</th>\n",
       "      <td>trump launched many attack fbi obviously afraid big leap fear actively instigating president political opponents\\r\\n</td>\n",
       "    </tr>\n",
       "    <tr>\n",
       "      <th>4</th>\n",
       "      <td>police released video sunday man wanted questioning june 14 killing sean robinson 33 stamford\\r\\nrobinson way home party east williamsburg shot mother told daily news\\r\\n</td>\n",
       "    </tr>\n",
       "  </tbody>\n",
       "</table>\n",
       "</div>"
      ],
      "text/plain": [
       "                                                                                                                                                                         text\n",
       "0  floridamancode ecotechbro successful part thats rub though really thought would involved amassing kind arsenal state pure fantasy                                         \n",
       "1  engineersfeed check evacuation route watch outside lie floor preparation avoiding snipers\\r\\nu0001f914instructions                                                        \n",
       "2  toronto police service forensic identification unit currently scene working collect preserve evidence\\r\\n taverner said officer also reviewing video footage area\\r\\n     \n",
       "3  trump launched many attack fbi obviously afraid big leap fear actively instigating president political opponents\\r\\n                                                      \n",
       "4  police released video sunday man wanted questioning june 14 killing sean robinson 33 stamford\\r\\nrobinson way home party east williamsburg shot mother told daily news\\r\\n"
      ]
     },
     "execution_count": 13,
     "metadata": {},
     "output_type": "execute_result"
    }
   ],
   "source": [
    "text['text'] = text['text'].apply(stopWords)\n",
    "text.head()"
   ]
  },
  {
   "cell_type": "code",
   "execution_count": 14,
   "metadata": {},
   "outputs": [
    {
     "data": {
      "text/plain": [
       "['floridamancode ecotechbro successful part thats rub though really thought would involved amassing kind arsenal state pure fantasy',\n",
       " 'engineersfeed check evacuation route watch outside lie floor preparation avoiding snipers\\r\\nu0001f914instructions',\n",
       " 'toronto police service forensic identification unit currently scene working collect preserve evidence\\r\\n taverner said officer also reviewing video footage area\\r\\n',\n",
       " 'trump launched many attack fbi obviously afraid big leap fear actively instigating president political opponents\\r\\n',\n",
       " 'police released video sunday man wanted questioning june 14 killing sean robinson 33 stamford\\r\\nrobinson way home party east williamsburg shot mother told daily news\\r\\n']"
      ]
     },
     "execution_count": 14,
     "metadata": {},
     "output_type": "execute_result"
    }
   ],
   "source": [
    "text_lst = []\n",
    "for row in text['text']:\n",
    "    text_lst.append(row)\n",
    "\n",
    "text_lst[:5]"
   ]
  },
  {
   "cell_type": "code",
   "execution_count": 15,
   "metadata": {},
   "outputs": [],
   "source": [
    "tv = TfidfVectorizer(\n",
    "binary = True, norm = None,\n",
    "use_idf = False, smooth_idf = False,\n",
    "lowercase = True, stop_words = None,\n",
    "min_df = 1, max_df = 1.0, max_features = None, ngram_range = (1,1))"
   ]
  },
  {
   "cell_type": "code",
   "execution_count": 16,
   "metadata": {},
   "outputs": [
    {
     "data": {
      "text/html": [
       "<div>\n",
       "<style scoped>\n",
       "    .dataframe tbody tr th:only-of-type {\n",
       "        vertical-align: middle;\n",
       "    }\n",
       "\n",
       "    .dataframe tbody tr th {\n",
       "        vertical-align: top;\n",
       "    }\n",
       "\n",
       "    .dataframe thead th {\n",
       "        text-align: right;\n",
       "    }\n",
       "</style>\n",
       "<table border=\"1\" class=\"dataframe\">\n",
       "  <thead>\n",
       "    <tr style=\"text-align: right;\">\n",
       "      <th></th>\n",
       "      <th>000</th>\n",
       "      <th>0003</th>\n",
       "      <th>006</th>\n",
       "      <th>00lshr</th>\n",
       "      <th>00pti1</th>\n",
       "      <th>01</th>\n",
       "      <th>0106</th>\n",
       "      <th>011</th>\n",
       "      <th>01300230</th>\n",
       "      <th>01484</th>\n",
       "      <th>...</th>\n",
       "      <th>zuckerbergs</th>\n",
       "      <th>zuckerturd</th>\n",
       "      <th>zulmacucunuba</th>\n",
       "      <th>zuzusspetalss</th>\n",
       "      <th>zygmunt</th>\n",
       "      <th>zzhou61</th>\n",
       "      <th>zzst</th>\n",
       "      <th>²in</th>\n",
       "      <th>überdidi</th>\n",
       "      <th>žižek</th>\n",
       "    </tr>\n",
       "  </thead>\n",
       "  <tbody>\n",
       "    <tr>\n",
       "      <th>0</th>\n",
       "      <td>0.0</td>\n",
       "      <td>0.0</td>\n",
       "      <td>0.0</td>\n",
       "      <td>0.0</td>\n",
       "      <td>0.0</td>\n",
       "      <td>0.0</td>\n",
       "      <td>0.0</td>\n",
       "      <td>0.0</td>\n",
       "      <td>0.0</td>\n",
       "      <td>0.0</td>\n",
       "      <td>...</td>\n",
       "      <td>0.0</td>\n",
       "      <td>0.0</td>\n",
       "      <td>0.0</td>\n",
       "      <td>0.0</td>\n",
       "      <td>0.0</td>\n",
       "      <td>0.0</td>\n",
       "      <td>0.0</td>\n",
       "      <td>0.0</td>\n",
       "      <td>0.0</td>\n",
       "      <td>0.0</td>\n",
       "    </tr>\n",
       "    <tr>\n",
       "      <th>1</th>\n",
       "      <td>0.0</td>\n",
       "      <td>0.0</td>\n",
       "      <td>0.0</td>\n",
       "      <td>0.0</td>\n",
       "      <td>0.0</td>\n",
       "      <td>0.0</td>\n",
       "      <td>0.0</td>\n",
       "      <td>0.0</td>\n",
       "      <td>0.0</td>\n",
       "      <td>0.0</td>\n",
       "      <td>...</td>\n",
       "      <td>0.0</td>\n",
       "      <td>0.0</td>\n",
       "      <td>0.0</td>\n",
       "      <td>0.0</td>\n",
       "      <td>0.0</td>\n",
       "      <td>0.0</td>\n",
       "      <td>0.0</td>\n",
       "      <td>0.0</td>\n",
       "      <td>0.0</td>\n",
       "      <td>0.0</td>\n",
       "    </tr>\n",
       "    <tr>\n",
       "      <th>2</th>\n",
       "      <td>0.0</td>\n",
       "      <td>0.0</td>\n",
       "      <td>0.0</td>\n",
       "      <td>0.0</td>\n",
       "      <td>0.0</td>\n",
       "      <td>0.0</td>\n",
       "      <td>0.0</td>\n",
       "      <td>0.0</td>\n",
       "      <td>0.0</td>\n",
       "      <td>0.0</td>\n",
       "      <td>...</td>\n",
       "      <td>0.0</td>\n",
       "      <td>0.0</td>\n",
       "      <td>0.0</td>\n",
       "      <td>0.0</td>\n",
       "      <td>0.0</td>\n",
       "      <td>0.0</td>\n",
       "      <td>0.0</td>\n",
       "      <td>0.0</td>\n",
       "      <td>0.0</td>\n",
       "      <td>0.0</td>\n",
       "    </tr>\n",
       "    <tr>\n",
       "      <th>3</th>\n",
       "      <td>0.0</td>\n",
       "      <td>0.0</td>\n",
       "      <td>0.0</td>\n",
       "      <td>0.0</td>\n",
       "      <td>0.0</td>\n",
       "      <td>0.0</td>\n",
       "      <td>0.0</td>\n",
       "      <td>0.0</td>\n",
       "      <td>0.0</td>\n",
       "      <td>0.0</td>\n",
       "      <td>...</td>\n",
       "      <td>0.0</td>\n",
       "      <td>0.0</td>\n",
       "      <td>0.0</td>\n",
       "      <td>0.0</td>\n",
       "      <td>0.0</td>\n",
       "      <td>0.0</td>\n",
       "      <td>0.0</td>\n",
       "      <td>0.0</td>\n",
       "      <td>0.0</td>\n",
       "      <td>0.0</td>\n",
       "    </tr>\n",
       "    <tr>\n",
       "      <th>4</th>\n",
       "      <td>0.0</td>\n",
       "      <td>0.0</td>\n",
       "      <td>0.0</td>\n",
       "      <td>0.0</td>\n",
       "      <td>0.0</td>\n",
       "      <td>0.0</td>\n",
       "      <td>0.0</td>\n",
       "      <td>0.0</td>\n",
       "      <td>0.0</td>\n",
       "      <td>0.0</td>\n",
       "      <td>...</td>\n",
       "      <td>0.0</td>\n",
       "      <td>0.0</td>\n",
       "      <td>0.0</td>\n",
       "      <td>0.0</td>\n",
       "      <td>0.0</td>\n",
       "      <td>0.0</td>\n",
       "      <td>0.0</td>\n",
       "      <td>0.0</td>\n",
       "      <td>0.0</td>\n",
       "      <td>0.0</td>\n",
       "    </tr>\n",
       "  </tbody>\n",
       "</table>\n",
       "<p>5 rows × 27679 columns</p>\n",
       "</div>"
      ],
      "text/plain": [
       "   000  0003  006  00lshr  00pti1   01  0106  011  01300230  01484  ...  \\\n",
       "0  0.0  0.0   0.0  0.0     0.0     0.0  0.0   0.0  0.0       0.0    ...   \n",
       "1  0.0  0.0   0.0  0.0     0.0     0.0  0.0   0.0  0.0       0.0    ...   \n",
       "2  0.0  0.0   0.0  0.0     0.0     0.0  0.0   0.0  0.0       0.0    ...   \n",
       "3  0.0  0.0   0.0  0.0     0.0     0.0  0.0   0.0  0.0       0.0    ...   \n",
       "4  0.0  0.0   0.0  0.0     0.0     0.0  0.0   0.0  0.0       0.0    ...   \n",
       "\n",
       "   zuckerbergs  zuckerturd  zulmacucunuba  zuzusspetalss  zygmunt  zzhou61  \\\n",
       "0  0.0          0.0         0.0            0.0            0.0      0.0       \n",
       "1  0.0          0.0         0.0            0.0            0.0      0.0       \n",
       "2  0.0          0.0         0.0            0.0            0.0      0.0       \n",
       "3  0.0          0.0         0.0            0.0            0.0      0.0       \n",
       "4  0.0          0.0         0.0            0.0            0.0      0.0       \n",
       "\n",
       "   zzst  ²in  überdidi  žižek  \n",
       "0  0.0   0.0  0.0       0.0    \n",
       "1  0.0   0.0  0.0       0.0    \n",
       "2  0.0   0.0  0.0       0.0    \n",
       "3  0.0   0.0  0.0       0.0    \n",
       "4  0.0   0.0  0.0       0.0    \n",
       "\n",
       "[5 rows x 27679 columns]"
      ]
     },
     "execution_count": 16,
     "metadata": {},
     "output_type": "execute_result"
    }
   ],
   "source": [
    "text_vec = pd.DataFrame(tv.fit_transform(text_lst).toarray(), columns = tv.get_feature_names())\n",
    "text_vec.head()"
   ]
  },
  {
   "cell_type": "code",
   "execution_count": 17,
   "metadata": {},
   "outputs": [
    {
     "data": {
      "text/plain": [
       "(10000, 27679)"
      ]
     },
     "execution_count": 17,
     "metadata": {},
     "output_type": "execute_result"
    }
   ],
   "source": [
    "text_vec.shape"
   ]
  },
  {
   "cell_type": "code",
   "execution_count": 18,
   "metadata": {},
   "outputs": [
    {
     "data": {
      "text/plain": [
       "['floridamancode', 'ecotechbro', 'successful', 'part', 'thats']"
      ]
     },
     "execution_count": 18,
     "metadata": {},
     "output_type": "execute_result"
    }
   ],
   "source": [
    "cs_words = []\n",
    "\n",
    "for row in text['text']:\n",
    "    for word in str(row).split(\" \"):\n",
    "        cs_words.append(word)\n",
    "        \n",
    "cs_words[:5]"
   ]
  },
  {
   "cell_type": "code",
   "execution_count": 19,
   "metadata": {},
   "outputs": [
    {
     "data": {
      "text/plain": [
       "160187"
      ]
     },
     "execution_count": 19,
     "metadata": {},
     "output_type": "execute_result"
    }
   ],
   "source": [
    "len(cs_words)"
   ]
  },
  {
   "cell_type": "code",
   "execution_count": 20,
   "metadata": {},
   "outputs": [
    {
     "data": {
      "text/plain": [
       "FreqDist({'camera': 1147, 'amp': 1097, 'state': 753, 'video': 736, 'system': 687, 'security': 671, 'people': 645, 'data': 628, 'fbi': 570, 'police': 558, ...})"
      ]
     },
     "execution_count": 20,
     "metadata": {},
     "output_type": "execute_result"
    }
   ],
   "source": [
    "from nltk.probability import FreqDist\n",
    "fdist = FreqDist()\n",
    "for word in cs_words:\n",
    "    fdist[word]+=1\n",
    "fdist"
   ]
  },
  {
   "cell_type": "code",
   "execution_count": 21,
   "metadata": {},
   "outputs": [],
   "source": [
    "freq_data = pd.DataFrame.from_dict(fdist.most_common(20))"
   ]
  },
  {
   "cell_type": "code",
   "execution_count": 22,
   "metadata": {},
   "outputs": [
    {
     "data": {
      "image/png": "[encoded data removed]",
      "text/plain": [
       "<Figure size 432x288 with 1 Axes>"
      ]
     },
     "metadata": {
      "needs_background": "light"
     },
     "output_type": "display_data"
    }
   ],
   "source": [
    "sns.barplot(data = freq_data, x = 1, y = 0);"
   ]
  },
  {
   "cell_type": "code",
   "execution_count": 23,
   "metadata": {},
   "outputs": [
    {
     "data": {
      "text/plain": [
       "['camera',\n",
       " 'amp',\n",
       " 'state',\n",
       " 'video',\n",
       " 'system',\n",
       " 'security',\n",
       " 'people',\n",
       " 'data',\n",
       " 'fbi',\n",
       " 'police',\n",
       " 'like',\n",
       " 'new',\n",
       " 'one',\n",
       " 'public',\n",
       " 'american',\n",
       " 'technology',\n",
       " 'right',\n",
       " 'government',\n",
       " 'nsa',\n",
       " 'know']"
      ]
     },
     "execution_count": 23,
     "metadata": {},
     "output_type": "execute_result"
    }
   ],
   "source": [
    "most_common = []\n",
    "\n",
    "for key in fdist.most_common(20):\n",
    "    most_common.append(key[0])\n",
    "    \n",
    "most_common"
   ]
  },
  {
   "cell_type": "markdown",
   "metadata": {},
   "source": [
    "# KMeans Clustering "
   ]
  },
  {
   "cell_type": "code",
   "execution_count": 24,
   "metadata": {},
   "outputs": [],
   "source": [
    "def evaluate_k_kmeans_inertia(k):\n",
    "    print(f\"running Kmeans with k={k}\")\n",
    "    estimator_kmeans = KMeans(random_state=42, n_clusters=k)\n",
    "    estimator_kmeans.fit(text_vec)\n",
    "    return estimator_kmeans.inertia_"
   ]
  },
  {
   "cell_type": "code",
   "execution_count": null,
   "metadata": {},
   "outputs": [
    {
     "name": "stdout",
     "output_type": "stream",
     "text": [
      "running Kmeans with k=1\n",
      "running Kmeans with k=2\n",
      "running Kmeans with k=3\n",
      "running Kmeans with k=4\n",
      "running Kmeans with k=5\n"
     ]
    }
   ],
   "source": [
    "%%time \n",
    "range_k = [i for i in range(1, 9)]\n",
    "results_k = {}\n",
    "for k in range_k:\n",
    "    results_k[k] = evaluate_k_kmeans_inertia(k)"
   ]
  },
  {
   "cell_type": "code",
   "execution_count": null,
   "metadata": {},
   "outputs": [],
   "source": [
    "results_k"
   ]
  },
  {
   "cell_type": "code",
   "execution_count": null,
   "metadata": {},
   "outputs": [],
   "source": [
    "fig, ax = plt.subplots(figsize=(8,6))\n",
    "ax = sns.lineplot(\n",
    "    [c[0] for c in results_k.items()],\n",
    "    [c[1] for c in results_k.items()], label=\"inertia\", color=\"red\")\n",
    "ax.set_xlabel(\"K\")\n",
    "ax.set_ylabel(\"inertia\")\n",
    "ax.set_title(\"Inertia by K\")\n",
    "ax.legend();"
   ]
  },
  {
   "cell_type": "code",
   "execution_count": null,
   "metadata": {},
   "outputs": [],
   "source": [
    "estimator_kmeans = KMeans(random_state=42, n_clusters=5) \n",
    "estimator_kmeans.fit(text_vec)"
   ]
  },
  {
   "cell_type": "code",
   "execution_count": null,
   "metadata": {},
   "outputs": [],
   "source": [
    "text_vec[\"cluster_id\"] = estimator_kmeans.labels_\n",
    "text_vec.head()"
   ]
  },
  {
   "cell_type": "code",
   "execution_count": null,
   "metadata": {},
   "outputs": [],
   "source": [
    "text_clusters = text_vec.groupby('cluster_id').sum()\n",
    "text_clusters.head()"
   ]
  },
  {
   "cell_type": "code",
   "execution_count": null,
   "metadata": {},
   "outputs": [],
   "source": [
    "text_clusters_20 = text_clusters[['camera',\n",
    " 'amp',\n",
    " 'state',\n",
    " 'video',\n",
    " 'system',\n",
    " 'security',\n",
    " 'people',\n",
    " 'fbi',\n",
    " 'police',\n",
    " 'like',\n",
    " 'new',\n",
    " 'one',\n",
    " 'public',\n",
    " 'american',\n",
    " 'technology',\n",
    " 'right',\n",
    " 'government',\n",
    " 'nsa',\n",
    " 'know',\n",
    " 'need']\n",
    "]\n",
    "\n",
    "text_clusters_20.head()"
   ]
  },
  {
   "cell_type": "code",
   "execution_count": null,
   "metadata": {},
   "outputs": [],
   "source": [
    "fig, ax = plt.subplots(figsize=(25,15))\n",
    "sns.heatmap(text_clusters_20.transpose(), annot=False)\n",
    "plt.title(\"Cluster Analysis based on Twitter Posts using the Top 20 Words\", size = 30);"
   ]
  },
  {
   "cell_type": "code",
   "execution_count": null,
   "metadata": {},
   "outputs": [],
   "source": [
    "!pip install vaderSentiment"
   ]
  },
  {
   "cell_type": "code",
   "execution_count": null,
   "metadata": {},
   "outputs": [],
   "source": [
    "from vaderSentiment.vaderSentiment import SentimentIntensityAnalyzer\n",
    "sid_obj = SentimentIntensityAnalyzer()\n",
    "text['scores'] = text['text'].apply(lambda review: sid_obj.polarity_scores(review))"
   ]
  },
  {
   "cell_type": "code",
   "execution_count": null,
   "metadata": {},
   "outputs": [],
   "source": [
    "text.head()"
   ]
  },
  {
   "cell_type": "code",
   "execution_count": null,
   "metadata": {},
   "outputs": [],
   "source": [
    "text['compound']  = text['scores'].apply(lambda score_dict: score_dict['compound'])\n",
    "text.head()"
   ]
  },
  {
   "cell_type": "code",
   "execution_count": null,
   "metadata": {},
   "outputs": [],
   "source": [
    "text['comp_score'] = text['compound'].apply(lambda c: 'pos' if c >=0.05 else ('neg' if c <= -0.05 else 'neutral'))\n",
    "\n",
    "text.head()"
   ]
  },
  {
   "cell_type": "code",
   "execution_count": null,
   "metadata": {},
   "outputs": [],
   "source": [
    "comp_score_counts = text.comp_score.value_counts()"
   ]
  },
  {
   "cell_type": "code",
   "execution_count": null,
   "metadata": {},
   "outputs": [],
   "source": [
    "comp_score_counts.plot.pie(autopct=\"%.1f%%\");"
   ]
  },
  {
   "cell_type": "code",
   "execution_count": null,
   "metadata": {},
   "outputs": [],
   "source": [
    "from os import path\n",
    "from PIL import Image\n",
    "from wordcloud import WordCloud, STOPWORDS, ImageColorGenerator\n",
    "\n",
    "import matplotlib.pyplot as plt\n",
    "%matplotlib inline"
   ]
  },
  {
   "cell_type": "code",
   "execution_count": null,
   "metadata": {},
   "outputs": [],
   "source": [
    "stopwords = set(STOPWORDS)\n",
    "new_stopwords=stopwords.union(text['text'])\n",
    "wc = WordCloud(\n",
    "         background_color=\"white\", max_words=2000,\n",
    "         min_font_size =15, max_font_size=40, relative_scaling =\n",
    "         0.5, stopwords=new_stopwords,normalize_plurals= True)\n",
    "import re\n",
    "textonly = re.sub(\"\", \"\",str(text['text']))\n",
    "wc.generate(textonly)\n",
    "plt.figure(figsize=(25,25))\n",
    "plt.imshow(wc, interpolation=\"bilinear\")\n",
    "plt.axis(\"off\")\n",
    "plt.show()\n"
   ]
  },
  {
   "cell_type": "code",
   "execution_count": null,
   "metadata": {},
   "outputs": [],
   "source": []
  }
 ],
 "metadata": {
  "kernelspec": {
   "display_name": "Python 3",
   "language": "python",
   "name": "python3"
  },
  "language_info": {
   "codemirror_mode": {
    "name": "ipython",
    "version": 3
   },
   "file_extension": ".py",
   "mimetype": "text/x-python",
   "name": "python",
   "nbconvert_exporter": "python",
   "pygments_lexer": "ipython3",
   "version": "3.8.8"
  }
 },
 "nbformat": 4,
 "nbformat_minor": 4
}
