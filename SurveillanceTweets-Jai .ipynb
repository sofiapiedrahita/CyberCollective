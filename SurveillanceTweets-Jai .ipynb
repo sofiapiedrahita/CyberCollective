{
 "cells": [
  {
   "cell_type": "markdown",
   "metadata": {},
   "source": [
    "# Surveillance - Jai"
   ]
  },
  {
   "cell_type": "code",
   "execution_count": 92,
   "metadata": {},
   "outputs": [],
   "source": [
    "from IPython.display import Image\n",
    "import pandas as pd\n",
    "import numpy as np\n",
    "import matplotlib.pyplot as plt\n",
    "import warnings\n",
    "import seaborn as sns\n",
    "sns.set(rc={'figure.figsize':(6,8)}) \n",
    "\n",
    "import warnings\n",
    "warnings.simplefilter(\"ignore\")\n",
    "\n",
    "%matplotlib inline\n",
    "\n",
    "from sklearn.preprocessing import LabelEncoder \n",
    "\n",
    "from sklearn.linear_model import LinearRegression\n",
    "from sklearn.model_selection import train_test_split\n",
    "\n",
    "from sklearn import metrics\n",
    "\n",
    "from sklearn.model_selection import cross_val_score\n",
    "from sklearn.model_selection import cross_validate\n",
    "\n",
    "from sklearn.metrics import SCORERS\n",
    "import re\n",
    "\n",
    "import nltk \n",
    "from nltk.corpus import stopwords\n",
    "from nltk.stem import PorterStemmer\n",
    "from nltk.stem.wordnet import WordNetLemmatizer\n",
    "\n",
    "from sklearn.cluster import KMeans\n",
    "from sklearn.feature_extraction.text import CountVectorizer\n",
    "from sklearn.feature_extraction.text import TfidfVectorizer"
   ]
  },
  {
   "cell_type": "code",
   "execution_count": 93,
   "metadata": {},
   "outputs": [],
   "source": [
    "data = pd.read_csv('surveillance.csv')"
   ]
  },
  {
   "cell_type": "code",
   "execution_count": 94,
   "metadata": {},
   "outputs": [
    {
     "data": {
      "text/html": [
       "<div>\n",
       "<style scoped>\n",
       "    .dataframe tbody tr th:only-of-type {\n",
       "        vertical-align: middle;\n",
       "    }\n",
       "\n",
       "    .dataframe tbody tr th {\n",
       "        vertical-align: top;\n",
       "    }\n",
       "\n",
       "    .dataframe thead th {\n",
       "        text-align: right;\n",
       "    }\n",
       "</style>\n",
       "<table border=\"1\" class=\"dataframe\">\n",
       "  <thead>\n",
       "    <tr style=\"text-align: right;\">\n",
       "      <th></th>\n",
       "      <th>user_id</th>\n",
       "      <th>status_id</th>\n",
       "      <th>created_at</th>\n",
       "      <th>screen_name</th>\n",
       "      <th>text</th>\n",
       "      <th>source</th>\n",
       "      <th>display_text_width</th>\n",
       "      <th>reply_to_status_id</th>\n",
       "      <th>reply_to_user_id</th>\n",
       "      <th>reply_to_screen_name</th>\n",
       "      <th>...</th>\n",
       "      <th>statuses_count</th>\n",
       "      <th>favourites_count</th>\n",
       "      <th>account_created_at</th>\n",
       "      <th>verified</th>\n",
       "      <th>profile_url</th>\n",
       "      <th>profile_expanded_url</th>\n",
       "      <th>account_lang</th>\n",
       "      <th>profile_banner_url</th>\n",
       "      <th>profile_background_url</th>\n",
       "      <th>profile_image_url</th>\n",
       "    </tr>\n",
       "  </thead>\n",
       "  <tbody>\n",
       "    <tr>\n",
       "      <th>0</th>\n",
       "      <td>x1086388569294471172</td>\n",
       "      <td>x1406987671000563719</td>\n",
       "      <td>2021-06-21 14:49:35</td>\n",
       "      <td>hypercursor</td>\n",
       "      <td>@floridamancode @EcoTechBro It’s the successful part that’s the rub though. Have you really thought about what would be involved? Amassing that kind of  arsenal in a surveillance state? It’s pure fantasy.</td>\n",
       "      <td>Twitter for iPhone</td>\n",
       "      <td>176</td>\n",
       "      <td>x1406984343604666368</td>\n",
       "      <td>x1266369503442554894</td>\n",
       "      <td>floridamancode</td>\n",
       "      <td>...</td>\n",
       "      <td>2216</td>\n",
       "      <td>3031</td>\n",
       "      <td>2019-01-18 22:23:13</td>\n",
       "      <td>False</td>\n",
       "      <td>NaN</td>\n",
       "      <td>NaN</td>\n",
       "      <td>NaN</td>\n",
       "      <td>https://pbs.twimg.com/profile_banners/1086388569294471172/1624221819</td>\n",
       "      <td>http://abs.twimg.com/images/themes/theme1/bg.png</td>\n",
       "      <td>http://pbs.twimg.com/profile_images/1375243020682006529/N7i7tJZF_normal.jpg</td>\n",
       "    </tr>\n",
       "    <tr>\n",
       "      <th>1</th>\n",
       "      <td>x1068338071702097920</td>\n",
       "      <td>x1406987628948324358</td>\n",
       "      <td>2021-06-21 14:49:25</td>\n",
       "      <td>waiwai__LA</td>\n",
       "      <td>@engineers_feed Check the evacuation route, watch out for outside surveillance, and lie down on the floor in preparation for avoiding snipers.\\r\\n&lt;U+0001F914&gt;Instructions? ..</td>\n",
       "      <td>Twitter Web App</td>\n",
       "      <td>144</td>\n",
       "      <td>x1406846131603185664</td>\n",
       "      <td>x3429950987</td>\n",
       "      <td>engineers_feed</td>\n",
       "      <td>...</td>\n",
       "      <td>9099</td>\n",
       "      <td>23234</td>\n",
       "      <td>2018-11-30 02:56:59</td>\n",
       "      <td>False</td>\n",
       "      <td>NaN</td>\n",
       "      <td>NaN</td>\n",
       "      <td>NaN</td>\n",
       "      <td>https://pbs.twimg.com/profile_banners/1068338071702097920/1578451505</td>\n",
       "      <td>http://abs.twimg.com/images/themes/theme1/bg.png</td>\n",
       "      <td>http://pbs.twimg.com/profile_images/1368471393977786369/n6xgdRBa_normal.jpg</td>\n",
       "    </tr>\n",
       "    <tr>\n",
       "      <th>2</th>\n",
       "      <td>x38639718</td>\n",
       "      <td>x1406987333057003525</td>\n",
       "      <td>2021-06-21 14:48:15</td>\n",
       "      <td>lise_latulippe</td>\n",
       "      <td>The Toronto Police Service’s forensic identification unit is currently on scene and is working to collect and preserve evidence.\\r\\n Taverner said officers are also reviewing video surveillance footage from the area.\\r\\nhttps://t.co/v36ZsRgs6t</td>\n",
       "      <td>Twitter Web App</td>\n",
       "      <td>237</td>\n",
       "      <td>NaN</td>\n",
       "      <td>NaN</td>\n",
       "      <td>NaN</td>\n",
       "      <td>...</td>\n",
       "      <td>327958</td>\n",
       "      <td>383</td>\n",
       "      <td>2009-05-08 10:12:38</td>\n",
       "      <td>False</td>\n",
       "      <td>http://t.co/TDlDxXDMe8</td>\n",
       "      <td>http://linkis.com/blogspot.com/Nhf1O</td>\n",
       "      <td>NaN</td>\n",
       "      <td>NaN</td>\n",
       "      <td>http://abs.twimg.com/images/themes/theme1/bg.png</td>\n",
       "      <td>http://pbs.twimg.com/profile_images/978033151586045952/zewK6PID_normal.jpg</td>\n",
       "    </tr>\n",
       "    <tr>\n",
       "      <th>3</th>\n",
       "      <td>x38639718</td>\n",
       "      <td>x1405496093966798855</td>\n",
       "      <td>2021-06-17 12:02:36</td>\n",
       "      <td>lise_latulippe</td>\n",
       "      <td>Trump had launched so many attacks against the FBI that they were obviously afraid of him, but there is a big leap from fear to actively instigating surveillance of a president’s political opponents.\\r\\nhttps://t.co/3zz3IHyhDI</td>\n",
       "      <td>Twitter Web App</td>\n",
       "      <td>223</td>\n",
       "      <td>NaN</td>\n",
       "      <td>NaN</td>\n",
       "      <td>NaN</td>\n",
       "      <td>...</td>\n",
       "      <td>327958</td>\n",
       "      <td>383</td>\n",
       "      <td>2009-05-08 10:12:38</td>\n",
       "      <td>False</td>\n",
       "      <td>http://t.co/TDlDxXDMe8</td>\n",
       "      <td>http://linkis.com/blogspot.com/Nhf1O</td>\n",
       "      <td>NaN</td>\n",
       "      <td>NaN</td>\n",
       "      <td>http://abs.twimg.com/images/themes/theme1/bg.png</td>\n",
       "      <td>http://pbs.twimg.com/profile_images/978033151586045952/zewK6PID_normal.jpg</td>\n",
       "    </tr>\n",
       "    <tr>\n",
       "      <th>4</th>\n",
       "      <td>x38639718</td>\n",
       "      <td>x1406934080529309697</td>\n",
       "      <td>2021-06-21 11:16:39</td>\n",
       "      <td>lise_latulippe</td>\n",
       "      <td>Police released surveillance video on Sunday of a man wanted for questioning in the June 14 killing of Sean Robinson, 33, of Stamford.\\r\\nRobinson was on his way home from a party in East Williamsburg when he was shot, his mother told the Daily News.\\r\\nhttps://t.co/11OjzwqNQk</td>\n",
       "      <td>Twitter Web App</td>\n",
       "      <td>271</td>\n",
       "      <td>NaN</td>\n",
       "      <td>NaN</td>\n",
       "      <td>NaN</td>\n",
       "      <td>...</td>\n",
       "      <td>327958</td>\n",
       "      <td>383</td>\n",
       "      <td>2009-05-08 10:12:38</td>\n",
       "      <td>False</td>\n",
       "      <td>http://t.co/TDlDxXDMe8</td>\n",
       "      <td>http://linkis.com/blogspot.com/Nhf1O</td>\n",
       "      <td>NaN</td>\n",
       "      <td>NaN</td>\n",
       "      <td>http://abs.twimg.com/images/themes/theme1/bg.png</td>\n",
       "      <td>http://pbs.twimg.com/profile_images/978033151586045952/zewK6PID_normal.jpg</td>\n",
       "    </tr>\n",
       "  </tbody>\n",
       "</table>\n",
       "<p>5 rows × 90 columns</p>\n",
       "</div>"
      ],
      "text/plain": [
       "                user_id             status_id           created_at  \\\n",
       "0  x1086388569294471172  x1406987671000563719  2021-06-21 14:49:35   \n",
       "1  x1068338071702097920  x1406987628948324358  2021-06-21 14:49:25   \n",
       "2  x38639718             x1406987333057003525  2021-06-21 14:48:15   \n",
       "3  x38639718             x1405496093966798855  2021-06-17 12:02:36   \n",
       "4  x38639718             x1406934080529309697  2021-06-21 11:16:39   \n",
       "\n",
       "      screen_name  \\\n",
       "0  hypercursor      \n",
       "1  waiwai__LA       \n",
       "2  lise_latulippe   \n",
       "3  lise_latulippe   \n",
       "4  lise_latulippe   \n",
       "\n",
       "                                                                                                                                                                                                                                                                                    text  \\\n",
       "0  @floridamancode @EcoTechBro It’s the successful part that’s the rub though. Have you really thought about what would be involved? Amassing that kind of  arsenal in a surveillance state? It’s pure fantasy.                                                                            \n",
       "1  @engineers_feed Check the evacuation route, watch out for outside surveillance, and lie down on the floor in preparation for avoiding snipers.\\r\\n<U+0001F914>Instructions? ..                                                                                                          \n",
       "2  The Toronto Police Service’s forensic identification unit is currently on scene and is working to collect and preserve evidence.\\r\\n Taverner said officers are also reviewing video surveillance footage from the area.\\r\\nhttps://t.co/v36ZsRgs6t                                     \n",
       "3  Trump had launched so many attacks against the FBI that they were obviously afraid of him, but there is a big leap from fear to actively instigating surveillance of a president’s political opponents.\\r\\nhttps://t.co/3zz3IHyhDI                                                      \n",
       "4  Police released surveillance video on Sunday of a man wanted for questioning in the June 14 killing of Sean Robinson, 33, of Stamford.\\r\\nRobinson was on his way home from a party in East Williamsburg when he was shot, his mother told the Daily News.\\r\\nhttps://t.co/11OjzwqNQk   \n",
       "\n",
       "               source  display_text_width    reply_to_status_id  \\\n",
       "0  Twitter for iPhone  176                 x1406984343604666368   \n",
       "1  Twitter Web App     144                 x1406846131603185664   \n",
       "2  Twitter Web App     237                 NaN                    \n",
       "3  Twitter Web App     223                 NaN                    \n",
       "4  Twitter Web App     271                 NaN                    \n",
       "\n",
       "       reply_to_user_id reply_to_screen_name  ...  statuses_count  \\\n",
       "0  x1266369503442554894  floridamancode       ...  2216             \n",
       "1  x3429950987           engineers_feed       ...  9099             \n",
       "2  NaN                   NaN                  ...  327958           \n",
       "3  NaN                   NaN                  ...  327958           \n",
       "4  NaN                   NaN                  ...  327958           \n",
       "\n",
       "   favourites_count   account_created_at  verified             profile_url  \\\n",
       "0  3031              2019-01-18 22:23:13  False     NaN                      \n",
       "1  23234             2018-11-30 02:56:59  False     NaN                      \n",
       "2  383               2009-05-08 10:12:38  False     http://t.co/TDlDxXDMe8   \n",
       "3  383               2009-05-08 10:12:38  False     http://t.co/TDlDxXDMe8   \n",
       "4  383               2009-05-08 10:12:38  False     http://t.co/TDlDxXDMe8   \n",
       "\n",
       "                   profile_expanded_url account_lang  \\\n",
       "0  NaN                                  NaN            \n",
       "1  NaN                                  NaN            \n",
       "2  http://linkis.com/blogspot.com/Nhf1O NaN            \n",
       "3  http://linkis.com/blogspot.com/Nhf1O NaN            \n",
       "4  http://linkis.com/blogspot.com/Nhf1O NaN            \n",
       "\n",
       "                                                     profile_banner_url  \\\n",
       "0  https://pbs.twimg.com/profile_banners/1086388569294471172/1624221819   \n",
       "1  https://pbs.twimg.com/profile_banners/1068338071702097920/1578451505   \n",
       "2  NaN                                                                    \n",
       "3  NaN                                                                    \n",
       "4  NaN                                                                    \n",
       "\n",
       "                             profile_background_url  \\\n",
       "0  http://abs.twimg.com/images/themes/theme1/bg.png   \n",
       "1  http://abs.twimg.com/images/themes/theme1/bg.png   \n",
       "2  http://abs.twimg.com/images/themes/theme1/bg.png   \n",
       "3  http://abs.twimg.com/images/themes/theme1/bg.png   \n",
       "4  http://abs.twimg.com/images/themes/theme1/bg.png   \n",
       "\n",
       "                                                             profile_image_url  \n",
       "0  http://pbs.twimg.com/profile_images/1375243020682006529/N7i7tJZF_normal.jpg  \n",
       "1  http://pbs.twimg.com/profile_images/1368471393977786369/n6xgdRBa_normal.jpg  \n",
       "2  http://pbs.twimg.com/profile_images/978033151586045952/zewK6PID_normal.jpg   \n",
       "3  http://pbs.twimg.com/profile_images/978033151586045952/zewK6PID_normal.jpg   \n",
       "4  http://pbs.twimg.com/profile_images/978033151586045952/zewK6PID_normal.jpg   \n",
       "\n",
       "[5 rows x 90 columns]"
      ]
     },
     "execution_count": 94,
     "metadata": {},
     "output_type": "execute_result"
    }
   ],
   "source": [
    "data = data.drop_duplicates('text')\n",
    "data.head()"
   ]
  },
  {
   "cell_type": "code",
   "execution_count": 95,
   "metadata": {},
   "outputs": [
    {
     "data": {
      "text/plain": [
       "(17330, 90)"
      ]
     },
     "execution_count": 95,
     "metadata": {},
     "output_type": "execute_result"
    }
   ],
   "source": [
    "data.shape"
   ]
  },
  {
   "cell_type": "code",
   "execution_count": 96,
   "metadata": {},
   "outputs": [],
   "source": [
    "df = data[[\"text\", \"is_quote\", \"is_retweet\", \"retweet_count\", \"hashtags\", \"followers_count\"]]"
   ]
  },
  {
   "cell_type": "code",
   "execution_count": 97,
   "metadata": {},
   "outputs": [
    {
     "data": {
      "text/html": [
       "<div>\n",
       "<style scoped>\n",
       "    .dataframe tbody tr th:only-of-type {\n",
       "        vertical-align: middle;\n",
       "    }\n",
       "\n",
       "    .dataframe tbody tr th {\n",
       "        vertical-align: top;\n",
       "    }\n",
       "\n",
       "    .dataframe thead th {\n",
       "        text-align: right;\n",
       "    }\n",
       "</style>\n",
       "<table border=\"1\" class=\"dataframe\">\n",
       "  <thead>\n",
       "    <tr style=\"text-align: right;\">\n",
       "      <th></th>\n",
       "      <th>text</th>\n",
       "    </tr>\n",
       "  </thead>\n",
       "  <tbody>\n",
       "    <tr>\n",
       "      <th>0</th>\n",
       "      <td>@floridamancode @EcoTechBro It’s the successful part that’s the rub though. Have you really thought about what would be involved? Amassing that kind of  arsenal in a surveillance state? It’s pure fantasy.</td>\n",
       "    </tr>\n",
       "    <tr>\n",
       "      <th>1</th>\n",
       "      <td>@engineers_feed Check the evacuation route, watch out for outside surveillance, and lie down on the floor in preparation for avoiding snipers.\\r\\n&lt;U+0001F914&gt;Instructions? ..</td>\n",
       "    </tr>\n",
       "    <tr>\n",
       "      <th>2</th>\n",
       "      <td>The Toronto Police Service’s forensic identification unit is currently on scene and is working to collect and preserve evidence.\\r\\n Taverner said officers are also reviewing video surveillance footage from the area.\\r\\nhttps://t.co/v36ZsRgs6t</td>\n",
       "    </tr>\n",
       "    <tr>\n",
       "      <th>3</th>\n",
       "      <td>Trump had launched so many attacks against the FBI that they were obviously afraid of him, but there is a big leap from fear to actively instigating surveillance of a president’s political opponents.\\r\\nhttps://t.co/3zz3IHyhDI</td>\n",
       "    </tr>\n",
       "    <tr>\n",
       "      <th>4</th>\n",
       "      <td>Police released surveillance video on Sunday of a man wanted for questioning in the June 14 killing of Sean Robinson, 33, of Stamford.\\r\\nRobinson was on his way home from a party in East Williamsburg when he was shot, his mother told the Daily News.\\r\\nhttps://t.co/11OjzwqNQk</td>\n",
       "    </tr>\n",
       "  </tbody>\n",
       "</table>\n",
       "</div>"
      ],
      "text/plain": [
       "                                                                                                                                                                                                                                                                                    text\n",
       "0  @floridamancode @EcoTechBro It’s the successful part that’s the rub though. Have you really thought about what would be involved? Amassing that kind of  arsenal in a surveillance state? It’s pure fantasy.                                                                         \n",
       "1  @engineers_feed Check the evacuation route, watch out for outside surveillance, and lie down on the floor in preparation for avoiding snipers.\\r\\n<U+0001F914>Instructions? ..                                                                                                       \n",
       "2  The Toronto Police Service’s forensic identification unit is currently on scene and is working to collect and preserve evidence.\\r\\n Taverner said officers are also reviewing video surveillance footage from the area.\\r\\nhttps://t.co/v36ZsRgs6t                                  \n",
       "3  Trump had launched so many attacks against the FBI that they were obviously afraid of him, but there is a big leap from fear to actively instigating surveillance of a president’s political opponents.\\r\\nhttps://t.co/3zz3IHyhDI                                                   \n",
       "4  Police released surveillance video on Sunday of a man wanted for questioning in the June 14 killing of Sean Robinson, 33, of Stamford.\\r\\nRobinson was on his way home from a party in East Williamsburg when he was shot, his mother told the Daily News.\\r\\nhttps://t.co/11OjzwqNQk"
      ]
     },
     "execution_count": 97,
     "metadata": {},
     "output_type": "execute_result"
    }
   ],
   "source": [
    "text = df[[\"text\"]][:10000] \n",
    "pd.set_option('display.max_colwidth', -1)\n",
    "text.head()"
   ]
  },
  {
   "cell_type": "code",
   "execution_count": 98,
   "metadata": {},
   "outputs": [],
   "source": [
    "wnet = WordNetLemmatizer()\n",
    "port = PorterStemmer()"
   ]
  },
  {
   "cell_type": "code",
   "execution_count": 99,
   "metadata": {},
   "outputs": [],
   "source": [
    "def cleanTxt(txt):\n",
    "    txt = txt.lower()\n",
    "    txt = re.sub(r'RT[\\s]+', '', txt) #removing RT\n",
    "    txt = re.sub(r'[^\\w\\s]','', txt) #remove everything except words and space\n",
    "    txt = re.sub(r'_','', txt) #how to remove underscore as well\n",
    "    if 'https' in txt: # removing hyperlinks \n",
    "        pos = txt.find('https')\n",
    "        txt = txt[:pos]\n",
    "    return txt"
   ]
  },
  {
   "cell_type": "code",
   "execution_count": 100,
   "metadata": {},
   "outputs": [
    {
     "data": {
      "text/html": [
       "<div>\n",
       "<style scoped>\n",
       "    .dataframe tbody tr th:only-of-type {\n",
       "        vertical-align: middle;\n",
       "    }\n",
       "\n",
       "    .dataframe tbody tr th {\n",
       "        vertical-align: top;\n",
       "    }\n",
       "\n",
       "    .dataframe thead th {\n",
       "        text-align: right;\n",
       "    }\n",
       "</style>\n",
       "<table border=\"1\" class=\"dataframe\">\n",
       "  <thead>\n",
       "    <tr style=\"text-align: right;\">\n",
       "      <th></th>\n",
       "      <th>text</th>\n",
       "    </tr>\n",
       "  </thead>\n",
       "  <tbody>\n",
       "    <tr>\n",
       "      <th>0</th>\n",
       "      <td>floridamancode ecotechbro its the successful part thats the rub though have you really thought about what would be involved amassing that kind of  arsenal in a surveillance state its pure fantasy</td>\n",
       "    </tr>\n",
       "    <tr>\n",
       "      <th>1</th>\n",
       "      <td>engineersfeed check the evacuation route watch out for outside surveillance and lie down on the floor in preparation for avoiding snipers\\r\\nu0001f914instructions</td>\n",
       "    </tr>\n",
       "    <tr>\n",
       "      <th>2</th>\n",
       "      <td>the toronto police services forensic identification unit is currently on scene and is working to collect and preserve evidence\\r\\n taverner said officers are also reviewing video surveillance footage from the area\\r\\n</td>\n",
       "    </tr>\n",
       "    <tr>\n",
       "      <th>3</th>\n",
       "      <td>trump had launched so many attacks against the fbi that they were obviously afraid of him but there is a big leap from fear to actively instigating surveillance of a presidents political opponents\\r\\n</td>\n",
       "    </tr>\n",
       "    <tr>\n",
       "      <th>4</th>\n",
       "      <td>police released surveillance video on sunday of a man wanted for questioning in the june 14 killing of sean robinson 33 of stamford\\r\\nrobinson was on his way home from a party in east williamsburg when he was shot his mother told the daily news\\r\\n</td>\n",
       "    </tr>\n",
       "  </tbody>\n",
       "</table>\n",
       "</div>"
      ],
      "text/plain": [
       "                                                                                                                                                                                                                                                        text\n",
       "0  floridamancode ecotechbro its the successful part thats the rub though have you really thought about what would be involved amassing that kind of  arsenal in a surveillance state its pure fantasy                                                      \n",
       "1  engineersfeed check the evacuation route watch out for outside surveillance and lie down on the floor in preparation for avoiding snipers\\r\\nu0001f914instructions                                                                                       \n",
       "2  the toronto police services forensic identification unit is currently on scene and is working to collect and preserve evidence\\r\\n taverner said officers are also reviewing video surveillance footage from the area\\r\\n                                \n",
       "3  trump had launched so many attacks against the fbi that they were obviously afraid of him but there is a big leap from fear to actively instigating surveillance of a presidents political opponents\\r\\n                                                 \n",
       "4  police released surveillance video on sunday of a man wanted for questioning in the june 14 killing of sean robinson 33 of stamford\\r\\nrobinson was on his way home from a party in east williamsburg when he was shot his mother told the daily news\\r\\n"
      ]
     },
     "execution_count": 100,
     "metadata": {},
     "output_type": "execute_result"
    }
   ],
   "source": [
    "text['text'] = text['text'].apply(cleanTxt)\n",
    "text.head()"
   ]
  },
  {
   "cell_type": "code",
   "execution_count": 101,
   "metadata": {},
   "outputs": [],
   "source": [
    "def stopWords(txt): \n",
    "    txt_lst = txt.split(\" \")\n",
    "    txt_lst = [word for word in txt_lst if word not in stopwords.words('english')]\n",
    "    txt_lst = [wnet.lemmatize(word) for word in txt_lst]\n",
    "    txt_lst = [word for word in txt_lst if word != '']\n",
    "    txt_lst = [word for word in txt_lst if word != '\\r\\n\\r\\n'] # indicates space and indexing\n",
    "    txt_lst = [word for word in txt_lst if word != 'u0001f449'] # indicates back hand emoji pointing right\n",
    "    #txt_lst = [word for word in txt_lst if word != 'data']\n",
    "    txt_lst = [word for word in txt_lst if word != 'surveillance']\n",
    "    #txt_lst = [word for word in txt_lst if word != 'ethics']\n",
    "    #txt_lst = [word for word in txt_lst if word != 'ethic']  \n",
    "    #txt_lst = [word for word in txt_lst if word != 'ethical']\n",
    "    #txt_lst = [word for word in txt_lst if word != 'dataethics']\n",
    "    #txt_lst = [word for word in txt_lst if word != 'techethics']\n",
    "    txt_lst = [word for word in txt_lst if word != '\\r\\n']\n",
    "    #txt_lst = [word for word in txt_lst if word != 'digitalethics']\n",
    "    txt_lst = [word for word in txt_lst if word != 'u']\n",
    "    return \" \".join(txt_lst)"
   ]
  },
  {
   "cell_type": "code",
   "execution_count": 102,
   "metadata": {},
   "outputs": [
    {
     "data": {
      "text/html": [
       "<div>\n",
       "<style scoped>\n",
       "    .dataframe tbody tr th:only-of-type {\n",
       "        vertical-align: middle;\n",
       "    }\n",
       "\n",
       "    .dataframe tbody tr th {\n",
       "        vertical-align: top;\n",
       "    }\n",
       "\n",
       "    .dataframe thead th {\n",
       "        text-align: right;\n",
       "    }\n",
       "</style>\n",
       "<table border=\"1\" class=\"dataframe\">\n",
       "  <thead>\n",
       "    <tr style=\"text-align: right;\">\n",
       "      <th></th>\n",
       "      <th>text</th>\n",
       "    </tr>\n",
       "  </thead>\n",
       "  <tbody>\n",
       "    <tr>\n",
       "      <th>0</th>\n",
       "      <td>floridamancode ecotechbro successful part thats rub though really thought would involved amassing kind arsenal state pure fantasy</td>\n",
       "    </tr>\n",
       "    <tr>\n",
       "      <th>1</th>\n",
       "      <td>engineersfeed check evacuation route watch outside lie floor preparation avoiding snipers\\r\\nu0001f914instructions</td>\n",
       "    </tr>\n",
       "    <tr>\n",
       "      <th>2</th>\n",
       "      <td>toronto police service forensic identification unit currently scene working collect preserve evidence\\r\\n taverner said officer also reviewing video footage area\\r\\n</td>\n",
       "    </tr>\n",
       "    <tr>\n",
       "      <th>3</th>\n",
       "      <td>trump launched many attack fbi obviously afraid big leap fear actively instigating president political opponents\\r\\n</td>\n",
       "    </tr>\n",
       "    <tr>\n",
       "      <th>4</th>\n",
       "      <td>police released video sunday man wanted questioning june 14 killing sean robinson 33 stamford\\r\\nrobinson way home party east williamsburg shot mother told daily news\\r\\n</td>\n",
       "    </tr>\n",
       "  </tbody>\n",
       "</table>\n",
       "</div>"
      ],
      "text/plain": [
       "                                                                                                                                                                         text\n",
       "0  floridamancode ecotechbro successful part thats rub though really thought would involved amassing kind arsenal state pure fantasy                                         \n",
       "1  engineersfeed check evacuation route watch outside lie floor preparation avoiding snipers\\r\\nu0001f914instructions                                                        \n",
       "2  toronto police service forensic identification unit currently scene working collect preserve evidence\\r\\n taverner said officer also reviewing video footage area\\r\\n     \n",
       "3  trump launched many attack fbi obviously afraid big leap fear actively instigating president political opponents\\r\\n                                                      \n",
       "4  police released video sunday man wanted questioning june 14 killing sean robinson 33 stamford\\r\\nrobinson way home party east williamsburg shot mother told daily news\\r\\n"
      ]
     },
     "execution_count": 102,
     "metadata": {},
     "output_type": "execute_result"
    }
   ],
   "source": [
    "text['text'] = text['text'].apply(stopWords)\n",
    "text.head()"
   ]
  },
  {
   "cell_type": "code",
   "execution_count": 103,
   "metadata": {},
   "outputs": [
    {
     "data": {
      "text/plain": [
       "['floridamancode ecotechbro successful part thats rub though really thought would involved amassing kind arsenal state pure fantasy',\n",
       " 'engineersfeed check evacuation route watch outside lie floor preparation avoiding snipers\\r\\nu0001f914instructions',\n",
       " 'toronto police service forensic identification unit currently scene working collect preserve evidence\\r\\n taverner said officer also reviewing video footage area\\r\\n',\n",
       " 'trump launched many attack fbi obviously afraid big leap fear actively instigating president political opponents\\r\\n',\n",
       " 'police released video sunday man wanted questioning june 14 killing sean robinson 33 stamford\\r\\nrobinson way home party east williamsburg shot mother told daily news\\r\\n']"
      ]
     },
     "execution_count": 103,
     "metadata": {},
     "output_type": "execute_result"
    }
   ],
   "source": [
    "text_lst = []\n",
    "for row in text['text']:\n",
    "    text_lst.append(row)\n",
    "\n",
    "text_lst[:5]"
   ]
  },
  {
   "cell_type": "code",
   "execution_count": 104,
   "metadata": {},
   "outputs": [],
   "source": [
    "tv = TfidfVectorizer(\n",
    "binary = True, norm = None,\n",
    "use_idf = False, smooth_idf = False,\n",
    "lowercase = True, stop_words = None,\n",
    "min_df = 1, max_df = 1.0, max_features = None, ngram_range = (1,1))"
   ]
  },
  {
   "cell_type": "code",
   "execution_count": 105,
   "metadata": {},
   "outputs": [
    {
     "ename": "MemoryError",
     "evalue": "Unable to allocate 2.06 GiB for an array with shape (10000, 27679) and data type float64",
     "output_type": "error",
     "traceback": [
      "\u001b[1;31m---------------------------------------------------------------------------\u001b[0m",
      "\u001b[1;31mMemoryError\u001b[0m                               Traceback (most recent call last)",
      "\u001b[1;32m<ipython-input-105-258019959382>\u001b[0m in \u001b[0;36m<module>\u001b[1;34m\u001b[0m\n\u001b[1;32m----> 1\u001b[1;33m \u001b[0mtext_vec\u001b[0m \u001b[1;33m=\u001b[0m \u001b[0mpd\u001b[0m\u001b[1;33m.\u001b[0m\u001b[0mDataFrame\u001b[0m\u001b[1;33m(\u001b[0m\u001b[0mtv\u001b[0m\u001b[1;33m.\u001b[0m\u001b[0mfit_transform\u001b[0m\u001b[1;33m(\u001b[0m\u001b[0mtext_lst\u001b[0m\u001b[1;33m)\u001b[0m\u001b[1;33m.\u001b[0m\u001b[0mtoarray\u001b[0m\u001b[1;33m(\u001b[0m\u001b[1;33m)\u001b[0m\u001b[1;33m,\u001b[0m \u001b[0mcolumns\u001b[0m \u001b[1;33m=\u001b[0m \u001b[0mtv\u001b[0m\u001b[1;33m.\u001b[0m\u001b[0mget_feature_names\u001b[0m\u001b[1;33m(\u001b[0m\u001b[1;33m)\u001b[0m\u001b[1;33m)\u001b[0m\u001b[1;33m\u001b[0m\u001b[1;33m\u001b[0m\u001b[0m\n\u001b[0m\u001b[0;32m      2\u001b[0m \u001b[0mtext_vec\u001b[0m\u001b[1;33m.\u001b[0m\u001b[0mhead\u001b[0m\u001b[1;33m(\u001b[0m\u001b[1;33m)\u001b[0m\u001b[1;33m\u001b[0m\u001b[1;33m\u001b[0m\u001b[0m\n",
      "\u001b[1;32m~\\anaconda3\\lib\\site-packages\\scipy\\sparse\\compressed.py\u001b[0m in \u001b[0;36mtoarray\u001b[1;34m(self, order, out)\u001b[0m\n\u001b[0;32m   1029\u001b[0m         \u001b[1;32mif\u001b[0m \u001b[0mout\u001b[0m \u001b[1;32mis\u001b[0m \u001b[1;32mNone\u001b[0m \u001b[1;32mand\u001b[0m \u001b[0morder\u001b[0m \u001b[1;32mis\u001b[0m \u001b[1;32mNone\u001b[0m\u001b[1;33m:\u001b[0m\u001b[1;33m\u001b[0m\u001b[1;33m\u001b[0m\u001b[0m\n\u001b[0;32m   1030\u001b[0m             \u001b[0morder\u001b[0m \u001b[1;33m=\u001b[0m \u001b[0mself\u001b[0m\u001b[1;33m.\u001b[0m\u001b[0m_swap\u001b[0m\u001b[1;33m(\u001b[0m\u001b[1;34m'cf'\u001b[0m\u001b[1;33m)\u001b[0m\u001b[1;33m[\u001b[0m\u001b[1;36m0\u001b[0m\u001b[1;33m]\u001b[0m\u001b[1;33m\u001b[0m\u001b[1;33m\u001b[0m\u001b[0m\n\u001b[1;32m-> 1031\u001b[1;33m         \u001b[0mout\u001b[0m \u001b[1;33m=\u001b[0m \u001b[0mself\u001b[0m\u001b[1;33m.\u001b[0m\u001b[0m_process_toarray_args\u001b[0m\u001b[1;33m(\u001b[0m\u001b[0morder\u001b[0m\u001b[1;33m,\u001b[0m \u001b[0mout\u001b[0m\u001b[1;33m)\u001b[0m\u001b[1;33m\u001b[0m\u001b[1;33m\u001b[0m\u001b[0m\n\u001b[0m\u001b[0;32m   1032\u001b[0m         \u001b[1;32mif\u001b[0m \u001b[1;32mnot\u001b[0m \u001b[1;33m(\u001b[0m\u001b[0mout\u001b[0m\u001b[1;33m.\u001b[0m\u001b[0mflags\u001b[0m\u001b[1;33m.\u001b[0m\u001b[0mc_contiguous\u001b[0m \u001b[1;32mor\u001b[0m \u001b[0mout\u001b[0m\u001b[1;33m.\u001b[0m\u001b[0mflags\u001b[0m\u001b[1;33m.\u001b[0m\u001b[0mf_contiguous\u001b[0m\u001b[1;33m)\u001b[0m\u001b[1;33m:\u001b[0m\u001b[1;33m\u001b[0m\u001b[1;33m\u001b[0m\u001b[0m\n\u001b[0;32m   1033\u001b[0m             \u001b[1;32mraise\u001b[0m \u001b[0mValueError\u001b[0m\u001b[1;33m(\u001b[0m\u001b[1;34m'Output array must be C or F contiguous'\u001b[0m\u001b[1;33m)\u001b[0m\u001b[1;33m\u001b[0m\u001b[1;33m\u001b[0m\u001b[0m\n",
      "\u001b[1;32m~\\anaconda3\\lib\\site-packages\\scipy\\sparse\\base.py\u001b[0m in \u001b[0;36m_process_toarray_args\u001b[1;34m(self, order, out)\u001b[0m\n\u001b[0;32m   1200\u001b[0m             \u001b[1;32mreturn\u001b[0m \u001b[0mout\u001b[0m\u001b[1;33m\u001b[0m\u001b[1;33m\u001b[0m\u001b[0m\n\u001b[0;32m   1201\u001b[0m         \u001b[1;32melse\u001b[0m\u001b[1;33m:\u001b[0m\u001b[1;33m\u001b[0m\u001b[1;33m\u001b[0m\u001b[0m\n\u001b[1;32m-> 1202\u001b[1;33m             \u001b[1;32mreturn\u001b[0m \u001b[0mnp\u001b[0m\u001b[1;33m.\u001b[0m\u001b[0mzeros\u001b[0m\u001b[1;33m(\u001b[0m\u001b[0mself\u001b[0m\u001b[1;33m.\u001b[0m\u001b[0mshape\u001b[0m\u001b[1;33m,\u001b[0m \u001b[0mdtype\u001b[0m\u001b[1;33m=\u001b[0m\u001b[0mself\u001b[0m\u001b[1;33m.\u001b[0m\u001b[0mdtype\u001b[0m\u001b[1;33m,\u001b[0m \u001b[0morder\u001b[0m\u001b[1;33m=\u001b[0m\u001b[0morder\u001b[0m\u001b[1;33m)\u001b[0m\u001b[1;33m\u001b[0m\u001b[1;33m\u001b[0m\u001b[0m\n\u001b[0m\u001b[0;32m   1203\u001b[0m \u001b[1;33m\u001b[0m\u001b[0m\n\u001b[0;32m   1204\u001b[0m \u001b[1;33m\u001b[0m\u001b[0m\n",
      "\u001b[1;31mMemoryError\u001b[0m: Unable to allocate 2.06 GiB for an array with shape (10000, 27679) and data type float64"
     ]
    }
   ],
   "source": [
    "text_vec = pd.DataFrame(tv.fit_transform(text_lst).toarray(), columns = tv.get_feature_names())\n",
    "text_vec.head()"
   ]
  },
  {
   "cell_type": "code",
   "execution_count": 106,
   "metadata": {},
   "outputs": [
    {
     "data": {
      "text/plain": [
       "(10000, 27679)"
      ]
     },
     "execution_count": 106,
     "metadata": {},
     "output_type": "execute_result"
    }
   ],
   "source": [
    "text_vec.shape"
   ]
  },
  {
   "cell_type": "code",
   "execution_count": 107,
   "metadata": {},
   "outputs": [
    {
     "data": {
      "text/plain": [
       "['floridamancode', 'ecotechbro', 'successful', 'part', 'thats']"
      ]
     },
     "execution_count": 107,
     "metadata": {},
     "output_type": "execute_result"
    }
   ],
   "source": [
    "cs_words = []\n",
    "\n",
    "for row in text['text']:\n",
    "    for word in str(row).split(\" \"):\n",
    "        cs_words.append(word)\n",
    "        \n",
    "cs_words[:5]"
   ]
  },
  {
   "cell_type": "code",
   "execution_count": 108,
   "metadata": {},
   "outputs": [
    {
     "data": {
      "text/plain": [
       "160187"
      ]
     },
     "execution_count": 108,
     "metadata": {},
     "output_type": "execute_result"
    }
   ],
   "source": [
    "len(cs_words)"
   ]
  },
  {
   "cell_type": "code",
   "execution_count": 109,
   "metadata": {},
   "outputs": [
    {
     "data": {
      "text/plain": [
       "FreqDist({'camera': 1147, 'amp': 1097, 'state': 753, 'video': 736, 'system': 687, 'security': 671, 'people': 645, 'data': 628, 'fbi': 570, 'police': 558, ...})"
      ]
     },
     "execution_count": 109,
     "metadata": {},
     "output_type": "execute_result"
    }
   ],
   "source": [
    "from nltk.probability import FreqDist\n",
    "fdist = FreqDist()\n",
    "for word in cs_words:\n",
    "    fdist[word]+=1\n",
    "fdist"
   ]
  },
  {
   "cell_type": "code",
   "execution_count": 110,
   "metadata": {},
   "outputs": [],
   "source": [
    "freq_data = pd.DataFrame.from_dict(fdist.most_common(20))"
   ]
  },
  {
   "cell_type": "code",
   "execution_count": 111,
   "metadata": {},
   "outputs": [
    {
     "data": {
      "image/png": "[encoded data removed]",
      "text/plain": [
       "<Figure size 432x288 with 1 Axes>"
      ]
     },
     "metadata": {
      "needs_background": "light"
     },
     "output_type": "display_data"
    }
   ],
   "source": [
    "sns.barplot(data = freq_data, x = 1, y = 0);"
   ]
  },
  {
   "cell_type": "code",
   "execution_count": 112,
   "metadata": {},
   "outputs": [
    {
     "data": {
      "text/plain": [
       "['camera',\n",
       " 'amp',\n",
       " 'state',\n",
       " 'video',\n",
       " 'system',\n",
       " 'security',\n",
       " 'people',\n",
       " 'data',\n",
       " 'fbi',\n",
       " 'police',\n",
       " 'like',\n",
       " 'new',\n",
       " 'one',\n",
       " 'public',\n",
       " 'american',\n",
       " 'technology',\n",
       " 'right',\n",
       " 'government',\n",
       " 'nsa',\n",
       " 'know']"
      ]
     },
     "execution_count": 112,
     "metadata": {},
     "output_type": "execute_result"
    }
   ],
   "source": [
    "most_common = []\n",
    "\n",
    "for key in fdist.most_common(20):\n",
    "    most_common.append(key[0])\n",
    "    \n",
    "most_common"
   ]
  },
  {
   "cell_type": "markdown",
   "metadata": {},
   "source": [
    "# KMeans Clustering "
   ]
  },
  {
   "cell_type": "code",
   "execution_count": 113,
   "metadata": {},
   "outputs": [],
   "source": [
    "def evaluate_k_kmeans_inertia(k):\n",
    "    print(f\"running Kmeans with k={k}\")\n",
    "    estimator_kmeans = KMeans(random_state=42, n_clusters=k)\n",
    "    estimator_kmeans.fit(text_vec)\n",
    "    return estimator_kmeans.inertia_"
   ]
  },
  {
   "cell_type": "code",
   "execution_count": 114,
   "metadata": {},
   "outputs": [
    {
     "name": "stdout",
     "output_type": "stream",
     "text": [
      "running Kmeans with k=1\n"
     ]
    },
    {
     "ename": "MemoryError",
     "evalue": "Unable to allocate 2.06 GiB for an array with shape (10000, 27679) and data type float64",
     "output_type": "error",
     "traceback": [
      "\u001b[1;31m---------------------------------------------------------------------------\u001b[0m",
      "\u001b[1;31mMemoryError\u001b[0m                               Traceback (most recent call last)",
      "\u001b[1;32m<timed exec>\u001b[0m in \u001b[0;36m<module>\u001b[1;34m\u001b[0m\n",
      "\u001b[1;32m<ipython-input-113-5767a9147608>\u001b[0m in \u001b[0;36mevaluate_k_kmeans_inertia\u001b[1;34m(k)\u001b[0m\n\u001b[0;32m      2\u001b[0m     \u001b[0mprint\u001b[0m\u001b[1;33m(\u001b[0m\u001b[1;34mf\"running Kmeans with k={k}\"\u001b[0m\u001b[1;33m)\u001b[0m\u001b[1;33m\u001b[0m\u001b[1;33m\u001b[0m\u001b[0m\n\u001b[0;32m      3\u001b[0m     \u001b[0mestimator_kmeans\u001b[0m \u001b[1;33m=\u001b[0m \u001b[0mKMeans\u001b[0m\u001b[1;33m(\u001b[0m\u001b[0mrandom_state\u001b[0m\u001b[1;33m=\u001b[0m\u001b[1;36m42\u001b[0m\u001b[1;33m,\u001b[0m \u001b[0mn_clusters\u001b[0m\u001b[1;33m=\u001b[0m\u001b[0mk\u001b[0m\u001b[1;33m)\u001b[0m\u001b[1;33m\u001b[0m\u001b[1;33m\u001b[0m\u001b[0m\n\u001b[1;32m----> 4\u001b[1;33m     \u001b[0mestimator_kmeans\u001b[0m\u001b[1;33m.\u001b[0m\u001b[0mfit\u001b[0m\u001b[1;33m(\u001b[0m\u001b[0mtext_vec\u001b[0m\u001b[1;33m)\u001b[0m\u001b[1;33m\u001b[0m\u001b[1;33m\u001b[0m\u001b[0m\n\u001b[0m\u001b[0;32m      5\u001b[0m     \u001b[1;32mreturn\u001b[0m \u001b[0mestimator_kmeans\u001b[0m\u001b[1;33m.\u001b[0m\u001b[0minertia_\u001b[0m\u001b[1;33m\u001b[0m\u001b[1;33m\u001b[0m\u001b[0m\n",
      "\u001b[1;32m~\\anaconda3\\lib\\site-packages\\sklearn\\cluster\\_kmeans.py\u001b[0m in \u001b[0;36mfit\u001b[1;34m(self, X, y, sample_weight)\u001b[0m\n\u001b[0;32m    977\u001b[0m             \u001b[0mFitted\u001b[0m \u001b[0mestimator\u001b[0m\u001b[1;33m.\u001b[0m\u001b[1;33m\u001b[0m\u001b[1;33m\u001b[0m\u001b[0m\n\u001b[0;32m    978\u001b[0m         \"\"\"\n\u001b[1;32m--> 979\u001b[1;33m         X = self._validate_data(X, accept_sparse='csr',\n\u001b[0m\u001b[0;32m    980\u001b[0m                                 \u001b[0mdtype\u001b[0m\u001b[1;33m=\u001b[0m\u001b[1;33m[\u001b[0m\u001b[0mnp\u001b[0m\u001b[1;33m.\u001b[0m\u001b[0mfloat64\u001b[0m\u001b[1;33m,\u001b[0m \u001b[0mnp\u001b[0m\u001b[1;33m.\u001b[0m\u001b[0mfloat32\u001b[0m\u001b[1;33m]\u001b[0m\u001b[1;33m,\u001b[0m\u001b[1;33m\u001b[0m\u001b[1;33m\u001b[0m\u001b[0m\n\u001b[0;32m    981\u001b[0m                                 \u001b[0morder\u001b[0m\u001b[1;33m=\u001b[0m\u001b[1;34m'C'\u001b[0m\u001b[1;33m,\u001b[0m \u001b[0mcopy\u001b[0m\u001b[1;33m=\u001b[0m\u001b[0mself\u001b[0m\u001b[1;33m.\u001b[0m\u001b[0mcopy_x\u001b[0m\u001b[1;33m,\u001b[0m\u001b[1;33m\u001b[0m\u001b[1;33m\u001b[0m\u001b[0m\n",
      "\u001b[1;32m~\\anaconda3\\lib\\site-packages\\sklearn\\base.py\u001b[0m in \u001b[0;36m_validate_data\u001b[1;34m(self, X, y, reset, validate_separately, **check_params)\u001b[0m\n\u001b[0;32m    419\u001b[0m             \u001b[0mout\u001b[0m \u001b[1;33m=\u001b[0m \u001b[0mX\u001b[0m\u001b[1;33m\u001b[0m\u001b[1;33m\u001b[0m\u001b[0m\n\u001b[0;32m    420\u001b[0m         \u001b[1;32melif\u001b[0m \u001b[0misinstance\u001b[0m\u001b[1;33m(\u001b[0m\u001b[0my\u001b[0m\u001b[1;33m,\u001b[0m \u001b[0mstr\u001b[0m\u001b[1;33m)\u001b[0m \u001b[1;32mand\u001b[0m \u001b[0my\u001b[0m \u001b[1;33m==\u001b[0m \u001b[1;34m'no_validation'\u001b[0m\u001b[1;33m:\u001b[0m\u001b[1;33m\u001b[0m\u001b[1;33m\u001b[0m\u001b[0m\n\u001b[1;32m--> 421\u001b[1;33m             \u001b[0mX\u001b[0m \u001b[1;33m=\u001b[0m \u001b[0mcheck_array\u001b[0m\u001b[1;33m(\u001b[0m\u001b[0mX\u001b[0m\u001b[1;33m,\u001b[0m \u001b[1;33m**\u001b[0m\u001b[0mcheck_params\u001b[0m\u001b[1;33m)\u001b[0m\u001b[1;33m\u001b[0m\u001b[1;33m\u001b[0m\u001b[0m\n\u001b[0m\u001b[0;32m    422\u001b[0m             \u001b[0mout\u001b[0m \u001b[1;33m=\u001b[0m \u001b[0mX\u001b[0m\u001b[1;33m\u001b[0m\u001b[1;33m\u001b[0m\u001b[0m\n\u001b[0;32m    423\u001b[0m         \u001b[1;32melse\u001b[0m\u001b[1;33m:\u001b[0m\u001b[1;33m\u001b[0m\u001b[1;33m\u001b[0m\u001b[0m\n",
      "\u001b[1;32m~\\anaconda3\\lib\\site-packages\\sklearn\\utils\\validation.py\u001b[0m in \u001b[0;36minner_f\u001b[1;34m(*args, **kwargs)\u001b[0m\n\u001b[0;32m     61\u001b[0m             \u001b[0mextra_args\u001b[0m \u001b[1;33m=\u001b[0m \u001b[0mlen\u001b[0m\u001b[1;33m(\u001b[0m\u001b[0margs\u001b[0m\u001b[1;33m)\u001b[0m \u001b[1;33m-\u001b[0m \u001b[0mlen\u001b[0m\u001b[1;33m(\u001b[0m\u001b[0mall_args\u001b[0m\u001b[1;33m)\u001b[0m\u001b[1;33m\u001b[0m\u001b[1;33m\u001b[0m\u001b[0m\n\u001b[0;32m     62\u001b[0m             \u001b[1;32mif\u001b[0m \u001b[0mextra_args\u001b[0m \u001b[1;33m<=\u001b[0m \u001b[1;36m0\u001b[0m\u001b[1;33m:\u001b[0m\u001b[1;33m\u001b[0m\u001b[1;33m\u001b[0m\u001b[0m\n\u001b[1;32m---> 63\u001b[1;33m                 \u001b[1;32mreturn\u001b[0m \u001b[0mf\u001b[0m\u001b[1;33m(\u001b[0m\u001b[1;33m*\u001b[0m\u001b[0margs\u001b[0m\u001b[1;33m,\u001b[0m \u001b[1;33m**\u001b[0m\u001b[0mkwargs\u001b[0m\u001b[1;33m)\u001b[0m\u001b[1;33m\u001b[0m\u001b[1;33m\u001b[0m\u001b[0m\n\u001b[0m\u001b[0;32m     64\u001b[0m \u001b[1;33m\u001b[0m\u001b[0m\n\u001b[0;32m     65\u001b[0m             \u001b[1;31m# extra_args > 0\u001b[0m\u001b[1;33m\u001b[0m\u001b[1;33m\u001b[0m\u001b[1;33m\u001b[0m\u001b[0m\n",
      "\u001b[1;32m~\\anaconda3\\lib\\site-packages\\sklearn\\utils\\validation.py\u001b[0m in \u001b[0;36mcheck_array\u001b[1;34m(array, accept_sparse, accept_large_sparse, dtype, order, copy, force_all_finite, ensure_2d, allow_nd, ensure_min_samples, ensure_min_features, estimator)\u001b[0m\n\u001b[0;32m    681\u001b[0m \u001b[1;33m\u001b[0m\u001b[0m\n\u001b[0;32m    682\u001b[0m     \u001b[1;32mif\u001b[0m \u001b[0mcopy\u001b[0m \u001b[1;32mand\u001b[0m \u001b[0mnp\u001b[0m\u001b[1;33m.\u001b[0m\u001b[0mmay_share_memory\u001b[0m\u001b[1;33m(\u001b[0m\u001b[0marray\u001b[0m\u001b[1;33m,\u001b[0m \u001b[0marray_orig\u001b[0m\u001b[1;33m)\u001b[0m\u001b[1;33m:\u001b[0m\u001b[1;33m\u001b[0m\u001b[1;33m\u001b[0m\u001b[0m\n\u001b[1;32m--> 683\u001b[1;33m         \u001b[0marray\u001b[0m \u001b[1;33m=\u001b[0m \u001b[0mnp\u001b[0m\u001b[1;33m.\u001b[0m\u001b[0marray\u001b[0m\u001b[1;33m(\u001b[0m\u001b[0marray\u001b[0m\u001b[1;33m,\u001b[0m \u001b[0mdtype\u001b[0m\u001b[1;33m=\u001b[0m\u001b[0mdtype\u001b[0m\u001b[1;33m,\u001b[0m \u001b[0morder\u001b[0m\u001b[1;33m=\u001b[0m\u001b[0morder\u001b[0m\u001b[1;33m)\u001b[0m\u001b[1;33m\u001b[0m\u001b[1;33m\u001b[0m\u001b[0m\n\u001b[0m\u001b[0;32m    684\u001b[0m \u001b[1;33m\u001b[0m\u001b[0m\n\u001b[0;32m    685\u001b[0m     \u001b[1;32mreturn\u001b[0m \u001b[0marray\u001b[0m\u001b[1;33m\u001b[0m\u001b[1;33m\u001b[0m\u001b[0m\n",
      "\u001b[1;31mMemoryError\u001b[0m: Unable to allocate 2.06 GiB for an array with shape (10000, 27679) and data type float64"
     ]
    }
   ],
   "source": [
    "%%time \n",
    "range_k = [i for i in range(1, 9)]\n",
    "results_k = {}\n",
    "for k in range_k:\n",
    "    results_k[k] = evaluate_k_kmeans_inertia(k)"
   ]
  },
  {
   "cell_type": "code",
   "execution_count": 115,
   "metadata": {},
   "outputs": [
    {
     "data": {
      "text/plain": [
       "{}"
      ]
     },
     "execution_count": 115,
     "metadata": {},
     "output_type": "execute_result"
    }
   ],
   "source": [
    "results_k"
   ]
  },
  {
   "cell_type": "code",
   "execution_count": 116,
   "metadata": {},
   "outputs": [
    {
     "name": "stderr",
     "output_type": "stream",
     "text": [
      "No handles with labels found to put in legend.\n"
     ]
    },
    {
     "data": {
      "image/png": "[encoded data removed]",
      "text/plain": [
       "<Figure size 576x432 with 1 Axes>"
      ]
     },
     "metadata": {
      "needs_background": "light"
     },
     "output_type": "display_data"
    }
   ],
   "source": [
    "fig, ax = plt.subplots(figsize=(8,6))\n",
    "ax = sns.lineplot(\n",
    "    [c[0] for c in results_k.items()],\n",
    "    [c[1] for c in results_k.items()], label=\"inertia\", color=\"red\")\n",
    "ax.set_xlabel(\"K\")\n",
    "ax.set_ylabel(\"inertia\")\n",
    "ax.set_title(\"Inertia by K\")\n",
    "ax.legend();"
   ]
  },
  {
   "cell_type": "code",
   "execution_count": 117,
   "metadata": {},
   "outputs": [
    {
     "ename": "MemoryError",
     "evalue": "Unable to allocate 2.06 GiB for an array with shape (10000, 27679) and data type float64",
     "output_type": "error",
     "traceback": [
      "\u001b[1;31m---------------------------------------------------------------------------\u001b[0m",
      "\u001b[1;31mMemoryError\u001b[0m                               Traceback (most recent call last)",
      "\u001b[1;32m<ipython-input-117-5fe510357c17>\u001b[0m in \u001b[0;36m<module>\u001b[1;34m\u001b[0m\n\u001b[0;32m      1\u001b[0m \u001b[0mestimator_kmeans\u001b[0m \u001b[1;33m=\u001b[0m \u001b[0mKMeans\u001b[0m\u001b[1;33m(\u001b[0m\u001b[0mrandom_state\u001b[0m\u001b[1;33m=\u001b[0m\u001b[1;36m42\u001b[0m\u001b[1;33m,\u001b[0m \u001b[0mn_clusters\u001b[0m\u001b[1;33m=\u001b[0m\u001b[1;36m5\u001b[0m\u001b[1;33m)\u001b[0m\u001b[1;33m\u001b[0m\u001b[1;33m\u001b[0m\u001b[0m\n\u001b[1;32m----> 2\u001b[1;33m \u001b[0mestimator_kmeans\u001b[0m\u001b[1;33m.\u001b[0m\u001b[0mfit\u001b[0m\u001b[1;33m(\u001b[0m\u001b[0mtext_vec\u001b[0m\u001b[1;33m)\u001b[0m\u001b[1;33m\u001b[0m\u001b[1;33m\u001b[0m\u001b[0m\n\u001b[0m",
      "\u001b[1;32m~\\anaconda3\\lib\\site-packages\\sklearn\\cluster\\_kmeans.py\u001b[0m in \u001b[0;36mfit\u001b[1;34m(self, X, y, sample_weight)\u001b[0m\n\u001b[0;32m    977\u001b[0m             \u001b[0mFitted\u001b[0m \u001b[0mestimator\u001b[0m\u001b[1;33m.\u001b[0m\u001b[1;33m\u001b[0m\u001b[1;33m\u001b[0m\u001b[0m\n\u001b[0;32m    978\u001b[0m         \"\"\"\n\u001b[1;32m--> 979\u001b[1;33m         X = self._validate_data(X, accept_sparse='csr',\n\u001b[0m\u001b[0;32m    980\u001b[0m                                 \u001b[0mdtype\u001b[0m\u001b[1;33m=\u001b[0m\u001b[1;33m[\u001b[0m\u001b[0mnp\u001b[0m\u001b[1;33m.\u001b[0m\u001b[0mfloat64\u001b[0m\u001b[1;33m,\u001b[0m \u001b[0mnp\u001b[0m\u001b[1;33m.\u001b[0m\u001b[0mfloat32\u001b[0m\u001b[1;33m]\u001b[0m\u001b[1;33m,\u001b[0m\u001b[1;33m\u001b[0m\u001b[1;33m\u001b[0m\u001b[0m\n\u001b[0;32m    981\u001b[0m                                 \u001b[0morder\u001b[0m\u001b[1;33m=\u001b[0m\u001b[1;34m'C'\u001b[0m\u001b[1;33m,\u001b[0m \u001b[0mcopy\u001b[0m\u001b[1;33m=\u001b[0m\u001b[0mself\u001b[0m\u001b[1;33m.\u001b[0m\u001b[0mcopy_x\u001b[0m\u001b[1;33m,\u001b[0m\u001b[1;33m\u001b[0m\u001b[1;33m\u001b[0m\u001b[0m\n",
      "\u001b[1;32m~\\anaconda3\\lib\\site-packages\\sklearn\\base.py\u001b[0m in \u001b[0;36m_validate_data\u001b[1;34m(self, X, y, reset, validate_separately, **check_params)\u001b[0m\n\u001b[0;32m    419\u001b[0m             \u001b[0mout\u001b[0m \u001b[1;33m=\u001b[0m \u001b[0mX\u001b[0m\u001b[1;33m\u001b[0m\u001b[1;33m\u001b[0m\u001b[0m\n\u001b[0;32m    420\u001b[0m         \u001b[1;32melif\u001b[0m \u001b[0misinstance\u001b[0m\u001b[1;33m(\u001b[0m\u001b[0my\u001b[0m\u001b[1;33m,\u001b[0m \u001b[0mstr\u001b[0m\u001b[1;33m)\u001b[0m \u001b[1;32mand\u001b[0m \u001b[0my\u001b[0m \u001b[1;33m==\u001b[0m \u001b[1;34m'no_validation'\u001b[0m\u001b[1;33m:\u001b[0m\u001b[1;33m\u001b[0m\u001b[1;33m\u001b[0m\u001b[0m\n\u001b[1;32m--> 421\u001b[1;33m             \u001b[0mX\u001b[0m \u001b[1;33m=\u001b[0m \u001b[0mcheck_array\u001b[0m\u001b[1;33m(\u001b[0m\u001b[0mX\u001b[0m\u001b[1;33m,\u001b[0m \u001b[1;33m**\u001b[0m\u001b[0mcheck_params\u001b[0m\u001b[1;33m)\u001b[0m\u001b[1;33m\u001b[0m\u001b[1;33m\u001b[0m\u001b[0m\n\u001b[0m\u001b[0;32m    422\u001b[0m             \u001b[0mout\u001b[0m \u001b[1;33m=\u001b[0m \u001b[0mX\u001b[0m\u001b[1;33m\u001b[0m\u001b[1;33m\u001b[0m\u001b[0m\n\u001b[0;32m    423\u001b[0m         \u001b[1;32melse\u001b[0m\u001b[1;33m:\u001b[0m\u001b[1;33m\u001b[0m\u001b[1;33m\u001b[0m\u001b[0m\n",
      "\u001b[1;32m~\\anaconda3\\lib\\site-packages\\sklearn\\utils\\validation.py\u001b[0m in \u001b[0;36minner_f\u001b[1;34m(*args, **kwargs)\u001b[0m\n\u001b[0;32m     61\u001b[0m             \u001b[0mextra_args\u001b[0m \u001b[1;33m=\u001b[0m \u001b[0mlen\u001b[0m\u001b[1;33m(\u001b[0m\u001b[0margs\u001b[0m\u001b[1;33m)\u001b[0m \u001b[1;33m-\u001b[0m \u001b[0mlen\u001b[0m\u001b[1;33m(\u001b[0m\u001b[0mall_args\u001b[0m\u001b[1;33m)\u001b[0m\u001b[1;33m\u001b[0m\u001b[1;33m\u001b[0m\u001b[0m\n\u001b[0;32m     62\u001b[0m             \u001b[1;32mif\u001b[0m \u001b[0mextra_args\u001b[0m \u001b[1;33m<=\u001b[0m \u001b[1;36m0\u001b[0m\u001b[1;33m:\u001b[0m\u001b[1;33m\u001b[0m\u001b[1;33m\u001b[0m\u001b[0m\n\u001b[1;32m---> 63\u001b[1;33m                 \u001b[1;32mreturn\u001b[0m \u001b[0mf\u001b[0m\u001b[1;33m(\u001b[0m\u001b[1;33m*\u001b[0m\u001b[0margs\u001b[0m\u001b[1;33m,\u001b[0m \u001b[1;33m**\u001b[0m\u001b[0mkwargs\u001b[0m\u001b[1;33m)\u001b[0m\u001b[1;33m\u001b[0m\u001b[1;33m\u001b[0m\u001b[0m\n\u001b[0m\u001b[0;32m     64\u001b[0m \u001b[1;33m\u001b[0m\u001b[0m\n\u001b[0;32m     65\u001b[0m             \u001b[1;31m# extra_args > 0\u001b[0m\u001b[1;33m\u001b[0m\u001b[1;33m\u001b[0m\u001b[1;33m\u001b[0m\u001b[0m\n",
      "\u001b[1;32m~\\anaconda3\\lib\\site-packages\\sklearn\\utils\\validation.py\u001b[0m in \u001b[0;36mcheck_array\u001b[1;34m(array, accept_sparse, accept_large_sparse, dtype, order, copy, force_all_finite, ensure_2d, allow_nd, ensure_min_samples, ensure_min_features, estimator)\u001b[0m\n\u001b[0;32m    681\u001b[0m \u001b[1;33m\u001b[0m\u001b[0m\n\u001b[0;32m    682\u001b[0m     \u001b[1;32mif\u001b[0m \u001b[0mcopy\u001b[0m \u001b[1;32mand\u001b[0m \u001b[0mnp\u001b[0m\u001b[1;33m.\u001b[0m\u001b[0mmay_share_memory\u001b[0m\u001b[1;33m(\u001b[0m\u001b[0marray\u001b[0m\u001b[1;33m,\u001b[0m \u001b[0marray_orig\u001b[0m\u001b[1;33m)\u001b[0m\u001b[1;33m:\u001b[0m\u001b[1;33m\u001b[0m\u001b[1;33m\u001b[0m\u001b[0m\n\u001b[1;32m--> 683\u001b[1;33m         \u001b[0marray\u001b[0m \u001b[1;33m=\u001b[0m \u001b[0mnp\u001b[0m\u001b[1;33m.\u001b[0m\u001b[0marray\u001b[0m\u001b[1;33m(\u001b[0m\u001b[0marray\u001b[0m\u001b[1;33m,\u001b[0m \u001b[0mdtype\u001b[0m\u001b[1;33m=\u001b[0m\u001b[0mdtype\u001b[0m\u001b[1;33m,\u001b[0m \u001b[0morder\u001b[0m\u001b[1;33m=\u001b[0m\u001b[0morder\u001b[0m\u001b[1;33m)\u001b[0m\u001b[1;33m\u001b[0m\u001b[1;33m\u001b[0m\u001b[0m\n\u001b[0m\u001b[0;32m    684\u001b[0m \u001b[1;33m\u001b[0m\u001b[0m\n\u001b[0;32m    685\u001b[0m     \u001b[1;32mreturn\u001b[0m \u001b[0marray\u001b[0m\u001b[1;33m\u001b[0m\u001b[1;33m\u001b[0m\u001b[0m\n",
      "\u001b[1;31mMemoryError\u001b[0m: Unable to allocate 2.06 GiB for an array with shape (10000, 27679) and data type float64"
     ]
    }
   ],
   "source": [
    "estimator_kmeans = KMeans(random_state=42, n_clusters=5) \n",
    "estimator_kmeans.fit(text_vec)"
   ]
  },
  {
   "cell_type": "code",
   "execution_count": null,
   "metadata": {},
   "outputs": [],
   "source": [
    "text_vec[\"cluster_id\"] = estimator_kmeans.labels_\n",
    "text_vec.head()"
   ]
  },
  {
   "cell_type": "code",
   "execution_count": 118,
   "metadata": {},
   "outputs": [
    {
     "ename": "KeyError",
     "evalue": "'cluster_id'",
     "output_type": "error",
     "traceback": [
      "\u001b[1;31m---------------------------------------------------------------------------\u001b[0m",
      "\u001b[1;31mKeyError\u001b[0m                                  Traceback (most recent call last)",
      "\u001b[1;32m<ipython-input-118-6406ee25c146>\u001b[0m in \u001b[0;36m<module>\u001b[1;34m\u001b[0m\n\u001b[1;32m----> 1\u001b[1;33m \u001b[0mtext_clusters\u001b[0m \u001b[1;33m=\u001b[0m \u001b[0mtext_vec\u001b[0m\u001b[1;33m.\u001b[0m\u001b[0mgroupby\u001b[0m\u001b[1;33m(\u001b[0m\u001b[1;34m'cluster_id'\u001b[0m\u001b[1;33m)\u001b[0m\u001b[1;33m.\u001b[0m\u001b[0msum\u001b[0m\u001b[1;33m(\u001b[0m\u001b[1;33m)\u001b[0m\u001b[1;33m\u001b[0m\u001b[1;33m\u001b[0m\u001b[0m\n\u001b[0m\u001b[0;32m      2\u001b[0m \u001b[0mtext_clusters\u001b[0m\u001b[1;33m.\u001b[0m\u001b[0mhead\u001b[0m\u001b[1;33m(\u001b[0m\u001b[1;33m)\u001b[0m\u001b[1;33m\u001b[0m\u001b[1;33m\u001b[0m\u001b[0m\n",
      "\u001b[1;32m~\\anaconda3\\lib\\site-packages\\pandas\\core\\frame.py\u001b[0m in \u001b[0;36mgroupby\u001b[1;34m(self, by, axis, level, as_index, sort, group_keys, squeeze, observed, dropna)\u001b[0m\n\u001b[0;32m   6715\u001b[0m         \u001b[0maxis\u001b[0m \u001b[1;33m=\u001b[0m \u001b[0mself\u001b[0m\u001b[1;33m.\u001b[0m\u001b[0m_get_axis_number\u001b[0m\u001b[1;33m(\u001b[0m\u001b[0maxis\u001b[0m\u001b[1;33m)\u001b[0m\u001b[1;33m\u001b[0m\u001b[1;33m\u001b[0m\u001b[0m\n\u001b[0;32m   6716\u001b[0m \u001b[1;33m\u001b[0m\u001b[0m\n\u001b[1;32m-> 6717\u001b[1;33m         return DataFrameGroupBy(\n\u001b[0m\u001b[0;32m   6718\u001b[0m             \u001b[0mobj\u001b[0m\u001b[1;33m=\u001b[0m\u001b[0mself\u001b[0m\u001b[1;33m,\u001b[0m\u001b[1;33m\u001b[0m\u001b[1;33m\u001b[0m\u001b[0m\n\u001b[0;32m   6719\u001b[0m             \u001b[0mkeys\u001b[0m\u001b[1;33m=\u001b[0m\u001b[0mby\u001b[0m\u001b[1;33m,\u001b[0m\u001b[1;33m\u001b[0m\u001b[1;33m\u001b[0m\u001b[0m\n",
      "\u001b[1;32m~\\anaconda3\\lib\\site-packages\\pandas\\core\\groupby\\groupby.py\u001b[0m in \u001b[0;36m__init__\u001b[1;34m(self, obj, keys, axis, level, grouper, exclusions, selection, as_index, sort, group_keys, squeeze, observed, mutated, dropna)\u001b[0m\n\u001b[0;32m    558\u001b[0m             \u001b[1;32mfrom\u001b[0m \u001b[0mpandas\u001b[0m\u001b[1;33m.\u001b[0m\u001b[0mcore\u001b[0m\u001b[1;33m.\u001b[0m\u001b[0mgroupby\u001b[0m\u001b[1;33m.\u001b[0m\u001b[0mgrouper\u001b[0m \u001b[1;32mimport\u001b[0m \u001b[0mget_grouper\u001b[0m\u001b[1;33m\u001b[0m\u001b[1;33m\u001b[0m\u001b[0m\n\u001b[0;32m    559\u001b[0m \u001b[1;33m\u001b[0m\u001b[0m\n\u001b[1;32m--> 560\u001b[1;33m             grouper, exclusions, obj = get_grouper(\n\u001b[0m\u001b[0;32m    561\u001b[0m                 \u001b[0mobj\u001b[0m\u001b[1;33m,\u001b[0m\u001b[1;33m\u001b[0m\u001b[1;33m\u001b[0m\u001b[0m\n\u001b[0;32m    562\u001b[0m                 \u001b[0mkeys\u001b[0m\u001b[1;33m,\u001b[0m\u001b[1;33m\u001b[0m\u001b[1;33m\u001b[0m\u001b[0m\n",
      "\u001b[1;32m~\\anaconda3\\lib\\site-packages\\pandas\\core\\groupby\\grouper.py\u001b[0m in \u001b[0;36mget_grouper\u001b[1;34m(obj, key, axis, level, sort, observed, mutated, validate, dropna)\u001b[0m\n\u001b[0;32m    809\u001b[0m                 \u001b[0min_axis\u001b[0m\u001b[1;33m,\u001b[0m \u001b[0mname\u001b[0m\u001b[1;33m,\u001b[0m \u001b[0mlevel\u001b[0m\u001b[1;33m,\u001b[0m \u001b[0mgpr\u001b[0m \u001b[1;33m=\u001b[0m \u001b[1;32mFalse\u001b[0m\u001b[1;33m,\u001b[0m \u001b[1;32mNone\u001b[0m\u001b[1;33m,\u001b[0m \u001b[0mgpr\u001b[0m\u001b[1;33m,\u001b[0m \u001b[1;32mNone\u001b[0m\u001b[1;33m\u001b[0m\u001b[1;33m\u001b[0m\u001b[0m\n\u001b[0;32m    810\u001b[0m             \u001b[1;32melse\u001b[0m\u001b[1;33m:\u001b[0m\u001b[1;33m\u001b[0m\u001b[1;33m\u001b[0m\u001b[0m\n\u001b[1;32m--> 811\u001b[1;33m                 \u001b[1;32mraise\u001b[0m \u001b[0mKeyError\u001b[0m\u001b[1;33m(\u001b[0m\u001b[0mgpr\u001b[0m\u001b[1;33m)\u001b[0m\u001b[1;33m\u001b[0m\u001b[1;33m\u001b[0m\u001b[0m\n\u001b[0m\u001b[0;32m    812\u001b[0m         \u001b[1;32melif\u001b[0m \u001b[0misinstance\u001b[0m\u001b[1;33m(\u001b[0m\u001b[0mgpr\u001b[0m\u001b[1;33m,\u001b[0m \u001b[0mGrouper\u001b[0m\u001b[1;33m)\u001b[0m \u001b[1;32mand\u001b[0m \u001b[0mgpr\u001b[0m\u001b[1;33m.\u001b[0m\u001b[0mkey\u001b[0m \u001b[1;32mis\u001b[0m \u001b[1;32mnot\u001b[0m \u001b[1;32mNone\u001b[0m\u001b[1;33m:\u001b[0m\u001b[1;33m\u001b[0m\u001b[1;33m\u001b[0m\u001b[0m\n\u001b[0;32m    813\u001b[0m             \u001b[1;31m# Add key to exclusions\u001b[0m\u001b[1;33m\u001b[0m\u001b[1;33m\u001b[0m\u001b[1;33m\u001b[0m\u001b[0m\n",
      "\u001b[1;31mKeyError\u001b[0m: 'cluster_id'"
     ]
    }
   ],
   "source": [
    "text_clusters = text_vec.groupby('cluster_id').sum()\n",
    "text_clusters.head()"
   ]
  },
  {
   "cell_type": "code",
   "execution_count": 119,
   "metadata": {},
   "outputs": [
    {
     "ename": "KeyError",
     "evalue": "\"['nsa'] not in index\"",
     "output_type": "error",
     "traceback": [
      "\u001b[1;31m---------------------------------------------------------------------------\u001b[0m",
      "\u001b[1;31mKeyError\u001b[0m                                  Traceback (most recent call last)",
      "\u001b[1;32m<ipython-input-119-047e13ec4b7f>\u001b[0m in \u001b[0;36m<module>\u001b[1;34m\u001b[0m\n\u001b[1;32m----> 1\u001b[1;33m text_clusters_20 = text_clusters[['camera',\n\u001b[0m\u001b[0;32m      2\u001b[0m  \u001b[1;34m'amp'\u001b[0m\u001b[1;33m,\u001b[0m\u001b[1;33m\u001b[0m\u001b[1;33m\u001b[0m\u001b[0m\n\u001b[0;32m      3\u001b[0m  \u001b[1;34m'state'\u001b[0m\u001b[1;33m,\u001b[0m\u001b[1;33m\u001b[0m\u001b[1;33m\u001b[0m\u001b[0m\n\u001b[0;32m      4\u001b[0m  \u001b[1;34m'video'\u001b[0m\u001b[1;33m,\u001b[0m\u001b[1;33m\u001b[0m\u001b[1;33m\u001b[0m\u001b[0m\n\u001b[0;32m      5\u001b[0m  \u001b[1;34m'system'\u001b[0m\u001b[1;33m,\u001b[0m\u001b[1;33m\u001b[0m\u001b[1;33m\u001b[0m\u001b[0m\n",
      "\u001b[1;32m~\\anaconda3\\lib\\site-packages\\pandas\\core\\frame.py\u001b[0m in \u001b[0;36m__getitem__\u001b[1;34m(self, key)\u001b[0m\n\u001b[0;32m   3028\u001b[0m             \u001b[1;32mif\u001b[0m \u001b[0mis_iterator\u001b[0m\u001b[1;33m(\u001b[0m\u001b[0mkey\u001b[0m\u001b[1;33m)\u001b[0m\u001b[1;33m:\u001b[0m\u001b[1;33m\u001b[0m\u001b[1;33m\u001b[0m\u001b[0m\n\u001b[0;32m   3029\u001b[0m                 \u001b[0mkey\u001b[0m \u001b[1;33m=\u001b[0m \u001b[0mlist\u001b[0m\u001b[1;33m(\u001b[0m\u001b[0mkey\u001b[0m\u001b[1;33m)\u001b[0m\u001b[1;33m\u001b[0m\u001b[1;33m\u001b[0m\u001b[0m\n\u001b[1;32m-> 3030\u001b[1;33m             \u001b[0mindexer\u001b[0m \u001b[1;33m=\u001b[0m \u001b[0mself\u001b[0m\u001b[1;33m.\u001b[0m\u001b[0mloc\u001b[0m\u001b[1;33m.\u001b[0m\u001b[0m_get_listlike_indexer\u001b[0m\u001b[1;33m(\u001b[0m\u001b[0mkey\u001b[0m\u001b[1;33m,\u001b[0m \u001b[0maxis\u001b[0m\u001b[1;33m=\u001b[0m\u001b[1;36m1\u001b[0m\u001b[1;33m,\u001b[0m \u001b[0mraise_missing\u001b[0m\u001b[1;33m=\u001b[0m\u001b[1;32mTrue\u001b[0m\u001b[1;33m)\u001b[0m\u001b[1;33m[\u001b[0m\u001b[1;36m1\u001b[0m\u001b[1;33m]\u001b[0m\u001b[1;33m\u001b[0m\u001b[1;33m\u001b[0m\u001b[0m\n\u001b[0m\u001b[0;32m   3031\u001b[0m \u001b[1;33m\u001b[0m\u001b[0m\n\u001b[0;32m   3032\u001b[0m         \u001b[1;31m# take() does not accept boolean indexers\u001b[0m\u001b[1;33m\u001b[0m\u001b[1;33m\u001b[0m\u001b[1;33m\u001b[0m\u001b[0m\n",
      "\u001b[1;32m~\\anaconda3\\lib\\site-packages\\pandas\\core\\indexing.py\u001b[0m in \u001b[0;36m_get_listlike_indexer\u001b[1;34m(self, key, axis, raise_missing)\u001b[0m\n\u001b[0;32m   1264\u001b[0m             \u001b[0mkeyarr\u001b[0m\u001b[1;33m,\u001b[0m \u001b[0mindexer\u001b[0m\u001b[1;33m,\u001b[0m \u001b[0mnew_indexer\u001b[0m \u001b[1;33m=\u001b[0m \u001b[0max\u001b[0m\u001b[1;33m.\u001b[0m\u001b[0m_reindex_non_unique\u001b[0m\u001b[1;33m(\u001b[0m\u001b[0mkeyarr\u001b[0m\u001b[1;33m)\u001b[0m\u001b[1;33m\u001b[0m\u001b[1;33m\u001b[0m\u001b[0m\n\u001b[0;32m   1265\u001b[0m \u001b[1;33m\u001b[0m\u001b[0m\n\u001b[1;32m-> 1266\u001b[1;33m         \u001b[0mself\u001b[0m\u001b[1;33m.\u001b[0m\u001b[0m_validate_read_indexer\u001b[0m\u001b[1;33m(\u001b[0m\u001b[0mkeyarr\u001b[0m\u001b[1;33m,\u001b[0m \u001b[0mindexer\u001b[0m\u001b[1;33m,\u001b[0m \u001b[0maxis\u001b[0m\u001b[1;33m,\u001b[0m \u001b[0mraise_missing\u001b[0m\u001b[1;33m=\u001b[0m\u001b[0mraise_missing\u001b[0m\u001b[1;33m)\u001b[0m\u001b[1;33m\u001b[0m\u001b[1;33m\u001b[0m\u001b[0m\n\u001b[0m\u001b[0;32m   1267\u001b[0m         \u001b[1;32mreturn\u001b[0m \u001b[0mkeyarr\u001b[0m\u001b[1;33m,\u001b[0m \u001b[0mindexer\u001b[0m\u001b[1;33m\u001b[0m\u001b[1;33m\u001b[0m\u001b[0m\n\u001b[0;32m   1268\u001b[0m \u001b[1;33m\u001b[0m\u001b[0m\n",
      "\u001b[1;32m~\\anaconda3\\lib\\site-packages\\pandas\\core\\indexing.py\u001b[0m in \u001b[0;36m_validate_read_indexer\u001b[1;34m(self, key, indexer, axis, raise_missing)\u001b[0m\n\u001b[0;32m   1314\u001b[0m             \u001b[1;32mif\u001b[0m \u001b[0mraise_missing\u001b[0m\u001b[1;33m:\u001b[0m\u001b[1;33m\u001b[0m\u001b[1;33m\u001b[0m\u001b[0m\n\u001b[0;32m   1315\u001b[0m                 \u001b[0mnot_found\u001b[0m \u001b[1;33m=\u001b[0m \u001b[0mlist\u001b[0m\u001b[1;33m(\u001b[0m\u001b[0mset\u001b[0m\u001b[1;33m(\u001b[0m\u001b[0mkey\u001b[0m\u001b[1;33m)\u001b[0m \u001b[1;33m-\u001b[0m \u001b[0mset\u001b[0m\u001b[1;33m(\u001b[0m\u001b[0max\u001b[0m\u001b[1;33m)\u001b[0m\u001b[1;33m)\u001b[0m\u001b[1;33m\u001b[0m\u001b[1;33m\u001b[0m\u001b[0m\n\u001b[1;32m-> 1316\u001b[1;33m                 \u001b[1;32mraise\u001b[0m \u001b[0mKeyError\u001b[0m\u001b[1;33m(\u001b[0m\u001b[1;34mf\"{not_found} not in index\"\u001b[0m\u001b[1;33m)\u001b[0m\u001b[1;33m\u001b[0m\u001b[1;33m\u001b[0m\u001b[0m\n\u001b[0m\u001b[0;32m   1317\u001b[0m \u001b[1;33m\u001b[0m\u001b[0m\n\u001b[0;32m   1318\u001b[0m             \u001b[0mnot_found\u001b[0m \u001b[1;33m=\u001b[0m \u001b[0mkey\u001b[0m\u001b[1;33m[\u001b[0m\u001b[0mmissing_mask\u001b[0m\u001b[1;33m]\u001b[0m\u001b[1;33m\u001b[0m\u001b[1;33m\u001b[0m\u001b[0m\n",
      "\u001b[1;31mKeyError\u001b[0m: \"['nsa'] not in index\""
     ]
    }
   ],
   "source": [
    "text_clusters_20 = text_clusters[['camera',\n",
    " 'amp',\n",
    " 'state',\n",
    " 'video',\n",
    " 'system',\n",
    " 'security',\n",
    " 'people',\n",
    " 'fbi',\n",
    " 'police',\n",
    " 'like',\n",
    " 'new',\n",
    " 'one',\n",
    " 'public',\n",
    " 'american',\n",
    " 'technology',\n",
    " 'right',\n",
    " 'government',\n",
    " 'nsa',\n",
    " 'know',\n",
    " 'need']\n",
    "]\n",
    "\n",
    "text_clusters_20.head()"
   ]
  },
  {
   "cell_type": "code",
   "execution_count": 120,
   "metadata": {},
   "outputs": [
    {
     "data": {
      "image/png": "[encoded data removed]",
      "text/plain": [
       "<Figure size 1800x1080 with 2 Axes>"
      ]
     },
     "metadata": {
      "needs_background": "light"
     },
     "output_type": "display_data"
    }
   ],
   "source": [
    "fig, ax = plt.subplots(figsize=(25,15))\n",
    "sns.heatmap(text_clusters_20.transpose(), annot=False)\n",
    "plt.title(\"Cluster Analysis based on Twitter Posts using the Top 20 Words\", size = 30);"
   ]
  },
  {
   "cell_type": "code",
   "execution_count": 121,
   "metadata": {},
   "outputs": [
    {
     "name": "stdout",
     "output_type": "stream",
     "text": [
      "Requirement already satisfied: vaderSentiment in c:\\users\\pc\\anaconda3\\lib\\site-packages (3.3.2)\n",
      "Requirement already satisfied: requests in c:\\users\\pc\\anaconda3\\lib\\site-packages (from vaderSentiment) (2.25.1)\n",
      "Requirement already satisfied: chardet<5,>=3.0.2 in c:\\users\\pc\\anaconda3\\lib\\site-packages (from requests->vaderSentiment) (4.0.0)\n",
      "Requirement already satisfied: certifi>=2017.4.17 in c:\\users\\pc\\anaconda3\\lib\\site-packages (from requests->vaderSentiment) (2020.12.5)\n",
      "Requirement already satisfied: idna<3,>=2.5 in c:\\users\\pc\\anaconda3\\lib\\site-packages (from requests->vaderSentiment) (2.10)\n",
      "Requirement already satisfied: urllib3<1.27,>=1.21.1 in c:\\users\\pc\\anaconda3\\lib\\site-packages (from requests->vaderSentiment) (1.26.4)\n"
     ]
    }
   ],
   "source": [
    "!pip install vaderSentiment"
   ]
  },
  {
   "cell_type": "code",
   "execution_count": 122,
   "metadata": {},
   "outputs": [],
   "source": [
    "from vaderSentiment.vaderSentiment import SentimentIntensityAnalyzer\n",
    "sid_obj = SentimentIntensityAnalyzer()\n",
    "text['scores'] = text['text'].apply(lambda review: sid_obj.polarity_scores(review))"
   ]
  },
  {
   "cell_type": "code",
   "execution_count": 123,
   "metadata": {},
   "outputs": [
    {
     "data": {
      "text/html": [
       "<div>\n",
       "<style scoped>\n",
       "    .dataframe tbody tr th:only-of-type {\n",
       "        vertical-align: middle;\n",
       "    }\n",
       "\n",
       "    .dataframe tbody tr th {\n",
       "        vertical-align: top;\n",
       "    }\n",
       "\n",
       "    .dataframe thead th {\n",
       "        text-align: right;\n",
       "    }\n",
       "</style>\n",
       "<table border=\"1\" class=\"dataframe\">\n",
       "  <thead>\n",
       "    <tr style=\"text-align: right;\">\n",
       "      <th></th>\n",
       "      <th>text</th>\n",
       "      <th>scores</th>\n",
       "    </tr>\n",
       "  </thead>\n",
       "  <tbody>\n",
       "    <tr>\n",
       "      <th>0</th>\n",
       "      <td>floridamancode ecotechbro successful part thats rub though really thought would involved amassing kind arsenal state pure fantasy</td>\n",
       "      <td>{'neg': 0.0, 'neu': 0.676, 'pos': 0.324, 'compound': 0.802}</td>\n",
       "    </tr>\n",
       "    <tr>\n",
       "      <th>1</th>\n",
       "      <td>engineersfeed check evacuation route watch outside lie floor preparation avoiding snipers\\r\\nu0001f914instructions</td>\n",
       "      <td>{'neg': 0.179, 'neu': 0.821, 'pos': 0.0, 'compound': -0.34}</td>\n",
       "    </tr>\n",
       "    <tr>\n",
       "      <th>2</th>\n",
       "      <td>toronto police service forensic identification unit currently scene working collect preserve evidence\\r\\n taverner said officer also reviewing video footage area\\r\\n</td>\n",
       "      <td>{'neg': 0.0, 'neu': 1.0, 'pos': 0.0, 'compound': 0.0}</td>\n",
       "    </tr>\n",
       "    <tr>\n",
       "      <th>3</th>\n",
       "      <td>trump launched many attack fbi obviously afraid big leap fear actively instigating president political opponents\\r\\n</td>\n",
       "      <td>{'neg': 0.299, 'neu': 0.521, 'pos': 0.18, 'compound': -0.5423}</td>\n",
       "    </tr>\n",
       "    <tr>\n",
       "      <th>4</th>\n",
       "      <td>police released video sunday man wanted questioning june 14 killing sean robinson 33 stamford\\r\\nrobinson way home party east williamsburg shot mother told daily news\\r\\n</td>\n",
       "      <td>{'neg': 0.19, 'neu': 0.721, 'pos': 0.089, 'compound': -0.4767}</td>\n",
       "    </tr>\n",
       "  </tbody>\n",
       "</table>\n",
       "</div>"
      ],
      "text/plain": [
       "                                                                                                                                                                         text  \\\n",
       "0  floridamancode ecotechbro successful part thats rub though really thought would involved amassing kind arsenal state pure fantasy                                            \n",
       "1  engineersfeed check evacuation route watch outside lie floor preparation avoiding snipers\\r\\nu0001f914instructions                                                           \n",
       "2  toronto police service forensic identification unit currently scene working collect preserve evidence\\r\\n taverner said officer also reviewing video footage area\\r\\n        \n",
       "3  trump launched many attack fbi obviously afraid big leap fear actively instigating president political opponents\\r\\n                                                         \n",
       "4  police released video sunday man wanted questioning june 14 killing sean robinson 33 stamford\\r\\nrobinson way home party east williamsburg shot mother told daily news\\r\\n   \n",
       "\n",
       "                                                           scores  \n",
       "0  {'neg': 0.0, 'neu': 0.676, 'pos': 0.324, 'compound': 0.802}     \n",
       "1  {'neg': 0.179, 'neu': 0.821, 'pos': 0.0, 'compound': -0.34}     \n",
       "2  {'neg': 0.0, 'neu': 1.0, 'pos': 0.0, 'compound': 0.0}           \n",
       "3  {'neg': 0.299, 'neu': 0.521, 'pos': 0.18, 'compound': -0.5423}  \n",
       "4  {'neg': 0.19, 'neu': 0.721, 'pos': 0.089, 'compound': -0.4767}  "
      ]
     },
     "execution_count": 123,
     "metadata": {},
     "output_type": "execute_result"
    }
   ],
   "source": [
    "text.head()"
   ]
  },
  {
   "cell_type": "code",
   "execution_count": 124,
   "metadata": {},
   "outputs": [
    {
     "data": {
      "text/html": [
       "<div>\n",
       "<style scoped>\n",
       "    .dataframe tbody tr th:only-of-type {\n",
       "        vertical-align: middle;\n",
       "    }\n",
       "\n",
       "    .dataframe tbody tr th {\n",
       "        vertical-align: top;\n",
       "    }\n",
       "\n",
       "    .dataframe thead th {\n",
       "        text-align: right;\n",
       "    }\n",
       "</style>\n",
       "<table border=\"1\" class=\"dataframe\">\n",
       "  <thead>\n",
       "    <tr style=\"text-align: right;\">\n",
       "      <th></th>\n",
       "      <th>text</th>\n",
       "      <th>scores</th>\n",
       "      <th>compound</th>\n",
       "    </tr>\n",
       "  </thead>\n",
       "  <tbody>\n",
       "    <tr>\n",
       "      <th>0</th>\n",
       "      <td>floridamancode ecotechbro successful part thats rub though really thought would involved amassing kind arsenal state pure fantasy</td>\n",
       "      <td>{'neg': 0.0, 'neu': 0.676, 'pos': 0.324, 'compound': 0.802}</td>\n",
       "      <td>0.8020</td>\n",
       "    </tr>\n",
       "    <tr>\n",
       "      <th>1</th>\n",
       "      <td>engineersfeed check evacuation route watch outside lie floor preparation avoiding snipers\\r\\nu0001f914instructions</td>\n",
       "      <td>{'neg': 0.179, 'neu': 0.821, 'pos': 0.0, 'compound': -0.34}</td>\n",
       "      <td>-0.3400</td>\n",
       "    </tr>\n",
       "    <tr>\n",
       "      <th>2</th>\n",
       "      <td>toronto police service forensic identification unit currently scene working collect preserve evidence\\r\\n taverner said officer also reviewing video footage area\\r\\n</td>\n",
       "      <td>{'neg': 0.0, 'neu': 1.0, 'pos': 0.0, 'compound': 0.0}</td>\n",
       "      <td>0.0000</td>\n",
       "    </tr>\n",
       "    <tr>\n",
       "      <th>3</th>\n",
       "      <td>trump launched many attack fbi obviously afraid big leap fear actively instigating president political opponents\\r\\n</td>\n",
       "      <td>{'neg': 0.299, 'neu': 0.521, 'pos': 0.18, 'compound': -0.5423}</td>\n",
       "      <td>-0.5423</td>\n",
       "    </tr>\n",
       "    <tr>\n",
       "      <th>4</th>\n",
       "      <td>police released video sunday man wanted questioning june 14 killing sean robinson 33 stamford\\r\\nrobinson way home party east williamsburg shot mother told daily news\\r\\n</td>\n",
       "      <td>{'neg': 0.19, 'neu': 0.721, 'pos': 0.089, 'compound': -0.4767}</td>\n",
       "      <td>-0.4767</td>\n",
       "    </tr>\n",
       "  </tbody>\n",
       "</table>\n",
       "</div>"
      ],
      "text/plain": [
       "                                                                                                                                                                         text  \\\n",
       "0  floridamancode ecotechbro successful part thats rub though really thought would involved amassing kind arsenal state pure fantasy                                            \n",
       "1  engineersfeed check evacuation route watch outside lie floor preparation avoiding snipers\\r\\nu0001f914instructions                                                           \n",
       "2  toronto police service forensic identification unit currently scene working collect preserve evidence\\r\\n taverner said officer also reviewing video footage area\\r\\n        \n",
       "3  trump launched many attack fbi obviously afraid big leap fear actively instigating president political opponents\\r\\n                                                         \n",
       "4  police released video sunday man wanted questioning june 14 killing sean robinson 33 stamford\\r\\nrobinson way home party east williamsburg shot mother told daily news\\r\\n   \n",
       "\n",
       "                                                           scores  compound  \n",
       "0  {'neg': 0.0, 'neu': 0.676, 'pos': 0.324, 'compound': 0.802}     0.8020    \n",
       "1  {'neg': 0.179, 'neu': 0.821, 'pos': 0.0, 'compound': -0.34}    -0.3400    \n",
       "2  {'neg': 0.0, 'neu': 1.0, 'pos': 0.0, 'compound': 0.0}           0.0000    \n",
       "3  {'neg': 0.299, 'neu': 0.521, 'pos': 0.18, 'compound': -0.5423} -0.5423    \n",
       "4  {'neg': 0.19, 'neu': 0.721, 'pos': 0.089, 'compound': -0.4767} -0.4767    "
      ]
     },
     "execution_count": 124,
     "metadata": {},
     "output_type": "execute_result"
    }
   ],
   "source": [
    "text['compound']  = text['scores'].apply(lambda score_dict: score_dict['compound'])\n",
    "text.head()"
   ]
  },
  {
   "cell_type": "code",
   "execution_count": 125,
   "metadata": {},
   "outputs": [
    {
     "data": {
      "text/html": [
       "<div>\n",
       "<style scoped>\n",
       "    .dataframe tbody tr th:only-of-type {\n",
       "        vertical-align: middle;\n",
       "    }\n",
       "\n",
       "    .dataframe tbody tr th {\n",
       "        vertical-align: top;\n",
       "    }\n",
       "\n",
       "    .dataframe thead th {\n",
       "        text-align: right;\n",
       "    }\n",
       "</style>\n",
       "<table border=\"1\" class=\"dataframe\">\n",
       "  <thead>\n",
       "    <tr style=\"text-align: right;\">\n",
       "      <th></th>\n",
       "      <th>text</th>\n",
       "      <th>scores</th>\n",
       "      <th>compound</th>\n",
       "      <th>comp_score</th>\n",
       "    </tr>\n",
       "  </thead>\n",
       "  <tbody>\n",
       "    <tr>\n",
       "      <th>0</th>\n",
       "      <td>floridamancode ecotechbro successful part thats rub though really thought would involved amassing kind arsenal state pure fantasy</td>\n",
       "      <td>{'neg': 0.0, 'neu': 0.676, 'pos': 0.324, 'compound': 0.802}</td>\n",
       "      <td>0.8020</td>\n",
       "      <td>pos</td>\n",
       "    </tr>\n",
       "    <tr>\n",
       "      <th>1</th>\n",
       "      <td>engineersfeed check evacuation route watch outside lie floor preparation avoiding snipers\\r\\nu0001f914instructions</td>\n",
       "      <td>{'neg': 0.179, 'neu': 0.821, 'pos': 0.0, 'compound': -0.34}</td>\n",
       "      <td>-0.3400</td>\n",
       "      <td>neg</td>\n",
       "    </tr>\n",
       "    <tr>\n",
       "      <th>2</th>\n",
       "      <td>toronto police service forensic identification unit currently scene working collect preserve evidence\\r\\n taverner said officer also reviewing video footage area\\r\\n</td>\n",
       "      <td>{'neg': 0.0, 'neu': 1.0, 'pos': 0.0, 'compound': 0.0}</td>\n",
       "      <td>0.0000</td>\n",
       "      <td>neutral</td>\n",
       "    </tr>\n",
       "    <tr>\n",
       "      <th>3</th>\n",
       "      <td>trump launched many attack fbi obviously afraid big leap fear actively instigating president political opponents\\r\\n</td>\n",
       "      <td>{'neg': 0.299, 'neu': 0.521, 'pos': 0.18, 'compound': -0.5423}</td>\n",
       "      <td>-0.5423</td>\n",
       "      <td>neg</td>\n",
       "    </tr>\n",
       "    <tr>\n",
       "      <th>4</th>\n",
       "      <td>police released video sunday man wanted questioning june 14 killing sean robinson 33 stamford\\r\\nrobinson way home party east williamsburg shot mother told daily news\\r\\n</td>\n",
       "      <td>{'neg': 0.19, 'neu': 0.721, 'pos': 0.089, 'compound': -0.4767}</td>\n",
       "      <td>-0.4767</td>\n",
       "      <td>neg</td>\n",
       "    </tr>\n",
       "  </tbody>\n",
       "</table>\n",
       "</div>"
      ],
      "text/plain": [
       "                                                                                                                                                                         text  \\\n",
       "0  floridamancode ecotechbro successful part thats rub though really thought would involved amassing kind arsenal state pure fantasy                                            \n",
       "1  engineersfeed check evacuation route watch outside lie floor preparation avoiding snipers\\r\\nu0001f914instructions                                                           \n",
       "2  toronto police service forensic identification unit currently scene working collect preserve evidence\\r\\n taverner said officer also reviewing video footage area\\r\\n        \n",
       "3  trump launched many attack fbi obviously afraid big leap fear actively instigating president political opponents\\r\\n                                                         \n",
       "4  police released video sunday man wanted questioning june 14 killing sean robinson 33 stamford\\r\\nrobinson way home party east williamsburg shot mother told daily news\\r\\n   \n",
       "\n",
       "                                                           scores  compound  \\\n",
       "0  {'neg': 0.0, 'neu': 0.676, 'pos': 0.324, 'compound': 0.802}     0.8020     \n",
       "1  {'neg': 0.179, 'neu': 0.821, 'pos': 0.0, 'compound': -0.34}    -0.3400     \n",
       "2  {'neg': 0.0, 'neu': 1.0, 'pos': 0.0, 'compound': 0.0}           0.0000     \n",
       "3  {'neg': 0.299, 'neu': 0.521, 'pos': 0.18, 'compound': -0.5423} -0.5423     \n",
       "4  {'neg': 0.19, 'neu': 0.721, 'pos': 0.089, 'compound': -0.4767} -0.4767     \n",
       "\n",
       "  comp_score  \n",
       "0  pos        \n",
       "1  neg        \n",
       "2  neutral    \n",
       "3  neg        \n",
       "4  neg        "
      ]
     },
     "execution_count": 125,
     "metadata": {},
     "output_type": "execute_result"
    }
   ],
   "source": [
    "text['comp_score'] = text['compound'].apply(lambda c: 'pos' if c >=0.05 else ('neg' if c <= -0.05 else 'neutral'))\n",
    "\n",
    "text.head()"
   ]
  },
  {
   "cell_type": "code",
   "execution_count": 126,
   "metadata": {},
   "outputs": [],
   "source": [
    "comp_score_counts = text.comp_score.value_counts()"
   ]
  },
  {
   "cell_type": "code",
   "execution_count": 127,
   "metadata": {},
   "outputs": [
    {
     "data": {
      "image/png": "[encoded data removed]",
      "text/plain": [
       "<Figure size 432x288 with 1 Axes>"
      ]
     },
     "metadata": {},
     "output_type": "display_data"
    }
   ],
   "source": [
    "comp_score_counts.plot.pie(autopct=\"%.1f%%\");"
   ]
  },
  {
   "cell_type": "code",
   "execution_count": null,
   "metadata": {},
   "outputs": [],
   "source": []
  }
 ],
 "metadata": {
  "kernelspec": {
   "display_name": "Python 3",
   "language": "python",
   "name": "python3"
  },
  "language_info": {
   "codemirror_mode": {
    "name": "ipython",
    "version": 3
   },
   "file_extension": ".py",
   "mimetype": "text/x-python",
   "name": "python",
   "nbconvert_exporter": "python",
   "pygments_lexer": "ipython3",
   "version": "3.8.8"
  }
 },
 "nbformat": 4,
 "nbformat_minor": 4
}
