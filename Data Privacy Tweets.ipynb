{
 "cells": [
  {
   "cell_type": "code",
   "execution_count": 2,
   "id": "67cd2012",
   "metadata": {},
   "outputs": [],
   "source": [
    "from IPython.display import Image\n",
    "import pandas as pd\n",
    "import numpy as np\n",
    "import matplotlib.pyplot as plt\n",
    "import warnings\n",
    "import seaborn as sns\n",
    "sns.set(rc={'figure.figsize':(6,8)}) \n",
    "\n",
    "import warnings\n",
    "warnings.simplefilter(\"ignore\")\n",
    "\n",
    "%matplotlib inline\n",
    "\n",
    "from sklearn.preprocessing import LabelEncoder \n",
    "\n",
    "from sklearn.linear_model import LinearRegression\n",
    "from sklearn.model_selection import train_test_split\n",
    "\n",
    "from sklearn import metrics\n",
    "\n",
    "from sklearn.model_selection import cross_val_score\n",
    "from sklearn.model_selection import cross_validate\n",
    "\n",
    "from sklearn.metrics import SCORERS\n",
    "import re\n",
    "\n",
    "import nltk \n",
    "from nltk.corpus import stopwords\n",
    "from nltk.stem import PorterStemmer\n",
    "from nltk.stem.wordnet import WordNetLemmatizer\n",
    "\n",
    "from sklearn.cluster import KMeans\n",
    "from sklearn.feature_extraction.text import CountVectorizer\n",
    "from sklearn.feature_extraction.text import TfidfVectorizer"
   ]
  },
  {
   "cell_type": "markdown",
   "id": "28c83f45",
   "metadata": {},
   "source": [
    "# Functions"
   ]
  },
  {
   "cell_type": "code",
   "execution_count": 3,
   "id": "bd2c9845",
   "metadata": {},
   "outputs": [],
   "source": [
    "def cleanTxt(txt):\n",
    "    txt = re.sub(r'[^\\w\\s]','', txt) #remove everything except words and space\n",
    "    txt = txt.lower()\n",
    "    txt = re.sub(r'RT[\\s]+', '', txt) #removing R\n",
    "    txt = re.sub(r'_','', txt) #how to remove underscore as well\n",
    "    txt = re.sub('\\r\\n', '', txt)\n",
    "    txt = re.sub('amp', '', txt) # removing ampersand\n",
    "    if 'https' in txt: # removing hyperlinks \n",
    "        pos = txt.find('https')\n",
    "        txt = txt[:pos]\n",
    "    return txt"
   ]
  },
  {
   "cell_type": "code",
   "execution_count": 4,
   "id": "b33ad675",
   "metadata": {},
   "outputs": [],
   "source": [
    "def stopWords(txt): \n",
    "    txt_lst = txt.split(\" \")\n",
    "    txt_lst = [word for word in txt_lst if word not in stopwords.words('english')]\n",
    "    txt_lst = [wnet.lemmatize(word) for word in txt_lst]\n",
    "    txt_lst = [word for word in txt_lst if word != '']\n",
    "    txt_lst = [word for word in txt_lst if word != 'u0001f449'] # indicates back hand emoji pointing right\n",
    "    txt_lst = [word for word in txt_lst if word != 'data']\n",
    "    txt_lst = [word for word in txt_lst if word != 'privacy']\n",
    "    txt_lst = [word for word in txt_lst if word != 'u']\n",
    "    return \" \".join(txt_lst)"
   ]
  },
  {
   "cell_type": "code",
   "execution_count": 5,
   "id": "7b2569d0",
   "metadata": {},
   "outputs": [],
   "source": [
    "def evaluate_k_kmeans_inertia(k):\n",
    "    print(f\"running Kmeans with k={k}\")\n",
    "    estimator_kmeans = KMeans(random_state=42, n_clusters=k)\n",
    "    estimator_kmeans.fit(text_vec)\n",
    "    return estimator_kmeans.inertia_"
   ]
  },
  {
   "cell_type": "code",
   "execution_count": 6,
   "id": "c2d6f738",
   "metadata": {},
   "outputs": [
    {
     "name": "stdout",
     "output_type": "stream",
     "text": [
      "Requirement already satisfied: pycountry in /Users/marlene/opt/anaconda3/lib/python3.8/site-packages (20.7.3)\r\n"
     ]
    }
   ],
   "source": [
    "!pip install pycountry"
   ]
  },
  {
   "cell_type": "code",
   "execution_count": 7,
   "id": "6a5e73eb",
   "metadata": {},
   "outputs": [
    {
     "name": "stdout",
     "output_type": "stream",
     "text": [
      "Requirement already satisfied: pycountry in /Users/marlene/opt/anaconda3/lib/python3.8/site-packages (20.7.3)\r\n"
     ]
    }
   ],
   "source": [
    "!pip install pycountry\n",
    "def findCountry(txt):\n",
    "    loc = []\n",
    "    for c in pycountry.countries:\n",
    "        if c.name in txt:\n",
    "            return c.name\n",
    "        elif txt != 'global':\n",
    "            return 'Unknown'"
   ]
  },
  {
   "cell_type": "markdown",
   "id": "d73d9e2c",
   "metadata": {},
   "source": [
    "from geopy.geocoders import Nominatim\n",
    "from geopy.extra.rate_limiter import RateLimiter\n",
    "geolocator = Nominatim(user_agent = \"geoapiExercises\")\n",
    "geocode = RateLimiter(geolocator.geocode, max_retries=10000, swallow_exceptions=True, return_value_on_exception=None)\n",
    "def findCountry(txt):\n",
    "    if txt is np.nan:\n",
    "        return 'Unknown'\n",
    "    if txt.lower() == 'global': # maybe not needed\n",
    "        return 'Global'\n",
    "    try:\n",
    "        x = geolocator.geocode(txt, )\n",
    "        if x is None:\n",
    "            return 'Unknown'\n",
    "        loc = x.address.split(',')[-1]\n",
    "        if loc[0] == \" \":\n",
    "            loc = loc[1:]\n",
    "        return loc\n",
    "    except:\n",
    "        return 'Unknown'"
   ]
  },
  {
   "cell_type": "code",
   "execution_count": 8,
   "id": "edbc7172",
   "metadata": {},
   "outputs": [],
   "source": [
    "def cluster_summary(ci, df):\n",
    "    cluster = df[df.cluster_id==ci]\n",
    "    cluster_summary = cluster[categorical_data.columns].mode().to_dict(orient=\"records\")[0]\n",
    "    cluster_summary.update(cluster.mean().to_dict())\n",
    "    return cluster_summary"
   ]
  },
  {
   "cell_type": "code",
   "execution_count": 9,
   "id": "27c4f7cf",
   "metadata": {},
   "outputs": [],
   "source": [
    "# we can make a function that puts comparisons side by side so its easier for us to see in a data frame \n",
    "\n",
    "def cluster_comparison(*cluster_ids):\n",
    "    summaries = []\n",
    "    for cluster_id in cluster_ids:\n",
    "        summaries.append(cluster_summary(cluster_id, df2))\n",
    "    return pd.DataFrame(summaries).set_index(\"cluster_id\").T"
   ]
  },
  {
   "cell_type": "code",
   "execution_count": 10,
   "id": "7ac92fea",
   "metadata": {},
   "outputs": [],
   "source": [
    "def kmeans_cluster(df, n_clusters=2):\n",
    "    \"\"\"This function assigns clusters to every row in the dataframe via kmeans\"\"\"\n",
    "    model = KMeans(n_clusters=n_clusters, random_state=42)\n",
    "    clusters = model.fit_predict(df)\n",
    "    cluster_results = df.copy()\n",
    "    cluster_results['Cluster'] = clusters\n",
    "    return cluster_results"
   ]
  },
  {
   "cell_type": "code",
   "execution_count": 11,
   "id": "64788f37",
   "metadata": {},
   "outputs": [],
   "source": [
    "def graph_summary_clustering(results):\n",
    "    \"\"\"this function produces a summary of the clusters\"\"\"\n",
    "    cluster_size = results.groupby(['Cluster']).size().reset_index()\n",
    "    cluster_size.columns = ['Cluster', 'Count']\n",
    "    cluster_means = results.groupby(['Cluster'], as_index=False).mean()\n",
    "    cluster_summary = pd.merge(cluster_size, cluster_means, on='Cluster')\n",
    "    cluster_summary = cluster_summary.drop([\"Count\"], axis=1).set_index(\"Cluster\")\n",
    "    return cluster_summary[sorted(cluster_summary.columns)]"
   ]
  },
  {
   "cell_type": "markdown",
   "id": "468da042",
   "metadata": {},
   "source": [
    "# Data Privacy Tweets"
   ]
  },
  {
   "cell_type": "code",
   "execution_count": 12,
   "id": "defd5bb7",
   "metadata": {},
   "outputs": [],
   "source": [
    "data = pd.read_csv('data_privacy_tweets.csv')"
   ]
  },
  {
   "cell_type": "code",
   "execution_count": 13,
   "id": "019766c3",
   "metadata": {
    "scrolled": true
   },
   "outputs": [
    {
     "data": {
      "text/html": [
       "<div>\n",
       "<style scoped>\n",
       "    .dataframe tbody tr th:only-of-type {\n",
       "        vertical-align: middle;\n",
       "    }\n",
       "\n",
       "    .dataframe tbody tr th {\n",
       "        vertical-align: top;\n",
       "    }\n",
       "\n",
       "    .dataframe thead th {\n",
       "        text-align: right;\n",
       "    }\n",
       "</style>\n",
       "<table border=\"1\" class=\"dataframe\">\n",
       "  <thead>\n",
       "    <tr style=\"text-align: right;\">\n",
       "      <th></th>\n",
       "      <th>user_id</th>\n",
       "      <th>status_id</th>\n",
       "      <th>created_at</th>\n",
       "      <th>screen_name</th>\n",
       "      <th>text</th>\n",
       "      <th>source</th>\n",
       "      <th>display_text_width</th>\n",
       "      <th>reply_to_status_id</th>\n",
       "      <th>reply_to_user_id</th>\n",
       "      <th>reply_to_screen_name</th>\n",
       "      <th>...</th>\n",
       "      <th>statuses_count</th>\n",
       "      <th>favourites_count</th>\n",
       "      <th>account_created_at</th>\n",
       "      <th>verified</th>\n",
       "      <th>profile_url</th>\n",
       "      <th>profile_expanded_url</th>\n",
       "      <th>account_lang</th>\n",
       "      <th>profile_banner_url</th>\n",
       "      <th>profile_background_url</th>\n",
       "      <th>profile_image_url</th>\n",
       "    </tr>\n",
       "  </thead>\n",
       "  <tbody>\n",
       "    <tr>\n",
       "      <th>0</th>\n",
       "      <td>x1166589525386301440</td>\n",
       "      <td>x1404485195676459008</td>\n",
       "      <td>2021-06-14 17:05:39</td>\n",
       "      <td>privacy_issues</td>\n",
       "      <td>The @EFF finds that the proposed modifications...</td>\n",
       "      <td>TweetDeck</td>\n",
       "      <td>248</td>\n",
       "      <td>NaN</td>\n",
       "      <td>NaN</td>\n",
       "      <td>NaN</td>\n",
       "      <td>...</td>\n",
       "      <td>1036</td>\n",
       "      <td>2177</td>\n",
       "      <td>2019-08-28 05:53:33</td>\n",
       "      <td>False</td>\n",
       "      <td>https://t.co/HFMGW8U18M</td>\n",
       "      <td>http://bit.ly/privacyissuessignup</td>\n",
       "      <td>NaN</td>\n",
       "      <td>https://pbs.twimg.com/profile_banners/11665895...</td>\n",
       "      <td>NaN</td>\n",
       "      <td>http://pbs.twimg.com/profile_images/1166589644...</td>\n",
       "    </tr>\n",
       "    <tr>\n",
       "      <th>1</th>\n",
       "      <td>x1166589525386301440</td>\n",
       "      <td>x1403010409473449986</td>\n",
       "      <td>2021-06-10 15:25:22</td>\n",
       "      <td>privacy_issues</td>\n",
       "      <td>The European Parliament passes the new #EU #CO...</td>\n",
       "      <td>TweetDeck</td>\n",
       "      <td>223</td>\n",
       "      <td>NaN</td>\n",
       "      <td>NaN</td>\n",
       "      <td>NaN</td>\n",
       "      <td>...</td>\n",
       "      <td>1036</td>\n",
       "      <td>2177</td>\n",
       "      <td>2019-08-28 05:53:33</td>\n",
       "      <td>False</td>\n",
       "      <td>https://t.co/HFMGW8U18M</td>\n",
       "      <td>http://bit.ly/privacyissuessignup</td>\n",
       "      <td>NaN</td>\n",
       "      <td>https://pbs.twimg.com/profile_banners/11665895...</td>\n",
       "      <td>NaN</td>\n",
       "      <td>http://pbs.twimg.com/profile_images/1166589644...</td>\n",
       "    </tr>\n",
       "    <tr>\n",
       "      <th>2</th>\n",
       "      <td>x1166589525386301440</td>\n",
       "      <td>x1404185087093182465</td>\n",
       "      <td>2021-06-13 21:13:07</td>\n",
       "      <td>privacy_issues</td>\n",
       "      <td>To gain better control over the increasingly p...</td>\n",
       "      <td>TweetDeck</td>\n",
       "      <td>240</td>\n",
       "      <td>NaN</td>\n",
       "      <td>NaN</td>\n",
       "      <td>NaN</td>\n",
       "      <td>...</td>\n",
       "      <td>1036</td>\n",
       "      <td>2177</td>\n",
       "      <td>2019-08-28 05:53:33</td>\n",
       "      <td>False</td>\n",
       "      <td>https://t.co/HFMGW8U18M</td>\n",
       "      <td>http://bit.ly/privacyissuessignup</td>\n",
       "      <td>NaN</td>\n",
       "      <td>https://pbs.twimg.com/profile_banners/11665895...</td>\n",
       "      <td>NaN</td>\n",
       "      <td>http://pbs.twimg.com/profile_images/1166589644...</td>\n",
       "    </tr>\n",
       "    <tr>\n",
       "      <th>3</th>\n",
       "      <td>x1166589525386301440</td>\n",
       "      <td>x1401833811940306947</td>\n",
       "      <td>2021-06-07 09:30:00</td>\n",
       "      <td>privacy_issues</td>\n",
       "      <td>What if the consumers are on the driving seat ...</td>\n",
       "      <td>TweetDeck</td>\n",
       "      <td>255</td>\n",
       "      <td>NaN</td>\n",
       "      <td>NaN</td>\n",
       "      <td>NaN</td>\n",
       "      <td>...</td>\n",
       "      <td>1036</td>\n",
       "      <td>2177</td>\n",
       "      <td>2019-08-28 05:53:33</td>\n",
       "      <td>False</td>\n",
       "      <td>https://t.co/HFMGW8U18M</td>\n",
       "      <td>http://bit.ly/privacyissuessignup</td>\n",
       "      <td>NaN</td>\n",
       "      <td>https://pbs.twimg.com/profile_banners/11665895...</td>\n",
       "      <td>NaN</td>\n",
       "      <td>http://pbs.twimg.com/profile_images/1166589644...</td>\n",
       "    </tr>\n",
       "    <tr>\n",
       "      <th>4</th>\n",
       "      <td>x1166589525386301440</td>\n",
       "      <td>x1401555697163280387</td>\n",
       "      <td>2021-06-06 15:04:52</td>\n",
       "      <td>privacy_issues</td>\n",
       "      <td>\"Vera Jourová says new rules are needed to lim...</td>\n",
       "      <td>TweetDeck</td>\n",
       "      <td>230</td>\n",
       "      <td>NaN</td>\n",
       "      <td>NaN</td>\n",
       "      <td>NaN</td>\n",
       "      <td>...</td>\n",
       "      <td>1036</td>\n",
       "      <td>2177</td>\n",
       "      <td>2019-08-28 05:53:33</td>\n",
       "      <td>False</td>\n",
       "      <td>https://t.co/HFMGW8U18M</td>\n",
       "      <td>http://bit.ly/privacyissuessignup</td>\n",
       "      <td>NaN</td>\n",
       "      <td>https://pbs.twimg.com/profile_banners/11665895...</td>\n",
       "      <td>NaN</td>\n",
       "      <td>http://pbs.twimg.com/profile_images/1166589644...</td>\n",
       "    </tr>\n",
       "  </tbody>\n",
       "</table>\n",
       "<p>5 rows × 90 columns</p>\n",
       "</div>"
      ],
      "text/plain": [
       "                user_id             status_id           created_at  \\\n",
       "0  x1166589525386301440  x1404485195676459008  2021-06-14 17:05:39   \n",
       "1  x1166589525386301440  x1403010409473449986  2021-06-10 15:25:22   \n",
       "2  x1166589525386301440  x1404185087093182465  2021-06-13 21:13:07   \n",
       "3  x1166589525386301440  x1401833811940306947  2021-06-07 09:30:00   \n",
       "4  x1166589525386301440  x1401555697163280387  2021-06-06 15:04:52   \n",
       "\n",
       "      screen_name                                               text  \\\n",
       "0  privacy_issues  The @EFF finds that the proposed modifications...   \n",
       "1  privacy_issues  The European Parliament passes the new #EU #CO...   \n",
       "2  privacy_issues  To gain better control over the increasingly p...   \n",
       "3  privacy_issues  What if the consumers are on the driving seat ...   \n",
       "4  privacy_issues  \"Vera Jourová says new rules are needed to lim...   \n",
       "\n",
       "      source  display_text_width reply_to_status_id reply_to_user_id  \\\n",
       "0  TweetDeck                 248                NaN              NaN   \n",
       "1  TweetDeck                 223                NaN              NaN   \n",
       "2  TweetDeck                 240                NaN              NaN   \n",
       "3  TweetDeck                 255                NaN              NaN   \n",
       "4  TweetDeck                 230                NaN              NaN   \n",
       "\n",
       "  reply_to_screen_name  ...  statuses_count  favourites_count  \\\n",
       "0                  NaN  ...            1036              2177   \n",
       "1                  NaN  ...            1036              2177   \n",
       "2                  NaN  ...            1036              2177   \n",
       "3                  NaN  ...            1036              2177   \n",
       "4                  NaN  ...            1036              2177   \n",
       "\n",
       "    account_created_at  verified              profile_url  \\\n",
       "0  2019-08-28 05:53:33     False  https://t.co/HFMGW8U18M   \n",
       "1  2019-08-28 05:53:33     False  https://t.co/HFMGW8U18M   \n",
       "2  2019-08-28 05:53:33     False  https://t.co/HFMGW8U18M   \n",
       "3  2019-08-28 05:53:33     False  https://t.co/HFMGW8U18M   \n",
       "4  2019-08-28 05:53:33     False  https://t.co/HFMGW8U18M   \n",
       "\n",
       "                profile_expanded_url account_lang  \\\n",
       "0  http://bit.ly/privacyissuessignup          NaN   \n",
       "1  http://bit.ly/privacyissuessignup          NaN   \n",
       "2  http://bit.ly/privacyissuessignup          NaN   \n",
       "3  http://bit.ly/privacyissuessignup          NaN   \n",
       "4  http://bit.ly/privacyissuessignup          NaN   \n",
       "\n",
       "                                  profile_banner_url profile_background_url  \\\n",
       "0  https://pbs.twimg.com/profile_banners/11665895...                    NaN   \n",
       "1  https://pbs.twimg.com/profile_banners/11665895...                    NaN   \n",
       "2  https://pbs.twimg.com/profile_banners/11665895...                    NaN   \n",
       "3  https://pbs.twimg.com/profile_banners/11665895...                    NaN   \n",
       "4  https://pbs.twimg.com/profile_banners/11665895...                    NaN   \n",
       "\n",
       "                                   profile_image_url  \n",
       "0  http://pbs.twimg.com/profile_images/1166589644...  \n",
       "1  http://pbs.twimg.com/profile_images/1166589644...  \n",
       "2  http://pbs.twimg.com/profile_images/1166589644...  \n",
       "3  http://pbs.twimg.com/profile_images/1166589644...  \n",
       "4  http://pbs.twimg.com/profile_images/1166589644...  \n",
       "\n",
       "[5 rows x 90 columns]"
      ]
     },
     "execution_count": 13,
     "metadata": {},
     "output_type": "execute_result"
    }
   ],
   "source": [
    "data = data.drop_duplicates('text')\n",
    "data.head()"
   ]
  },
  {
   "cell_type": "code",
   "execution_count": 14,
   "id": "75711863",
   "metadata": {},
   "outputs": [
    {
     "data": {
      "text/plain": [
       "7243"
      ]
     },
     "execution_count": 14,
     "metadata": {},
     "output_type": "execute_result"
    }
   ],
   "source": [
    "data.user_id.nunique()\n",
    "# we hvae 7243 unique users here"
   ]
  },
  {
   "cell_type": "code",
   "execution_count": 15,
   "id": "025d24af",
   "metadata": {
    "scrolled": true
   },
   "outputs": [
    {
     "data": {
      "text/plain": [
       "(10637, 90)"
      ]
     },
     "execution_count": 15,
     "metadata": {},
     "output_type": "execute_result"
    }
   ],
   "source": [
    "data.shape"
   ]
  },
  {
   "cell_type": "code",
   "execution_count": 16,
   "id": "fbcbe675",
   "metadata": {},
   "outputs": [],
   "source": [
    "df = data[[\"text\", \"is_quote\", \"is_retweet\", \"retweet_count\", \"hashtags\", \"followers_count\"]]"
   ]
  },
  {
   "cell_type": "code",
   "execution_count": 17,
   "id": "b375f096",
   "metadata": {},
   "outputs": [
    {
     "data": {
      "text/html": [
       "<div>\n",
       "<style scoped>\n",
       "    .dataframe tbody tr th:only-of-type {\n",
       "        vertical-align: middle;\n",
       "    }\n",
       "\n",
       "    .dataframe tbody tr th {\n",
       "        vertical-align: top;\n",
       "    }\n",
       "\n",
       "    .dataframe thead th {\n",
       "        text-align: right;\n",
       "    }\n",
       "</style>\n",
       "<table border=\"1\" class=\"dataframe\">\n",
       "  <thead>\n",
       "    <tr style=\"text-align: right;\">\n",
       "      <th></th>\n",
       "      <th>text</th>\n",
       "      <th>is_quote</th>\n",
       "      <th>is_retweet</th>\n",
       "      <th>retweet_count</th>\n",
       "      <th>hashtags</th>\n",
       "      <th>followers_count</th>\n",
       "    </tr>\n",
       "  </thead>\n",
       "  <tbody>\n",
       "    <tr>\n",
       "      <th>0</th>\n",
       "      <td>The @EFF finds that the proposed modifications...</td>\n",
       "      <td>False</td>\n",
       "      <td>False</td>\n",
       "      <td>0</td>\n",
       "      <td>COVID</td>\n",
       "      <td>406</td>\n",
       "    </tr>\n",
       "    <tr>\n",
       "      <th>1</th>\n",
       "      <td>The European Parliament passes the new #EU #CO...</td>\n",
       "      <td>False</td>\n",
       "      <td>False</td>\n",
       "      <td>0</td>\n",
       "      <td>EU COVID19 GDPR</td>\n",
       "      <td>406</td>\n",
       "    </tr>\n",
       "    <tr>\n",
       "      <th>2</th>\n",
       "      <td>To gain better control over the increasingly p...</td>\n",
       "      <td>False</td>\n",
       "      <td>False</td>\n",
       "      <td>0</td>\n",
       "      <td>China datasharing datasecurity</td>\n",
       "      <td>406</td>\n",
       "    </tr>\n",
       "    <tr>\n",
       "      <th>3</th>\n",
       "      <td>What if the consumers are on the driving seat ...</td>\n",
       "      <td>False</td>\n",
       "      <td>False</td>\n",
       "      <td>1</td>\n",
       "      <td>privacypolicy tech DataPrivacy innovation Priv...</td>\n",
       "      <td>406</td>\n",
       "    </tr>\n",
       "    <tr>\n",
       "      <th>4</th>\n",
       "      <td>\"Vera Jourová says new rules are needed to lim...</td>\n",
       "      <td>False</td>\n",
       "      <td>False</td>\n",
       "      <td>1</td>\n",
       "      <td>EU US</td>\n",
       "      <td>406</td>\n",
       "    </tr>\n",
       "  </tbody>\n",
       "</table>\n",
       "</div>"
      ],
      "text/plain": [
       "                                                text  is_quote  is_retweet  \\\n",
       "0  The @EFF finds that the proposed modifications...     False       False   \n",
       "1  The European Parliament passes the new #EU #CO...     False       False   \n",
       "2  To gain better control over the increasingly p...     False       False   \n",
       "3  What if the consumers are on the driving seat ...     False       False   \n",
       "4  \"Vera Jourová says new rules are needed to lim...     False       False   \n",
       "\n",
       "   retweet_count                                           hashtags  \\\n",
       "0              0                                              COVID   \n",
       "1              0                                    EU COVID19 GDPR   \n",
       "2              0                     China datasharing datasecurity   \n",
       "3              1  privacypolicy tech DataPrivacy innovation Priv...   \n",
       "4              1                                              EU US   \n",
       "\n",
       "   followers_count  \n",
       "0              406  \n",
       "1              406  \n",
       "2              406  \n",
       "3              406  \n",
       "4              406  "
      ]
     },
     "execution_count": 17,
     "metadata": {},
     "output_type": "execute_result"
    }
   ],
   "source": [
    "df.head()"
   ]
  },
  {
   "cell_type": "code",
   "execution_count": 18,
   "id": "ddccf80c",
   "metadata": {
    "scrolled": true
   },
   "outputs": [
    {
     "data": {
      "text/html": [
       "<div>\n",
       "<style scoped>\n",
       "    .dataframe tbody tr th:only-of-type {\n",
       "        vertical-align: middle;\n",
       "    }\n",
       "\n",
       "    .dataframe tbody tr th {\n",
       "        vertical-align: top;\n",
       "    }\n",
       "\n",
       "    .dataframe thead th {\n",
       "        text-align: right;\n",
       "    }\n",
       "</style>\n",
       "<table border=\"1\" class=\"dataframe\">\n",
       "  <thead>\n",
       "    <tr style=\"text-align: right;\">\n",
       "      <th></th>\n",
       "      <th>text</th>\n",
       "    </tr>\n",
       "  </thead>\n",
       "  <tbody>\n",
       "    <tr>\n",
       "      <th>0</th>\n",
       "      <td>The @EFF finds that the proposed modifications to the HIPAA would \"invade your most personal and intimiate health data.\" \\r\\n\\r\\nStating that trust in healthcare is crucial and especially so during the #COVID pandemic.\\r\\n\\r\\nRead more: https://t.co/ReuoQ3mF9p</td>\n",
       "    </tr>\n",
       "    <tr>\n",
       "      <th>1</th>\n",
       "      <td>The European Parliament passes the new #EU #COVID19 Certificate Regulation detailing peoples' COVID information.\\r\\n\\r\\nPromising that all personal data will be processed in line with the #GDPR\\r\\n\\r\\nRead more: https://t.co/8PGuChsV5F</td>\n",
       "    </tr>\n",
       "    <tr>\n",
       "      <th>2</th>\n",
       "      <td>To gain better control over the increasingly powerful technology sector in #China, new regulations in China make it harder for big tech to refuse the government's request for #datasharing. \\r\\n\\r\\n#datasecurity\\r\\n\\r\\nRead more: https://t.co/piSfs3NW4J</td>\n",
       "    </tr>\n",
       "    <tr>\n",
       "      <th>3</th>\n",
       "      <td>What if the consumers are on the driving seat to agree or disagree to the #privacypolicy of the #tech giants? Article by Beth Magnuson\\r\\nexplains #DataPrivacy &amp;amp; #innovation on @VentureBeat \\r\\n\\r\\nhttps://t.co/n2pFOwWSmi\\r\\n\\r\\n#PrivacyTech #Technology #DataPrivacy</td>\n",
       "    </tr>\n",
       "    <tr>\n",
       "      <th>4</th>\n",
       "      <td>\"Vera Jourová says new rules are needed to limit the bulk collection of Europeans’ data.\"\\r\\n\\r\\nThe #EU is requiring new legislation limiting #US government agencies from accessing European data. \\r\\n\\r\\nRead more at: https://t.co/04avhPjhCd</td>\n",
       "    </tr>\n",
       "  </tbody>\n",
       "</table>\n",
       "</div>"
      ],
      "text/plain": [
       "                                                                                                                                                                                                                                                                             text\n",
       "0  The @EFF finds that the proposed modifications to the HIPAA would \"invade your most personal and intimiate health data.\" \\r\\n\\r\\nStating that trust in healthcare is crucial and especially so during the #COVID pandemic.\\r\\n\\r\\nRead more: https://t.co/ReuoQ3mF9p          \n",
       "1  The European Parliament passes the new #EU #COVID19 Certificate Regulation detailing peoples' COVID information.\\r\\n\\r\\nPromising that all personal data will be processed in line with the #GDPR\\r\\n\\r\\nRead more: https://t.co/8PGuChsV5F                                   \n",
       "2  To gain better control over the increasingly powerful technology sector in #China, new regulations in China make it harder for big tech to refuse the government's request for #datasharing. \\r\\n\\r\\n#datasecurity\\r\\n\\r\\nRead more: https://t.co/piSfs3NW4J                  \n",
       "3  What if the consumers are on the driving seat to agree or disagree to the #privacypolicy of the #tech giants? Article by Beth Magnuson\\r\\nexplains #DataPrivacy &amp; #innovation on @VentureBeat \\r\\n\\r\\nhttps://t.co/n2pFOwWSmi\\r\\n\\r\\n#PrivacyTech #Technology #DataPrivacy\n",
       "4  \"Vera Jourová says new rules are needed to limit the bulk collection of Europeans’ data.\"\\r\\n\\r\\nThe #EU is requiring new legislation limiting #US government agencies from accessing European data. \\r\\n\\r\\nRead more at: https://t.co/04avhPjhCd                            "
      ]
     },
     "execution_count": 18,
     "metadata": {},
     "output_type": "execute_result"
    }
   ],
   "source": [
    "text = df[[\"text\"]][:10000] # using subset for now so it will run faster\n",
    "pd.set_option('display.max_colwidth', -1)\n",
    "text.head()"
   ]
  },
  {
   "cell_type": "markdown",
   "id": "611d64b5",
   "metadata": {},
   "source": [
    "# Data cleaning"
   ]
  },
  {
   "cell_type": "code",
   "execution_count": 19,
   "id": "1690db94",
   "metadata": {},
   "outputs": [],
   "source": [
    "wnet = WordNetLemmatizer()\n",
    "port = PorterStemmer()"
   ]
  },
  {
   "cell_type": "code",
   "execution_count": 20,
   "id": "abc74737",
   "metadata": {},
   "outputs": [
    {
     "data": {
      "text/html": [
       "<div>\n",
       "<style scoped>\n",
       "    .dataframe tbody tr th:only-of-type {\n",
       "        vertical-align: middle;\n",
       "    }\n",
       "\n",
       "    .dataframe tbody tr th {\n",
       "        vertical-align: top;\n",
       "    }\n",
       "\n",
       "    .dataframe thead th {\n",
       "        text-align: right;\n",
       "    }\n",
       "</style>\n",
       "<table border=\"1\" class=\"dataframe\">\n",
       "  <thead>\n",
       "    <tr style=\"text-align: right;\">\n",
       "      <th></th>\n",
       "      <th>text</th>\n",
       "    </tr>\n",
       "  </thead>\n",
       "  <tbody>\n",
       "    <tr>\n",
       "      <th>0</th>\n",
       "      <td>the eff finds that the proposed modifications to the hipaa would invade your most personal and intimiate health data stating that trust in healthcare is crucial and especially so during the covid pandemicread more</td>\n",
       "    </tr>\n",
       "    <tr>\n",
       "      <th>1</th>\n",
       "      <td>the european parliament passes the new eu covid19 certificate regulation detailing peoples covid informationpromising that all personal data will be processed in line with the gdprread more</td>\n",
       "    </tr>\n",
       "    <tr>\n",
       "      <th>2</th>\n",
       "      <td>to gain better control over the increasingly powerful technology sector in china new regulations in china make it harder for big tech to refuse the governments request for datasharing datasecurityread more</td>\n",
       "    </tr>\n",
       "    <tr>\n",
       "      <th>3</th>\n",
       "      <td>what if the consumers are on the driving seat to agree or disagree to the privacypolicy of the tech giants article by beth magnusonexplains dataprivacy  innovation on venturebeat</td>\n",
       "    </tr>\n",
       "    <tr>\n",
       "      <th>4</th>\n",
       "      <td>vera jourová says new rules are needed to limit the bulk collection of europeans datathe eu is requiring new legislation limiting us government agencies from accessing european data read more at</td>\n",
       "    </tr>\n",
       "  </tbody>\n",
       "</table>\n",
       "</div>"
      ],
      "text/plain": [
       "                                                                                                                                                                                                                     text\n",
       "0  the eff finds that the proposed modifications to the hipaa would invade your most personal and intimiate health data stating that trust in healthcare is crucial and especially so during the covid pandemicread more \n",
       "1  the european parliament passes the new eu covid19 certificate regulation detailing peoples covid informationpromising that all personal data will be processed in line with the gdprread more                         \n",
       "2  to gain better control over the increasingly powerful technology sector in china new regulations in china make it harder for big tech to refuse the governments request for datasharing datasecurityread more         \n",
       "3  what if the consumers are on the driving seat to agree or disagree to the privacypolicy of the tech giants article by beth magnusonexplains dataprivacy  innovation on venturebeat                                    \n",
       "4  vera jourová says new rules are needed to limit the bulk collection of europeans datathe eu is requiring new legislation limiting us government agencies from accessing european data read more at                    "
      ]
     },
     "execution_count": 20,
     "metadata": {},
     "output_type": "execute_result"
    }
   ],
   "source": [
    "text['text'] = text['text'].apply(cleanTxt)\n",
    "text.head()"
   ]
  },
  {
   "cell_type": "code",
   "execution_count": 21,
   "id": "5bd4175e",
   "metadata": {
    "scrolled": true
   },
   "outputs": [
    {
     "data": {
      "text/html": [
       "<div>\n",
       "<style scoped>\n",
       "    .dataframe tbody tr th:only-of-type {\n",
       "        vertical-align: middle;\n",
       "    }\n",
       "\n",
       "    .dataframe tbody tr th {\n",
       "        vertical-align: top;\n",
       "    }\n",
       "\n",
       "    .dataframe thead th {\n",
       "        text-align: right;\n",
       "    }\n",
       "</style>\n",
       "<table border=\"1\" class=\"dataframe\">\n",
       "  <thead>\n",
       "    <tr style=\"text-align: right;\">\n",
       "      <th></th>\n",
       "      <th>text</th>\n",
       "    </tr>\n",
       "  </thead>\n",
       "  <tbody>\n",
       "    <tr>\n",
       "      <th>0</th>\n",
       "      <td>eff find proposed modification hipaa would invade personal intimiate health stating trust healthcare crucial especially covid pandemicread</td>\n",
       "    </tr>\n",
       "    <tr>\n",
       "      <th>1</th>\n",
       "      <td>european parliament pass new eu covid19 certificate regulation detailing people covid informationpromising personal processed line gdprread</td>\n",
       "    </tr>\n",
       "    <tr>\n",
       "      <th>2</th>\n",
       "      <td>gain better control increasingly powerful technology sector china new regulation china make harder big tech refuse government request datasharing datasecurityread</td>\n",
       "    </tr>\n",
       "    <tr>\n",
       "      <th>3</th>\n",
       "      <td>consumer driving seat agree disagree privacypolicy tech giant article beth magnusonexplains dataprivacy innovation venturebeat</td>\n",
       "    </tr>\n",
       "    <tr>\n",
       "      <th>4</th>\n",
       "      <td>vera jourová say new rule needed limit bulk collection european datathe eu requiring new legislation limiting government agency accessing european read</td>\n",
       "    </tr>\n",
       "  </tbody>\n",
       "</table>\n",
       "</div>"
      ],
      "text/plain": [
       "                                                                                                                                                                 text\n",
       "0  eff find proposed modification hipaa would invade personal intimiate health stating trust healthcare crucial especially covid pandemicread                        \n",
       "1  european parliament pass new eu covid19 certificate regulation detailing people covid informationpromising personal processed line gdprread                       \n",
       "2  gain better control increasingly powerful technology sector china new regulation china make harder big tech refuse government request datasharing datasecurityread\n",
       "3  consumer driving seat agree disagree privacypolicy tech giant article beth magnusonexplains dataprivacy innovation venturebeat                                    \n",
       "4  vera jourová say new rule needed limit bulk collection european datathe eu requiring new legislation limiting government agency accessing european read           "
      ]
     },
     "execution_count": 21,
     "metadata": {},
     "output_type": "execute_result"
    }
   ],
   "source": [
    "text['text'] = text['text'].apply(stopWords)\n",
    "text.head()"
   ]
  },
  {
   "cell_type": "markdown",
   "id": "a9707dc5",
   "metadata": {},
   "source": [
    "# Vectorizing Data\n",
    "\n",
    "Vectorizing using Binary Term Frequency (https://towardsdatascience.com/getting-started-with-text-vectorization-2f2efbec6685). Binary Term Frequency captures presence (1) or absence (0) of term in document. For this part, under TfidfVectorizer, we set binary parameter equal to true so that it can show just presence (1) or absence (0) and norm parameter equal to false."
   ]
  },
  {
   "cell_type": "code",
   "execution_count": null,
   "id": "5b2d9a4c",
   "metadata": {},
   "outputs": [],
   "source": [
    "text_lst = []\n",
    "for row in text['text']:\n",
    "    text_lst.append(row)\n",
    "\n",
    "text_lst[:5]"
   ]
  },
  {
   "cell_type": "code",
   "execution_count": null,
   "id": "a2e4d991",
   "metadata": {},
   "outputs": [],
   "source": [
    "tv = TfidfVectorizer(\n",
    "binary = True, norm = None,\n",
    "use_idf = False, smooth_idf = False,\n",
    "lowercase = True, stop_words = None,\n",
    "min_df = 1, max_df = 1.0, max_features = None, ngram_range = (1,1))"
   ]
  },
  {
   "cell_type": "code",
   "execution_count": null,
   "id": "250411e0",
   "metadata": {},
   "outputs": [],
   "source": [
    "text_vec = pd.DataFrame(tv.fit_transform(text_lst).toarray(), columns = tv.get_feature_names())\n",
    "text_vec.head()"
   ]
  },
  {
   "cell_type": "markdown",
   "id": "afdf64cb",
   "metadata": {},
   "source": [
    "# List of Words"
   ]
  },
  {
   "cell_type": "code",
   "execution_count": null,
   "id": "e6248831",
   "metadata": {},
   "outputs": [],
   "source": [
    "dp_words = [] # dp for data privacy\n",
    "\n",
    "for row in text['text']:\n",
    "    for word in str(row).split(\" \"):\n",
    "        dp_words.append(word)\n",
    "        \n",
    "dp_words[:5]"
   ]
  },
  {
   "cell_type": "code",
   "execution_count": null,
   "id": "0b01c960",
   "metadata": {},
   "outputs": [],
   "source": [
    "len(dp_words)"
   ]
  },
  {
   "cell_type": "code",
   "execution_count": null,
   "id": "28d3fc9a",
   "metadata": {},
   "outputs": [],
   "source": [
    "from nltk.probability import FreqDist\n",
    "fdist = FreqDist()\n",
    "for word in dp_words:\n",
    "    fdist[word]+=1\n",
    "fdist"
   ]
  },
  {
   "cell_type": "code",
   "execution_count": null,
   "id": "6e4eb033",
   "metadata": {},
   "outputs": [],
   "source": [
    "freq_data = pd.DataFrame.from_dict(fdist.most_common(20))"
   ]
  },
  {
   "cell_type": "code",
   "execution_count": null,
   "id": "511e4699",
   "metadata": {},
   "outputs": [],
   "source": [
    "sns.barplot(data = freq_data, x = 1, y = 0);"
   ]
  },
  {
   "cell_type": "code",
   "execution_count": null,
   "id": "ceb3041d",
   "metadata": {
    "scrolled": true
   },
   "outputs": [],
   "source": [
    "most_common = []\n",
    "\n",
    "for key in fdist.most_common(20):\n",
    "    most_common.append(key[0])\n",
    "    \n",
    "most_common"
   ]
  },
  {
   "cell_type": "markdown",
   "id": "3490974c",
   "metadata": {},
   "source": [
    "# Clustering"
   ]
  },
  {
   "cell_type": "code",
   "execution_count": null,
   "id": "eab38e9a",
   "metadata": {},
   "outputs": [],
   "source": [
    "%%time \n",
    "range_k = [2, 3, 4, 5, 8, 10, 15, 20, 25, 35]\n",
    "results_k = {}\n",
    "for k in range_k:\n",
    "    results_k[k] = evaluate_k_kmeans_inertia(k)"
   ]
  },
  {
   "cell_type": "code",
   "execution_count": null,
   "id": "e8e3595e",
   "metadata": {},
   "outputs": [],
   "source": [
    "results_k"
   ]
  },
  {
   "cell_type": "code",
   "execution_count": null,
   "id": "58a1b9ca",
   "metadata": {
    "scrolled": true
   },
   "outputs": [],
   "source": [
    "fig, ax = plt.subplots(figsize=(8,6))\n",
    "ax = sns.lineplot(\n",
    "    [c[0] for c in results_k.items()],\n",
    "    [c[1] for c in results_k.items()], label=\"inertia\", color=\"red\")\n",
    "ax.set_xlabel(\"K\")\n",
    "ax.set_ylabel(\"inertia\")\n",
    "ax.set_title(\"Inertia by K\")\n",
    "ax.legend();\n",
    "# try 2, 3, 8 clusters."
   ]
  },
  {
   "cell_type": "markdown",
   "id": "6837192e",
   "metadata": {},
   "source": [
    "## Cluster Analysis"
   ]
  },
  {
   "cell_type": "code",
   "execution_count": null,
   "id": "f87fce57",
   "metadata": {},
   "outputs": [],
   "source": [
    "estimator_kmeans = KMeans(random_state=42, n_clusters=4) # we're sticking with 4\n",
    "estimator_kmeans.fit(text_vec)"
   ]
  },
  {
   "cell_type": "code",
   "execution_count": null,
   "id": "442aefc5",
   "metadata": {},
   "outputs": [],
   "source": [
    "text_vec[\"cluster_id\"] = estimator_kmeans.labels_\n",
    "text_vec.head()"
   ]
  },
  {
   "cell_type": "code",
   "execution_count": null,
   "id": "159e9a59",
   "metadata": {
    "scrolled": true
   },
   "outputs": [],
   "source": [
    "text_clusters = text_vec.groupby('cluster_id').sum()\n",
    "text_clusters.head()"
   ]
  },
  {
   "cell_type": "code",
   "execution_count": null,
   "id": "7421b50b",
   "metadata": {},
   "outputs": [],
   "source": [
    "text_clusters_20 = text_clusters[['new',\n",
    " 'apple',\n",
    " 'security',\n",
    " 'user',\n",
    " 'protection',\n",
    " 'policy',\n",
    " 'company',\n",
    " 'personal',\n",
    " 'law',\n",
    " 'concern',\n",
    " 'tiktok',\n",
    " 'google',\n",
    " 'social',\n",
    " 'biometric',\n",
    " 'right',\n",
    " 'medium',\n",
    " 'information',\n",
    " 'ensure',\n",
    " 'collection',\n",
    " 'people']\n",
    "]\n",
    "\n",
    "text_clusters_20.head()"
   ]
  },
  {
   "cell_type": "code",
   "execution_count": null,
   "id": "b875e311",
   "metadata": {},
   "outputs": [],
   "source": [
    "fig, ax = plt.subplots(figsize=(25,15))\n",
    "sns.heatmap(text_clusters_20.transpose(), annot=False)\n",
    "plt.title(\"Cluster Analysis based on Twitter Posts using the Top 20 Words\", size = 30);"
   ]
  },
  {
   "cell_type": "markdown",
   "id": "ba9a2357",
   "metadata": {},
   "source": [
    "# <span style=\"color:#748A5C\">Sentiment Analysis</span>"
   ]
  },
  {
   "cell_type": "code",
   "execution_count": 27,
   "id": "fa34d8fa",
   "metadata": {},
   "outputs": [],
   "source": [
    "text_desc = text[[\"text\"]]"
   ]
  },
  {
   "cell_type": "code",
   "execution_count": 29,
   "id": "e29025ab",
   "metadata": {},
   "outputs": [
    {
     "data": {
      "text/html": [
       "<div>\n",
       "<style scoped>\n",
       "    .dataframe tbody tr th:only-of-type {\n",
       "        vertical-align: middle;\n",
       "    }\n",
       "\n",
       "    .dataframe tbody tr th {\n",
       "        vertical-align: top;\n",
       "    }\n",
       "\n",
       "    .dataframe thead th {\n",
       "        text-align: right;\n",
       "    }\n",
       "</style>\n",
       "<table border=\"1\" class=\"dataframe\">\n",
       "  <thead>\n",
       "    <tr style=\"text-align: right;\">\n",
       "      <th></th>\n",
       "      <th>text</th>\n",
       "    </tr>\n",
       "  </thead>\n",
       "  <tbody>\n",
       "    <tr>\n",
       "      <th>0</th>\n",
       "      <td>eff find proposed modification hipaa would invade personal intimiate health stating trust healthcare crucial especially covid pandemicread</td>\n",
       "    </tr>\n",
       "    <tr>\n",
       "      <th>1</th>\n",
       "      <td>european parliament pass new eu covid19 certificate regulation detailing people covid informationpromising personal processed line gdprread</td>\n",
       "    </tr>\n",
       "    <tr>\n",
       "      <th>2</th>\n",
       "      <td>gain better control increasingly powerful technology sector china new regulation china make harder big tech refuse government request datasharing datasecurityread</td>\n",
       "    </tr>\n",
       "    <tr>\n",
       "      <th>3</th>\n",
       "      <td>consumer driving seat agree disagree privacypolicy tech giant article beth magnusonexplains dataprivacy innovation venturebeat</td>\n",
       "    </tr>\n",
       "    <tr>\n",
       "      <th>4</th>\n",
       "      <td>vera jourová say new rule needed limit bulk collection european datathe eu requiring new legislation limiting government agency accessing european read</td>\n",
       "    </tr>\n",
       "  </tbody>\n",
       "</table>\n",
       "</div>"
      ],
      "text/plain": [
       "                                                                                                                                                                 text\n",
       "0  eff find proposed modification hipaa would invade personal intimiate health stating trust healthcare crucial especially covid pandemicread                        \n",
       "1  european parliament pass new eu covid19 certificate regulation detailing people covid informationpromising personal processed line gdprread                       \n",
       "2  gain better control increasingly powerful technology sector china new regulation china make harder big tech refuse government request datasharing datasecurityread\n",
       "3  consumer driving seat agree disagree privacypolicy tech giant article beth magnusonexplains dataprivacy innovation venturebeat                                    \n",
       "4  vera jourová say new rule needed limit bulk collection european datathe eu requiring new legislation limiting government agency accessing european read           "
      ]
     },
     "execution_count": 29,
     "metadata": {},
     "output_type": "execute_result"
    }
   ],
   "source": [
    "text_desc.head()"
   ]
  },
  {
   "cell_type": "code",
   "execution_count": 30,
   "id": "9e85fc82",
   "metadata": {},
   "outputs": [
    {
     "data": {
      "text/plain": [
       "(10000, 1)"
      ]
     },
     "execution_count": 30,
     "metadata": {},
     "output_type": "execute_result"
    }
   ],
   "source": [
    "text_desc.shape"
   ]
  },
  {
   "cell_type": "code",
   "execution_count": 31,
   "id": "d2024011",
   "metadata": {
    "scrolled": true
   },
   "outputs": [
    {
     "data": {
      "text/html": [
       "<div>\n",
       "<style scoped>\n",
       "    .dataframe tbody tr th:only-of-type {\n",
       "        vertical-align: middle;\n",
       "    }\n",
       "\n",
       "    .dataframe tbody tr th {\n",
       "        vertical-align: top;\n",
       "    }\n",
       "\n",
       "    .dataframe thead th {\n",
       "        text-align: right;\n",
       "    }\n",
       "</style>\n",
       "<table border=\"1\" class=\"dataframe\">\n",
       "  <thead>\n",
       "    <tr style=\"text-align: right;\">\n",
       "      <th></th>\n",
       "      <th>text</th>\n",
       "      <th>description</th>\n",
       "    </tr>\n",
       "  </thead>\n",
       "  <tbody>\n",
       "    <tr>\n",
       "      <th>0</th>\n",
       "      <td>eff find proposed modification hipaa would invade personal intimiate health stating trust healthcare crucial especially covid pandemicread</td>\n",
       "      <td>bi-monthly newsletter on #privacy #design #product #technology &amp; more by @MiraNova_Tweet &amp; the team. We are open for collabs. All info via DM.</td>\n",
       "    </tr>\n",
       "    <tr>\n",
       "      <th>1</th>\n",
       "      <td>european parliament pass new eu covid19 certificate regulation detailing people covid informationpromising personal processed line gdprread</td>\n",
       "      <td>bi-monthly newsletter on #privacy #design #product #technology &amp; more by @MiraNova_Tweet &amp; the team. We are open for collabs. All info via DM.</td>\n",
       "    </tr>\n",
       "    <tr>\n",
       "      <th>2</th>\n",
       "      <td>gain better control increasingly powerful technology sector china new regulation china make harder big tech refuse government request datasharing datasecurityread</td>\n",
       "      <td>bi-monthly newsletter on #privacy #design #product #technology &amp; more by @MiraNova_Tweet &amp; the team. We are open for collabs. All info via DM.</td>\n",
       "    </tr>\n",
       "    <tr>\n",
       "      <th>3</th>\n",
       "      <td>consumer driving seat agree disagree privacypolicy tech giant article beth magnusonexplains dataprivacy innovation venturebeat</td>\n",
       "      <td>bi-monthly newsletter on #privacy #design #product #technology &amp; more by @MiraNova_Tweet &amp; the team. We are open for collabs. All info via DM.</td>\n",
       "    </tr>\n",
       "    <tr>\n",
       "      <th>4</th>\n",
       "      <td>vera jourová say new rule needed limit bulk collection european datathe eu requiring new legislation limiting government agency accessing european read</td>\n",
       "      <td>bi-monthly newsletter on #privacy #design #product #technology &amp; more by @MiraNova_Tweet &amp; the team. We are open for collabs. All info via DM.</td>\n",
       "    </tr>\n",
       "  </tbody>\n",
       "</table>\n",
       "</div>"
      ],
      "text/plain": [
       "                                                                                                                                                                 text  \\\n",
       "0  eff find proposed modification hipaa would invade personal intimiate health stating trust healthcare crucial especially covid pandemicread                           \n",
       "1  european parliament pass new eu covid19 certificate regulation detailing people covid informationpromising personal processed line gdprread                          \n",
       "2  gain better control increasingly powerful technology sector china new regulation china make harder big tech refuse government request datasharing datasecurityread   \n",
       "3  consumer driving seat agree disagree privacypolicy tech giant article beth magnusonexplains dataprivacy innovation venturebeat                                       \n",
       "4  vera jourová say new rule needed limit bulk collection european datathe eu requiring new legislation limiting government agency accessing european read              \n",
       "\n",
       "                                                                                                                                      description  \n",
       "0  bi-monthly newsletter on #privacy #design #product #technology & more by @MiraNova_Tweet & the team. We are open for collabs. All info via DM.  \n",
       "1  bi-monthly newsletter on #privacy #design #product #technology & more by @MiraNova_Tweet & the team. We are open for collabs. All info via DM.  \n",
       "2  bi-monthly newsletter on #privacy #design #product #technology & more by @MiraNova_Tweet & the team. We are open for collabs. All info via DM.  \n",
       "3  bi-monthly newsletter on #privacy #design #product #technology & more by @MiraNova_Tweet & the team. We are open for collabs. All info via DM.  \n",
       "4  bi-monthly newsletter on #privacy #design #product #technology & more by @MiraNova_Tweet & the team. We are open for collabs. All info via DM.  "
      ]
     },
     "execution_count": 31,
     "metadata": {},
     "output_type": "execute_result"
    }
   ],
   "source": [
    "text_desc[\"description\"] = data[[\"description\"]][:10000]\n",
    "text_desc.head()"
   ]
  },
  {
   "cell_type": "code",
   "execution_count": 36,
   "id": "86b8d43b",
   "metadata": {},
   "outputs": [],
   "source": [
    "text_desc = text_desc.dropna()\n",
    "# some rows are dropped"
   ]
  },
  {
   "cell_type": "code",
   "execution_count": 83,
   "id": "7a0f8863",
   "metadata": {},
   "outputs": [
    {
     "data": {
      "text/plain": [
       "(9488, 5)"
      ]
     },
     "execution_count": 83,
     "metadata": {},
     "output_type": "execute_result"
    }
   ],
   "source": [
    "text_desc.shape"
   ]
  },
  {
   "cell_type": "code",
   "execution_count": 84,
   "id": "bfe11e97",
   "metadata": {},
   "outputs": [
    {
     "data": {
      "text/html": [
       "<div>\n",
       "<style scoped>\n",
       "    .dataframe tbody tr th:only-of-type {\n",
       "        vertical-align: middle;\n",
       "    }\n",
       "\n",
       "    .dataframe tbody tr th {\n",
       "        vertical-align: top;\n",
       "    }\n",
       "\n",
       "    .dataframe thead th {\n",
       "        text-align: right;\n",
       "    }\n",
       "</style>\n",
       "<table border=\"1\" class=\"dataframe\">\n",
       "  <thead>\n",
       "    <tr style=\"text-align: right;\">\n",
       "      <th></th>\n",
       "      <th>text</th>\n",
       "      <th>description</th>\n",
       "      <th>scores</th>\n",
       "      <th>compound</th>\n",
       "      <th>comp_score</th>\n",
       "    </tr>\n",
       "  </thead>\n",
       "  <tbody>\n",
       "    <tr>\n",
       "      <th>10159</th>\n",
       "      <td>streamlytics belief letting user sell could help reduce ai bias aim democratise giving user control selling usersupplied enterprise</td>\n",
       "      <td>ecosystem builder ceo alchemycrewltd coeditor insurtechbook insurtech ai digitaltransformation sustainability 50insurtech</td>\n",
       "      <td>{'neg': 0.065, 'neu': 0.698, 'pos': 0.237, 'compound': 0.5719}</td>\n",
       "      <td>0.5719</td>\n",
       "      <td>pos</td>\n",
       "    </tr>\n",
       "    <tr>\n",
       "      <th>10162</th>\n",
       "      <td>epc4878 thanks bringing matter kindly dm name contact number provided placed order please reminded policy sending personal detail may refer</td>\n",
       "      <td>dedicated fan say love ko</td>\n",
       "      <td>{'neg': 0.0, 'neu': 0.581, 'pos': 0.419, 'compound': 0.8316}</td>\n",
       "      <td>0.8316</td>\n",
       "      <td>pos</td>\n",
       "    </tr>\n",
       "    <tr>\n",
       "      <th>10163</th>\n",
       "      <td>really interesting post dorothea salo story university library also story teaching process learning student</td>\n",
       "      <td>instructional consultant uwmadison phd lit study passionate oer openpedagogy 19th c participatory culture sotl opinion</td>\n",
       "      <td>{'neg': 0.0, 'neu': 0.813, 'pos': 0.187, 'compound': 0.4576}</td>\n",
       "      <td>0.4576</td>\n",
       "      <td>pos</td>\n",
       "    </tr>\n",
       "    <tr>\n",
       "      <th>10164</th>\n",
       "      <td>miss flyshotincs session mgsoptimize download session learn leverage new privacypreserving promo redemption method boost conversion rate 6 optimize using privacyfriendly deterministic ios14 u0001f4f2</td>\n",
       "      <td>u0001f4cdmobilemarketing mobileapps fintech moreu0001f4e1frontline content community event mobile marketer u26d3join largest community mobile expert</td>\n",
       "      <td>{'neg': 0.058, 'neu': 0.727, 'pos': 0.215, 'compound': 0.6486}</td>\n",
       "      <td>0.6486</td>\n",
       "      <td>pos</td>\n",
       "    </tr>\n",
       "    <tr>\n",
       "      <th>10165</th>\n",
       "      <td>omarsar0 handle ml project</td>\n",
       "      <td>artificial intelligence specialist</td>\n",
       "      <td>{'neg': 0.0, 'neu': 1.0, 'pos': 0.0, 'compound': 0.0}</td>\n",
       "      <td>0.0000</td>\n",
       "      <td>neutral</td>\n",
       "    </tr>\n",
       "  </tbody>\n",
       "</table>\n",
       "</div>"
      ],
      "text/plain": [
       "                                                                                                                                                                                                          text  \\\n",
       "10159  streamlytics belief letting user sell could help reduce ai bias aim democratise giving user control selling usersupplied enterprise                                                                       \n",
       "10162  epc4878 thanks bringing matter kindly dm name contact number provided placed order please reminded policy sending personal detail may refer                                                               \n",
       "10163  really interesting post dorothea salo story university library also story teaching process learning student                                                                                               \n",
       "10164  miss flyshotincs session mgsoptimize download session learn leverage new privacypreserving promo redemption method boost conversion rate 6 optimize using privacyfriendly deterministic ios14 u0001f4f2   \n",
       "10165  omarsar0 handle ml project                                                                                                                                                                                \n",
       "\n",
       "                                                                                                                                                description  \\\n",
       "10159  ecosystem builder ceo alchemycrewltd coeditor insurtechbook insurtech ai digitaltransformation sustainability 50insurtech                              \n",
       "10162  dedicated fan say love ko                                                                                                                              \n",
       "10163  instructional consultant uwmadison phd lit study passionate oer openpedagogy 19th c participatory culture sotl opinion                                 \n",
       "10164  u0001f4cdmobilemarketing mobileapps fintech moreu0001f4e1frontline content community event mobile marketer u26d3join largest community mobile expert   \n",
       "10165  artificial intelligence specialist                                                                                                                     \n",
       "\n",
       "                                                               scores  \\\n",
       "10159  {'neg': 0.065, 'neu': 0.698, 'pos': 0.237, 'compound': 0.5719}   \n",
       "10162  {'neg': 0.0, 'neu': 0.581, 'pos': 0.419, 'compound': 0.8316}     \n",
       "10163  {'neg': 0.0, 'neu': 0.813, 'pos': 0.187, 'compound': 0.4576}     \n",
       "10164  {'neg': 0.058, 'neu': 0.727, 'pos': 0.215, 'compound': 0.6486}   \n",
       "10165  {'neg': 0.0, 'neu': 1.0, 'pos': 0.0, 'compound': 0.0}            \n",
       "\n",
       "       compound comp_score  \n",
       "10159  0.5719    pos        \n",
       "10162  0.8316    pos        \n",
       "10163  0.4576    pos        \n",
       "10164  0.6486    pos        \n",
       "10165  0.0000    neutral    "
      ]
     },
     "execution_count": 84,
     "metadata": {},
     "output_type": "execute_result"
    }
   ],
   "source": [
    "text_desc.tail()"
   ]
  },
  {
   "cell_type": "code",
   "execution_count": 37,
   "id": "a9bd8c6e",
   "metadata": {
    "scrolled": true
   },
   "outputs": [],
   "source": [
    "text_desc[\"description\"] = text_desc[\"description\"].apply(cleanTxt)"
   ]
  },
  {
   "cell_type": "code",
   "execution_count": 38,
   "id": "4520a619",
   "metadata": {},
   "outputs": [],
   "source": [
    "text_desc['description'] = text_desc['description'].apply(stopWords)"
   ]
  },
  {
   "cell_type": "code",
   "execution_count": 39,
   "id": "3b1c2f96",
   "metadata": {},
   "outputs": [
    {
     "data": {
      "text/html": [
       "<div>\n",
       "<style scoped>\n",
       "    .dataframe tbody tr th:only-of-type {\n",
       "        vertical-align: middle;\n",
       "    }\n",
       "\n",
       "    .dataframe tbody tr th {\n",
       "        vertical-align: top;\n",
       "    }\n",
       "\n",
       "    .dataframe thead th {\n",
       "        text-align: right;\n",
       "    }\n",
       "</style>\n",
       "<table border=\"1\" class=\"dataframe\">\n",
       "  <thead>\n",
       "    <tr style=\"text-align: right;\">\n",
       "      <th></th>\n",
       "      <th>text</th>\n",
       "      <th>description</th>\n",
       "    </tr>\n",
       "  </thead>\n",
       "  <tbody>\n",
       "    <tr>\n",
       "      <th>0</th>\n",
       "      <td>eff find proposed modification hipaa would invade personal intimiate health stating trust healthcare crucial especially covid pandemicread</td>\n",
       "      <td>bimonthly newsletter design product technology miranovatweet team open collabs info via dm</td>\n",
       "    </tr>\n",
       "    <tr>\n",
       "      <th>1</th>\n",
       "      <td>european parliament pass new eu covid19 certificate regulation detailing people covid informationpromising personal processed line gdprread</td>\n",
       "      <td>bimonthly newsletter design product technology miranovatweet team open collabs info via dm</td>\n",
       "    </tr>\n",
       "    <tr>\n",
       "      <th>2</th>\n",
       "      <td>gain better control increasingly powerful technology sector china new regulation china make harder big tech refuse government request datasharing datasecurityread</td>\n",
       "      <td>bimonthly newsletter design product technology miranovatweet team open collabs info via dm</td>\n",
       "    </tr>\n",
       "    <tr>\n",
       "      <th>3</th>\n",
       "      <td>consumer driving seat agree disagree privacypolicy tech giant article beth magnusonexplains dataprivacy innovation venturebeat</td>\n",
       "      <td>bimonthly newsletter design product technology miranovatweet team open collabs info via dm</td>\n",
       "    </tr>\n",
       "    <tr>\n",
       "      <th>4</th>\n",
       "      <td>vera jourová say new rule needed limit bulk collection european datathe eu requiring new legislation limiting government agency accessing european read</td>\n",
       "      <td>bimonthly newsletter design product technology miranovatweet team open collabs info via dm</td>\n",
       "    </tr>\n",
       "  </tbody>\n",
       "</table>\n",
       "</div>"
      ],
      "text/plain": [
       "                                                                                                                                                                 text  \\\n",
       "0  eff find proposed modification hipaa would invade personal intimiate health stating trust healthcare crucial especially covid pandemicread                           \n",
       "1  european parliament pass new eu covid19 certificate regulation detailing people covid informationpromising personal processed line gdprread                          \n",
       "2  gain better control increasingly powerful technology sector china new regulation china make harder big tech refuse government request datasharing datasecurityread   \n",
       "3  consumer driving seat agree disagree privacypolicy tech giant article beth magnusonexplains dataprivacy innovation venturebeat                                       \n",
       "4  vera jourová say new rule needed limit bulk collection european datathe eu requiring new legislation limiting government agency accessing european read              \n",
       "\n",
       "                                                                                  description  \n",
       "0  bimonthly newsletter design product technology miranovatweet team open collabs info via dm  \n",
       "1  bimonthly newsletter design product technology miranovatweet team open collabs info via dm  \n",
       "2  bimonthly newsletter design product technology miranovatweet team open collabs info via dm  \n",
       "3  bimonthly newsletter design product technology miranovatweet team open collabs info via dm  \n",
       "4  bimonthly newsletter design product technology miranovatweet team open collabs info via dm  "
      ]
     },
     "execution_count": 39,
     "metadata": {},
     "output_type": "execute_result"
    }
   ],
   "source": [
    "text_desc.head()"
   ]
  },
  {
   "cell_type": "code",
   "execution_count": 40,
   "id": "20a23896",
   "metadata": {},
   "outputs": [],
   "source": [
    "from vaderSentiment.vaderSentiment import SentimentIntensityAnalyzer\n",
    "sid_obj = SentimentIntensityAnalyzer()\n",
    "text_desc['scores'] = text_desc['text'].apply(lambda review: sid_obj.polarity_scores(review))"
   ]
  },
  {
   "cell_type": "code",
   "execution_count": 41,
   "id": "807f4b8d",
   "metadata": {},
   "outputs": [
    {
     "data": {
      "text/html": [
       "<div>\n",
       "<style scoped>\n",
       "    .dataframe tbody tr th:only-of-type {\n",
       "        vertical-align: middle;\n",
       "    }\n",
       "\n",
       "    .dataframe tbody tr th {\n",
       "        vertical-align: top;\n",
       "    }\n",
       "\n",
       "    .dataframe thead th {\n",
       "        text-align: right;\n",
       "    }\n",
       "</style>\n",
       "<table border=\"1\" class=\"dataframe\">\n",
       "  <thead>\n",
       "    <tr style=\"text-align: right;\">\n",
       "      <th></th>\n",
       "      <th>text</th>\n",
       "      <th>description</th>\n",
       "      <th>scores</th>\n",
       "    </tr>\n",
       "  </thead>\n",
       "  <tbody>\n",
       "    <tr>\n",
       "      <th>0</th>\n",
       "      <td>eff find proposed modification hipaa would invade personal intimiate health stating trust healthcare crucial especially covid pandemicread</td>\n",
       "      <td>bimonthly newsletter design product technology miranovatweet team open collabs info via dm</td>\n",
       "      <td>{'neg': 0.0, 'neu': 0.829, 'pos': 0.171, 'compound': 0.5106}</td>\n",
       "    </tr>\n",
       "    <tr>\n",
       "      <th>1</th>\n",
       "      <td>european parliament pass new eu covid19 certificate regulation detailing people covid informationpromising personal processed line gdprread</td>\n",
       "      <td>bimonthly newsletter design product technology miranovatweet team open collabs info via dm</td>\n",
       "      <td>{'neg': 0.0, 'neu': 1.0, 'pos': 0.0, 'compound': 0.0}</td>\n",
       "    </tr>\n",
       "    <tr>\n",
       "      <th>2</th>\n",
       "      <td>gain better control increasingly powerful technology sector china new regulation china make harder big tech refuse government request datasharing datasecurityread</td>\n",
       "      <td>bimonthly newsletter design product technology miranovatweet team open collabs info via dm</td>\n",
       "      <td>{'neg': 0.081, 'neu': 0.586, 'pos': 0.333, 'compound': 0.7845}</td>\n",
       "    </tr>\n",
       "    <tr>\n",
       "      <th>3</th>\n",
       "      <td>consumer driving seat agree disagree privacypolicy tech giant article beth magnusonexplains dataprivacy innovation venturebeat</td>\n",
       "      <td>bimonthly newsletter design product technology miranovatweet team open collabs info via dm</td>\n",
       "      <td>{'neg': 0.139, 'neu': 0.588, 'pos': 0.273, 'compound': 0.3612}</td>\n",
       "    </tr>\n",
       "    <tr>\n",
       "      <th>4</th>\n",
       "      <td>vera jourová say new rule needed limit bulk collection european datathe eu requiring new legislation limiting government agency accessing european read</td>\n",
       "      <td>bimonthly newsletter design product technology miranovatweet team open collabs info via dm</td>\n",
       "      <td>{'neg': 0.0, 'neu': 1.0, 'pos': 0.0, 'compound': 0.0}</td>\n",
       "    </tr>\n",
       "  </tbody>\n",
       "</table>\n",
       "</div>"
      ],
      "text/plain": [
       "                                                                                                                                                                 text  \\\n",
       "0  eff find proposed modification hipaa would invade personal intimiate health stating trust healthcare crucial especially covid pandemicread                           \n",
       "1  european parliament pass new eu covid19 certificate regulation detailing people covid informationpromising personal processed line gdprread                          \n",
       "2  gain better control increasingly powerful technology sector china new regulation china make harder big tech refuse government request datasharing datasecurityread   \n",
       "3  consumer driving seat agree disagree privacypolicy tech giant article beth magnusonexplains dataprivacy innovation venturebeat                                       \n",
       "4  vera jourová say new rule needed limit bulk collection european datathe eu requiring new legislation limiting government agency accessing european read              \n",
       "\n",
       "                                                                                  description  \\\n",
       "0  bimonthly newsletter design product technology miranovatweet team open collabs info via dm   \n",
       "1  bimonthly newsletter design product technology miranovatweet team open collabs info via dm   \n",
       "2  bimonthly newsletter design product technology miranovatweet team open collabs info via dm   \n",
       "3  bimonthly newsletter design product technology miranovatweet team open collabs info via dm   \n",
       "4  bimonthly newsletter design product technology miranovatweet team open collabs info via dm   \n",
       "\n",
       "                                                           scores  \n",
       "0  {'neg': 0.0, 'neu': 0.829, 'pos': 0.171, 'compound': 0.5106}    \n",
       "1  {'neg': 0.0, 'neu': 1.0, 'pos': 0.0, 'compound': 0.0}           \n",
       "2  {'neg': 0.081, 'neu': 0.586, 'pos': 0.333, 'compound': 0.7845}  \n",
       "3  {'neg': 0.139, 'neu': 0.588, 'pos': 0.273, 'compound': 0.3612}  \n",
       "4  {'neg': 0.0, 'neu': 1.0, 'pos': 0.0, 'compound': 0.0}           "
      ]
     },
     "execution_count": 41,
     "metadata": {},
     "output_type": "execute_result"
    }
   ],
   "source": [
    "text_desc.head()"
   ]
  },
  {
   "cell_type": "code",
   "execution_count": 42,
   "id": "b006941c",
   "metadata": {
    "scrolled": true
   },
   "outputs": [
    {
     "data": {
      "text/html": [
       "<div>\n",
       "<style scoped>\n",
       "    .dataframe tbody tr th:only-of-type {\n",
       "        vertical-align: middle;\n",
       "    }\n",
       "\n",
       "    .dataframe tbody tr th {\n",
       "        vertical-align: top;\n",
       "    }\n",
       "\n",
       "    .dataframe thead th {\n",
       "        text-align: right;\n",
       "    }\n",
       "</style>\n",
       "<table border=\"1\" class=\"dataframe\">\n",
       "  <thead>\n",
       "    <tr style=\"text-align: right;\">\n",
       "      <th></th>\n",
       "      <th>text</th>\n",
       "      <th>description</th>\n",
       "      <th>scores</th>\n",
       "      <th>compound</th>\n",
       "    </tr>\n",
       "  </thead>\n",
       "  <tbody>\n",
       "    <tr>\n",
       "      <th>0</th>\n",
       "      <td>eff find proposed modification hipaa would invade personal intimiate health stating trust healthcare crucial especially covid pandemicread</td>\n",
       "      <td>bimonthly newsletter design product technology miranovatweet team open collabs info via dm</td>\n",
       "      <td>{'neg': 0.0, 'neu': 0.829, 'pos': 0.171, 'compound': 0.5106}</td>\n",
       "      <td>0.5106</td>\n",
       "    </tr>\n",
       "    <tr>\n",
       "      <th>1</th>\n",
       "      <td>european parliament pass new eu covid19 certificate regulation detailing people covid informationpromising personal processed line gdprread</td>\n",
       "      <td>bimonthly newsletter design product technology miranovatweet team open collabs info via dm</td>\n",
       "      <td>{'neg': 0.0, 'neu': 1.0, 'pos': 0.0, 'compound': 0.0}</td>\n",
       "      <td>0.0000</td>\n",
       "    </tr>\n",
       "    <tr>\n",
       "      <th>2</th>\n",
       "      <td>gain better control increasingly powerful technology sector china new regulation china make harder big tech refuse government request datasharing datasecurityread</td>\n",
       "      <td>bimonthly newsletter design product technology miranovatweet team open collabs info via dm</td>\n",
       "      <td>{'neg': 0.081, 'neu': 0.586, 'pos': 0.333, 'compound': 0.7845}</td>\n",
       "      <td>0.7845</td>\n",
       "    </tr>\n",
       "    <tr>\n",
       "      <th>3</th>\n",
       "      <td>consumer driving seat agree disagree privacypolicy tech giant article beth magnusonexplains dataprivacy innovation venturebeat</td>\n",
       "      <td>bimonthly newsletter design product technology miranovatweet team open collabs info via dm</td>\n",
       "      <td>{'neg': 0.139, 'neu': 0.588, 'pos': 0.273, 'compound': 0.3612}</td>\n",
       "      <td>0.3612</td>\n",
       "    </tr>\n",
       "    <tr>\n",
       "      <th>4</th>\n",
       "      <td>vera jourová say new rule needed limit bulk collection european datathe eu requiring new legislation limiting government agency accessing european read</td>\n",
       "      <td>bimonthly newsletter design product technology miranovatweet team open collabs info via dm</td>\n",
       "      <td>{'neg': 0.0, 'neu': 1.0, 'pos': 0.0, 'compound': 0.0}</td>\n",
       "      <td>0.0000</td>\n",
       "    </tr>\n",
       "  </tbody>\n",
       "</table>\n",
       "</div>"
      ],
      "text/plain": [
       "                                                                                                                                                                 text  \\\n",
       "0  eff find proposed modification hipaa would invade personal intimiate health stating trust healthcare crucial especially covid pandemicread                           \n",
       "1  european parliament pass new eu covid19 certificate regulation detailing people covid informationpromising personal processed line gdprread                          \n",
       "2  gain better control increasingly powerful technology sector china new regulation china make harder big tech refuse government request datasharing datasecurityread   \n",
       "3  consumer driving seat agree disagree privacypolicy tech giant article beth magnusonexplains dataprivacy innovation venturebeat                                       \n",
       "4  vera jourová say new rule needed limit bulk collection european datathe eu requiring new legislation limiting government agency accessing european read              \n",
       "\n",
       "                                                                                  description  \\\n",
       "0  bimonthly newsletter design product technology miranovatweet team open collabs info via dm   \n",
       "1  bimonthly newsletter design product technology miranovatweet team open collabs info via dm   \n",
       "2  bimonthly newsletter design product technology miranovatweet team open collabs info via dm   \n",
       "3  bimonthly newsletter design product technology miranovatweet team open collabs info via dm   \n",
       "4  bimonthly newsletter design product technology miranovatweet team open collabs info via dm   \n",
       "\n",
       "                                                           scores  compound  \n",
       "0  {'neg': 0.0, 'neu': 0.829, 'pos': 0.171, 'compound': 0.5106}    0.5106    \n",
       "1  {'neg': 0.0, 'neu': 1.0, 'pos': 0.0, 'compound': 0.0}           0.0000    \n",
       "2  {'neg': 0.081, 'neu': 0.586, 'pos': 0.333, 'compound': 0.7845}  0.7845    \n",
       "3  {'neg': 0.139, 'neu': 0.588, 'pos': 0.273, 'compound': 0.3612}  0.3612    \n",
       "4  {'neg': 0.0, 'neu': 1.0, 'pos': 0.0, 'compound': 0.0}           0.0000    "
      ]
     },
     "execution_count": 42,
     "metadata": {},
     "output_type": "execute_result"
    }
   ],
   "source": [
    "text_desc['compound']  = text_desc['scores'].apply(lambda score_dict: score_dict['compound'])\n",
    "text_desc.head()"
   ]
  },
  {
   "cell_type": "code",
   "execution_count": 43,
   "id": "ca0dbb6e",
   "metadata": {},
   "outputs": [
    {
     "data": {
      "text/html": [
       "<div>\n",
       "<style scoped>\n",
       "    .dataframe tbody tr th:only-of-type {\n",
       "        vertical-align: middle;\n",
       "    }\n",
       "\n",
       "    .dataframe tbody tr th {\n",
       "        vertical-align: top;\n",
       "    }\n",
       "\n",
       "    .dataframe thead th {\n",
       "        text-align: right;\n",
       "    }\n",
       "</style>\n",
       "<table border=\"1\" class=\"dataframe\">\n",
       "  <thead>\n",
       "    <tr style=\"text-align: right;\">\n",
       "      <th></th>\n",
       "      <th>text</th>\n",
       "      <th>description</th>\n",
       "      <th>scores</th>\n",
       "      <th>compound</th>\n",
       "      <th>comp_score</th>\n",
       "    </tr>\n",
       "  </thead>\n",
       "  <tbody>\n",
       "    <tr>\n",
       "      <th>0</th>\n",
       "      <td>eff find proposed modification hipaa would invade personal intimiate health stating trust healthcare crucial especially covid pandemicread</td>\n",
       "      <td>bimonthly newsletter design product technology miranovatweet team open collabs info via dm</td>\n",
       "      <td>{'neg': 0.0, 'neu': 0.829, 'pos': 0.171, 'compound': 0.5106}</td>\n",
       "      <td>0.5106</td>\n",
       "      <td>pos</td>\n",
       "    </tr>\n",
       "    <tr>\n",
       "      <th>1</th>\n",
       "      <td>european parliament pass new eu covid19 certificate regulation detailing people covid informationpromising personal processed line gdprread</td>\n",
       "      <td>bimonthly newsletter design product technology miranovatweet team open collabs info via dm</td>\n",
       "      <td>{'neg': 0.0, 'neu': 1.0, 'pos': 0.0, 'compound': 0.0}</td>\n",
       "      <td>0.0000</td>\n",
       "      <td>neutral</td>\n",
       "    </tr>\n",
       "    <tr>\n",
       "      <th>2</th>\n",
       "      <td>gain better control increasingly powerful technology sector china new regulation china make harder big tech refuse government request datasharing datasecurityread</td>\n",
       "      <td>bimonthly newsletter design product technology miranovatweet team open collabs info via dm</td>\n",
       "      <td>{'neg': 0.081, 'neu': 0.586, 'pos': 0.333, 'compound': 0.7845}</td>\n",
       "      <td>0.7845</td>\n",
       "      <td>pos</td>\n",
       "    </tr>\n",
       "    <tr>\n",
       "      <th>3</th>\n",
       "      <td>consumer driving seat agree disagree privacypolicy tech giant article beth magnusonexplains dataprivacy innovation venturebeat</td>\n",
       "      <td>bimonthly newsletter design product technology miranovatweet team open collabs info via dm</td>\n",
       "      <td>{'neg': 0.139, 'neu': 0.588, 'pos': 0.273, 'compound': 0.3612}</td>\n",
       "      <td>0.3612</td>\n",
       "      <td>pos</td>\n",
       "    </tr>\n",
       "    <tr>\n",
       "      <th>4</th>\n",
       "      <td>vera jourová say new rule needed limit bulk collection european datathe eu requiring new legislation limiting government agency accessing european read</td>\n",
       "      <td>bimonthly newsletter design product technology miranovatweet team open collabs info via dm</td>\n",
       "      <td>{'neg': 0.0, 'neu': 1.0, 'pos': 0.0, 'compound': 0.0}</td>\n",
       "      <td>0.0000</td>\n",
       "      <td>neutral</td>\n",
       "    </tr>\n",
       "  </tbody>\n",
       "</table>\n",
       "</div>"
      ],
      "text/plain": [
       "                                                                                                                                                                 text  \\\n",
       "0  eff find proposed modification hipaa would invade personal intimiate health stating trust healthcare crucial especially covid pandemicread                           \n",
       "1  european parliament pass new eu covid19 certificate regulation detailing people covid informationpromising personal processed line gdprread                          \n",
       "2  gain better control increasingly powerful technology sector china new regulation china make harder big tech refuse government request datasharing datasecurityread   \n",
       "3  consumer driving seat agree disagree privacypolicy tech giant article beth magnusonexplains dataprivacy innovation venturebeat                                       \n",
       "4  vera jourová say new rule needed limit bulk collection european datathe eu requiring new legislation limiting government agency accessing european read              \n",
       "\n",
       "                                                                                  description  \\\n",
       "0  bimonthly newsletter design product technology miranovatweet team open collabs info via dm   \n",
       "1  bimonthly newsletter design product technology miranovatweet team open collabs info via dm   \n",
       "2  bimonthly newsletter design product technology miranovatweet team open collabs info via dm   \n",
       "3  bimonthly newsletter design product technology miranovatweet team open collabs info via dm   \n",
       "4  bimonthly newsletter design product technology miranovatweet team open collabs info via dm   \n",
       "\n",
       "                                                           scores  compound  \\\n",
       "0  {'neg': 0.0, 'neu': 0.829, 'pos': 0.171, 'compound': 0.5106}    0.5106     \n",
       "1  {'neg': 0.0, 'neu': 1.0, 'pos': 0.0, 'compound': 0.0}           0.0000     \n",
       "2  {'neg': 0.081, 'neu': 0.586, 'pos': 0.333, 'compound': 0.7845}  0.7845     \n",
       "3  {'neg': 0.139, 'neu': 0.588, 'pos': 0.273, 'compound': 0.3612}  0.3612     \n",
       "4  {'neg': 0.0, 'neu': 1.0, 'pos': 0.0, 'compound': 0.0}           0.0000     \n",
       "\n",
       "  comp_score  \n",
       "0  pos        \n",
       "1  neutral    \n",
       "2  pos        \n",
       "3  pos        \n",
       "4  neutral    "
      ]
     },
     "execution_count": 43,
     "metadata": {},
     "output_type": "execute_result"
    }
   ],
   "source": [
    "text_desc['comp_score'] = text_desc['compound'].apply(lambda c: 'pos' if c >=0.05 else ('neg' if c <= -0.05 else 'neutral'))\n",
    "\n",
    "text_desc.head()"
   ]
  },
  {
   "cell_type": "code",
   "execution_count": 44,
   "id": "e9fc4760",
   "metadata": {},
   "outputs": [],
   "source": [
    "comp_score_counts = text_desc.comp_score.value_counts()\n",
    "# weirdly a good chunk of them are actually postiive"
   ]
  },
  {
   "cell_type": "code",
   "execution_count": 45,
   "id": "043bdc33",
   "metadata": {},
   "outputs": [
    {
     "data": {
      "image/png": "[encoded data removed]",
      "text/plain": [
       "<Figure size 432x288 with 1 Axes>"
      ]
     },
     "metadata": {},
     "output_type": "display_data"
    }
   ],
   "source": [
    "comp_score_counts.plot.pie(autopct=\"%.1f%%\");"
   ]
  },
  {
   "cell_type": "markdown",
   "id": "a754e23f",
   "metadata": {},
   "source": [
    "## Continued analysis including descriptions using `text_desc` dataframe\n",
    "- news and opinion together\n",
    "- security \n",
    "- 'tech', 'digital', 'business','technology','tweet','marketing','medium','service','law','world','view','solution','global','help','ai','software', 'cybersecurity'\n",
    "\n",
    "### News, opinion"
   ]
  },
  {
   "cell_type": "code",
   "execution_count": null,
   "id": "9e87cb1b",
   "metadata": {},
   "outputs": [],
   "source": [
    "news_df = text_desc[text_desc['description'].str.contains('news') | text_desc['description'].str.contains('opinion')]\n",
    "news_df.head()"
   ]
  },
  {
   "cell_type": "code",
   "execution_count": null,
   "id": "2d59e5cf",
   "metadata": {},
   "outputs": [],
   "source": [
    "news_df.shape"
   ]
  },
  {
   "cell_type": "code",
   "execution_count": null,
   "id": "12d5daa6",
   "metadata": {},
   "outputs": [],
   "source": [
    "news_comp_score_counts = news_df.comp_score.value_counts()\n",
    "news_comp_score_counts.plot.pie(autopct=\"%.1f%%\");\n",
    "\n"
   ]
  },
  {
   "cell_type": "markdown",
   "id": "defd3db5",
   "metadata": {},
   "source": [
    "### Security"
   ]
  },
  {
   "cell_type": "code",
   "execution_count": null,
   "id": "4b235599",
   "metadata": {},
   "outputs": [],
   "source": [
    "security_df = text_desc[text_desc['description'].str.contains('security')]\n",
    "security_df.head()"
   ]
  },
  {
   "cell_type": "code",
   "execution_count": null,
   "id": "c8e577e9",
   "metadata": {},
   "outputs": [],
   "source": [
    "security_df.shape"
   ]
  },
  {
   "cell_type": "code",
   "execution_count": null,
   "id": "d6f2f19c",
   "metadata": {
    "scrolled": true
   },
   "outputs": [],
   "source": [
    "security_comp_score_counts = security_df.comp_score.value_counts()\n",
    "security_comp_score_counts.plot.pie(autopct=\"%.1f%%\");"
   ]
  },
  {
   "cell_type": "markdown",
   "id": "3674c600",
   "metadata": {},
   "source": [
    "### Artifificial Intelligence"
   ]
  },
  {
   "cell_type": "code",
   "execution_count": 62,
   "id": "60cfb469",
   "metadata": {},
   "outputs": [
    {
     "data": {
      "text/html": [
       "<div>\n",
       "<style scoped>\n",
       "    .dataframe tbody tr th:only-of-type {\n",
       "        vertical-align: middle;\n",
       "    }\n",
       "\n",
       "    .dataframe tbody tr th {\n",
       "        vertical-align: top;\n",
       "    }\n",
       "\n",
       "    .dataframe thead th {\n",
       "        text-align: right;\n",
       "    }\n",
       "</style>\n",
       "<table border=\"1\" class=\"dataframe\">\n",
       "  <thead>\n",
       "    <tr style=\"text-align: right;\">\n",
       "      <th></th>\n",
       "      <th>text</th>\n",
       "      <th>description</th>\n",
       "      <th>scores</th>\n",
       "      <th>compound</th>\n",
       "      <th>comp_score</th>\n",
       "    </tr>\n",
       "  </thead>\n",
       "  <tbody>\n",
       "    <tr>\n",
       "      <th>10046</th>\n",
       "      <td>individual community something high priority private public actor org esp govt askencourage citizen share type ai rightscon rightscon2021</td>\n",
       "      <td>initiating inclusive conversation development digital realm founder executive editor anankemag mentor alumnus cherieblairfndn empowerwomen</td>\n",
       "      <td>{'neg': 0.0, 'neu': 0.885, 'pos': 0.115, 'compound': 0.296}</td>\n",
       "      <td>0.2960</td>\n",
       "      <td>pos</td>\n",
       "    </tr>\n",
       "    <tr>\n",
       "      <th>10056</th>\n",
       "      <td>eu regulator tipped ai possible fault software hrtechnology</td>\n",
       "      <td>disconnect possible</td>\n",
       "      <td>{'neg': 0.278, 'neu': 0.722, 'pos': 0.0, 'compound': -0.4019}</td>\n",
       "      <td>-0.4019</td>\n",
       "      <td>neg</td>\n",
       "    </tr>\n",
       "    <tr>\n",
       "      <th>10061</th>\n",
       "      <td>alphabet banking obtaining substantial share ai market far lucrative current dominant share advertising market still beginning</td>\n",
       "      <td>u0001f49a abogo investigo enseño heterodox ip traditional knowledge technology bias ex jicadirect ex unito ex u5927u962au5de5u696du5927u5b66 ex absolut beginner</td>\n",
       "      <td>{'neg': 0.0, 'neu': 0.677, 'pos': 0.323, 'compound': 0.6369}</td>\n",
       "      <td>0.6369</td>\n",
       "      <td>pos</td>\n",
       "    </tr>\n",
       "    <tr>\n",
       "      <th>10110</th>\n",
       "      <td>eu group file complaint assert clearview ai facial recognition software violates protection law</td>\n",
       "      <td>u0001f34au0001f921resisteru0001f5e3lifying theresistance myu23f1is misled reu0001f9a0bywhosotheynihdarpaiibrcan test fundedomicsu0001f9ectherapies wjcglobalreset</td>\n",
       "      <td>{'neg': 0.333, 'neu': 0.667, 'pos': 0.0, 'compound': -0.6705}</td>\n",
       "      <td>-0.6705</td>\n",
       "      <td>neg</td>\n",
       "    </tr>\n",
       "    <tr>\n",
       "      <th>10159</th>\n",
       "      <td>streamlytics belief letting user sell could help reduce ai bias aim democratise giving user control selling usersupplied enterprise</td>\n",
       "      <td>ecosystem builder ceo alchemycrewltd coeditor insurtechbook insurtech ai digitaltransformation sustainability 50insurtech</td>\n",
       "      <td>{'neg': 0.065, 'neu': 0.698, 'pos': 0.237, 'compound': 0.5719}</td>\n",
       "      <td>0.5719</td>\n",
       "      <td>pos</td>\n",
       "    </tr>\n",
       "  </tbody>\n",
       "</table>\n",
       "</div>"
      ],
      "text/plain": [
       "                                                                                                                                            text  \\\n",
       "10046  individual community something high priority private public actor org esp govt askencourage citizen share type ai rightscon rightscon2021   \n",
       "10056  eu regulator tipped ai possible fault software hrtechnology                                                                                 \n",
       "10061  alphabet banking obtaining substantial share ai market far lucrative current dominant share advertising market still beginning              \n",
       "10110  eu group file complaint assert clearview ai facial recognition software violates protection law                                             \n",
       "10159  streamlytics belief letting user sell could help reduce ai bias aim democratise giving user control selling usersupplied enterprise         \n",
       "\n",
       "                                                                                                                                                             description  \\\n",
       "10046  initiating inclusive conversation development digital realm founder executive editor anankemag mentor alumnus cherieblairfndn empowerwomen                          \n",
       "10056  disconnect possible                                                                                                                                                 \n",
       "10061  u0001f49a abogo investigo enseño heterodox ip traditional knowledge technology bias ex jicadirect ex unito ex u5927u962au5de5u696du5927u5b66 ex absolut beginner    \n",
       "10110  u0001f34au0001f921resisteru0001f5e3lifying theresistance myu23f1is misled reu0001f9a0bywhosotheynihdarpaiibrcan test fundedomicsu0001f9ectherapies wjcglobalreset   \n",
       "10159  ecosystem builder ceo alchemycrewltd coeditor insurtechbook insurtech ai digitaltransformation sustainability 50insurtech                                           \n",
       "\n",
       "                                                               scores  \\\n",
       "10046  {'neg': 0.0, 'neu': 0.885, 'pos': 0.115, 'compound': 0.296}      \n",
       "10056  {'neg': 0.278, 'neu': 0.722, 'pos': 0.0, 'compound': -0.4019}    \n",
       "10061  {'neg': 0.0, 'neu': 0.677, 'pos': 0.323, 'compound': 0.6369}     \n",
       "10110  {'neg': 0.333, 'neu': 0.667, 'pos': 0.0, 'compound': -0.6705}    \n",
       "10159  {'neg': 0.065, 'neu': 0.698, 'pos': 0.237, 'compound': 0.5719}   \n",
       "\n",
       "       compound comp_score  \n",
       "10046  0.2960    pos        \n",
       "10056 -0.4019    neg        \n",
       "10061  0.6369    pos        \n",
       "10110 -0.6705    neg        \n",
       "10159  0.5719    pos        "
      ]
     },
     "execution_count": 62,
     "metadata": {},
     "output_type": "execute_result"
    }
   ],
   "source": [
    "any_df = text_desc[text_desc['text'].str.contains(' ai') | text_desc['text'].str.contains('ai ') |\n",
    "                  text_desc['text'].str.contains('artificial intelligence')]\n",
    "any_df.tail()\n",
    "# nothing has artificial intelligence"
   ]
  },
  {
   "cell_type": "code",
   "execution_count": 63,
   "id": "68bb1c99",
   "metadata": {},
   "outputs": [
    {
     "data": {
      "text/plain": [
       "(362, 5)"
      ]
     },
     "execution_count": 63,
     "metadata": {},
     "output_type": "execute_result"
    }
   ],
   "source": [
    "any_df.shape"
   ]
  },
  {
   "cell_type": "code",
   "execution_count": 80,
   "id": "91cb5b8f",
   "metadata": {},
   "outputs": [
    {
     "data": {
      "text/html": [
       "<div>\n",
       "<style scoped>\n",
       "    .dataframe tbody tr th:only-of-type {\n",
       "        vertical-align: middle;\n",
       "    }\n",
       "\n",
       "    .dataframe tbody tr th {\n",
       "        vertical-align: top;\n",
       "    }\n",
       "\n",
       "    .dataframe thead th {\n",
       "        text-align: right;\n",
       "    }\n",
       "</style>\n",
       "<table border=\"1\" class=\"dataframe\">\n",
       "  <thead>\n",
       "    <tr style=\"text-align: right;\">\n",
       "      <th></th>\n",
       "      <th>text</th>\n",
       "      <th>description</th>\n",
       "      <th>scores</th>\n",
       "      <th>compound</th>\n",
       "      <th>comp_score</th>\n",
       "    </tr>\n",
       "  </thead>\n",
       "  <tbody>\n",
       "    <tr>\n",
       "      <th>9581</th>\n",
       "      <td>apple double push iphone multiple new feature aiming protect user</td>\n",
       "      <td>hillreporter rawstory alternet</td>\n",
       "      <td>{'neg': 0.0, 'neu': 0.776, 'pos': 0.224, 'compound': 0.3818}</td>\n",
       "      <td>0.3818</td>\n",
       "      <td>pos</td>\n",
       "    </tr>\n",
       "    <tr>\n",
       "      <th>9596</th>\n",
       "      <td>essential take account scientist use artificial intelligence analyze medical research thats energy partnering nih support ai research protects</td>\n",
       "      <td>department energy office science single largest supporter basic research physical science united state</td>\n",
       "      <td>{'neg': 0.0, 'neu': 0.579, 'pos': 0.421, 'compound': 0.8481}</td>\n",
       "      <td>0.8481</td>\n",
       "      <td>pos</td>\n",
       "    </tr>\n",
       "    <tr>\n",
       "      <th>9604</th>\n",
       "      <td>ceo jarrett kolthoff led informative panel cyber insurance advantage implication gisec dubai watch full discussion</td>\n",
       "      <td>cyber counterintelligence firm protects client cyber threat proactive reactive service</td>\n",
       "      <td>{'neg': 0.0, 'neu': 0.875, 'pos': 0.125, 'compound': 0.25}</td>\n",
       "      <td>0.2500</td>\n",
       "      <td>pos</td>\n",
       "    </tr>\n",
       "    <tr>\n",
       "      <th>9623</th>\n",
       "      <td>kkjdotai pnatarajanmd noshreza andrewjsauer shwinner drkaushikjain hafizakmd purviparwani murphykmg need breakdown barrier allow free market flourish sec must remain paramount perhaps blockchain play role naturally cmsgov could monitor platform whereby ehr large small participate innovation development process</td>\n",
       "      <td>cofounder cardiac medical consulting founder capx group accelerating startup solve world challenging problem sailing enthusiast</td>\n",
       "      <td>{'neg': 0.034, 'neu': 0.732, 'pos': 0.233, 'compound': 0.8271}</td>\n",
       "      <td>0.8271</td>\n",
       "      <td>pos</td>\n",
       "    </tr>\n",
       "    <tr>\n",
       "      <th>9667</th>\n",
       "      <td>beautiful airport authority want collect biometric last ounce access highly digital age say u0001f595 fuck</td>\n",
       "      <td>feminist muslim anthropologist necessarily order drug choice book music food</td>\n",
       "      <td>{'neg': 0.167, 'neu': 0.524, 'pos': 0.31, 'compound': 0.25}</td>\n",
       "      <td>0.2500</td>\n",
       "      <td>pos</td>\n",
       "    </tr>\n",
       "    <tr>\n",
       "      <th>9801</th>\n",
       "      <td>apple ever decides uturn platform ai device inferencing apple vpn collect facebook could ever wish</td>\n",
       "      <td>sr director global head hardware product htcvive htc frequently caught mounting base station sticky tape opinion</td>\n",
       "      <td>{'neg': 0.0, 'neu': 0.838, 'pos': 0.162, 'compound': 0.4019}</td>\n",
       "      <td>0.4019</td>\n",
       "      <td>pos</td>\n",
       "    </tr>\n",
       "    <tr>\n",
       "      <th>9897</th>\n",
       "      <td>personal societal need require right based priority actor engaging public private sector training information encourage citizen share responsive ai rightscon rightscon2021</td>\n",
       "      <td>kijiji yeetusmart village ecosystem centered county government act 2012 villager transform village unit model based devolution kenya u0001f3e1u0001f4af</td>\n",
       "      <td>{'neg': 0.0, 'neu': 0.62, 'pos': 0.38, 'compound': 0.8555}</td>\n",
       "      <td>0.8555</td>\n",
       "      <td>pos</td>\n",
       "    </tr>\n",
       "    <tr>\n",
       "      <th>10046</th>\n",
       "      <td>individual community something high priority private public actor org esp govt askencourage citizen share type ai rightscon rightscon2021</td>\n",
       "      <td>initiating inclusive conversation development digital realm founder executive editor anankemag mentor alumnus cherieblairfndn empowerwomen</td>\n",
       "      <td>{'neg': 0.0, 'neu': 0.885, 'pos': 0.115, 'compound': 0.296}</td>\n",
       "      <td>0.2960</td>\n",
       "      <td>pos</td>\n",
       "    </tr>\n",
       "    <tr>\n",
       "      <th>10061</th>\n",
       "      <td>alphabet banking obtaining substantial share ai market far lucrative current dominant share advertising market still beginning</td>\n",
       "      <td>u0001f49a abogo investigo enseño heterodox ip traditional knowledge technology bias ex jicadirect ex unito ex u5927u962au5de5u696du5927u5b66 ex absolut beginner</td>\n",
       "      <td>{'neg': 0.0, 'neu': 0.677, 'pos': 0.323, 'compound': 0.6369}</td>\n",
       "      <td>0.6369</td>\n",
       "      <td>pos</td>\n",
       "    </tr>\n",
       "    <tr>\n",
       "      <th>10159</th>\n",
       "      <td>streamlytics belief letting user sell could help reduce ai bias aim democratise giving user control selling usersupplied enterprise</td>\n",
       "      <td>ecosystem builder ceo alchemycrewltd coeditor insurtechbook insurtech ai digitaltransformation sustainability 50insurtech</td>\n",
       "      <td>{'neg': 0.065, 'neu': 0.698, 'pos': 0.237, 'compound': 0.5719}</td>\n",
       "      <td>0.5719</td>\n",
       "      <td>pos</td>\n",
       "    </tr>\n",
       "  </tbody>\n",
       "</table>\n",
       "</div>"
      ],
      "text/plain": [
       "                                                                                                                                                                                                                                                                                                                          text  \\\n",
       "9581   apple double push iphone multiple new feature aiming protect user                                                                                                                                                                                                                                                         \n",
       "9596   essential take account scientist use artificial intelligence analyze medical research thats energy partnering nih support ai research protects                                                                                                                                                                            \n",
       "9604   ceo jarrett kolthoff led informative panel cyber insurance advantage implication gisec dubai watch full discussion                                                                                                                                                                                                        \n",
       "9623   kkjdotai pnatarajanmd noshreza andrewjsauer shwinner drkaushikjain hafizakmd purviparwani murphykmg need breakdown barrier allow free market flourish sec must remain paramount perhaps blockchain play role naturally cmsgov could monitor platform whereby ehr large small participate innovation development process   \n",
       "9667   beautiful airport authority want collect biometric last ounce access highly digital age say u0001f595 fuck                                                                                                                                                                                                                \n",
       "9801   apple ever decides uturn platform ai device inferencing apple vpn collect facebook could ever wish                                                                                                                                                                                                                        \n",
       "9897   personal societal need require right based priority actor engaging public private sector training information encourage citizen share responsive ai rightscon rightscon2021                                                                                                                                               \n",
       "10046  individual community something high priority private public actor org esp govt askencourage citizen share type ai rightscon rightscon2021                                                                                                                                                                                 \n",
       "10061  alphabet banking obtaining substantial share ai market far lucrative current dominant share advertising market still beginning                                                                                                                                                                                            \n",
       "10159  streamlytics belief letting user sell could help reduce ai bias aim democratise giving user control selling usersupplied enterprise                                                                                                                                                                                       \n",
       "\n",
       "                                                                                                                                                            description  \\\n",
       "9581   hillreporter rawstory alternet                                                                                                                                     \n",
       "9596   department energy office science single largest supporter basic research physical science united state                                                             \n",
       "9604   cyber counterintelligence firm protects client cyber threat proactive reactive service                                                                             \n",
       "9623   cofounder cardiac medical consulting founder capx group accelerating startup solve world challenging problem sailing enthusiast                                    \n",
       "9667   feminist muslim anthropologist necessarily order drug choice book music food                                                                                       \n",
       "9801   sr director global head hardware product htcvive htc frequently caught mounting base station sticky tape opinion                                                   \n",
       "9897   kijiji yeetusmart village ecosystem centered county government act 2012 villager transform village unit model based devolution kenya u0001f3e1u0001f4af            \n",
       "10046  initiating inclusive conversation development digital realm founder executive editor anankemag mentor alumnus cherieblairfndn empowerwomen                         \n",
       "10061  u0001f49a abogo investigo enseño heterodox ip traditional knowledge technology bias ex jicadirect ex unito ex u5927u962au5de5u696du5927u5b66 ex absolut beginner   \n",
       "10159  ecosystem builder ceo alchemycrewltd coeditor insurtechbook insurtech ai digitaltransformation sustainability 50insurtech                                          \n",
       "\n",
       "                                                               scores  \\\n",
       "9581   {'neg': 0.0, 'neu': 0.776, 'pos': 0.224, 'compound': 0.3818}     \n",
       "9596   {'neg': 0.0, 'neu': 0.579, 'pos': 0.421, 'compound': 0.8481}     \n",
       "9604   {'neg': 0.0, 'neu': 0.875, 'pos': 0.125, 'compound': 0.25}       \n",
       "9623   {'neg': 0.034, 'neu': 0.732, 'pos': 0.233, 'compound': 0.8271}   \n",
       "9667   {'neg': 0.167, 'neu': 0.524, 'pos': 0.31, 'compound': 0.25}      \n",
       "9801   {'neg': 0.0, 'neu': 0.838, 'pos': 0.162, 'compound': 0.4019}     \n",
       "9897   {'neg': 0.0, 'neu': 0.62, 'pos': 0.38, 'compound': 0.8555}       \n",
       "10046  {'neg': 0.0, 'neu': 0.885, 'pos': 0.115, 'compound': 0.296}      \n",
       "10061  {'neg': 0.0, 'neu': 0.677, 'pos': 0.323, 'compound': 0.6369}     \n",
       "10159  {'neg': 0.065, 'neu': 0.698, 'pos': 0.237, 'compound': 0.5719}   \n",
       "\n",
       "       compound comp_score  \n",
       "9581   0.3818    pos        \n",
       "9596   0.8481    pos        \n",
       "9604   0.2500    pos        \n",
       "9623   0.8271    pos        \n",
       "9667   0.2500    pos        \n",
       "9801   0.4019    pos        \n",
       "9897   0.8555    pos        \n",
       "10046  0.2960    pos        \n",
       "10061  0.6369    pos        \n",
       "10159  0.5719    pos        "
      ]
     },
     "execution_count": 80,
     "metadata": {},
     "output_type": "execute_result"
    }
   ],
   "source": [
    "any_df[any_df.comp_score == 'pos'].tail(10)"
   ]
  },
  {
   "cell_type": "code",
   "execution_count": 85,
   "id": "3b4dd2b4",
   "metadata": {},
   "outputs": [
    {
     "data": {
      "text/html": [
       "<div>\n",
       "<style scoped>\n",
       "    .dataframe tbody tr th:only-of-type {\n",
       "        vertical-align: middle;\n",
       "    }\n",
       "\n",
       "    .dataframe tbody tr th {\n",
       "        vertical-align: top;\n",
       "    }\n",
       "\n",
       "    .dataframe thead th {\n",
       "        text-align: right;\n",
       "    }\n",
       "</style>\n",
       "<table border=\"1\" class=\"dataframe\">\n",
       "  <thead>\n",
       "    <tr style=\"text-align: right;\">\n",
       "      <th></th>\n",
       "      <th>text</th>\n",
       "      <th>is_quote</th>\n",
       "      <th>is_retweet</th>\n",
       "      <th>retweet_count</th>\n",
       "      <th>hashtags</th>\n",
       "      <th>followers_count</th>\n",
       "    </tr>\n",
       "  </thead>\n",
       "  <tbody>\n",
       "    <tr>\n",
       "      <th>0</th>\n",
       "      <td>The @EFF finds that the proposed modifications to the HIPAA would \"invade your most personal and intimiate health data.\" \\r\\n\\r\\nStating that trust in healthcare is crucial and especially so during the #COVID pandemic.\\r\\n\\r\\nRead more: https://t.co/ReuoQ3mF9p</td>\n",
       "      <td>False</td>\n",
       "      <td>False</td>\n",
       "      <td>0</td>\n",
       "      <td>COVID</td>\n",
       "      <td>406</td>\n",
       "    </tr>\n",
       "  </tbody>\n",
       "</table>\n",
       "</div>"
      ],
      "text/plain": [
       "                                                                                                                                                                                                                                                                   text  \\\n",
       "0  The @EFF finds that the proposed modifications to the HIPAA would \"invade your most personal and intimiate health data.\" \\r\\n\\r\\nStating that trust in healthcare is crucial and especially so during the #COVID pandemic.\\r\\n\\r\\nRead more: https://t.co/ReuoQ3mF9p   \n",
       "\n",
       "   is_quote  is_retweet  retweet_count hashtags  followers_count  \n",
       "0  False     False       0              COVID    406              "
      ]
     },
     "execution_count": 85,
     "metadata": {},
     "output_type": "execute_result"
    }
   ],
   "source": [
    "df.iloc[[0]]"
   ]
  },
  {
   "cell_type": "code",
   "execution_count": 70,
   "id": "46b88657",
   "metadata": {
    "scrolled": true
   },
   "outputs": [
    {
     "data": {
      "image/png": "[encoded data removed]",
      "text/plain": [
       "<Figure size 432x288 with 1 Axes>"
      ]
     },
     "metadata": {},
     "output_type": "display_data"
    }
   ],
   "source": [
    "any_comp_score_counts = any_df.comp_score.value_counts()\n",
    "any_comp_score_counts.plot.pie(autopct=\"%.1f%%\");\n",
    "plt.title(\"Artificial Intelligence Sentiment in Data Privacy Tweets\")\n",
    "plt.show()"
   ]
  },
  {
   "cell_type": "markdown",
   "id": "5ce3331c",
   "metadata": {},
   "source": [
    "# Word Cloud"
   ]
  },
  {
   "cell_type": "code",
   "execution_count": null,
   "id": "20cf75fa",
   "metadata": {},
   "outputs": [],
   "source": [
    "from os import path\n",
    "from PIL import Image\n",
    "from wordcloud import WordCloud, STOPWORDS, ImageColorGenerator\n",
    "\n",
    "import matplotlib.pyplot as plt\n",
    "%matplotlib inline"
   ]
  },
  {
   "cell_type": "code",
   "execution_count": null,
   "id": "f403e273",
   "metadata": {},
   "outputs": [],
   "source": [
    "stopwords = set(STOPWORDS)\n",
    "new_stopwords=stopwords.union(text['text'])\n",
    "wc = WordCloud(\n",
    "         background_color=\"white\", max_words=2000,\n",
    "         min_font_size =15, max_font_size=40, relative_scaling =\n",
    "         0.5, stopwords=new_stopwords,normalize_plurals= True)\n",
    "import re\n",
    "textonly = re.sub(\"\", \"\",str(text['text']))\n",
    "wc.generate(textonly)\n",
    "plt.figure(figsize=(25,25))\n",
    "plt.imshow(wc, interpolation=\"bilinear\")\n",
    "plt.axis(\"off\")\n",
    "#Show the wordcloud\n",
    "plt.show()\n",
    "\n",
    "#have to change the code a little; the original one does not cause error but count compound/pos/neg/neutral into the cloud -Shuwen"
   ]
  },
  {
   "cell_type": "code",
   "execution_count": null,
   "id": "9e142f3f",
   "metadata": {},
   "outputs": [],
   "source": []
  }
 ],
 "metadata": {
  "kernelspec": {
   "display_name": "Python 3",
   "language": "python",
   "name": "python3"
  },
  "language_info": {
   "codemirror_mode": {
    "name": "ipython",
    "version": 3
   },
   "file_extension": ".py",
   "mimetype": "text/x-python",
   "name": "python",
   "nbconvert_exporter": "python",
   "pygments_lexer": "ipython3",
   "version": "3.8.8"
  }
 },
 "nbformat": 4,
 "nbformat_minor": 5
}
