{
 "cells": [
  {
   "cell_type": "code",
   "execution_count": 1,
   "id": "53a7edb5",
   "metadata": {},
   "outputs": [],
   "source": [
    "from IPython.display import Image\n",
    "import pandas as pd\n",
    "import numpy as np\n",
    "import matplotlib.pyplot as plt\n",
    "import warnings\n",
    "import seaborn as sns\n",
    "sns.set(rc={'figure.figsize':(6,8)}) \n",
    "\n",
    "import warnings\n",
    "warnings.simplefilter(\"ignore\")\n",
    "\n",
    "%matplotlib inline \n",
    "\n",
    "from sklearn.preprocessing import LabelEncoder \n",
    "\n",
    "from sklearn.linear_model import LinearRegression\n",
    "from sklearn.model_selection import train_test_split\n",
    "\n",
    "from sklearn import metrics\n",
    "\n",
    "from sklearn.model_selection import cross_val_score\n",
    "from sklearn.model_selection import cross_validate\n",
    "\n",
    "from sklearn.metrics import SCORERS\n",
    "import re\n",
    "\n",
    "import nltk \n",
    "from nltk.corpus import stopwords\n",
    "from nltk.stem import PorterStemmer\n",
    "from nltk.stem.wordnet import WordNetLemmatizer\n",
    "\n",
    "from sklearn.cluster import KMeans\n",
    "from sklearn.feature_extraction.text import CountVectorizer\n",
    "from sklearn.feature_extraction.text import TfidfVectorizer\n",
    "\n",
    "from nltk.sentiment.vader import SentimentIntensityAnalyzer\n",
    "from nltk.probability import FreqDist"
   ]
  },
  {
   "cell_type": "code",
   "execution_count": 2,
   "id": "f1dcfc51",
   "metadata": {},
   "outputs": [],
   "source": [
    "def cleanTxt(txt):\n",
    "    if not isinstance(txt, str):\n",
    "        txt = str(txt)\n",
    "    txt = re.sub(r'[^\\w\\s]','', txt) #remove everything except words and space\n",
    "    txt = txt.lower()\n",
    "    txt = re.sub(r'RT[\\s]+', '', txt) #removing RT\n",
    "    txt = re.sub(r'_','', txt) #how to remove underscore as well\n",
    "    if 'https' in txt: # removing hyperlinks \n",
    "        pos = txt.find('https')\n",
    "        txt = txt[:pos]\n",
    "    return txt"
   ]
  },
  {
   "cell_type": "code",
   "execution_count": 4,
   "id": "316a7f5e",
   "metadata": {},
   "outputs": [],
   "source": [
    "def stopWords(txt): \n",
    "    txt_lst = txt.split(\" \")\n",
    "    txt_lst = [word for word in txt_lst if word not in stopwords.words('english')]\n",
    "    txt_lst = [wnet.lemmatize(word) for word in txt_lst]\n",
    "    txt_lst = [word for word in txt_lst if word != '']\n",
    "    txt_lst = [word for word in txt_lst if word != '\\r\\n\\r\\n'] # indicates space and indexing\n",
    "    txt_lst = [word for word in txt_lst if word != 'u0001f449'] # indicates back hand emoji pointing right\n",
    "    txt_lst = [word for word in txt_lst if word != 'dataprivacy']\n",
    "    txt_lst = [word for word in txt_lst if word != 'data']\n",
    "    txt_lst = [word for word in txt_lst if word != 'privacy']\n",
    "    return \" \".join(txt_lst)\n"
   ]
  },
  {
   "cell_type": "code",
   "execution_count": 5,
   "id": "7b2569d0",
   "metadata": {},
   "outputs": [],
   "source": [
    "def evaluate_k_kmeans_inertia(k, vec):\n",
    "    print(f\"running Kmeans with k={k}\")\n",
    "    estimator_kmeans = KMeans(random_state=42, n_clusters=k)\n",
    "    estimator_kmeans.fit(vec)\n",
    "    return estimator_kmeans.inertia_"
   ]
  },
  {
   "cell_type": "code",
   "execution_count": 6,
   "id": "a5fd7eec",
   "metadata": {},
   "outputs": [
    {
     "name": "stdout",
     "output_type": "stream",
     "text": [
      "Requirement already satisfied: countrygroups in /Users/marlene/opt/anaconda3/lib/python3.8/site-packages (0.11.0)\r\n",
      "Requirement already satisfied: shortcountrynames in /Users/marlene/opt/anaconda3/lib/python3.8/site-packages (from countrygroups) (0.9.0)\r\n"
     ]
    }
   ],
   "source": [
    "!pip install countrygroups"
   ]
  },
  {
   "cell_type": "code",
   "execution_count": 7,
   "id": "b3ffaa83",
   "metadata": {},
   "outputs": [
    {
     "name": "stdout",
     "output_type": "stream",
     "text": [
      "Requirement already satisfied: pycountry in /Users/marlene/opt/anaconda3/lib/python3.8/site-packages (20.7.3)\r\n"
     ]
    }
   ],
   "source": [
    "!pip install pycountry"
   ]
  },
  {
   "cell_type": "code",
   "execution_count": 113,
   "id": "ea7b65ef",
   "metadata": {},
   "outputs": [],
   "source": [
    "from  countrygroups import EUROPEAN_UNION\n",
    "import pycountry\n",
    "\n",
    "def findCountry(txt):\n",
    "    if txt == 'EU' or txt == 'Europe' or txt == 'European Union':\n",
    "        return 'European Union'\n",
    "    if txt is np.nan:\n",
    "        return 'Unknown'\n",
    "    txt = re.sub(',','', txt) #remove everything except words and space\n",
    "    if 'global' in txt.lower() or 'worldwide' in txt.lower(): # over 100 entries with global or worldwide as location\n",
    "        return 'Global'\n",
    "    try:\n",
    "        x = pycountry.countries.search_fuzzy(txt)[0].name\n",
    "        return x\n",
    "    except:\n",
    "        pass\n",
    "    try:\n",
    "        us.states.lookup(txt)\n",
    "        return \"United States\"\n",
    "    except:\n",
    "        pass\n",
    "    txt_lst = txt.split(\" \")\n",
    "    for word in txt_lst:\n",
    "        try:\n",
    "            x = pycountry.subdivisions.lookup(word).country.name\n",
    "            return x\n",
    "        except:\n",
    "            pass\n",
    "        try:\n",
    "            y = pycountry.countries.search_fuzzy(word)[0].name\n",
    "            if y in EUROPEAN_UNION.names:\n",
    "                return \"European Union\"\n",
    "            else:\n",
    "                return y\n",
    "        except:\n",
    "            pass\n",
    "    return 'Unknown'"
   ]
  },
  {
   "cell_type": "code",
   "execution_count": null,
   "id": "6a5e73eb",
   "metadata": {},
   "outputs": [],
   "source": [
    "# from  countrygroups import EUROPEAN_UNION\n",
    "# from geopy.geocoders import Nominatim\n",
    "# from geopy.extra.rate_limiter import RateLimiter\n",
    "# geolocator = Nominatim(user_agent = \"geoapiExercises\")\n",
    "# geocode = RateLimiter(geolocator.geocode, max_retries=2, swallow_exceptions=True, return_value_on_exception=None)\n",
    "# def findCountry(txt):\n",
    "#     if txt is np.nan:\n",
    "#         return 'Unknown'\n",
    "#     txt = re.sub(r'[^\\w\\s]','', txt) #remove everything except words and space\n",
    "#     if 'global' in txt.lower() or 'worldwide' in txt.lower(): # over 100 entries with global or worldwide as location\n",
    "#         return 'Global'\n",
    "#     txt_lst = txt.split(\" \")\n",
    "#     for word in txt_lst:  # a few entries that return unknown when a number is present (regex doesn't remove it for some reason)\n",
    "#         if any(ch.isdigit() for ch in word):\n",
    "#             txt_lst.remove(word)\n",
    "#     txt = \" \".join(txt_lst)\n",
    "#     try:\n",
    "#         x = geolocator.geocode(txt, )\n",
    "#         if x is None:\n",
    "#             return 'Unknown'\n",
    "#         loc = x.address.split(',')[-1]\n",
    "#         if loc[0] == \" \":\n",
    "#             loc = loc[1:]\n",
    "#         if loc in EUROPEAN_UNION.names:\n",
    "#              return \"European Union\"\n",
    "#         return loc\n",
    "#     except:\n",
    "#         return 'Unknown'"
   ]
  },
  {
   "cell_type": "code",
   "execution_count": 9,
   "id": "75b7bfc0",
   "metadata": {},
   "outputs": [],
   "source": [
    "def splitData(data, len_of_frame):\n",
    "    n = len(data.index) \n",
    "    split_n = round(n/len_of_frame, 0)\n",
    "    print(split_n)\n",
    "    splits = [int(x) for x in range(int(split_n))]\n",
    "    lst = []\n",
    "    for splt in splits:\n",
    "        if splt == splits[-1]:\n",
    "            lst.append(data[int(splt * len_of_frame):])\n",
    "        else:\n",
    "            lst.append(data[int(splt * len_of_frame):int(len_of_frame * (1 + splt))])\n",
    "    return lst"
   ]
  },
  {
   "cell_type": "code",
   "execution_count": 10,
   "id": "edbc7172",
   "metadata": {},
   "outputs": [],
   "source": [
    "def cluster_summary(ci, df):\n",
    "    cluster = df[df.cluster_id==ci]\n",
    "    cluster_summary = cluster[categorical_data.columns].mode().to_dict(orient=\"records\")[0]\n",
    "    cluster_summary.update(cluster.mean().to_dict())\n",
    "    return cluster_summary"
   ]
  },
  {
   "cell_type": "code",
   "execution_count": 11,
   "id": "27c4f7cf",
   "metadata": {},
   "outputs": [],
   "source": [
    "# we can make a function that puts comparisons side by side so its easier for us to see in a data frame \n",
    "\n",
    "def cluster_comparison(*cluster_ids):\n",
    "    summaries = []\n",
    "    for cluster_id in cluster_ids:\n",
    "        summaries.append(cluster_summary(cluster_id, df2))\n",
    "    return pd.DataFrame(summaries).set_index(\"cluster_id\").T"
   ]
  },
  {
   "cell_type": "code",
   "execution_count": 12,
   "id": "7ac92fea",
   "metadata": {},
   "outputs": [],
   "source": [
    "def kmeans_cluster(df, n_clusters=2):\n",
    "    \"\"\"This function assigns clusters to every row in the dataframe via kmeans\"\"\"\n",
    "    model = KMeans(n_clusters=n_clusters, random_state=42)\n",
    "    clusters = model.fit_predict(df)\n",
    "    cluster_results = df.copy()\n",
    "    cluster_results['Cluster'] = clusters\n",
    "    return cluster_results"
   ]
  },
  {
   "cell_type": "code",
   "execution_count": 13,
   "id": "64788f37",
   "metadata": {},
   "outputs": [],
   "source": [
    "def graph_summary_clustering(results):\n",
    "    \"\"\"this function produces a summary of the clusters\"\"\"\n",
    "    cluster_size = results.groupby(['Cluster']).size().reset_index()\n",
    "    cluster_size.columns = ['Cluster', 'Count']\n",
    "    cluster_means = results.groupby(['Cluster'], as_index=False).mean()\n",
    "    cluster_summary = pd.merge(cluster_size, cluster_means, on='Cluster')\n",
    "    cluster_summary = cluster_summary.drop([\"Count\"], axis=1).set_index(\"Cluster\")\n",
    "    return cluster_summary[sorted(cluster_summary.columns)]"
   ]
  },
  {
   "cell_type": "markdown",
   "id": "468da042",
   "metadata": {},
   "source": [
    "# Data Privacy clustering on other columns: preprocessing"
   ]
  },
  {
   "cell_type": "code",
   "execution_count": 21,
   "id": "defd5bb7",
   "metadata": {},
   "outputs": [],
   "source": [
    "data = pd.read_csv('data_privacy_tweets.csv')"
   ]
  },
  {
   "cell_type": "code",
   "execution_count": 22,
   "id": "019766c3",
   "metadata": {
    "scrolled": true
   },
   "outputs": [
    {
     "data": {
      "text/html": [
       "<div>\n",
       "<style scoped>\n",
       "    .dataframe tbody tr th:only-of-type {\n",
       "        vertical-align: middle;\n",
       "    }\n",
       "\n",
       "    .dataframe tbody tr th {\n",
       "        vertical-align: top;\n",
       "    }\n",
       "\n",
       "    .dataframe thead th {\n",
       "        text-align: right;\n",
       "    }\n",
       "</style>\n",
       "<table border=\"1\" class=\"dataframe\">\n",
       "  <thead>\n",
       "    <tr style=\"text-align: right;\">\n",
       "      <th></th>\n",
       "      <th>user_id</th>\n",
       "      <th>status_id</th>\n",
       "      <th>created_at</th>\n",
       "      <th>screen_name</th>\n",
       "      <th>text</th>\n",
       "      <th>source</th>\n",
       "      <th>display_text_width</th>\n",
       "      <th>reply_to_status_id</th>\n",
       "      <th>reply_to_user_id</th>\n",
       "      <th>reply_to_screen_name</th>\n",
       "      <th>...</th>\n",
       "      <th>statuses_count</th>\n",
       "      <th>favourites_count</th>\n",
       "      <th>account_created_at</th>\n",
       "      <th>verified</th>\n",
       "      <th>profile_url</th>\n",
       "      <th>profile_expanded_url</th>\n",
       "      <th>account_lang</th>\n",
       "      <th>profile_banner_url</th>\n",
       "      <th>profile_background_url</th>\n",
       "      <th>profile_image_url</th>\n",
       "    </tr>\n",
       "  </thead>\n",
       "  <tbody>\n",
       "    <tr>\n",
       "      <th>0</th>\n",
       "      <td>x1166589525386301440</td>\n",
       "      <td>x1404485195676459008</td>\n",
       "      <td>2021-06-14 17:05:39</td>\n",
       "      <td>privacy_issues</td>\n",
       "      <td>The @EFF finds that the proposed modifications...</td>\n",
       "      <td>TweetDeck</td>\n",
       "      <td>248</td>\n",
       "      <td>NaN</td>\n",
       "      <td>NaN</td>\n",
       "      <td>NaN</td>\n",
       "      <td>...</td>\n",
       "      <td>1036</td>\n",
       "      <td>2177</td>\n",
       "      <td>2019-08-28 05:53:33</td>\n",
       "      <td>False</td>\n",
       "      <td>https://t.co/HFMGW8U18M</td>\n",
       "      <td>http://bit.ly/privacyissuessignup</td>\n",
       "      <td>NaN</td>\n",
       "      <td>https://pbs.twimg.com/profile_banners/11665895...</td>\n",
       "      <td>NaN</td>\n",
       "      <td>http://pbs.twimg.com/profile_images/1166589644...</td>\n",
       "    </tr>\n",
       "    <tr>\n",
       "      <th>1</th>\n",
       "      <td>x1166589525386301440</td>\n",
       "      <td>x1403010409473449986</td>\n",
       "      <td>2021-06-10 15:25:22</td>\n",
       "      <td>privacy_issues</td>\n",
       "      <td>The European Parliament passes the new #EU #CO...</td>\n",
       "      <td>TweetDeck</td>\n",
       "      <td>223</td>\n",
       "      <td>NaN</td>\n",
       "      <td>NaN</td>\n",
       "      <td>NaN</td>\n",
       "      <td>...</td>\n",
       "      <td>1036</td>\n",
       "      <td>2177</td>\n",
       "      <td>2019-08-28 05:53:33</td>\n",
       "      <td>False</td>\n",
       "      <td>https://t.co/HFMGW8U18M</td>\n",
       "      <td>http://bit.ly/privacyissuessignup</td>\n",
       "      <td>NaN</td>\n",
       "      <td>https://pbs.twimg.com/profile_banners/11665895...</td>\n",
       "      <td>NaN</td>\n",
       "      <td>http://pbs.twimg.com/profile_images/1166589644...</td>\n",
       "    </tr>\n",
       "    <tr>\n",
       "      <th>2</th>\n",
       "      <td>x1166589525386301440</td>\n",
       "      <td>x1404185087093182465</td>\n",
       "      <td>2021-06-13 21:13:07</td>\n",
       "      <td>privacy_issues</td>\n",
       "      <td>To gain better control over the increasingly p...</td>\n",
       "      <td>TweetDeck</td>\n",
       "      <td>240</td>\n",
       "      <td>NaN</td>\n",
       "      <td>NaN</td>\n",
       "      <td>NaN</td>\n",
       "      <td>...</td>\n",
       "      <td>1036</td>\n",
       "      <td>2177</td>\n",
       "      <td>2019-08-28 05:53:33</td>\n",
       "      <td>False</td>\n",
       "      <td>https://t.co/HFMGW8U18M</td>\n",
       "      <td>http://bit.ly/privacyissuessignup</td>\n",
       "      <td>NaN</td>\n",
       "      <td>https://pbs.twimg.com/profile_banners/11665895...</td>\n",
       "      <td>NaN</td>\n",
       "      <td>http://pbs.twimg.com/profile_images/1166589644...</td>\n",
       "    </tr>\n",
       "    <tr>\n",
       "      <th>3</th>\n",
       "      <td>x1166589525386301440</td>\n",
       "      <td>x1401833811940306947</td>\n",
       "      <td>2021-06-07 09:30:00</td>\n",
       "      <td>privacy_issues</td>\n",
       "      <td>What if the consumers are on the driving seat ...</td>\n",
       "      <td>TweetDeck</td>\n",
       "      <td>255</td>\n",
       "      <td>NaN</td>\n",
       "      <td>NaN</td>\n",
       "      <td>NaN</td>\n",
       "      <td>...</td>\n",
       "      <td>1036</td>\n",
       "      <td>2177</td>\n",
       "      <td>2019-08-28 05:53:33</td>\n",
       "      <td>False</td>\n",
       "      <td>https://t.co/HFMGW8U18M</td>\n",
       "      <td>http://bit.ly/privacyissuessignup</td>\n",
       "      <td>NaN</td>\n",
       "      <td>https://pbs.twimg.com/profile_banners/11665895...</td>\n",
       "      <td>NaN</td>\n",
       "      <td>http://pbs.twimg.com/profile_images/1166589644...</td>\n",
       "    </tr>\n",
       "    <tr>\n",
       "      <th>4</th>\n",
       "      <td>x1166589525386301440</td>\n",
       "      <td>x1401555697163280387</td>\n",
       "      <td>2021-06-06 15:04:52</td>\n",
       "      <td>privacy_issues</td>\n",
       "      <td>\"Vera Jourová says new rules are needed to lim...</td>\n",
       "      <td>TweetDeck</td>\n",
       "      <td>230</td>\n",
       "      <td>NaN</td>\n",
       "      <td>NaN</td>\n",
       "      <td>NaN</td>\n",
       "      <td>...</td>\n",
       "      <td>1036</td>\n",
       "      <td>2177</td>\n",
       "      <td>2019-08-28 05:53:33</td>\n",
       "      <td>False</td>\n",
       "      <td>https://t.co/HFMGW8U18M</td>\n",
       "      <td>http://bit.ly/privacyissuessignup</td>\n",
       "      <td>NaN</td>\n",
       "      <td>https://pbs.twimg.com/profile_banners/11665895...</td>\n",
       "      <td>NaN</td>\n",
       "      <td>http://pbs.twimg.com/profile_images/1166589644...</td>\n",
       "    </tr>\n",
       "  </tbody>\n",
       "</table>\n",
       "<p>5 rows × 90 columns</p>\n",
       "</div>"
      ],
      "text/plain": [
       "                user_id             status_id           created_at  \\\n",
       "0  x1166589525386301440  x1404485195676459008  2021-06-14 17:05:39   \n",
       "1  x1166589525386301440  x1403010409473449986  2021-06-10 15:25:22   \n",
       "2  x1166589525386301440  x1404185087093182465  2021-06-13 21:13:07   \n",
       "3  x1166589525386301440  x1401833811940306947  2021-06-07 09:30:00   \n",
       "4  x1166589525386301440  x1401555697163280387  2021-06-06 15:04:52   \n",
       "\n",
       "      screen_name                                               text  \\\n",
       "0  privacy_issues  The @EFF finds that the proposed modifications...   \n",
       "1  privacy_issues  The European Parliament passes the new #EU #CO...   \n",
       "2  privacy_issues  To gain better control over the increasingly p...   \n",
       "3  privacy_issues  What if the consumers are on the driving seat ...   \n",
       "4  privacy_issues  \"Vera Jourová says new rules are needed to lim...   \n",
       "\n",
       "      source  display_text_width reply_to_status_id reply_to_user_id  \\\n",
       "0  TweetDeck                 248                NaN              NaN   \n",
       "1  TweetDeck                 223                NaN              NaN   \n",
       "2  TweetDeck                 240                NaN              NaN   \n",
       "3  TweetDeck                 255                NaN              NaN   \n",
       "4  TweetDeck                 230                NaN              NaN   \n",
       "\n",
       "  reply_to_screen_name  ...  statuses_count  favourites_count  \\\n",
       "0                  NaN  ...            1036              2177   \n",
       "1                  NaN  ...            1036              2177   \n",
       "2                  NaN  ...            1036              2177   \n",
       "3                  NaN  ...            1036              2177   \n",
       "4                  NaN  ...            1036              2177   \n",
       "\n",
       "    account_created_at  verified              profile_url  \\\n",
       "0  2019-08-28 05:53:33     False  https://t.co/HFMGW8U18M   \n",
       "1  2019-08-28 05:53:33     False  https://t.co/HFMGW8U18M   \n",
       "2  2019-08-28 05:53:33     False  https://t.co/HFMGW8U18M   \n",
       "3  2019-08-28 05:53:33     False  https://t.co/HFMGW8U18M   \n",
       "4  2019-08-28 05:53:33     False  https://t.co/HFMGW8U18M   \n",
       "\n",
       "                profile_expanded_url account_lang  \\\n",
       "0  http://bit.ly/privacyissuessignup          NaN   \n",
       "1  http://bit.ly/privacyissuessignup          NaN   \n",
       "2  http://bit.ly/privacyissuessignup          NaN   \n",
       "3  http://bit.ly/privacyissuessignup          NaN   \n",
       "4  http://bit.ly/privacyissuessignup          NaN   \n",
       "\n",
       "                                  profile_banner_url profile_background_url  \\\n",
       "0  https://pbs.twimg.com/profile_banners/11665895...                    NaN   \n",
       "1  https://pbs.twimg.com/profile_banners/11665895...                    NaN   \n",
       "2  https://pbs.twimg.com/profile_banners/11665895...                    NaN   \n",
       "3  https://pbs.twimg.com/profile_banners/11665895...                    NaN   \n",
       "4  https://pbs.twimg.com/profile_banners/11665895...                    NaN   \n",
       "\n",
       "                                   profile_image_url  \n",
       "0  http://pbs.twimg.com/profile_images/1166589644...  \n",
       "1  http://pbs.twimg.com/profile_images/1166589644...  \n",
       "2  http://pbs.twimg.com/profile_images/1166589644...  \n",
       "3  http://pbs.twimg.com/profile_images/1166589644...  \n",
       "4  http://pbs.twimg.com/profile_images/1166589644...  \n",
       "\n",
       "[5 rows x 90 columns]"
      ]
     },
     "execution_count": 22,
     "metadata": {},
     "output_type": "execute_result"
    }
   ],
   "source": [
    "data = data.drop_duplicates('text')\n",
    "data.head()"
   ]
  },
  {
   "cell_type": "markdown",
   "id": "5fdf8809",
   "metadata": {},
   "source": [
    "## Location to country"
   ]
  },
  {
   "cell_type": "code",
   "execution_count": 23,
   "id": "bd438f72",
   "metadata": {},
   "outputs": [
    {
     "name": "stdout",
     "output_type": "stream",
     "text": [
      "6.0\n",
      "6.0\n",
      "6.0\n",
      "6.0\n",
      "6.0\n",
      "6.0\n"
     ]
    }
   ],
   "source": [
    "df1 = splitData(data, 1700)[0]\n",
    "df2 = splitData(data, 1700)[1]\n",
    "df3 = splitData(data, 1700)[2]\n",
    "df4 = splitData(data, 1700)[3]\n",
    "df5 = splitData(data, 1700)[4]\n",
    "df6 = splitData(data, 1700)[5]\n",
    "# the numbers just indicates how many data frames there are\n",
    "# it gets printed everything the function is run"
   ]
  },
  {
   "cell_type": "code",
   "execution_count": 118,
   "id": "c28e02e8",
   "metadata": {},
   "outputs": [
    {
     "name": "stdout",
     "output_type": "stream",
     "text": [
      "CPU times: user 50.3 s, sys: 89.1 ms, total: 50.3 s\n",
      "Wall time: 50.5 s\n"
     ]
    }
   ],
   "source": [
    "%%time \n",
    "df1['country'] = df1['location'].apply(findCountry)"
   ]
  },
  {
   "cell_type": "code",
   "execution_count": 119,
   "id": "e7c71870",
   "metadata": {},
   "outputs": [
    {
     "data": {
      "text/plain": [
       "0                   EU\n",
       "1                   EU\n",
       "2                   EU\n",
       "3                   EU\n",
       "4                   EU\n",
       "             ...      \n",
       "1770    Carrollton, TX\n",
       "1772               NaN\n",
       "1773               NaN\n",
       "1774               NaN\n",
       "1775               NaN\n",
       "Name: location, Length: 1700, dtype: object"
      ]
     },
     "execution_count": 119,
     "metadata": {},
     "output_type": "execute_result"
    }
   ],
   "source": [
    "df1['location']"
   ]
  },
  {
   "cell_type": "code",
   "execution_count": 120,
   "id": "5a5700a5",
   "metadata": {},
   "outputs": [
    {
     "data": {
      "text/plain": [
       "0       European Union\n",
       "1       European Union\n",
       "2       European Union\n",
       "3       European Union\n",
       "4       European Union\n",
       "             ...      \n",
       "1770     United States\n",
       "1772           Unknown\n",
       "1773           Unknown\n",
       "1774           Unknown\n",
       "1775           Unknown\n",
       "Name: country, Length: 1700, dtype: object"
      ]
     },
     "execution_count": 120,
     "metadata": {},
     "output_type": "execute_result"
    }
   ],
   "source": [
    "df1['country']"
   ]
  },
  {
   "cell_type": "code",
   "execution_count": null,
   "id": "3ba5db83",
   "metadata": {},
   "outputs": [],
   "source": [
    "%%time \n",
    "df2['country'] = df2['location'].apply(findCountry)"
   ]
  },
  {
   "cell_type": "code",
   "execution_count": null,
   "id": "0141e365",
   "metadata": {},
   "outputs": [],
   "source": [
    "%%time\n",
    "df4['country'] = df4['location'].apply(findCountry)"
   ]
  },
  {
   "cell_type": "code",
   "execution_count": null,
   "id": "10f2ec3c",
   "metadata": {},
   "outputs": [],
   "source": [
    "%%time\n",
    "df5['country'] = df5['location'].apply(findCountry)"
   ]
  },
  {
   "cell_type": "code",
   "execution_count": null,
   "id": "b831be87",
   "metadata": {},
   "outputs": [],
   "source": [
    "%%time\n",
    "df6['country'] = df6['location'].apply(findCountry)"
   ]
  },
  {
   "cell_type": "code",
   "execution_count": null,
   "id": "84f7de7b",
   "metadata": {},
   "outputs": [],
   "source": [
    "data = pd.concat([df1, df2, df3, df4, df5, df6])\n",
    "data[['country']].head()"
   ]
  },
  {
   "cell_type": "code",
   "execution_count": null,
   "id": "31e544ce",
   "metadata": {},
   "outputs": [],
   "source": [
    "data[[\"created_at\"]] = data[[\"created_at\"]].apply(pd.to_datetime)\n",
    "data['day_post_created'] = pd.DatetimeIndex(data[\"created_at\"]).day\n",
    "data['year_account_created'] = pd.DatetimeIndex(data[\"account_created_at\"]).year\n",
    "data['year_account_created'] = data[\"year_account_created\"].astype(\"category\")"
   ]
  },
  {
   "cell_type": "code",
   "execution_count": null,
   "id": "2d037e61",
   "metadata": {},
   "outputs": [],
   "source": [
    "data_processed = data.copy()\n",
    "data_processed.to_csv('datapriv_processed.csv', index = True)"
   ]
  },
  {
   "cell_type": "markdown",
   "id": "3444e46d",
   "metadata": {},
   "source": [
    "# Analysis"
   ]
  },
  {
   "cell_type": "code",
   "execution_count": null,
   "id": "ae0c08f2",
   "metadata": {},
   "outputs": [],
   "source": [
    "df2 = pd.read_csv('datapriv_processed.csv')"
   ]
  },
  {
   "cell_type": "code",
   "execution_count": null,
   "id": "fba88350",
   "metadata": {},
   "outputs": [],
   "source": [
    "df2 = df2[[\"country\", \"is_quote\", \"retweet_count\", \"day_post_created\", \"followers_count\", \"friends_count\", \n",
    "              \"listed_count\", \"verified\", \"year_account_created\"]]\n",
    "df2.head()"
   ]
  },
  {
   "cell_type": "code",
   "execution_count": null,
   "id": "e41bace0",
   "metadata": {},
   "outputs": [],
   "source": [
    "df2['followers_count'] = df2['followers_count'].astype(\"float64\")\n",
    "df2['friends_count'] = df2['friends_count'].astype(\"float64\")\n",
    "df2['retweet_count'] = df2['retweet_count'].astype(\"float64\")\n",
    "df2['day_post_created'] = df2['day_post_created'].astype(\"float64\")\n",
    "df2['verified'] = df2['verified'].astype(\"object\")"
   ]
  },
  {
   "cell_type": "code",
   "execution_count": null,
   "id": "a9f017c6",
   "metadata": {
    "scrolled": true
   },
   "outputs": [],
   "source": [
    "df2['country'].value_counts()\n",
    "# top 5: unknown, united states, united kingdom, visayas (philippines), india"
   ]
  },
  {
   "cell_type": "code",
   "execution_count": null,
   "id": "0f9258a0",
   "metadata": {},
   "outputs": [],
   "source": [
    "df2.dropna(inplace=True)"
   ]
  },
  {
   "cell_type": "code",
   "execution_count": null,
   "id": "cd08623a",
   "metadata": {},
   "outputs": [],
   "source": [
    "df2.isna().sum()"
   ]
  },
  {
   "cell_type": "code",
   "execution_count": null,
   "id": "2be1f208",
   "metadata": {},
   "outputs": [],
   "source": [
    "df2['is_quote'] = df2['is_quote'].astype(\"object\")\n",
    "df2['year_account_created'] = df2['year_account_created'].astype(\"object\")"
   ]
  },
  {
   "cell_type": "code",
   "execution_count": null,
   "id": "c0add67b",
   "metadata": {},
   "outputs": [],
   "source": [
    "#df2 = df2.drop('year_account_created', axis = 1)"
   ]
  },
  {
   "cell_type": "code",
   "execution_count": null,
   "id": "72511d02",
   "metadata": {
    "scrolled": true
   },
   "outputs": [],
   "source": [
    "df2.dtypes"
   ]
  },
  {
   "cell_type": "code",
   "execution_count": null,
   "id": "97868377",
   "metadata": {},
   "outputs": [],
   "source": [
    "numerical_data = df2.select_dtypes(np.number)\n",
    "categorical_data = df2.drop(numerical_data, axis = 1)"
   ]
  },
  {
   "cell_type": "markdown",
   "id": "8b126394",
   "metadata": {},
   "source": [
    "### Processing Data"
   ]
  },
  {
   "cell_type": "code",
   "execution_count": null,
   "id": "24f70b3e",
   "metadata": {},
   "outputs": [],
   "source": [
    "from sklearn.preprocessing import MinMaxScaler\n",
    "\n",
    "numerical_data_normalized = MinMaxScaler().fit_transform(numerical_data) # this line scales our data\n",
    "\n",
    "numerical_data_normalized = pd.DataFrame(              #this pops it back in data frame format \n",
    "    numerical_data_normalized,\n",
    "    columns=numerical_data.columns) \n",
    "\n",
    "numerical_data_normalized.head()"
   ]
  },
  {
   "cell_type": "code",
   "execution_count": null,
   "id": "89600354",
   "metadata": {
    "scrolled": true
   },
   "outputs": [],
   "source": [
    "categorical_data_codified = pd.get_dummies(\n",
    "                                    categorical_data, \n",
    "                                    drop_first=True,\n",
    "                                    dtype=\"int64\"\n",
    ").reset_index()\n",
    "categorical_data_codified.head()"
   ]
  },
  {
   "cell_type": "code",
   "execution_count": null,
   "id": "9891c444",
   "metadata": {},
   "outputs": [],
   "source": [
    "categorical_data_codified = categorical_data_codified[['country_Unknown', 'country_United States', \n",
    "                                                       'country_United Kingdom', 'country_Visayas', \n",
    "                                                       'country_India', 'is_quote_True', 'verified_True', \n",
    "                                                       'year_account_created_2007','year_account_created_2008',\n",
    "                                                       'year_account_created_2009','year_account_created_2010',\n",
    "                                                       'year_account_created_2011','year_account_created_2012','year_account_created_2013',\n",
    "                                                      'year_account_created_2014', 'year_account_created_2015',\n",
    "                                                      'year_account_created_2016', 'year_account_created_2017',\n",
    "                                                      'year_account_created_2018', 'year_account_created_2019',\n",
    "                                                      'year_account_created_2020', 'year_account_created_2021']]"
   ]
  },
  {
   "cell_type": "code",
   "execution_count": null,
   "id": "7bbe9987",
   "metadata": {},
   "outputs": [],
   "source": [
    "df2_processed = pd.concat([\n",
    "                            numerical_data_normalized,\n",
    "                            categorical_data_codified\n",
    "                        ], axis=1\n",
    ").reset_index()"
   ]
  },
  {
   "cell_type": "code",
   "execution_count": null,
   "id": "25719951",
   "metadata": {},
   "outputs": [],
   "source": [
    "df2_processed = df2_processed.drop('index', axis = 1)\n"
   ]
  },
  {
   "cell_type": "code",
   "execution_count": null,
   "id": "7b89e262",
   "metadata": {},
   "outputs": [],
   "source": [
    "df2_processed.head()\n"
   ]
  },
  {
   "cell_type": "markdown",
   "id": "cfb7c109",
   "metadata": {},
   "source": [
    "### Finding K"
   ]
  },
  {
   "cell_type": "code",
   "execution_count": null,
   "id": "7c73ead9",
   "metadata": {},
   "outputs": [],
   "source": [
    "%%time \n",
    "range_k = [2, 3, 4, 5, 8, 10, 15, 20, 25, 30]\n",
    "results_k = {}\n",
    "for k in range_k:\n",
    "    results_k[k] = evaluate_k_kmeans_inertia(k, df2_processed)"
   ]
  },
  {
   "cell_type": "code",
   "execution_count": null,
   "id": "d7332b43",
   "metadata": {},
   "outputs": [],
   "source": [
    "fig, ax = plt.subplots(figsize=(8,6))\n",
    "ax = sns.lineplot(\n",
    "    [c[0] for c in results_k.items()],\n",
    "    [c[1] for c in results_k.items()], label=\"inertia\", color=\"red\")\n",
    "ax.set_xlabel(\"K\")\n",
    "ax.set_ylabel(\"inertia\")\n",
    "ax.set_title(\"Inertia by K\")\n",
    "ax.legend();"
   ]
  },
  {
   "cell_type": "markdown",
   "id": "b9495c76",
   "metadata": {},
   "source": [
    "### Cluster Analysis"
   ]
  },
  {
   "cell_type": "code",
   "execution_count": null,
   "id": "c9f48e69",
   "metadata": {},
   "outputs": [],
   "source": [
    "estimator_kmeans = KMeans(random_state=42, n_clusters=10) # previously 8 with account created\n",
    "estimator_kmeans.fit(df2_processed)"
   ]
  },
  {
   "cell_type": "code",
   "execution_count": null,
   "id": "2b4b2a9c",
   "metadata": {},
   "outputs": [],
   "source": [
    "df2[\"cluster_id\"] = estimator_kmeans.labels_\n",
    "df2.head()"
   ]
  },
  {
   "cell_type": "code",
   "execution_count": null,
   "id": "81af4af8",
   "metadata": {},
   "outputs": [],
   "source": [
    "df2.cluster_id.value_counts()"
   ]
  },
  {
   "cell_type": "code",
   "execution_count": null,
   "id": "ceeeeb8c",
   "metadata": {},
   "outputs": [],
   "source": [
    "cluster_summary(1, df2)"
   ]
  },
  {
   "cell_type": "code",
   "execution_count": null,
   "id": "be2d3939",
   "metadata": {
    "scrolled": true
   },
   "outputs": [],
   "source": [
    "cluster_comparison(0,1,2,3,4,5,6,7,8,9)"
   ]
  },
  {
   "cell_type": "code",
   "execution_count": null,
   "id": "61ac1b01",
   "metadata": {},
   "outputs": [],
   "source": [
    "cluster_results = kmeans_cluster(df2_processed, 10)\n",
    "cluster_summary2 = graph_summary_clustering(cluster_results)"
   ]
  },
  {
   "cell_type": "code",
   "execution_count": null,
   "id": "20cb9172",
   "metadata": {},
   "outputs": [],
   "source": [
    "#cluster_summary2 = cluster_summary2.drop('cluster_id', axis = 1)\n",
    "cluster_summary2"
   ]
  },
  {
   "cell_type": "code",
   "execution_count": null,
   "id": "1b13d042",
   "metadata": {},
   "outputs": [],
   "source": [
    "fig, ax = plt.subplots(figsize=(10,10))\n",
    "sns.heatmap(cluster_summary2.transpose(), annot=False)\n",
    "# the cluster looks better than the previous one on only the tweets"
   ]
  },
  {
   "cell_type": "code",
   "execution_count": null,
   "id": "abda4dfe",
   "metadata": {},
   "outputs": [],
   "source": []
  }
 ],
 "metadata": {
  "kernelspec": {
   "display_name": "Python 3",
   "language": "python",
   "name": "python3"
  },
  "language_info": {
   "codemirror_mode": {
    "name": "ipython",
    "version": 3
   },
   "file_extension": ".py",
   "mimetype": "text/x-python",
   "name": "python",
   "nbconvert_exporter": "python",
   "pygments_lexer": "ipython3",
   "version": "3.8.8"
  }
 },
 "nbformat": 4,
 "nbformat_minor": 5
}
