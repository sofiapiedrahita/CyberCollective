{
 "cells": [
  {
   "cell_type": "markdown",
   "id": "30533aaf",
   "metadata": {},
   "source": [
    "# Cyber Security Tweets Preprocessing"
   ]
  },
  {
   "cell_type": "code",
   "execution_count": 1,
   "id": "d969befb",
   "metadata": {},
   "outputs": [],
   "source": [
    "from IPython.display import Image\n",
    "import pandas as pd\n",
    "import numpy as np\n",
    "import matplotlib.pyplot as plt\n",
    "import warnings\n",
    "import seaborn as sns\n",
    "sns.set(rc={'figure.figsize':(6,8)}) \n",
    "\n",
    "import warnings\n",
    "warnings.simplefilter(\"ignore\")\n",
    "\n",
    "%matplotlib inline \n",
    "\n",
    "from sklearn.preprocessing import LabelEncoder \n",
    "\n",
    "from sklearn.linear_model import LinearRegression\n",
    "from sklearn.model_selection import train_test_split\n",
    "\n",
    "from sklearn import metrics\n",
    "\n",
    "from sklearn.model_selection import cross_val_score\n",
    "from sklearn.model_selection import cross_validate\n",
    "\n",
    "from sklearn.metrics import SCORERS\n",
    "import re\n",
    "\n",
    "import nltk \n",
    "from nltk.corpus import stopwords\n",
    "from nltk.stem import PorterStemmer\n",
    "from nltk.stem.wordnet import WordNetLemmatizer\n",
    "\n",
    "from sklearn.cluster import KMeans\n",
    "from sklearn.feature_extraction.text import CountVectorizer\n",
    "from sklearn.feature_extraction.text import TfidfVectorizer\n",
    "\n",
    "from nltk.sentiment.vader import SentimentIntensityAnalyzer\n",
    "from nltk.probability import FreqDist"
   ]
  },
  {
   "cell_type": "markdown",
   "id": "eda736a9",
   "metadata": {},
   "source": [
    "## Functions"
   ]
  },
  {
   "cell_type": "code",
   "execution_count": 2,
   "id": "42826397",
   "metadata": {},
   "outputs": [],
   "source": [
    "def cleanTxt(txt):\n",
    "    if not isinstance(txt, str):\n",
    "        txt = str(txt)\n",
    "    txt = re.sub(r'[^\\w\\s]','', txt) #remove everything except words and space\n",
    "    txt = txt.lower()\n",
    "    txt = re.sub(r'RT[\\s]+', '', txt) #removing RT\n",
    "    txt = re.sub(r'_','', txt) #how to remove underscore as well\n",
    "    if 'https' in txt: # removing hyperlinks \n",
    "        pos = txt.find('https')\n",
    "        txt = txt[:pos]\n",
    "    return txt"
   ]
  },
  {
   "cell_type": "code",
   "execution_count": 3,
   "id": "1465324a",
   "metadata": {},
   "outputs": [],
   "source": [
    "wnet = WordNetLemmatizer()\n",
    "\n",
    "def stopWords(txt): \n",
    "    txt_lst = txt.split(\" \")\n",
    "    txt_lst = [word for word in txt_lst if word not in stopwords.words('english')]\n",
    "    txt_lst = [wnet.lemmatize(word) for word in txt_lst]\n",
    "    txt_lst = [word for word in txt_lst if word != '']\n",
    "    txt_lst = [word for word in txt_lst if word != '\\r\\n\\r\\n'] # indicates space and indexing\n",
    "    txt_lst = [word for word in txt_lst if word != 'u0001f449'] # indicates back hand emoji pointing right\n",
    "    txt_lst = [word for word in txt_lst if word != 'cybersecurity']\n",
    "    txt_lst = [word for word in txt_lst if word != 'cyber']\n",
    "    txt_lst = [word for word in txt_lst if word != 'security']\n",
    "    return \" \".join(txt_lst)"
   ]
  },
  {
   "cell_type": "code",
   "execution_count": 96,
   "id": "035b5c9e",
   "metadata": {},
   "outputs": [],
   "source": [
    "from geopy.geocoders import Nominatim\n",
    "from geopy.extra.rate_limiter import RateLimiter\n",
    "geolocator = Nominatim(user_agent = \"geoapiExercises\")\n",
    "geocode = RateLimiter(geolocator.geocode, max_retries=2, swallow_exceptions=True, return_value_on_exception=None)\n",
    "def findCountry(txt):\n",
    "    if txt is np.nan:\n",
    "        return 'Unknown'\n",
    "    txt = re.sub(r'[^\\w\\s]','', txt) #remove everything except words and space\n",
    "    if 'global' in txt.lower() or 'worldwide' in txt.lower(): # over 100 entries with global or worldwide as location\n",
    "        return 'Global'\n",
    "    txt_lst = txt.split(\" \")\n",
    "    for word in txt_lst:  # a few entries that return unknown when a number is present (regex doesn't remove it for some reason)\n",
    "        if any(ch.isdigit() for ch in word):\n",
    "            txt_lst.remove(word)\n",
    "    txt = \" \".join(txt_lst)\n",
    "    try:\n",
    "        x = geolocator.geocode(txt, )\n",
    "        if x is None:\n",
    "            return 'Unknown'\n",
    "        loc = x.address.split(',')[-1]\n",
    "        if loc[0] == \" \":\n",
    "            loc = loc[1:]\n",
    "        return loc\n",
    "    except:\n",
    "        return 'Unknown'"
   ]
  },
  {
   "cell_type": "code",
   "execution_count": 119,
   "id": "e7f97e24",
   "metadata": {},
   "outputs": [
    {
     "data": {
      "text/plain": [
       "'Canada'"
      ]
     },
     "execution_count": 119,
     "metadata": {},
     "output_type": "execute_result"
    }
   ],
   "source": [
    "re.sub(r'[^\\w\\s]','', 'Brussels, Belgique <U+0001F1E7><U+0001F1EA><U+...')\n",
    "findCountry('BC Canada <U+0001F341>')"
   ]
  },
  {
   "cell_type": "code",
   "execution_count": 7,
   "id": "60fb9483",
   "metadata": {},
   "outputs": [],
   "source": [
    "def splitData(data, len_of_frame):\n",
    "    n = len(data.index) \n",
    "    split_n = round(n/len_of_frame, 0)\n",
    "    print(split_n)\n",
    "    splits = [int(x) for x in range(int(split_n))]\n",
    "    lst = []\n",
    "    for splt in splits:\n",
    "        if splt == splits[-1]:\n",
    "            lst.append(data[int(splt * len_of_frame):])\n",
    "        else:\n",
    "            lst.append(data[int(splt * len_of_frame):int(len_of_frame * (1 + splt))])\n",
    "    return lst"
   ]
  },
  {
   "cell_type": "markdown",
   "id": "acac3ad2",
   "metadata": {},
   "source": [
    "## Data"
   ]
  },
  {
   "cell_type": "code",
   "execution_count": 8,
   "id": "ac450948",
   "metadata": {},
   "outputs": [],
   "source": [
    "data = pd.read_csv('cybersecurity_tweets.csv')"
   ]
  },
  {
   "cell_type": "code",
   "execution_count": 9,
   "id": "2df12ae9",
   "metadata": {},
   "outputs": [],
   "source": [
    "data = data.drop_duplicates('text')"
   ]
  },
  {
   "cell_type": "code",
   "execution_count": 10,
   "id": "2832c7ea",
   "metadata": {},
   "outputs": [
    {
     "data": {
      "text/plain": [
       "(17656, 90)"
      ]
     },
     "execution_count": 10,
     "metadata": {},
     "output_type": "execute_result"
    }
   ],
   "source": [
    "data.shape"
   ]
  },
  {
   "cell_type": "code",
   "execution_count": 11,
   "id": "4b31ce5f",
   "metadata": {},
   "outputs": [
    {
     "data": {
      "text/html": [
       "<div>\n",
       "<style scoped>\n",
       "    .dataframe tbody tr th:only-of-type {\n",
       "        vertical-align: middle;\n",
       "    }\n",
       "\n",
       "    .dataframe tbody tr th {\n",
       "        vertical-align: top;\n",
       "    }\n",
       "\n",
       "    .dataframe thead th {\n",
       "        text-align: right;\n",
       "    }\n",
       "</style>\n",
       "<table border=\"1\" class=\"dataframe\">\n",
       "  <thead>\n",
       "    <tr style=\"text-align: right;\">\n",
       "      <th></th>\n",
       "      <th>user_id</th>\n",
       "      <th>status_id</th>\n",
       "      <th>created_at</th>\n",
       "      <th>screen_name</th>\n",
       "      <th>text</th>\n",
       "      <th>source</th>\n",
       "      <th>display_text_width</th>\n",
       "      <th>reply_to_status_id</th>\n",
       "      <th>reply_to_user_id</th>\n",
       "      <th>reply_to_screen_name</th>\n",
       "      <th>...</th>\n",
       "      <th>statuses_count</th>\n",
       "      <th>favourites_count</th>\n",
       "      <th>account_created_at</th>\n",
       "      <th>verified</th>\n",
       "      <th>profile_url</th>\n",
       "      <th>profile_expanded_url</th>\n",
       "      <th>account_lang</th>\n",
       "      <th>profile_banner_url</th>\n",
       "      <th>profile_background_url</th>\n",
       "      <th>profile_image_url</th>\n",
       "    </tr>\n",
       "  </thead>\n",
       "  <tbody>\n",
       "    <tr>\n",
       "      <th>0</th>\n",
       "      <td>x109082290</td>\n",
       "      <td>x1404488925935177737</td>\n",
       "      <td>2021-06-14 17:20:28</td>\n",
       "      <td>NcsVentures</td>\n",
       "      <td>Signs, Causes and Solutions for Network Data B...</td>\n",
       "      <td>WordPress.com</td>\n",
       "      <td>109</td>\n",
       "      <td>NaN</td>\n",
       "      <td>NaN</td>\n",
       "      <td>NaN</td>\n",
       "      <td>...</td>\n",
       "      <td>260725</td>\n",
       "      <td>0</td>\n",
       "      <td>2010-01-27 22:48:24</td>\n",
       "      <td>False</td>\n",
       "      <td>https://t.co/E0XpJWVD52</td>\n",
       "      <td>http://www.nationalcybersecurity.com/</td>\n",
       "      <td>NaN</td>\n",
       "      <td>https://pbs.twimg.com/profile_banners/10908229...</td>\n",
       "      <td>http://abs.twimg.com/images/themes/theme15/bg.png</td>\n",
       "      <td>http://pbs.twimg.com/profile_images/715854922/...</td>\n",
       "    </tr>\n",
       "    <tr>\n",
       "      <th>1</th>\n",
       "      <td>x109082290</td>\n",
       "      <td>x1403635112613494786</td>\n",
       "      <td>2021-06-12 08:47:43</td>\n",
       "      <td>NcsVentures</td>\n",
       "      <td>Battling Chinese Big Tech encroachment in Indi...</td>\n",
       "      <td>WordPress.com</td>\n",
       "      <td>103</td>\n",
       "      <td>NaN</td>\n",
       "      <td>NaN</td>\n",
       "      <td>NaN</td>\n",
       "      <td>...</td>\n",
       "      <td>260725</td>\n",
       "      <td>0</td>\n",
       "      <td>2010-01-27 22:48:24</td>\n",
       "      <td>False</td>\n",
       "      <td>https://t.co/E0XpJWVD52</td>\n",
       "      <td>http://www.nationalcybersecurity.com/</td>\n",
       "      <td>NaN</td>\n",
       "      <td>https://pbs.twimg.com/profile_banners/10908229...</td>\n",
       "      <td>http://abs.twimg.com/images/themes/theme15/bg.png</td>\n",
       "      <td>http://pbs.twimg.com/profile_images/715854922/...</td>\n",
       "    </tr>\n",
       "    <tr>\n",
       "      <th>2</th>\n",
       "      <td>x109082290</td>\n",
       "      <td>x1403747937818120198</td>\n",
       "      <td>2021-06-12 16:16:03</td>\n",
       "      <td>NcsVentures</td>\n",
       "      <td>Ask Dr. Jeanette® Success On “The Way” Devil O...</td>\n",
       "      <td>WordPress.com</td>\n",
       "      <td>226</td>\n",
       "      <td>NaN</td>\n",
       "      <td>NaN</td>\n",
       "      <td>NaN</td>\n",
       "      <td>...</td>\n",
       "      <td>260725</td>\n",
       "      <td>0</td>\n",
       "      <td>2010-01-27 22:48:24</td>\n",
       "      <td>False</td>\n",
       "      <td>https://t.co/E0XpJWVD52</td>\n",
       "      <td>http://www.nationalcybersecurity.com/</td>\n",
       "      <td>NaN</td>\n",
       "      <td>https://pbs.twimg.com/profile_banners/10908229...</td>\n",
       "      <td>http://abs.twimg.com/images/themes/theme15/bg.png</td>\n",
       "      <td>http://pbs.twimg.com/profile_images/715854922/...</td>\n",
       "    </tr>\n",
       "    <tr>\n",
       "      <th>3</th>\n",
       "      <td>x109082290</td>\n",
       "      <td>x1404021845913899009</td>\n",
       "      <td>2021-06-13 10:24:28</td>\n",
       "      <td>NcsVentures</td>\n",
       "      <td>Cyber threats to Digital Pakistan | #cybersecu...</td>\n",
       "      <td>WordPress.com</td>\n",
       "      <td>89</td>\n",
       "      <td>NaN</td>\n",
       "      <td>NaN</td>\n",
       "      <td>NaN</td>\n",
       "      <td>...</td>\n",
       "      <td>260725</td>\n",
       "      <td>0</td>\n",
       "      <td>2010-01-27 22:48:24</td>\n",
       "      <td>False</td>\n",
       "      <td>https://t.co/E0XpJWVD52</td>\n",
       "      <td>http://www.nationalcybersecurity.com/</td>\n",
       "      <td>NaN</td>\n",
       "      <td>https://pbs.twimg.com/profile_banners/10908229...</td>\n",
       "      <td>http://abs.twimg.com/images/themes/theme15/bg.png</td>\n",
       "      <td>http://pbs.twimg.com/profile_images/715854922/...</td>\n",
       "    </tr>\n",
       "    <tr>\n",
       "      <th>4</th>\n",
       "      <td>x109082290</td>\n",
       "      <td>x1404053089804554241</td>\n",
       "      <td>2021-06-13 12:28:37</td>\n",
       "      <td>NcsVentures</td>\n",
       "      <td>Pakistan Cyber Attack News: Pakistan army clai...</td>\n",
       "      <td>WordPress.com</td>\n",
       "      <td>152</td>\n",
       "      <td>NaN</td>\n",
       "      <td>NaN</td>\n",
       "      <td>NaN</td>\n",
       "      <td>...</td>\n",
       "      <td>260725</td>\n",
       "      <td>0</td>\n",
       "      <td>2010-01-27 22:48:24</td>\n",
       "      <td>False</td>\n",
       "      <td>https://t.co/E0XpJWVD52</td>\n",
       "      <td>http://www.nationalcybersecurity.com/</td>\n",
       "      <td>NaN</td>\n",
       "      <td>https://pbs.twimg.com/profile_banners/10908229...</td>\n",
       "      <td>http://abs.twimg.com/images/themes/theme15/bg.png</td>\n",
       "      <td>http://pbs.twimg.com/profile_images/715854922/...</td>\n",
       "    </tr>\n",
       "  </tbody>\n",
       "</table>\n",
       "<p>5 rows × 90 columns</p>\n",
       "</div>"
      ],
      "text/plain": [
       "      user_id             status_id           created_at  screen_name  \\\n",
       "0  x109082290  x1404488925935177737  2021-06-14 17:20:28  NcsVentures   \n",
       "1  x109082290  x1403635112613494786  2021-06-12 08:47:43  NcsVentures   \n",
       "2  x109082290  x1403747937818120198  2021-06-12 16:16:03  NcsVentures   \n",
       "3  x109082290  x1404021845913899009  2021-06-13 10:24:28  NcsVentures   \n",
       "4  x109082290  x1404053089804554241  2021-06-13 12:28:37  NcsVentures   \n",
       "\n",
       "                                                text         source  \\\n",
       "0  Signs, Causes and Solutions for Network Data B...  WordPress.com   \n",
       "1  Battling Chinese Big Tech encroachment in Indi...  WordPress.com   \n",
       "2  Ask Dr. Jeanette® Success On “The Way” Devil O...  WordPress.com   \n",
       "3  Cyber threats to Digital Pakistan | #cybersecu...  WordPress.com   \n",
       "4  Pakistan Cyber Attack News: Pakistan army clai...  WordPress.com   \n",
       "\n",
       "   display_text_width reply_to_status_id reply_to_user_id  \\\n",
       "0                 109                NaN              NaN   \n",
       "1                 103                NaN              NaN   \n",
       "2                 226                NaN              NaN   \n",
       "3                  89                NaN              NaN   \n",
       "4                 152                NaN              NaN   \n",
       "\n",
       "  reply_to_screen_name  ...  statuses_count  favourites_count  \\\n",
       "0                  NaN  ...          260725                 0   \n",
       "1                  NaN  ...          260725                 0   \n",
       "2                  NaN  ...          260725                 0   \n",
       "3                  NaN  ...          260725                 0   \n",
       "4                  NaN  ...          260725                 0   \n",
       "\n",
       "    account_created_at  verified              profile_url  \\\n",
       "0  2010-01-27 22:48:24     False  https://t.co/E0XpJWVD52   \n",
       "1  2010-01-27 22:48:24     False  https://t.co/E0XpJWVD52   \n",
       "2  2010-01-27 22:48:24     False  https://t.co/E0XpJWVD52   \n",
       "3  2010-01-27 22:48:24     False  https://t.co/E0XpJWVD52   \n",
       "4  2010-01-27 22:48:24     False  https://t.co/E0XpJWVD52   \n",
       "\n",
       "                    profile_expanded_url account_lang  \\\n",
       "0  http://www.nationalcybersecurity.com/          NaN   \n",
       "1  http://www.nationalcybersecurity.com/          NaN   \n",
       "2  http://www.nationalcybersecurity.com/          NaN   \n",
       "3  http://www.nationalcybersecurity.com/          NaN   \n",
       "4  http://www.nationalcybersecurity.com/          NaN   \n",
       "\n",
       "                                  profile_banner_url  \\\n",
       "0  https://pbs.twimg.com/profile_banners/10908229...   \n",
       "1  https://pbs.twimg.com/profile_banners/10908229...   \n",
       "2  https://pbs.twimg.com/profile_banners/10908229...   \n",
       "3  https://pbs.twimg.com/profile_banners/10908229...   \n",
       "4  https://pbs.twimg.com/profile_banners/10908229...   \n",
       "\n",
       "                              profile_background_url  \\\n",
       "0  http://abs.twimg.com/images/themes/theme15/bg.png   \n",
       "1  http://abs.twimg.com/images/themes/theme15/bg.png   \n",
       "2  http://abs.twimg.com/images/themes/theme15/bg.png   \n",
       "3  http://abs.twimg.com/images/themes/theme15/bg.png   \n",
       "4  http://abs.twimg.com/images/themes/theme15/bg.png   \n",
       "\n",
       "                                   profile_image_url  \n",
       "0  http://pbs.twimg.com/profile_images/715854922/...  \n",
       "1  http://pbs.twimg.com/profile_images/715854922/...  \n",
       "2  http://pbs.twimg.com/profile_images/715854922/...  \n",
       "3  http://pbs.twimg.com/profile_images/715854922/...  \n",
       "4  http://pbs.twimg.com/profile_images/715854922/...  \n",
       "\n",
       "[5 rows x 90 columns]"
      ]
     },
     "execution_count": 11,
     "metadata": {},
     "output_type": "execute_result"
    }
   ],
   "source": [
    "data.head()"
   ]
  },
  {
   "cell_type": "code",
   "execution_count": 12,
   "id": "ba39c30f",
   "metadata": {},
   "outputs": [
    {
     "data": {
      "text/plain": [
       "7635"
      ]
     },
     "execution_count": 12,
     "metadata": {},
     "output_type": "execute_result"
    }
   ],
   "source": [
    "len(data.user_id.unique()) # number of unique individuals"
   ]
  },
  {
   "cell_type": "markdown",
   "id": "1156af62",
   "metadata": {},
   "source": [
    "## Data Cleaning"
   ]
  },
  {
   "cell_type": "markdown",
   "id": "f5eba9d7",
   "metadata": {},
   "source": [
    "### Text Data"
   ]
  },
  {
   "cell_type": "code",
   "execution_count": 13,
   "id": "25b0a9c1",
   "metadata": {},
   "outputs": [
    {
     "name": "stdout",
     "output_type": "stream",
     "text": [
      "CPU times: user 35.7 s, sys: 8.67 s, total: 44.3 s\n",
      "Wall time: 44.5 s\n"
     ]
    },
    {
     "data": {
      "text/html": [
       "<div>\n",
       "<style scoped>\n",
       "    .dataframe tbody tr th:only-of-type {\n",
       "        vertical-align: middle;\n",
       "    }\n",
       "\n",
       "    .dataframe tbody tr th {\n",
       "        vertical-align: top;\n",
       "    }\n",
       "\n",
       "    .dataframe thead th {\n",
       "        text-align: right;\n",
       "    }\n",
       "</style>\n",
       "<table border=\"1\" class=\"dataframe\">\n",
       "  <thead>\n",
       "    <tr style=\"text-align: right;\">\n",
       "      <th></th>\n",
       "      <th>text</th>\n",
       "    </tr>\n",
       "  </thead>\n",
       "  <tbody>\n",
       "    <tr>\n",
       "      <th>0</th>\n",
       "      <td>sign cause solution network data breach  cyber...</td>\n",
       "    </tr>\n",
       "    <tr>\n",
       "      <th>1</th>\n",
       "      <td>battling chinese big tech encroachment india  ...</td>\n",
       "    </tr>\n",
       "    <tr>\n",
       "      <th>2</th>\n",
       "      <td>ask dr jeanette success way devil choke chain ...</td>\n",
       "    </tr>\n",
       "    <tr>\n",
       "      <th>3</th>\n",
       "      <td>threat digital pakistan  cyberattack</td>\n",
       "    </tr>\n",
       "    <tr>\n",
       "      <th>4</th>\n",
       "      <td>pakistan attack news pakistan army claim major...</td>\n",
       "    </tr>\n",
       "  </tbody>\n",
       "</table>\n",
       "</div>"
      ],
      "text/plain": [
       "                                                text\n",
       "0  sign cause solution network data breach  cyber...\n",
       "1  battling chinese big tech encroachment india  ...\n",
       "2  ask dr jeanette success way devil choke chain ...\n",
       "3               threat digital pakistan  cyberattack\n",
       "4  pakistan attack news pakistan army claim major..."
      ]
     },
     "execution_count": 13,
     "metadata": {},
     "output_type": "execute_result"
    }
   ],
   "source": [
    "%%time \n",
    "data['text'] = data['text'].apply(cleanTxt)\n",
    "data['text'] = data['text'].apply(stopWords)\n",
    "data[['text']].head()\n",
    "# 44.5s"
   ]
  },
  {
   "cell_type": "markdown",
   "id": "52bdf5d7",
   "metadata": {},
   "source": [
    "### Description Data"
   ]
  },
  {
   "cell_type": "code",
   "execution_count": 14,
   "id": "dacaef97",
   "metadata": {},
   "outputs": [
    {
     "name": "stdout",
     "output_type": "stream",
     "text": [
      "CPU times: user 23.4 s, sys: 5.66 s, total: 29.1 s\n",
      "Wall time: 29.1 s\n"
     ]
    },
    {
     "data": {
      "text/html": [
       "<div>\n",
       "<style scoped>\n",
       "    .dataframe tbody tr th:only-of-type {\n",
       "        vertical-align: middle;\n",
       "    }\n",
       "\n",
       "    .dataframe tbody tr th {\n",
       "        vertical-align: top;\n",
       "    }\n",
       "\n",
       "    .dataframe thead th {\n",
       "        text-align: right;\n",
       "    }\n",
       "</style>\n",
       "<table border=\"1\" class=\"dataframe\">\n",
       "  <thead>\n",
       "    <tr style=\"text-align: right;\">\n",
       "      <th></th>\n",
       "      <th>description</th>\n",
       "    </tr>\n",
       "  </thead>\n",
       "  <tbody>\n",
       "    <tr>\n",
       "      <th>0</th>\n",
       "      <td>leader news hacker hacking techjobs nationalcy...</td>\n",
       "    </tr>\n",
       "    <tr>\n",
       "      <th>1</th>\n",
       "      <td>leader news hacker hacking techjobs nationalcy...</td>\n",
       "    </tr>\n",
       "    <tr>\n",
       "      <th>2</th>\n",
       "      <td>leader news hacker hacking techjobs nationalcy...</td>\n",
       "    </tr>\n",
       "    <tr>\n",
       "      <th>3</th>\n",
       "      <td>leader news hacker hacking techjobs nationalcy...</td>\n",
       "    </tr>\n",
       "    <tr>\n",
       "      <th>4</th>\n",
       "      <td>leader news hacker hacking techjobs nationalcy...</td>\n",
       "    </tr>\n",
       "  </tbody>\n",
       "</table>\n",
       "</div>"
      ],
      "text/plain": [
       "                                         description\n",
       "0  leader news hacker hacking techjobs nationalcy...\n",
       "1  leader news hacker hacking techjobs nationalcy...\n",
       "2  leader news hacker hacking techjobs nationalcy...\n",
       "3  leader news hacker hacking techjobs nationalcy...\n",
       "4  leader news hacker hacking techjobs nationalcy..."
      ]
     },
     "execution_count": 14,
     "metadata": {},
     "output_type": "execute_result"
    }
   ],
   "source": [
    "%%time\n",
    "data['description'] = data['description'].apply(cleanTxt)\n",
    "data['description'] = data['description'].apply(stopWords)\n",
    "data[['description']].head()\n",
    " # 29.1s"
   ]
  },
  {
   "cell_type": "markdown",
   "id": "d2cec40c",
   "metadata": {},
   "source": [
    "### Location to Country"
   ]
  },
  {
   "cell_type": "code",
   "execution_count": 15,
   "id": "72481a25",
   "metadata": {},
   "outputs": [],
   "source": [
    "# I made a function to split the data into smaller dataframes\n",
    "# It isn't going to run faster, but at least we can run it in\n",
    "# chunks"
   ]
  },
  {
   "cell_type": "code",
   "execution_count": 16,
   "id": "f829154c",
   "metadata": {},
   "outputs": [
    {
     "name": "stdout",
     "output_type": "stream",
     "text": [
      "10.0\n",
      "10.0\n",
      "10.0\n",
      "10.0\n",
      "10.0\n",
      "10.0\n",
      "10.0\n",
      "10.0\n",
      "10.0\n",
      "10.0\n"
     ]
    }
   ],
   "source": [
    "df1 = splitData(data, 1700)[0]\n",
    "df2 = splitData(data, 1700)[1]\n",
    "df3 = splitData(data, 1700)[2]\n",
    "df4 = splitData(data, 1700)[3]\n",
    "df5 = splitData(data, 1700)[4]\n",
    "df6 = splitData(data, 1700)[5]\n",
    "df7 = splitData(data, 1700)[6]\n",
    "df8 = splitData(data, 1700)[7]\n",
    "df9 = splitData(data, 1700)[8]\n",
    "df10 = splitData(data, 1700)[9]\n",
    "# the numbers just indicates how many data frames there are\n",
    "# it gets printed everything the function is run"
   ]
  },
  {
   "cell_type": "code",
   "execution_count": 18,
   "id": "41005426",
   "metadata": {},
   "outputs": [
    {
     "data": {
      "text/html": [
       "<div>\n",
       "<style scoped>\n",
       "    .dataframe tbody tr th:only-of-type {\n",
       "        vertical-align: middle;\n",
       "    }\n",
       "\n",
       "    .dataframe tbody tr th {\n",
       "        vertical-align: top;\n",
       "    }\n",
       "\n",
       "    .dataframe thead th {\n",
       "        text-align: right;\n",
       "    }\n",
       "</style>\n",
       "<table border=\"1\" class=\"dataframe\">\n",
       "  <thead>\n",
       "    <tr style=\"text-align: right;\">\n",
       "      <th></th>\n",
       "      <th>location</th>\n",
       "    </tr>\n",
       "  </thead>\n",
       "  <tbody>\n",
       "    <tr>\n",
       "      <th>5296</th>\n",
       "      <td>Montréal (Québec)</td>\n",
       "    </tr>\n",
       "    <tr>\n",
       "      <th>5297</th>\n",
       "      <td>Montréal (Québec)</td>\n",
       "    </tr>\n",
       "    <tr>\n",
       "      <th>5298</th>\n",
       "      <td>Arlington, VA</td>\n",
       "    </tr>\n",
       "    <tr>\n",
       "      <th>5299</th>\n",
       "      <td>Arlington, VA</td>\n",
       "    </tr>\n",
       "    <tr>\n",
       "      <th>5300</th>\n",
       "      <td>127.0.0.1</td>\n",
       "    </tr>\n",
       "  </tbody>\n",
       "</table>\n",
       "</div>"
      ],
      "text/plain": [
       "               location\n",
       "5296  Montréal (Québec)\n",
       "5297  Montréal (Québec)\n",
       "5298      Arlington, VA\n",
       "5299      Arlington, VA\n",
       "5300          127.0.0.1"
      ]
     },
     "execution_count": 18,
     "metadata": {},
     "output_type": "execute_result"
    }
   ],
   "source": [
    "df4[['location']].iloc[25:].head()"
   ]
  },
  {
   "cell_type": "code",
   "execution_count": 19,
   "id": "fd2a8587",
   "metadata": {},
   "outputs": [
    {
     "data": {
      "text/plain": [
       "(1700, 90)"
      ]
     },
     "execution_count": 19,
     "metadata": {},
     "output_type": "execute_result"
    }
   ],
   "source": [
    "df6.shape"
   ]
  },
  {
   "cell_type": "code",
   "execution_count": 20,
   "id": "31729c87",
   "metadata": {},
   "outputs": [
    {
     "name": "stdout",
     "output_type": "stream",
     "text": [
      "CPU times: user 4.5 s, sys: 480 ms, total: 4.98 s\n",
      "Wall time: 13min 5s\n"
     ]
    }
   ],
   "source": [
    "%%time \n",
    "df1['country'] = df1['location'].apply(findCountry)\n",
    "# 13min 5s"
   ]
  },
  {
   "cell_type": "code",
   "execution_count": 21,
   "id": "46d245ef",
   "metadata": {},
   "outputs": [
    {
     "name": "stdout",
     "output_type": "stream",
     "text": [
      "CPU times: user 2.6 s, sys: 280 ms, total: 2.88 s\n",
      "Wall time: 7min 34s\n"
     ]
    }
   ],
   "source": [
    "%%time \n",
    "df2['country'] = df2['location'].apply(findCountry)\n",
    "# 7min 34s"
   ]
  },
  {
   "cell_type": "code",
   "execution_count": 22,
   "id": "06c88de4",
   "metadata": {},
   "outputs": [
    {
     "name": "stdout",
     "output_type": "stream",
     "text": [
      "CPU times: user 3.82 s, sys: 408 ms, total: 4.23 s\n",
      "Wall time: 10min 55s\n"
     ]
    }
   ],
   "source": [
    "%%time \n",
    "df3['country'] = df3['location'].apply(findCountry)\n",
    "# 10min 55s"
   ]
  },
  {
   "cell_type": "code",
   "execution_count": 99,
   "id": "b2bd3cc4",
   "metadata": {},
   "outputs": [
    {
     "name": "stdout",
     "output_type": "stream",
     "text": [
      "CPU times: user 3.42 s, sys: 356 ms, total: 3.78 s\n",
      "Wall time: 10min 44s\n"
     ]
    }
   ],
   "source": [
    "%%time\n",
    "df4['country'] = df4['location'].apply(findCountry)\n",
    "# 11min 42s"
   ]
  },
  {
   "cell_type": "code",
   "execution_count": 100,
   "id": "49f3c8b9",
   "metadata": {},
   "outputs": [
    {
     "name": "stdout",
     "output_type": "stream",
     "text": [
      "CPU times: user 3.63 s, sys: 367 ms, total: 4 s\n",
      "Wall time: 11min 1s\n"
     ]
    }
   ],
   "source": [
    "%%time\n",
    "df5['country'] = df5['location'].apply(findCountry)\n",
    "# 11min 5s"
   ]
  },
  {
   "cell_type": "code",
   "execution_count": 101,
   "id": "b6202fdc",
   "metadata": {},
   "outputs": [
    {
     "name": "stdout",
     "output_type": "stream",
     "text": [
      "CPU times: user 3.28 s, sys: 329 ms, total: 3.61 s\n",
      "Wall time: 9min 45s\n"
     ]
    }
   ],
   "source": [
    "%%time\n",
    "df6['country'] = df6['location'].apply(findCountry)\n",
    "# 10min 3s"
   ]
  },
  {
   "cell_type": "code",
   "execution_count": 102,
   "id": "3bc01035",
   "metadata": {},
   "outputs": [
    {
     "name": "stdout",
     "output_type": "stream",
     "text": [
      "CPU times: user 3.62 s, sys: 368 ms, total: 3.99 s\n",
      "Wall time: 10min 54s\n"
     ]
    }
   ],
   "source": [
    "%%time\n",
    "df7['country'] = df7['location'].apply(findCountry)\n",
    "# 11min 50s"
   ]
  },
  {
   "cell_type": "code",
   "execution_count": 103,
   "id": "23ab4bfc",
   "metadata": {},
   "outputs": [
    {
     "name": "stdout",
     "output_type": "stream",
     "text": [
      "CPU times: user 3.77 s, sys: 376 ms, total: 4.14 s\n",
      "Wall time: 11min 23s\n"
     ]
    }
   ],
   "source": [
    "%%time\n",
    "df8['country'] = df8['location'].apply(findCountry)\n",
    "# 12min 9s"
   ]
  },
  {
   "cell_type": "code",
   "execution_count": 104,
   "id": "3b2149af",
   "metadata": {},
   "outputs": [
    {
     "name": "stdout",
     "output_type": "stream",
     "text": [
      "CPU times: user 3.81 s, sys: 380 ms, total: 4.19 s\n",
      "Wall time: 11min 13s\n"
     ]
    }
   ],
   "source": [
    "%%time\n",
    "df9['country'] = df9['location'].apply(findCountry)\n",
    "# 11min 1s"
   ]
  },
  {
   "cell_type": "code",
   "execution_count": 105,
   "id": "c248ae84",
   "metadata": {},
   "outputs": [
    {
     "name": "stdout",
     "output_type": "stream",
     "text": [
      "CPU times: user 5.62 s, sys: 551 ms, total: 6.17 s\n",
      "Wall time: 16min 12s\n"
     ]
    }
   ],
   "source": [
    "%%time\n",
    "df10['country'] = df10['location'].apply(findCountry)\n",
    "# 16min 12s - there's more rows "
   ]
  },
  {
   "cell_type": "code",
   "execution_count": 32,
   "id": "c662f1b6",
   "metadata": {},
   "outputs": [],
   "source": [
    "# it runs faster when there are more NA values"
   ]
  },
  {
   "cell_type": "code",
   "execution_count": 106,
   "id": "5f43658a",
   "metadata": {},
   "outputs": [
    {
     "data": {
      "text/html": [
       "<div>\n",
       "<style scoped>\n",
       "    .dataframe tbody tr th:only-of-type {\n",
       "        vertical-align: middle;\n",
       "    }\n",
       "\n",
       "    .dataframe tbody tr th {\n",
       "        vertical-align: top;\n",
       "    }\n",
       "\n",
       "    .dataframe thead th {\n",
       "        text-align: right;\n",
       "    }\n",
       "</style>\n",
       "<table border=\"1\" class=\"dataframe\">\n",
       "  <thead>\n",
       "    <tr style=\"text-align: right;\">\n",
       "      <th></th>\n",
       "      <th>country</th>\n",
       "    </tr>\n",
       "  </thead>\n",
       "  <tbody>\n",
       "    <tr>\n",
       "      <th>0</th>\n",
       "      <td>United States</td>\n",
       "    </tr>\n",
       "    <tr>\n",
       "      <th>1</th>\n",
       "      <td>United States</td>\n",
       "    </tr>\n",
       "    <tr>\n",
       "      <th>2</th>\n",
       "      <td>United States</td>\n",
       "    </tr>\n",
       "    <tr>\n",
       "      <th>3</th>\n",
       "      <td>United States</td>\n",
       "    </tr>\n",
       "    <tr>\n",
       "      <th>4</th>\n",
       "      <td>United States</td>\n",
       "    </tr>\n",
       "  </tbody>\n",
       "</table>\n",
       "</div>"
      ],
      "text/plain": [
       "         country\n",
       "0  United States\n",
       "1  United States\n",
       "2  United States\n",
       "3  United States\n",
       "4  United States"
      ]
     },
     "execution_count": 106,
     "metadata": {},
     "output_type": "execute_result"
    }
   ],
   "source": [
    "data = pd.concat([df1, df2, df3, df4, df5, df6, df7, df8, df9, df10])\n",
    "data[['country']].head()"
   ]
  },
  {
   "cell_type": "code",
   "execution_count": 117,
   "id": "4fcfa911",
   "metadata": {},
   "outputs": [],
   "source": [
    "pd.set_option('display.max_rows', None)"
   ]
  },
  {
   "cell_type": "code",
   "execution_count": null,
   "id": "e5a30f6d",
   "metadata": {},
   "outputs": [],
   "source": [
    "# issues\n",
    "1. 'Richmond, VA' classified as canada\n",
    "2. 'the ghetto' classifed as italy\n",
    "3. "
   ]
  },
  {
   "cell_type": "markdown",
   "id": "204b3e5b",
   "metadata": {},
   "source": [
    "### Date and Time Transformation"
   ]
  },
  {
   "cell_type": "code",
   "execution_count": 124,
   "id": "f6a9dae2",
   "metadata": {},
   "outputs": [],
   "source": [
    "data[[\"created_at\"]] = data[[\"created_at\"]].apply(pd.to_datetime)\n",
    "data['day_post_created'] = pd.DatetimeIndex(data[\"created_at\"]).day\n",
    "data['year_account_created'] = pd.DatetimeIndex(data[\"account_created_at\"]).year\n",
    "data['year_account_created'] = data[\"year_account_created\"].astype(\"category\")"
   ]
  },
  {
   "cell_type": "code",
   "execution_count": 125,
   "id": "cbe62dab",
   "metadata": {},
   "outputs": [
    {
     "data": {
      "text/html": [
       "<div>\n",
       "<style scoped>\n",
       "    .dataframe tbody tr th:only-of-type {\n",
       "        vertical-align: middle;\n",
       "    }\n",
       "\n",
       "    .dataframe tbody tr th {\n",
       "        vertical-align: top;\n",
       "    }\n",
       "\n",
       "    .dataframe thead th {\n",
       "        text-align: right;\n",
       "    }\n",
       "</style>\n",
       "<table border=\"1\" class=\"dataframe\">\n",
       "  <thead>\n",
       "    <tr style=\"text-align: right;\">\n",
       "      <th></th>\n",
       "      <th>created_at</th>\n",
       "      <th>day_post_created</th>\n",
       "      <th>year_account_created</th>\n",
       "    </tr>\n",
       "  </thead>\n",
       "  <tbody>\n",
       "    <tr>\n",
       "      <th>0</th>\n",
       "      <td>2021-06-14 17:20:28</td>\n",
       "      <td>14</td>\n",
       "      <td>2010</td>\n",
       "    </tr>\n",
       "    <tr>\n",
       "      <th>1</th>\n",
       "      <td>2021-06-12 08:47:43</td>\n",
       "      <td>12</td>\n",
       "      <td>2010</td>\n",
       "    </tr>\n",
       "    <tr>\n",
       "      <th>2</th>\n",
       "      <td>2021-06-12 16:16:03</td>\n",
       "      <td>12</td>\n",
       "      <td>2010</td>\n",
       "    </tr>\n",
       "    <tr>\n",
       "      <th>3</th>\n",
       "      <td>2021-06-13 10:24:28</td>\n",
       "      <td>13</td>\n",
       "      <td>2010</td>\n",
       "    </tr>\n",
       "    <tr>\n",
       "      <th>4</th>\n",
       "      <td>2021-06-13 12:28:37</td>\n",
       "      <td>13</td>\n",
       "      <td>2010</td>\n",
       "    </tr>\n",
       "  </tbody>\n",
       "</table>\n",
       "</div>"
      ],
      "text/plain": [
       "           created_at  day_post_created year_account_created\n",
       "0 2021-06-14 17:20:28                14                 2010\n",
       "1 2021-06-12 08:47:43                12                 2010\n",
       "2 2021-06-12 16:16:03                12                 2010\n",
       "3 2021-06-13 10:24:28                13                 2010\n",
       "4 2021-06-13 12:28:37                13                 2010"
      ]
     },
     "execution_count": 125,
     "metadata": {},
     "output_type": "execute_result"
    }
   ],
   "source": [
    "data[['created_at', 'day_post_created', 'year_account_created']].head()"
   ]
  },
  {
   "cell_type": "markdown",
   "id": "2ab140d6",
   "metadata": {},
   "source": [
    "### Saving Data Frame"
   ]
  },
  {
   "cell_type": "code",
   "execution_count": 133,
   "id": "4ec5ef6c",
   "metadata": {},
   "outputs": [],
   "source": [
    "data_processed = data.copy()\n",
    "data_processed.to_csv('cybersecurity_processed.csv')"
   ]
  },
  {
   "cell_type": "markdown",
   "id": "3d9d832f",
   "metadata": {},
   "source": [
    "##  Vectorizing Data"
   ]
  },
  {
   "cell_type": "markdown",
   "id": "5ba206d7",
   "metadata": {},
   "source": [
    "Vectorizing using Binary Term Frequency ([link](https://towardsdatascience.com/getting-started-with-text-vectorization-2f2efbec6685)). Binary Term Frequency captures presence (1) or absence (0) of term in document. For this part, under TfidfVectorizer, we set binary parameter equal to true so that it can show just presence (1) or absence (0) and norm parameter equal to false.\n",
    "\n"
   ]
  },
  {
   "cell_type": "code",
   "execution_count": 128,
   "id": "8a5ee937",
   "metadata": {},
   "outputs": [],
   "source": [
    "tv = TfidfVectorizer(\n",
    "binary = True, norm = None,\n",
    "use_idf = False, smooth_idf = False,\n",
    "lowercase = True, stop_words = None,\n",
    "min_df = 1, max_df = 1.0, max_features = None, ngram_range = (1,1))"
   ]
  },
  {
   "cell_type": "markdown",
   "id": "b7a51a3c",
   "metadata": {},
   "source": [
    "### Text Data Vectorization"
   ]
  },
  {
   "cell_type": "code",
   "execution_count": 129,
   "id": "5548abc4",
   "metadata": {},
   "outputs": [
    {
     "data": {
      "text/plain": [
       "['sign cause solution network data breach \\xa0cyberattack',\n",
       " 'battling chinese big tech encroachment india \\xa0cyberattack',\n",
       " 'ask dr jeanette success way devil choke chain gonna quick gonna sure gonna final los angeles sentinel los angeles sentinel \\xa0cyberattack',\n",
       " 'threat digital pakistan \\xa0cyberattack',\n",
       " 'pakistan attack news pakistan army claim major attack indian intel world news \\xa0cyberattack']"
      ]
     },
     "execution_count": 129,
     "metadata": {},
     "output_type": "execute_result"
    }
   ],
   "source": [
    "text_lst = []\n",
    "for row in data['text']:\n",
    "    text_lst.append(row)\n",
    "\n",
    "text_lst[:5] # need to make into a list so the vectorizer will work"
   ]
  },
  {
   "cell_type": "code",
   "execution_count": 130,
   "id": "4127f348",
   "metadata": {},
   "outputs": [
    {
     "data": {
      "text/html": [
       "<div>\n",
       "<style scoped>\n",
       "    .dataframe tbody tr th:only-of-type {\n",
       "        vertical-align: middle;\n",
       "    }\n",
       "\n",
       "    .dataframe tbody tr th {\n",
       "        vertical-align: top;\n",
       "    }\n",
       "\n",
       "    .dataframe thead th {\n",
       "        text-align: right;\n",
       "    }\n",
       "</style>\n",
       "<table border=\"1\" class=\"dataframe\">\n",
       "  <thead>\n",
       "    <tr style=\"text-align: right;\">\n",
       "      <th></th>\n",
       "      <th>000</th>\n",
       "      <th>002002</th>\n",
       "      <th>0027</th>\n",
       "      <th>003</th>\n",
       "      <th>004</th>\n",
       "      <th>004002</th>\n",
       "      <th>006</th>\n",
       "      <th>00b328bc1cf5221fc6efb560c6bb764922c31e002179799da67f1f68a503ca41</th>\n",
       "      <th>00bytes</th>\n",
       "      <th>01</th>\n",
       "      <th>...</th>\n",
       "      <th>zta</th>\n",
       "      <th>ztna</th>\n",
       "      <th>zuckerbergstyle</th>\n",
       "      <th>zum</th>\n",
       "      <th>zumbullaw</th>\n",
       "      <th>zurich</th>\n",
       "      <th>zwatest</th>\n",
       "      <th>zwijberg</th>\n",
       "      <th>zyxel</th>\n",
       "      <th>zyz</th>\n",
       "    </tr>\n",
       "  </thead>\n",
       "  <tbody>\n",
       "    <tr>\n",
       "      <th>0</th>\n",
       "      <td>0.0</td>\n",
       "      <td>0.0</td>\n",
       "      <td>0.0</td>\n",
       "      <td>0.0</td>\n",
       "      <td>0.0</td>\n",
       "      <td>0.0</td>\n",
       "      <td>0.0</td>\n",
       "      <td>0.0</td>\n",
       "      <td>0.0</td>\n",
       "      <td>0.0</td>\n",
       "      <td>...</td>\n",
       "      <td>0.0</td>\n",
       "      <td>0.0</td>\n",
       "      <td>0.0</td>\n",
       "      <td>0.0</td>\n",
       "      <td>0.0</td>\n",
       "      <td>0.0</td>\n",
       "      <td>0.0</td>\n",
       "      <td>0.0</td>\n",
       "      <td>0.0</td>\n",
       "      <td>0.0</td>\n",
       "    </tr>\n",
       "    <tr>\n",
       "      <th>1</th>\n",
       "      <td>0.0</td>\n",
       "      <td>0.0</td>\n",
       "      <td>0.0</td>\n",
       "      <td>0.0</td>\n",
       "      <td>0.0</td>\n",
       "      <td>0.0</td>\n",
       "      <td>0.0</td>\n",
       "      <td>0.0</td>\n",
       "      <td>0.0</td>\n",
       "      <td>0.0</td>\n",
       "      <td>...</td>\n",
       "      <td>0.0</td>\n",
       "      <td>0.0</td>\n",
       "      <td>0.0</td>\n",
       "      <td>0.0</td>\n",
       "      <td>0.0</td>\n",
       "      <td>0.0</td>\n",
       "      <td>0.0</td>\n",
       "      <td>0.0</td>\n",
       "      <td>0.0</td>\n",
       "      <td>0.0</td>\n",
       "    </tr>\n",
       "    <tr>\n",
       "      <th>2</th>\n",
       "      <td>0.0</td>\n",
       "      <td>0.0</td>\n",
       "      <td>0.0</td>\n",
       "      <td>0.0</td>\n",
       "      <td>0.0</td>\n",
       "      <td>0.0</td>\n",
       "      <td>0.0</td>\n",
       "      <td>0.0</td>\n",
       "      <td>0.0</td>\n",
       "      <td>0.0</td>\n",
       "      <td>...</td>\n",
       "      <td>0.0</td>\n",
       "      <td>0.0</td>\n",
       "      <td>0.0</td>\n",
       "      <td>0.0</td>\n",
       "      <td>0.0</td>\n",
       "      <td>0.0</td>\n",
       "      <td>0.0</td>\n",
       "      <td>0.0</td>\n",
       "      <td>0.0</td>\n",
       "      <td>0.0</td>\n",
       "    </tr>\n",
       "    <tr>\n",
       "      <th>3</th>\n",
       "      <td>0.0</td>\n",
       "      <td>0.0</td>\n",
       "      <td>0.0</td>\n",
       "      <td>0.0</td>\n",
       "      <td>0.0</td>\n",
       "      <td>0.0</td>\n",
       "      <td>0.0</td>\n",
       "      <td>0.0</td>\n",
       "      <td>0.0</td>\n",
       "      <td>0.0</td>\n",
       "      <td>...</td>\n",
       "      <td>0.0</td>\n",
       "      <td>0.0</td>\n",
       "      <td>0.0</td>\n",
       "      <td>0.0</td>\n",
       "      <td>0.0</td>\n",
       "      <td>0.0</td>\n",
       "      <td>0.0</td>\n",
       "      <td>0.0</td>\n",
       "      <td>0.0</td>\n",
       "      <td>0.0</td>\n",
       "    </tr>\n",
       "    <tr>\n",
       "      <th>4</th>\n",
       "      <td>0.0</td>\n",
       "      <td>0.0</td>\n",
       "      <td>0.0</td>\n",
       "      <td>0.0</td>\n",
       "      <td>0.0</td>\n",
       "      <td>0.0</td>\n",
       "      <td>0.0</td>\n",
       "      <td>0.0</td>\n",
       "      <td>0.0</td>\n",
       "      <td>0.0</td>\n",
       "      <td>...</td>\n",
       "      <td>0.0</td>\n",
       "      <td>0.0</td>\n",
       "      <td>0.0</td>\n",
       "      <td>0.0</td>\n",
       "      <td>0.0</td>\n",
       "      <td>0.0</td>\n",
       "      <td>0.0</td>\n",
       "      <td>0.0</td>\n",
       "      <td>0.0</td>\n",
       "      <td>0.0</td>\n",
       "    </tr>\n",
       "  </tbody>\n",
       "</table>\n",
       "<p>5 rows × 25982 columns</p>\n",
       "</div>"
      ],
      "text/plain": [
       "   000  002002  0027  003  004  004002  006  \\\n",
       "0  0.0     0.0   0.0  0.0  0.0     0.0  0.0   \n",
       "1  0.0     0.0   0.0  0.0  0.0     0.0  0.0   \n",
       "2  0.0     0.0   0.0  0.0  0.0     0.0  0.0   \n",
       "3  0.0     0.0   0.0  0.0  0.0     0.0  0.0   \n",
       "4  0.0     0.0   0.0  0.0  0.0     0.0  0.0   \n",
       "\n",
       "   00b328bc1cf5221fc6efb560c6bb764922c31e002179799da67f1f68a503ca41  00bytes  \\\n",
       "0                                                0.0                     0.0   \n",
       "1                                                0.0                     0.0   \n",
       "2                                                0.0                     0.0   \n",
       "3                                                0.0                     0.0   \n",
       "4                                                0.0                     0.0   \n",
       "\n",
       "    01  ...  zta  ztna  zuckerbergstyle  zum  zumbullaw  zurich  zwatest  \\\n",
       "0  0.0  ...  0.0   0.0              0.0  0.0        0.0     0.0      0.0   \n",
       "1  0.0  ...  0.0   0.0              0.0  0.0        0.0     0.0      0.0   \n",
       "2  0.0  ...  0.0   0.0              0.0  0.0        0.0     0.0      0.0   \n",
       "3  0.0  ...  0.0   0.0              0.0  0.0        0.0     0.0      0.0   \n",
       "4  0.0  ...  0.0   0.0              0.0  0.0        0.0     0.0      0.0   \n",
       "\n",
       "   zwijberg  zyxel  zyz  \n",
       "0       0.0    0.0  0.0  \n",
       "1       0.0    0.0  0.0  \n",
       "2       0.0    0.0  0.0  \n",
       "3       0.0    0.0  0.0  \n",
       "4       0.0    0.0  0.0  \n",
       "\n",
       "[5 rows x 25982 columns]"
      ]
     },
     "execution_count": 130,
     "metadata": {},
     "output_type": "execute_result"
    }
   ],
   "source": [
    "text_vec = pd.DataFrame(tv.fit_transform(text_lst).toarray(), columns = tv.get_feature_names())\n",
    "text_vec.head()"
   ]
  },
  {
   "cell_type": "code",
   "execution_count": 140,
   "id": "47172768",
   "metadata": {},
   "outputs": [],
   "source": [
    "text_vec.to_csv('cybersec_text_vectorized.csv') "
   ]
  },
  {
   "cell_type": "markdown",
   "id": "71ef85ce",
   "metadata": {},
   "source": [
    "### Description Data Vectorization"
   ]
  },
  {
   "cell_type": "code",
   "execution_count": 137,
   "id": "090a051d",
   "metadata": {},
   "outputs": [
    {
     "data": {
      "text/plain": [
       "['leader news hacker hacking techjobs nationalcybersecurity download app national 50',\n",
       " 'leader news hacker hacking techjobs nationalcybersecurity download app national 50',\n",
       " 'leader news hacker hacking techjobs nationalcybersecurity download app national 50',\n",
       " 'leader news hacker hacking techjobs nationalcybersecurity download app national 50',\n",
       " 'leader news hacker hacking techjobs nationalcybersecurity download app national 50']"
      ]
     },
     "execution_count": 137,
     "metadata": {},
     "output_type": "execute_result"
    }
   ],
   "source": [
    "desc_lst = []\n",
    "for row in data['description']:\n",
    "    desc_lst.append(row)\n",
    "\n",
    "desc_lst[:5] # need to make into a list so the vectorizer will work"
   ]
  },
  {
   "cell_type": "code",
   "execution_count": 138,
   "id": "2538dd5b",
   "metadata": {},
   "outputs": [
    {
     "data": {
      "text/html": [
       "<div>\n",
       "<style scoped>\n",
       "    .dataframe tbody tr th:only-of-type {\n",
       "        vertical-align: middle;\n",
       "    }\n",
       "\n",
       "    .dataframe tbody tr th {\n",
       "        vertical-align: top;\n",
       "    }\n",
       "\n",
       "    .dataframe thead th {\n",
       "        text-align: right;\n",
       "    }\n",
       "</style>\n",
       "<table border=\"1\" class=\"dataframe\">\n",
       "  <thead>\n",
       "    <tr style=\"text-align: right;\">\n",
       "      <th></th>\n",
       "      <th>001</th>\n",
       "      <th>0099</th>\n",
       "      <th>01</th>\n",
       "      <th>01100101</th>\n",
       "      <th>01100111</th>\n",
       "      <th>01101000</th>\n",
       "      <th>01101111</th>\n",
       "      <th>01110010</th>\n",
       "      <th>01110100</th>\n",
       "      <th>0121</th>\n",
       "      <th>...</th>\n",
       "      <th>àrea</th>\n",
       "      <th>área</th>\n",
       "      <th>économique</th>\n",
       "      <th>énfasis</th>\n",
       "      <th>ético</th>\n",
       "      <th>ïgh</th>\n",
       "      <th>ïñ</th>\n",
       "      <th>ñuñoando</th>\n",
       "      <th>österreich</th>\n",
       "      <th>þlåïñ</th>\n",
       "    </tr>\n",
       "  </thead>\n",
       "  <tbody>\n",
       "    <tr>\n",
       "      <th>0</th>\n",
       "      <td>0.0</td>\n",
       "      <td>0.0</td>\n",
       "      <td>0.0</td>\n",
       "      <td>0.0</td>\n",
       "      <td>0.0</td>\n",
       "      <td>0.0</td>\n",
       "      <td>0.0</td>\n",
       "      <td>0.0</td>\n",
       "      <td>0.0</td>\n",
       "      <td>0.0</td>\n",
       "      <td>...</td>\n",
       "      <td>0.0</td>\n",
       "      <td>0.0</td>\n",
       "      <td>0.0</td>\n",
       "      <td>0.0</td>\n",
       "      <td>0.0</td>\n",
       "      <td>0.0</td>\n",
       "      <td>0.0</td>\n",
       "      <td>0.0</td>\n",
       "      <td>0.0</td>\n",
       "      <td>0.0</td>\n",
       "    </tr>\n",
       "    <tr>\n",
       "      <th>1</th>\n",
       "      <td>0.0</td>\n",
       "      <td>0.0</td>\n",
       "      <td>0.0</td>\n",
       "      <td>0.0</td>\n",
       "      <td>0.0</td>\n",
       "      <td>0.0</td>\n",
       "      <td>0.0</td>\n",
       "      <td>0.0</td>\n",
       "      <td>0.0</td>\n",
       "      <td>0.0</td>\n",
       "      <td>...</td>\n",
       "      <td>0.0</td>\n",
       "      <td>0.0</td>\n",
       "      <td>0.0</td>\n",
       "      <td>0.0</td>\n",
       "      <td>0.0</td>\n",
       "      <td>0.0</td>\n",
       "      <td>0.0</td>\n",
       "      <td>0.0</td>\n",
       "      <td>0.0</td>\n",
       "      <td>0.0</td>\n",
       "    </tr>\n",
       "    <tr>\n",
       "      <th>2</th>\n",
       "      <td>0.0</td>\n",
       "      <td>0.0</td>\n",
       "      <td>0.0</td>\n",
       "      <td>0.0</td>\n",
       "      <td>0.0</td>\n",
       "      <td>0.0</td>\n",
       "      <td>0.0</td>\n",
       "      <td>0.0</td>\n",
       "      <td>0.0</td>\n",
       "      <td>0.0</td>\n",
       "      <td>...</td>\n",
       "      <td>0.0</td>\n",
       "      <td>0.0</td>\n",
       "      <td>0.0</td>\n",
       "      <td>0.0</td>\n",
       "      <td>0.0</td>\n",
       "      <td>0.0</td>\n",
       "      <td>0.0</td>\n",
       "      <td>0.0</td>\n",
       "      <td>0.0</td>\n",
       "      <td>0.0</td>\n",
       "    </tr>\n",
       "    <tr>\n",
       "      <th>3</th>\n",
       "      <td>0.0</td>\n",
       "      <td>0.0</td>\n",
       "      <td>0.0</td>\n",
       "      <td>0.0</td>\n",
       "      <td>0.0</td>\n",
       "      <td>0.0</td>\n",
       "      <td>0.0</td>\n",
       "      <td>0.0</td>\n",
       "      <td>0.0</td>\n",
       "      <td>0.0</td>\n",
       "      <td>...</td>\n",
       "      <td>0.0</td>\n",
       "      <td>0.0</td>\n",
       "      <td>0.0</td>\n",
       "      <td>0.0</td>\n",
       "      <td>0.0</td>\n",
       "      <td>0.0</td>\n",
       "      <td>0.0</td>\n",
       "      <td>0.0</td>\n",
       "      <td>0.0</td>\n",
       "      <td>0.0</td>\n",
       "    </tr>\n",
       "    <tr>\n",
       "      <th>4</th>\n",
       "      <td>0.0</td>\n",
       "      <td>0.0</td>\n",
       "      <td>0.0</td>\n",
       "      <td>0.0</td>\n",
       "      <td>0.0</td>\n",
       "      <td>0.0</td>\n",
       "      <td>0.0</td>\n",
       "      <td>0.0</td>\n",
       "      <td>0.0</td>\n",
       "      <td>0.0</td>\n",
       "      <td>...</td>\n",
       "      <td>0.0</td>\n",
       "      <td>0.0</td>\n",
       "      <td>0.0</td>\n",
       "      <td>0.0</td>\n",
       "      <td>0.0</td>\n",
       "      <td>0.0</td>\n",
       "      <td>0.0</td>\n",
       "      <td>0.0</td>\n",
       "      <td>0.0</td>\n",
       "      <td>0.0</td>\n",
       "    </tr>\n",
       "  </tbody>\n",
       "</table>\n",
       "<p>5 rows × 18911 columns</p>\n",
       "</div>"
      ],
      "text/plain": [
       "   001  0099   01  01100101  01100111  01101000  01101111  01110010  01110100  \\\n",
       "0  0.0   0.0  0.0       0.0       0.0       0.0       0.0       0.0       0.0   \n",
       "1  0.0   0.0  0.0       0.0       0.0       0.0       0.0       0.0       0.0   \n",
       "2  0.0   0.0  0.0       0.0       0.0       0.0       0.0       0.0       0.0   \n",
       "3  0.0   0.0  0.0       0.0       0.0       0.0       0.0       0.0       0.0   \n",
       "4  0.0   0.0  0.0       0.0       0.0       0.0       0.0       0.0       0.0   \n",
       "\n",
       "   0121  ...  àrea  área  économique  énfasis  ético  ïgh   ïñ  ñuñoando  \\\n",
       "0   0.0  ...   0.0   0.0         0.0      0.0    0.0  0.0  0.0       0.0   \n",
       "1   0.0  ...   0.0   0.0         0.0      0.0    0.0  0.0  0.0       0.0   \n",
       "2   0.0  ...   0.0   0.0         0.0      0.0    0.0  0.0  0.0       0.0   \n",
       "3   0.0  ...   0.0   0.0         0.0      0.0    0.0  0.0  0.0       0.0   \n",
       "4   0.0  ...   0.0   0.0         0.0      0.0    0.0  0.0  0.0       0.0   \n",
       "\n",
       "   österreich  þlåïñ  \n",
       "0         0.0    0.0  \n",
       "1         0.0    0.0  \n",
       "2         0.0    0.0  \n",
       "3         0.0    0.0  \n",
       "4         0.0    0.0  \n",
       "\n",
       "[5 rows x 18911 columns]"
      ]
     },
     "execution_count": 138,
     "metadata": {},
     "output_type": "execute_result"
    }
   ],
   "source": [
    "desc_vec = pd.DataFrame(tv.fit_transform(desc_lst).toarray(), columns = tv.get_feature_names())\n",
    "desc_vec.head()"
   ]
  },
  {
   "cell_type": "code",
   "execution_count": 139,
   "id": "41db762a",
   "metadata": {},
   "outputs": [],
   "source": [
    "desc_vec.to_csv('cybersec_desc_vectorized.csv') "
   ]
  },
  {
   "cell_type": "code",
   "execution_count": null,
   "id": "3494df96",
   "metadata": {},
   "outputs": [],
   "source": []
  }
 ],
 "metadata": {
  "kernelspec": {
   "display_name": "Python 3",
   "language": "python",
   "name": "python3"
  },
  "language_info": {
   "codemirror_mode": {
    "name": "ipython",
    "version": 3
   },
   "file_extension": ".py",
   "mimetype": "text/x-python",
   "name": "python",
   "nbconvert_exporter": "python",
   "pygments_lexer": "ipython3",
   "version": "3.8.8"
  }
 },
 "nbformat": 4,
 "nbformat_minor": 5
}
