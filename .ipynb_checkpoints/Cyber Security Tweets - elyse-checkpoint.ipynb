{
 "cells": [
  {
   "cell_type": "code",
   "execution_count": 1,
   "id": "d969befb",
   "metadata": {},
   "outputs": [],
   "source": [
    "from IPython.display import Image\n",
    "import pandas as pd\n",
    "import numpy as np\n",
    "import matplotlib.pyplot as plt\n",
    "import warnings\n",
    "import seaborn as sns\n",
    "sns.set(rc={'figure.figsize':(6,8)}) \n",
    "\n",
    "import warnings\n",
    "warnings.simplefilter(\"ignore\")\n",
    "\n",
    "%matplotlib inline\n",
    "\n",
    "from sklearn.preprocessing import LabelEncoder \n",
    "\n",
    "from sklearn.linear_model import LinearRegression\n",
    "from sklearn.model_selection import train_test_split\n",
    "\n",
    "from sklearn import metrics\n",
    "\n",
    "from sklearn.model_selection import cross_val_score\n",
    "from sklearn.model_selection import cross_validate\n",
    "\n",
    "from sklearn.metrics import SCORERS\n",
    "import re\n",
    "\n",
    "import nltk \n",
    "from nltk.corpus import stopwords\n",
    "from nltk.stem import PorterStemmer"
   ]
  },
  {
   "cell_type": "markdown",
   "id": "acac3ad2",
   "metadata": {},
   "source": [
    "# Cyber Security Tweets | Elyse "
   ]
  },
  {
   "cell_type": "code",
   "execution_count": 2,
   "id": "ac450948",
   "metadata": {},
   "outputs": [],
   "source": [
    "data = pd.read_csv('cybersecurity_tweets.csv')"
   ]
  },
  {
   "cell_type": "code",
   "execution_count": 3,
   "id": "2df12ae9",
   "metadata": {},
   "outputs": [
    {
     "data": {
      "text/html": [
       "<div>\n",
       "<style scoped>\n",
       "    .dataframe tbody tr th:only-of-type {\n",
       "        vertical-align: middle;\n",
       "    }\n",
       "\n",
       "    .dataframe tbody tr th {\n",
       "        vertical-align: top;\n",
       "    }\n",
       "\n",
       "    .dataframe thead th {\n",
       "        text-align: right;\n",
       "    }\n",
       "</style>\n",
       "<table border=\"1\" class=\"dataframe\">\n",
       "  <thead>\n",
       "    <tr style=\"text-align: right;\">\n",
       "      <th></th>\n",
       "      <th>user_id</th>\n",
       "      <th>status_id</th>\n",
       "      <th>created_at</th>\n",
       "      <th>screen_name</th>\n",
       "      <th>text</th>\n",
       "      <th>source</th>\n",
       "      <th>display_text_width</th>\n",
       "      <th>reply_to_status_id</th>\n",
       "      <th>reply_to_user_id</th>\n",
       "      <th>reply_to_screen_name</th>\n",
       "      <th>...</th>\n",
       "      <th>statuses_count</th>\n",
       "      <th>favourites_count</th>\n",
       "      <th>account_created_at</th>\n",
       "      <th>verified</th>\n",
       "      <th>profile_url</th>\n",
       "      <th>profile_expanded_url</th>\n",
       "      <th>account_lang</th>\n",
       "      <th>profile_banner_url</th>\n",
       "      <th>profile_background_url</th>\n",
       "      <th>profile_image_url</th>\n",
       "    </tr>\n",
       "  </thead>\n",
       "  <tbody>\n",
       "    <tr>\n",
       "      <th>0</th>\n",
       "      <td>x109082290</td>\n",
       "      <td>x1404488925935177737</td>\n",
       "      <td>2021-06-14 17:20:28</td>\n",
       "      <td>NcsVentures</td>\n",
       "      <td>Signs, Causes and Solutions for Network Data B...</td>\n",
       "      <td>WordPress.com</td>\n",
       "      <td>109</td>\n",
       "      <td>NaN</td>\n",
       "      <td>NaN</td>\n",
       "      <td>NaN</td>\n",
       "      <td>...</td>\n",
       "      <td>260725</td>\n",
       "      <td>0</td>\n",
       "      <td>2010-01-27 22:48:24</td>\n",
       "      <td>False</td>\n",
       "      <td>https://t.co/E0XpJWVD52</td>\n",
       "      <td>http://www.nationalcybersecurity.com/</td>\n",
       "      <td>NaN</td>\n",
       "      <td>https://pbs.twimg.com/profile_banners/10908229...</td>\n",
       "      <td>http://abs.twimg.com/images/themes/theme15/bg.png</td>\n",
       "      <td>http://pbs.twimg.com/profile_images/715854922/...</td>\n",
       "    </tr>\n",
       "    <tr>\n",
       "      <th>1</th>\n",
       "      <td>x109082290</td>\n",
       "      <td>x1403635112613494786</td>\n",
       "      <td>2021-06-12 08:47:43</td>\n",
       "      <td>NcsVentures</td>\n",
       "      <td>Battling Chinese Big Tech encroachment in Indi...</td>\n",
       "      <td>WordPress.com</td>\n",
       "      <td>103</td>\n",
       "      <td>NaN</td>\n",
       "      <td>NaN</td>\n",
       "      <td>NaN</td>\n",
       "      <td>...</td>\n",
       "      <td>260725</td>\n",
       "      <td>0</td>\n",
       "      <td>2010-01-27 22:48:24</td>\n",
       "      <td>False</td>\n",
       "      <td>https://t.co/E0XpJWVD52</td>\n",
       "      <td>http://www.nationalcybersecurity.com/</td>\n",
       "      <td>NaN</td>\n",
       "      <td>https://pbs.twimg.com/profile_banners/10908229...</td>\n",
       "      <td>http://abs.twimg.com/images/themes/theme15/bg.png</td>\n",
       "      <td>http://pbs.twimg.com/profile_images/715854922/...</td>\n",
       "    </tr>\n",
       "    <tr>\n",
       "      <th>2</th>\n",
       "      <td>x109082290</td>\n",
       "      <td>x1403747937818120198</td>\n",
       "      <td>2021-06-12 16:16:03</td>\n",
       "      <td>NcsVentures</td>\n",
       "      <td>Ask Dr. Jeanette® Success On “The Way” Devil O...</td>\n",
       "      <td>WordPress.com</td>\n",
       "      <td>226</td>\n",
       "      <td>NaN</td>\n",
       "      <td>NaN</td>\n",
       "      <td>NaN</td>\n",
       "      <td>...</td>\n",
       "      <td>260725</td>\n",
       "      <td>0</td>\n",
       "      <td>2010-01-27 22:48:24</td>\n",
       "      <td>False</td>\n",
       "      <td>https://t.co/E0XpJWVD52</td>\n",
       "      <td>http://www.nationalcybersecurity.com/</td>\n",
       "      <td>NaN</td>\n",
       "      <td>https://pbs.twimg.com/profile_banners/10908229...</td>\n",
       "      <td>http://abs.twimg.com/images/themes/theme15/bg.png</td>\n",
       "      <td>http://pbs.twimg.com/profile_images/715854922/...</td>\n",
       "    </tr>\n",
       "    <tr>\n",
       "      <th>3</th>\n",
       "      <td>x109082290</td>\n",
       "      <td>x1404021845913899009</td>\n",
       "      <td>2021-06-13 10:24:28</td>\n",
       "      <td>NcsVentures</td>\n",
       "      <td>Cyber threats to Digital Pakistan | #cybersecu...</td>\n",
       "      <td>WordPress.com</td>\n",
       "      <td>89</td>\n",
       "      <td>NaN</td>\n",
       "      <td>NaN</td>\n",
       "      <td>NaN</td>\n",
       "      <td>...</td>\n",
       "      <td>260725</td>\n",
       "      <td>0</td>\n",
       "      <td>2010-01-27 22:48:24</td>\n",
       "      <td>False</td>\n",
       "      <td>https://t.co/E0XpJWVD52</td>\n",
       "      <td>http://www.nationalcybersecurity.com/</td>\n",
       "      <td>NaN</td>\n",
       "      <td>https://pbs.twimg.com/profile_banners/10908229...</td>\n",
       "      <td>http://abs.twimg.com/images/themes/theme15/bg.png</td>\n",
       "      <td>http://pbs.twimg.com/profile_images/715854922/...</td>\n",
       "    </tr>\n",
       "    <tr>\n",
       "      <th>4</th>\n",
       "      <td>x109082290</td>\n",
       "      <td>x1404053089804554241</td>\n",
       "      <td>2021-06-13 12:28:37</td>\n",
       "      <td>NcsVentures</td>\n",
       "      <td>Pakistan Cyber Attack News: Pakistan army clai...</td>\n",
       "      <td>WordPress.com</td>\n",
       "      <td>152</td>\n",
       "      <td>NaN</td>\n",
       "      <td>NaN</td>\n",
       "      <td>NaN</td>\n",
       "      <td>...</td>\n",
       "      <td>260725</td>\n",
       "      <td>0</td>\n",
       "      <td>2010-01-27 22:48:24</td>\n",
       "      <td>False</td>\n",
       "      <td>https://t.co/E0XpJWVD52</td>\n",
       "      <td>http://www.nationalcybersecurity.com/</td>\n",
       "      <td>NaN</td>\n",
       "      <td>https://pbs.twimg.com/profile_banners/10908229...</td>\n",
       "      <td>http://abs.twimg.com/images/themes/theme15/bg.png</td>\n",
       "      <td>http://pbs.twimg.com/profile_images/715854922/...</td>\n",
       "    </tr>\n",
       "  </tbody>\n",
       "</table>\n",
       "<p>5 rows × 90 columns</p>\n",
       "</div>"
      ],
      "text/plain": [
       "      user_id             status_id           created_at  screen_name  \\\n",
       "0  x109082290  x1404488925935177737  2021-06-14 17:20:28  NcsVentures   \n",
       "1  x109082290  x1403635112613494786  2021-06-12 08:47:43  NcsVentures   \n",
       "2  x109082290  x1403747937818120198  2021-06-12 16:16:03  NcsVentures   \n",
       "3  x109082290  x1404021845913899009  2021-06-13 10:24:28  NcsVentures   \n",
       "4  x109082290  x1404053089804554241  2021-06-13 12:28:37  NcsVentures   \n",
       "\n",
       "                                                text         source  \\\n",
       "0  Signs, Causes and Solutions for Network Data B...  WordPress.com   \n",
       "1  Battling Chinese Big Tech encroachment in Indi...  WordPress.com   \n",
       "2  Ask Dr. Jeanette® Success On “The Way” Devil O...  WordPress.com   \n",
       "3  Cyber threats to Digital Pakistan | #cybersecu...  WordPress.com   \n",
       "4  Pakistan Cyber Attack News: Pakistan army clai...  WordPress.com   \n",
       "\n",
       "   display_text_width reply_to_status_id reply_to_user_id  \\\n",
       "0                 109                NaN              NaN   \n",
       "1                 103                NaN              NaN   \n",
       "2                 226                NaN              NaN   \n",
       "3                  89                NaN              NaN   \n",
       "4                 152                NaN              NaN   \n",
       "\n",
       "  reply_to_screen_name  ...  statuses_count  favourites_count  \\\n",
       "0                  NaN  ...          260725                 0   \n",
       "1                  NaN  ...          260725                 0   \n",
       "2                  NaN  ...          260725                 0   \n",
       "3                  NaN  ...          260725                 0   \n",
       "4                  NaN  ...          260725                 0   \n",
       "\n",
       "    account_created_at  verified              profile_url  \\\n",
       "0  2010-01-27 22:48:24     False  https://t.co/E0XpJWVD52   \n",
       "1  2010-01-27 22:48:24     False  https://t.co/E0XpJWVD52   \n",
       "2  2010-01-27 22:48:24     False  https://t.co/E0XpJWVD52   \n",
       "3  2010-01-27 22:48:24     False  https://t.co/E0XpJWVD52   \n",
       "4  2010-01-27 22:48:24     False  https://t.co/E0XpJWVD52   \n",
       "\n",
       "                    profile_expanded_url account_lang  \\\n",
       "0  http://www.nationalcybersecurity.com/          NaN   \n",
       "1  http://www.nationalcybersecurity.com/          NaN   \n",
       "2  http://www.nationalcybersecurity.com/          NaN   \n",
       "3  http://www.nationalcybersecurity.com/          NaN   \n",
       "4  http://www.nationalcybersecurity.com/          NaN   \n",
       "\n",
       "                                  profile_banner_url  \\\n",
       "0  https://pbs.twimg.com/profile_banners/10908229...   \n",
       "1  https://pbs.twimg.com/profile_banners/10908229...   \n",
       "2  https://pbs.twimg.com/profile_banners/10908229...   \n",
       "3  https://pbs.twimg.com/profile_banners/10908229...   \n",
       "4  https://pbs.twimg.com/profile_banners/10908229...   \n",
       "\n",
       "                              profile_background_url  \\\n",
       "0  http://abs.twimg.com/images/themes/theme15/bg.png   \n",
       "1  http://abs.twimg.com/images/themes/theme15/bg.png   \n",
       "2  http://abs.twimg.com/images/themes/theme15/bg.png   \n",
       "3  http://abs.twimg.com/images/themes/theme15/bg.png   \n",
       "4  http://abs.twimg.com/images/themes/theme15/bg.png   \n",
       "\n",
       "                                   profile_image_url  \n",
       "0  http://pbs.twimg.com/profile_images/715854922/...  \n",
       "1  http://pbs.twimg.com/profile_images/715854922/...  \n",
       "2  http://pbs.twimg.com/profile_images/715854922/...  \n",
       "3  http://pbs.twimg.com/profile_images/715854922/...  \n",
       "4  http://pbs.twimg.com/profile_images/715854922/...  \n",
       "\n",
       "[5 rows x 90 columns]"
      ]
     },
     "execution_count": 3,
     "metadata": {},
     "output_type": "execute_result"
    }
   ],
   "source": [
    "data.head()"
   ]
  },
  {
   "cell_type": "code",
   "execution_count": 4,
   "id": "d66dda4a",
   "metadata": {},
   "outputs": [
    {
     "data": {
      "text/plain": [
       "Index(['user_id', 'status_id', 'created_at', 'screen_name', 'text', 'source',\n",
       "       'display_text_width', 'reply_to_status_id', 'reply_to_user_id',\n",
       "       'reply_to_screen_name', 'is_quote', 'is_retweet', 'favorite_count',\n",
       "       'retweet_count', 'quote_count', 'reply_count', 'hashtags', 'symbols',\n",
       "       'urls_url', 'urls_t.co', 'urls_expanded_url', 'media_url', 'media_t.co',\n",
       "       'media_expanded_url', 'media_type', 'ext_media_url', 'ext_media_t.co',\n",
       "       'ext_media_expanded_url', 'ext_media_type', 'mentions_user_id',\n",
       "       'mentions_screen_name', 'lang', 'quoted_status_id', 'quoted_text',\n",
       "       'quoted_created_at', 'quoted_source', 'quoted_favorite_count',\n",
       "       'quoted_retweet_count', 'quoted_user_id', 'quoted_screen_name',\n",
       "       'quoted_name', 'quoted_followers_count', 'quoted_friends_count',\n",
       "       'quoted_statuses_count', 'quoted_location', 'quoted_description',\n",
       "       'quoted_verified', 'retweet_status_id', 'retweet_text',\n",
       "       'retweet_created_at', 'retweet_source', 'retweet_favorite_count',\n",
       "       'retweet_retweet_count', 'retweet_user_id', 'retweet_screen_name',\n",
       "       'retweet_name', 'retweet_followers_count', 'retweet_friends_count',\n",
       "       'retweet_statuses_count', 'retweet_location', 'retweet_description',\n",
       "       'retweet_verified', 'place_url', 'place_name', 'place_full_name',\n",
       "       'place_type', 'country', 'country_code', 'geo_coords', 'coords_coords',\n",
       "       'bbox_coords', 'status_url', 'name', 'location', 'description', 'url',\n",
       "       'protected', 'followers_count', 'friends_count', 'listed_count',\n",
       "       'statuses_count', 'favourites_count', 'account_created_at', 'verified',\n",
       "       'profile_url', 'profile_expanded_url', 'account_lang',\n",
       "       'profile_banner_url', 'profile_background_url', 'profile_image_url'],\n",
       "      dtype='object')"
      ]
     },
     "execution_count": 4,
     "metadata": {},
     "output_type": "execute_result"
    }
   ],
   "source": [
    "data.columns"
   ]
  },
  {
   "cell_type": "code",
   "execution_count": 5,
   "id": "1fb91f4a",
   "metadata": {},
   "outputs": [],
   "source": [
    "df = data[[\"text\", \"is_quote\", \"is_retweet\", \"retweet_count\", \"hashtags\", \"followers_count\"]]"
   ]
  },
  {
   "cell_type": "code",
   "execution_count": 6,
   "id": "2b96ed45",
   "metadata": {},
   "outputs": [
    {
     "data": {
      "text/html": [
       "<div>\n",
       "<style scoped>\n",
       "    .dataframe tbody tr th:only-of-type {\n",
       "        vertical-align: middle;\n",
       "    }\n",
       "\n",
       "    .dataframe tbody tr th {\n",
       "        vertical-align: top;\n",
       "    }\n",
       "\n",
       "    .dataframe thead th {\n",
       "        text-align: right;\n",
       "    }\n",
       "</style>\n",
       "<table border=\"1\" class=\"dataframe\">\n",
       "  <thead>\n",
       "    <tr style=\"text-align: right;\">\n",
       "      <th></th>\n",
       "      <th>text</th>\n",
       "    </tr>\n",
       "  </thead>\n",
       "  <tbody>\n",
       "    <tr>\n",
       "      <th>0</th>\n",
       "      <td>Signs, Causes and Solutions for Network Data Breaches | #cybersecurity | #cyberattack https://t.co/oxotVQ4ogO</td>\n",
       "    </tr>\n",
       "    <tr>\n",
       "      <th>1</th>\n",
       "      <td>Battling Chinese Big Tech encroachment in India | #cybersecurity | #cyberattack https://t.co/GFXaut9ZXH</td>\n",
       "    </tr>\n",
       "    <tr>\n",
       "      <th>2</th>\n",
       "      <td>Ask Dr. Jeanette® Success On “The Way” Devil On A Choke Chain! It’s Gonna Be Quick! It’s Gonna Be Sure! It’s Gonna Be Final! – Los Angeles Sentinel | Los Angeles Sentinel | #cybersecurity | #cyberattack https://t.co/0yfsRAdUMk</td>\n",
       "    </tr>\n",
       "    <tr>\n",
       "      <th>3</th>\n",
       "      <td>Cyber threats to Digital Pakistan | #cybersecurity | #cyberattack https://t.co/Se4ENqeOQT</td>\n",
       "    </tr>\n",
       "    <tr>\n",
       "      <th>4</th>\n",
       "      <td>Pakistan Cyber Attack News: Pakistan army claims major cyber attack by Indian intel | World News | #cybersecurity | #cyberattack https://t.co/wsnAO20OiG</td>\n",
       "    </tr>\n",
       "  </tbody>\n",
       "</table>\n",
       "</div>"
      ],
      "text/plain": [
       "                                                                                                                                                                                                                                 text\n",
       "0  Signs, Causes and Solutions for Network Data Breaches | #cybersecurity | #cyberattack https://t.co/oxotVQ4ogO                                                                                                                     \n",
       "1  Battling Chinese Big Tech encroachment in India | #cybersecurity | #cyberattack https://t.co/GFXaut9ZXH                                                                                                                           \n",
       "2  Ask Dr. Jeanette® Success On “The Way” Devil On A Choke Chain! It’s Gonna Be Quick! It’s Gonna Be Sure! It’s Gonna Be Final! – Los Angeles Sentinel | Los Angeles Sentinel | #cybersecurity | #cyberattack https://t.co/0yfsRAdUMk\n",
       "3  Cyber threats to Digital Pakistan | #cybersecurity | #cyberattack https://t.co/Se4ENqeOQT                                                                                                                                         \n",
       "4  Pakistan Cyber Attack News: Pakistan army claims major cyber attack by Indian intel | World News | #cybersecurity | #cyberattack https://t.co/wsnAO20OiG                                                                          "
      ]
     },
     "execution_count": 6,
     "metadata": {},
     "output_type": "execute_result"
    }
   ],
   "source": [
    "cyber = df[[\"text\"]]\n",
    "pd.set_option('display.max_colwidth', -1)\n",
    "cyber.head()"
   ]
  },
  {
   "cell_type": "markdown",
   "id": "1156af62",
   "metadata": {},
   "source": [
    "## Cleaning Data"
   ]
  },
  {
   "cell_type": "code",
   "execution_count": 7,
   "id": "434409c9",
   "metadata": {},
   "outputs": [],
   "source": [
    "def cleanTxt(txt):\n",
    "    txt = txt.lower()\n",
    "    txt = re.sub(r'RT[\\s]+', '', txt) #removing RT\n",
    "    txt = re.sub(r'[^\\w\\s]','', txt) #remove everything except words and space\n",
    "    txt = re.sub(r'_','', txt) #how to remove underscore as well\n",
    "    if 'https' in txt: # removing hyperlinks \n",
    "        pos = txt.find('https')\n",
    "        txt = txt[:pos]\n",
    "    txt_lst = txt.split(\" \")\n",
    "    txt_lst = [word for word in txt_lst if word not in stopwords.words()]\n",
    "    return \" \".join(txt_lst)"
   ]
  },
  {
   "cell_type": "code",
   "execution_count": 8,
   "id": "e3c5f962",
   "metadata": {},
   "outputs": [
    {
     "ename": "KeyboardInterrupt",
     "evalue": "",
     "output_type": "error",
     "traceback": [
      "\u001b[0;31m---------------------------------------------------------------------------\u001b[0m",
      "\u001b[0;31mKeyboardInterrupt\u001b[0m                         Traceback (most recent call last)",
      "\u001b[0;32m<ipython-input-8-39c70d05b8fb>\u001b[0m in \u001b[0;36m<module>\u001b[0;34m\u001b[0m\n\u001b[0;32m----> 1\u001b[0;31m \u001b[0mcyber\u001b[0m\u001b[0;34m[\u001b[0m\u001b[0;34m'text'\u001b[0m\u001b[0;34m]\u001b[0m \u001b[0;34m=\u001b[0m \u001b[0mcyber\u001b[0m\u001b[0;34m[\u001b[0m\u001b[0;34m'text'\u001b[0m\u001b[0;34m]\u001b[0m\u001b[0;34m.\u001b[0m\u001b[0mapply\u001b[0m\u001b[0;34m(\u001b[0m\u001b[0mcleanTxt\u001b[0m\u001b[0;34m)\u001b[0m\u001b[0;34m\u001b[0m\u001b[0;34m\u001b[0m\u001b[0m\n\u001b[0m\u001b[1;32m      2\u001b[0m \u001b[0mcyber\u001b[0m\u001b[0;34m.\u001b[0m\u001b[0mhead\u001b[0m\u001b[0;34m(\u001b[0m\u001b[0;34m)\u001b[0m\u001b[0;34m\u001b[0m\u001b[0;34m\u001b[0m\u001b[0m\n",
      "\u001b[0;32m~/opt/anaconda3/lib/python3.8/site-packages/pandas/core/series.py\u001b[0m in \u001b[0;36mapply\u001b[0;34m(self, func, convert_dtype, args, **kwds)\u001b[0m\n\u001b[1;32m   4136\u001b[0m             \u001b[0;32melse\u001b[0m\u001b[0;34m:\u001b[0m\u001b[0;34m\u001b[0m\u001b[0;34m\u001b[0m\u001b[0m\n\u001b[1;32m   4137\u001b[0m                 \u001b[0mvalues\u001b[0m \u001b[0;34m=\u001b[0m \u001b[0mself\u001b[0m\u001b[0;34m.\u001b[0m\u001b[0mastype\u001b[0m\u001b[0;34m(\u001b[0m\u001b[0mobject\u001b[0m\u001b[0;34m)\u001b[0m\u001b[0;34m.\u001b[0m\u001b[0m_values\u001b[0m\u001b[0;34m\u001b[0m\u001b[0;34m\u001b[0m\u001b[0m\n\u001b[0;32m-> 4138\u001b[0;31m                 \u001b[0mmapped\u001b[0m \u001b[0;34m=\u001b[0m \u001b[0mlib\u001b[0m\u001b[0;34m.\u001b[0m\u001b[0mmap_infer\u001b[0m\u001b[0;34m(\u001b[0m\u001b[0mvalues\u001b[0m\u001b[0;34m,\u001b[0m \u001b[0mf\u001b[0m\u001b[0;34m,\u001b[0m \u001b[0mconvert\u001b[0m\u001b[0;34m=\u001b[0m\u001b[0mconvert_dtype\u001b[0m\u001b[0;34m)\u001b[0m\u001b[0;34m\u001b[0m\u001b[0;34m\u001b[0m\u001b[0m\n\u001b[0m\u001b[1;32m   4139\u001b[0m \u001b[0;34m\u001b[0m\u001b[0m\n\u001b[1;32m   4140\u001b[0m         \u001b[0;32mif\u001b[0m \u001b[0mlen\u001b[0m\u001b[0;34m(\u001b[0m\u001b[0mmapped\u001b[0m\u001b[0;34m)\u001b[0m \u001b[0;32mand\u001b[0m \u001b[0misinstance\u001b[0m\u001b[0;34m(\u001b[0m\u001b[0mmapped\u001b[0m\u001b[0;34m[\u001b[0m\u001b[0;36m0\u001b[0m\u001b[0;34m]\u001b[0m\u001b[0;34m,\u001b[0m \u001b[0mSeries\u001b[0m\u001b[0;34m)\u001b[0m\u001b[0;34m:\u001b[0m\u001b[0;34m\u001b[0m\u001b[0;34m\u001b[0m\u001b[0m\n",
      "\u001b[0;32mpandas/_libs/lib.pyx\u001b[0m in \u001b[0;36mpandas._libs.lib.map_infer\u001b[0;34m()\u001b[0m\n",
      "\u001b[0;32m<ipython-input-7-db89d4f25d5e>\u001b[0m in \u001b[0;36mcleanTxt\u001b[0;34m(txt)\u001b[0m\n\u001b[1;32m      8\u001b[0m         \u001b[0mtxt\u001b[0m \u001b[0;34m=\u001b[0m \u001b[0mtxt\u001b[0m\u001b[0;34m[\u001b[0m\u001b[0;34m:\u001b[0m\u001b[0mpos\u001b[0m\u001b[0;34m]\u001b[0m\u001b[0;34m\u001b[0m\u001b[0;34m\u001b[0m\u001b[0m\n\u001b[1;32m      9\u001b[0m     \u001b[0mtxt_lst\u001b[0m \u001b[0;34m=\u001b[0m \u001b[0mtxt\u001b[0m\u001b[0;34m.\u001b[0m\u001b[0msplit\u001b[0m\u001b[0;34m(\u001b[0m\u001b[0;34m\" \"\u001b[0m\u001b[0;34m)\u001b[0m\u001b[0;34m\u001b[0m\u001b[0;34m\u001b[0m\u001b[0m\n\u001b[0;32m---> 10\u001b[0;31m     \u001b[0mtxt_lst\u001b[0m \u001b[0;34m=\u001b[0m \u001b[0;34m[\u001b[0m\u001b[0mword\u001b[0m \u001b[0;32mfor\u001b[0m \u001b[0mword\u001b[0m \u001b[0;32min\u001b[0m \u001b[0mtxt_lst\u001b[0m \u001b[0;32mif\u001b[0m \u001b[0mword\u001b[0m \u001b[0;32mnot\u001b[0m \u001b[0;32min\u001b[0m \u001b[0mstopwords\u001b[0m\u001b[0;34m.\u001b[0m\u001b[0mwords\u001b[0m\u001b[0;34m(\u001b[0m\u001b[0;34m)\u001b[0m\u001b[0;34m]\u001b[0m\u001b[0;34m\u001b[0m\u001b[0;34m\u001b[0m\u001b[0m\n\u001b[0m\u001b[1;32m     11\u001b[0m     \u001b[0;32mreturn\u001b[0m \u001b[0;34m\" \"\u001b[0m\u001b[0;34m.\u001b[0m\u001b[0mjoin\u001b[0m\u001b[0;34m(\u001b[0m\u001b[0mtxt_lst\u001b[0m\u001b[0;34m)\u001b[0m\u001b[0;34m\u001b[0m\u001b[0;34m\u001b[0m\u001b[0m\n",
      "\u001b[0;32m<ipython-input-7-db89d4f25d5e>\u001b[0m in \u001b[0;36m<listcomp>\u001b[0;34m(.0)\u001b[0m\n\u001b[1;32m      8\u001b[0m         \u001b[0mtxt\u001b[0m \u001b[0;34m=\u001b[0m \u001b[0mtxt\u001b[0m\u001b[0;34m[\u001b[0m\u001b[0;34m:\u001b[0m\u001b[0mpos\u001b[0m\u001b[0;34m]\u001b[0m\u001b[0;34m\u001b[0m\u001b[0;34m\u001b[0m\u001b[0m\n\u001b[1;32m      9\u001b[0m     \u001b[0mtxt_lst\u001b[0m \u001b[0;34m=\u001b[0m \u001b[0mtxt\u001b[0m\u001b[0;34m.\u001b[0m\u001b[0msplit\u001b[0m\u001b[0;34m(\u001b[0m\u001b[0;34m\" \"\u001b[0m\u001b[0;34m)\u001b[0m\u001b[0;34m\u001b[0m\u001b[0;34m\u001b[0m\u001b[0m\n\u001b[0;32m---> 10\u001b[0;31m     \u001b[0mtxt_lst\u001b[0m \u001b[0;34m=\u001b[0m \u001b[0;34m[\u001b[0m\u001b[0mword\u001b[0m \u001b[0;32mfor\u001b[0m \u001b[0mword\u001b[0m \u001b[0;32min\u001b[0m \u001b[0mtxt_lst\u001b[0m \u001b[0;32mif\u001b[0m \u001b[0mword\u001b[0m \u001b[0;32mnot\u001b[0m \u001b[0;32min\u001b[0m \u001b[0mstopwords\u001b[0m\u001b[0;34m.\u001b[0m\u001b[0mwords\u001b[0m\u001b[0;34m(\u001b[0m\u001b[0;34m)\u001b[0m\u001b[0;34m]\u001b[0m\u001b[0;34m\u001b[0m\u001b[0;34m\u001b[0m\u001b[0m\n\u001b[0m\u001b[1;32m     11\u001b[0m     \u001b[0;32mreturn\u001b[0m \u001b[0;34m\" \"\u001b[0m\u001b[0;34m.\u001b[0m\u001b[0mjoin\u001b[0m\u001b[0;34m(\u001b[0m\u001b[0mtxt_lst\u001b[0m\u001b[0;34m)\u001b[0m\u001b[0;34m\u001b[0m\u001b[0;34m\u001b[0m\u001b[0m\n",
      "\u001b[0;32m~/opt/anaconda3/lib/python3.8/site-packages/nltk/corpus/reader/wordlist.py\u001b[0m in \u001b[0;36mwords\u001b[0;34m(self, fileids, ignore_lines_startswith)\u001b[0m\n\u001b[1;32m     21\u001b[0m         return [\n\u001b[1;32m     22\u001b[0m             \u001b[0mline\u001b[0m\u001b[0;34m\u001b[0m\u001b[0;34m\u001b[0m\u001b[0m\n\u001b[0;32m---> 23\u001b[0;31m             \u001b[0;32mfor\u001b[0m \u001b[0mline\u001b[0m \u001b[0;32min\u001b[0m \u001b[0mline_tokenize\u001b[0m\u001b[0;34m(\u001b[0m\u001b[0mself\u001b[0m\u001b[0;34m.\u001b[0m\u001b[0mraw\u001b[0m\u001b[0;34m(\u001b[0m\u001b[0mfileids\u001b[0m\u001b[0;34m)\u001b[0m\u001b[0;34m)\u001b[0m\u001b[0;34m\u001b[0m\u001b[0;34m\u001b[0m\u001b[0m\n\u001b[0m\u001b[1;32m     24\u001b[0m             \u001b[0;32mif\u001b[0m \u001b[0;32mnot\u001b[0m \u001b[0mline\u001b[0m\u001b[0;34m.\u001b[0m\u001b[0mstartswith\u001b[0m\u001b[0;34m(\u001b[0m\u001b[0mignore_lines_startswith\u001b[0m\u001b[0;34m)\u001b[0m\u001b[0;34m\u001b[0m\u001b[0;34m\u001b[0m\u001b[0m\n\u001b[1;32m     25\u001b[0m         ]\n",
      "\u001b[0;32m~/opt/anaconda3/lib/python3.8/site-packages/nltk/corpus/reader/wordlist.py\u001b[0m in \u001b[0;36mraw\u001b[0;34m(self, fileids)\u001b[0m\n\u001b[1;32m     30\u001b[0m         \u001b[0;32melif\u001b[0m \u001b[0misinstance\u001b[0m\u001b[0;34m(\u001b[0m\u001b[0mfileids\u001b[0m\u001b[0;34m,\u001b[0m \u001b[0mstr\u001b[0m\u001b[0;34m)\u001b[0m\u001b[0;34m:\u001b[0m\u001b[0;34m\u001b[0m\u001b[0;34m\u001b[0m\u001b[0m\n\u001b[1;32m     31\u001b[0m             \u001b[0mfileids\u001b[0m \u001b[0;34m=\u001b[0m \u001b[0;34m[\u001b[0m\u001b[0mfileids\u001b[0m\u001b[0;34m]\u001b[0m\u001b[0;34m\u001b[0m\u001b[0;34m\u001b[0m\u001b[0m\n\u001b[0;32m---> 32\u001b[0;31m         \u001b[0;32mreturn\u001b[0m \u001b[0mconcat\u001b[0m\u001b[0;34m(\u001b[0m\u001b[0;34m[\u001b[0m\u001b[0mself\u001b[0m\u001b[0;34m.\u001b[0m\u001b[0mopen\u001b[0m\u001b[0;34m(\u001b[0m\u001b[0mf\u001b[0m\u001b[0;34m)\u001b[0m\u001b[0;34m.\u001b[0m\u001b[0mread\u001b[0m\u001b[0;34m(\u001b[0m\u001b[0;34m)\u001b[0m \u001b[0;32mfor\u001b[0m \u001b[0mf\u001b[0m \u001b[0;32min\u001b[0m \u001b[0mfileids\u001b[0m\u001b[0;34m]\u001b[0m\u001b[0;34m)\u001b[0m\u001b[0;34m\u001b[0m\u001b[0;34m\u001b[0m\u001b[0m\n\u001b[0m\u001b[1;32m     33\u001b[0m \u001b[0;34m\u001b[0m\u001b[0m\n\u001b[1;32m     34\u001b[0m \u001b[0;34m\u001b[0m\u001b[0m\n",
      "\u001b[0;32m~/opt/anaconda3/lib/python3.8/site-packages/nltk/corpus/reader/wordlist.py\u001b[0m in \u001b[0;36m<listcomp>\u001b[0;34m(.0)\u001b[0m\n\u001b[1;32m     30\u001b[0m         \u001b[0;32melif\u001b[0m \u001b[0misinstance\u001b[0m\u001b[0;34m(\u001b[0m\u001b[0mfileids\u001b[0m\u001b[0;34m,\u001b[0m \u001b[0mstr\u001b[0m\u001b[0;34m)\u001b[0m\u001b[0;34m:\u001b[0m\u001b[0;34m\u001b[0m\u001b[0;34m\u001b[0m\u001b[0m\n\u001b[1;32m     31\u001b[0m             \u001b[0mfileids\u001b[0m \u001b[0;34m=\u001b[0m \u001b[0;34m[\u001b[0m\u001b[0mfileids\u001b[0m\u001b[0;34m]\u001b[0m\u001b[0;34m\u001b[0m\u001b[0;34m\u001b[0m\u001b[0m\n\u001b[0;32m---> 32\u001b[0;31m         \u001b[0;32mreturn\u001b[0m \u001b[0mconcat\u001b[0m\u001b[0;34m(\u001b[0m\u001b[0;34m[\u001b[0m\u001b[0mself\u001b[0m\u001b[0;34m.\u001b[0m\u001b[0mopen\u001b[0m\u001b[0;34m(\u001b[0m\u001b[0mf\u001b[0m\u001b[0;34m)\u001b[0m\u001b[0;34m.\u001b[0m\u001b[0mread\u001b[0m\u001b[0;34m(\u001b[0m\u001b[0;34m)\u001b[0m \u001b[0;32mfor\u001b[0m \u001b[0mf\u001b[0m \u001b[0;32min\u001b[0m \u001b[0mfileids\u001b[0m\u001b[0;34m]\u001b[0m\u001b[0;34m)\u001b[0m\u001b[0;34m\u001b[0m\u001b[0;34m\u001b[0m\u001b[0m\n\u001b[0m\u001b[1;32m     33\u001b[0m \u001b[0;34m\u001b[0m\u001b[0m\n\u001b[1;32m     34\u001b[0m \u001b[0;34m\u001b[0m\u001b[0m\n",
      "\u001b[0;32m~/opt/anaconda3/lib/python3.8/site-packages/nltk/corpus/reader/api.py\u001b[0m in \u001b[0;36mopen\u001b[0;34m(self, file)\u001b[0m\n\u001b[1;32m    206\u001b[0m         \"\"\"\n\u001b[1;32m    207\u001b[0m         \u001b[0mencoding\u001b[0m \u001b[0;34m=\u001b[0m \u001b[0mself\u001b[0m\u001b[0;34m.\u001b[0m\u001b[0mencoding\u001b[0m\u001b[0;34m(\u001b[0m\u001b[0mfile\u001b[0m\u001b[0;34m)\u001b[0m\u001b[0;34m\u001b[0m\u001b[0;34m\u001b[0m\u001b[0m\n\u001b[0;32m--> 208\u001b[0;31m         \u001b[0mstream\u001b[0m \u001b[0;34m=\u001b[0m \u001b[0mself\u001b[0m\u001b[0;34m.\u001b[0m\u001b[0m_root\u001b[0m\u001b[0;34m.\u001b[0m\u001b[0mjoin\u001b[0m\u001b[0;34m(\u001b[0m\u001b[0mfile\u001b[0m\u001b[0;34m)\u001b[0m\u001b[0;34m.\u001b[0m\u001b[0mopen\u001b[0m\u001b[0;34m(\u001b[0m\u001b[0mencoding\u001b[0m\u001b[0;34m)\u001b[0m\u001b[0;34m\u001b[0m\u001b[0;34m\u001b[0m\u001b[0m\n\u001b[0m\u001b[1;32m    209\u001b[0m         \u001b[0;32mreturn\u001b[0m \u001b[0mstream\u001b[0m\u001b[0;34m\u001b[0m\u001b[0;34m\u001b[0m\u001b[0m\n\u001b[1;32m    210\u001b[0m \u001b[0;34m\u001b[0m\u001b[0m\n",
      "\u001b[0;32m~/opt/anaconda3/lib/python3.8/site-packages/nltk/data.py\u001b[0m in \u001b[0;36mjoin\u001b[0;34m(self, fileid)\u001b[0m\n\u001b[1;32m    332\u001b[0m \u001b[0;34m\u001b[0m\u001b[0m\n\u001b[1;32m    333\u001b[0m     \u001b[0;32mdef\u001b[0m \u001b[0mjoin\u001b[0m\u001b[0;34m(\u001b[0m\u001b[0mself\u001b[0m\u001b[0;34m,\u001b[0m \u001b[0mfileid\u001b[0m\u001b[0;34m)\u001b[0m\u001b[0;34m:\u001b[0m\u001b[0;34m\u001b[0m\u001b[0;34m\u001b[0m\u001b[0m\n\u001b[0;32m--> 334\u001b[0;31m         \u001b[0m_path\u001b[0m \u001b[0;34m=\u001b[0m \u001b[0mos\u001b[0m\u001b[0;34m.\u001b[0m\u001b[0mpath\u001b[0m\u001b[0;34m.\u001b[0m\u001b[0mjoin\u001b[0m\u001b[0;34m(\u001b[0m\u001b[0mself\u001b[0m\u001b[0;34m.\u001b[0m\u001b[0m_path\u001b[0m\u001b[0;34m,\u001b[0m \u001b[0mfileid\u001b[0m\u001b[0;34m)\u001b[0m\u001b[0;34m\u001b[0m\u001b[0;34m\u001b[0m\u001b[0m\n\u001b[0m\u001b[1;32m    335\u001b[0m         \u001b[0;32mreturn\u001b[0m \u001b[0mFileSystemPathPointer\u001b[0m\u001b[0;34m(\u001b[0m\u001b[0m_path\u001b[0m\u001b[0;34m)\u001b[0m\u001b[0;34m\u001b[0m\u001b[0;34m\u001b[0m\u001b[0m\n\u001b[1;32m    336\u001b[0m \u001b[0;34m\u001b[0m\u001b[0m\n",
      "\u001b[0;32m~/opt/anaconda3/lib/python3.8/posixpath.py\u001b[0m in \u001b[0;36mjoin\u001b[0;34m(a, *p)\u001b[0m\n\u001b[1;32m     75\u001b[0m     ends with a separator.\"\"\"\n\u001b[1;32m     76\u001b[0m     \u001b[0ma\u001b[0m \u001b[0;34m=\u001b[0m \u001b[0mos\u001b[0m\u001b[0;34m.\u001b[0m\u001b[0mfspath\u001b[0m\u001b[0;34m(\u001b[0m\u001b[0ma\u001b[0m\u001b[0;34m)\u001b[0m\u001b[0;34m\u001b[0m\u001b[0;34m\u001b[0m\u001b[0m\n\u001b[0;32m---> 77\u001b[0;31m     \u001b[0msep\u001b[0m \u001b[0;34m=\u001b[0m \u001b[0m_get_sep\u001b[0m\u001b[0;34m(\u001b[0m\u001b[0ma\u001b[0m\u001b[0;34m)\u001b[0m\u001b[0;34m\u001b[0m\u001b[0;34m\u001b[0m\u001b[0m\n\u001b[0m\u001b[1;32m     78\u001b[0m     \u001b[0mpath\u001b[0m \u001b[0;34m=\u001b[0m \u001b[0ma\u001b[0m\u001b[0;34m\u001b[0m\u001b[0;34m\u001b[0m\u001b[0m\n\u001b[1;32m     79\u001b[0m     \u001b[0;32mtry\u001b[0m\u001b[0;34m:\u001b[0m\u001b[0;34m\u001b[0m\u001b[0;34m\u001b[0m\u001b[0m\n",
      "\u001b[0;32m~/opt/anaconda3/lib/python3.8/posixpath.py\u001b[0m in \u001b[0;36m_get_sep\u001b[0;34m(path)\u001b[0m\n\u001b[1;32m     39\u001b[0m \u001b[0;34m\u001b[0m\u001b[0m\n\u001b[1;32m     40\u001b[0m \u001b[0;34m\u001b[0m\u001b[0m\n\u001b[0;32m---> 41\u001b[0;31m \u001b[0;32mdef\u001b[0m \u001b[0m_get_sep\u001b[0m\u001b[0;34m(\u001b[0m\u001b[0mpath\u001b[0m\u001b[0;34m)\u001b[0m\u001b[0;34m:\u001b[0m\u001b[0;34m\u001b[0m\u001b[0;34m\u001b[0m\u001b[0m\n\u001b[0m\u001b[1;32m     42\u001b[0m     \u001b[0;32mif\u001b[0m \u001b[0misinstance\u001b[0m\u001b[0;34m(\u001b[0m\u001b[0mpath\u001b[0m\u001b[0;34m,\u001b[0m \u001b[0mbytes\u001b[0m\u001b[0;34m)\u001b[0m\u001b[0;34m:\u001b[0m\u001b[0;34m\u001b[0m\u001b[0;34m\u001b[0m\u001b[0m\n\u001b[1;32m     43\u001b[0m         \u001b[0;32mreturn\u001b[0m \u001b[0;34mb'/'\u001b[0m\u001b[0;34m\u001b[0m\u001b[0;34m\u001b[0m\u001b[0m\n",
      "\u001b[0;31mKeyboardInterrupt\u001b[0m: "
     ]
    }
   ],
   "source": [
    "cyber['text'] = cyber['text'].apply(cleanTxt)\n",
    "cyber.head()"
   ]
  },
  {
   "cell_type": "code",
   "execution_count": null,
   "id": "ac3ebcff",
   "metadata": {},
   "outputs": [],
   "source": [
    "cs_words = []\n",
    "\n",
    "for row in cyber['text']:\n",
    "    for word in str(row).split(\" \"):\n",
    "        cs_words.append(word)\n",
    "        \n",
    "cs_words"
   ]
  },
  {
   "cell_type": "code",
   "execution_count": null,
   "id": "9912bc84",
   "metadata": {},
   "outputs": [],
   "source": [
    "cs_words = [word for word in cs_words if word not in stopwords.words()]"
   ]
  },
  {
   "cell_type": "code",
   "execution_count": null,
   "id": "ccaac68a",
   "metadata": {},
   "outputs": [],
   "source": [
    "cs_words = [word for word in cs_words if word != '']"
   ]
  },
  {
   "cell_type": "code",
   "execution_count": null,
   "id": "59b62700",
   "metadata": {},
   "outputs": [],
   "source": [
    "cs_words = [word for word in cs_words if word != '\\r\\n\\r\\n'] # indicates space and indexing"
   ]
  },
  {
   "cell_type": "code",
   "execution_count": null,
   "id": "238599c6",
   "metadata": {},
   "outputs": [],
   "source": [
    "cs_words = [word for word in cs_words if word != 'u0001f449'] # indicates back hand emoji pointing right"
   ]
  },
  {
   "cell_type": "code",
   "execution_count": null,
   "id": "81253a5c",
   "metadata": {},
   "outputs": [],
   "source": [
    "cs_words"
   ]
  },
  {
   "cell_type": "markdown",
   "id": "1a3a331d",
   "metadata": {},
   "source": [
    "## Small Analysis"
   ]
  },
  {
   "cell_type": "code",
   "execution_count": 93,
   "id": "3a46184e",
   "metadata": {},
   "outputs": [
    {
     "data": {
      "text/plain": [
       "FreqDist({'cybersecurity': 8037, 'security': 6279, 'the': 4985, 'cyber': 4459, 'a': 2211, 'data': 1568, 'new': 1557, 'infosec': 1346, 'ransomware': 1330, 'amp': 1198, ...})"
      ]
     },
     "execution_count": 93,
     "metadata": {},
     "output_type": "execute_result"
    }
   ],
   "source": [
    "from nltk.probability import FreqDist\n",
    "fdist = FreqDist()\n",
    "for word in cs_words:\n",
    "    fdist[word]+=1\n",
    "fdist"
   ]
  },
  {
   "cell_type": "code",
   "execution_count": 94,
   "id": "2aab80f3",
   "metadata": {},
   "outputs": [
    {
     "data": {
      "text/plain": [
       "[('cybersecurity', 8037),\n",
       " ('security', 6279),\n",
       " ('the', 4985),\n",
       " ('cyber', 4459),\n",
       " ('a', 2211),\n",
       " ('data', 1568),\n",
       " ('new', 1557),\n",
       " ('infosec', 1346),\n",
       " ('ransomware', 1330),\n",
       " ('amp', 1198)]"
      ]
     },
     "execution_count": 94,
     "metadata": {},
     "output_type": "execute_result"
    }
   ],
   "source": [
    "fdist.most_common(10)"
   ]
  },
  {
   "cell_type": "code",
   "execution_count": 95,
   "id": "97167e52",
   "metadata": {},
   "outputs": [
    {
     "data": {
      "text/plain": [
       "32659"
      ]
     },
     "execution_count": 95,
     "metadata": {},
     "output_type": "execute_result"
    }
   ],
   "source": [
    "len(fdist)"
   ]
  },
  {
   "cell_type": "code",
   "execution_count": 96,
   "id": "285e02f8",
   "metadata": {},
   "outputs": [
    {
     "data": {
      "text/html": [
       "<div>\n",
       "<style scoped>\n",
       "    .dataframe tbody tr th:only-of-type {\n",
       "        vertical-align: middle;\n",
       "    }\n",
       "\n",
       "    .dataframe tbody tr th {\n",
       "        vertical-align: top;\n",
       "    }\n",
       "\n",
       "    .dataframe thead th {\n",
       "        text-align: right;\n",
       "    }\n",
       "</style>\n",
       "<table border=\"1\" class=\"dataframe\">\n",
       "  <thead>\n",
       "    <tr style=\"text-align: right;\">\n",
       "      <th></th>\n",
       "      <th>0</th>\n",
       "      <th>1</th>\n",
       "    </tr>\n",
       "  </thead>\n",
       "  <tbody>\n",
       "    <tr>\n",
       "      <th>0</th>\n",
       "      <td>cybersecurity</td>\n",
       "      <td>8037</td>\n",
       "    </tr>\n",
       "    <tr>\n",
       "      <th>1</th>\n",
       "      <td>security</td>\n",
       "      <td>6279</td>\n",
       "    </tr>\n",
       "    <tr>\n",
       "      <th>2</th>\n",
       "      <td>the</td>\n",
       "      <td>4985</td>\n",
       "    </tr>\n",
       "    <tr>\n",
       "      <th>3</th>\n",
       "      <td>cyber</td>\n",
       "      <td>4459</td>\n",
       "    </tr>\n",
       "    <tr>\n",
       "      <th>4</th>\n",
       "      <td>a</td>\n",
       "      <td>2211</td>\n",
       "    </tr>\n",
       "    <tr>\n",
       "      <th>5</th>\n",
       "      <td>data</td>\n",
       "      <td>1568</td>\n",
       "    </tr>\n",
       "    <tr>\n",
       "      <th>6</th>\n",
       "      <td>new</td>\n",
       "      <td>1557</td>\n",
       "    </tr>\n",
       "    <tr>\n",
       "      <th>7</th>\n",
       "      <td>infosec</td>\n",
       "      <td>1346</td>\n",
       "    </tr>\n",
       "    <tr>\n",
       "      <th>8</th>\n",
       "      <td>ransomware</td>\n",
       "      <td>1330</td>\n",
       "    </tr>\n",
       "    <tr>\n",
       "      <th>9</th>\n",
       "      <td>amp</td>\n",
       "      <td>1198</td>\n",
       "    </tr>\n",
       "    <tr>\n",
       "      <th>10</th>\n",
       "      <td>us</td>\n",
       "      <td>1018</td>\n",
       "    </tr>\n",
       "    <tr>\n",
       "      <th>11</th>\n",
       "      <td>to</td>\n",
       "      <td>883</td>\n",
       "    </tr>\n",
       "    <tr>\n",
       "      <th>12</th>\n",
       "      <td>attacks</td>\n",
       "      <td>858</td>\n",
       "    </tr>\n",
       "    <tr>\n",
       "      <th>13</th>\n",
       "      <td>you</td>\n",
       "      <td>849</td>\n",
       "    </tr>\n",
       "    <tr>\n",
       "      <th>14</th>\n",
       "      <td>business</td>\n",
       "      <td>811</td>\n",
       "    </tr>\n",
       "    <tr>\n",
       "      <th>15</th>\n",
       "      <td>your</td>\n",
       "      <td>788</td>\n",
       "    </tr>\n",
       "    <tr>\n",
       "      <th>16</th>\n",
       "      <td>ai</td>\n",
       "      <td>783</td>\n",
       "    </tr>\n",
       "    <tr>\n",
       "      <th>17</th>\n",
       "      <td>hacking</td>\n",
       "      <td>697</td>\n",
       "    </tr>\n",
       "    <tr>\n",
       "      <th>18</th>\n",
       "      <td>be</td>\n",
       "      <td>693</td>\n",
       "    </tr>\n",
       "    <tr>\n",
       "      <th>19</th>\n",
       "      <td>cyberattack</td>\n",
       "      <td>691</td>\n",
       "    </tr>\n",
       "  </tbody>\n",
       "</table>\n",
       "</div>"
      ],
      "text/plain": [
       "                0     1\n",
       "0   cybersecurity  8037\n",
       "1   security       6279\n",
       "2   the            4985\n",
       "3   cyber          4459\n",
       "4   a              2211\n",
       "5   data           1568\n",
       "6   new            1557\n",
       "7   infosec        1346\n",
       "8   ransomware     1330\n",
       "9   amp            1198\n",
       "10  us             1018\n",
       "11  to             883 \n",
       "12  attacks        858 \n",
       "13  you            849 \n",
       "14  business       811 \n",
       "15  your           788 \n",
       "16  ai             783 \n",
       "17  hacking        697 \n",
       "18  be             693 \n",
       "19   cyberattack   691 "
      ]
     },
     "execution_count": 96,
     "metadata": {},
     "output_type": "execute_result"
    }
   ],
   "source": [
    "freq_data = pd.DataFrame.from_dict(fdist.most_common(20))\n",
    "freq_data"
   ]
  },
  {
   "cell_type": "code",
   "execution_count": 74,
   "id": "daea5c7a",
   "metadata": {},
   "outputs": [
    {
     "data": {
      "image/png": "[encoded data removed]",
      "text/plain": [
       "<Figure size 432x288 with 1 Axes>"
      ]
     },
     "metadata": {
      "needs_background": "light"
     },
     "output_type": "display_data"
    }
   ],
   "source": [
    "sns.barplot(data = freq_data, x = 1, y = 0);"
   ]
  },
  {
   "cell_type": "code",
   "execution_count": null,
   "id": "0e7bb7d7",
   "metadata": {},
   "outputs": [],
   "source": []
  }
 ],
 "metadata": {
  "kernelspec": {
   "display_name": "Python 3",
   "language": "python",
   "name": "python3"
  },
  "language_info": {
   "codemirror_mode": {
    "name": "ipython",
    "version": 3
   },
   "file_extension": ".py",
   "mimetype": "text/x-python",
   "name": "python",
   "nbconvert_exporter": "python",
   "pygments_lexer": "ipython3",
   "version": "3.8.8"
  }
 },
 "nbformat": 4,
 "nbformat_minor": 5
}
